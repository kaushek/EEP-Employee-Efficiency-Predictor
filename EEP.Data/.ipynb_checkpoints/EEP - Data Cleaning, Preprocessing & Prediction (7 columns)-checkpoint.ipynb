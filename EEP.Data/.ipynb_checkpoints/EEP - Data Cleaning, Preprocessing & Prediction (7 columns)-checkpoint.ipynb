{
 "cells": [
  {
   "cell_type": "code",
   "execution_count": 1,
   "id": "8f3c741c",
   "metadata": {},
   "outputs": [
    {
     "data": {
      "text/html": [
       "<div>\n",
       "<style scoped>\n",
       "    .dataframe tbody tr th:only-of-type {\n",
       "        vertical-align: middle;\n",
       "    }\n",
       "\n",
       "    .dataframe tbody tr th {\n",
       "        vertical-align: top;\n",
       "    }\n",
       "\n",
       "    .dataframe thead th {\n",
       "        text-align: right;\n",
       "    }\n",
       "</style>\n",
       "<table border=\"1\" class=\"dataframe\">\n",
       "  <thead>\n",
       "    <tr style=\"text-align: right;\">\n",
       "      <th></th>\n",
       "      <th>Age</th>\n",
       "      <th>Attrition</th>\n",
       "      <th>BusinessTravel</th>\n",
       "      <th>DailyRate</th>\n",
       "      <th>Department</th>\n",
       "      <th>DistanceFromHome</th>\n",
       "      <th>Education</th>\n",
       "      <th>EducationField</th>\n",
       "      <th>EmployeeCount</th>\n",
       "      <th>EmployeeNumber</th>\n",
       "      <th>...</th>\n",
       "      <th>RelationshipSatisfaction</th>\n",
       "      <th>StandardHours</th>\n",
       "      <th>StockOptionLevel</th>\n",
       "      <th>TotalWorkingYears</th>\n",
       "      <th>TrainingTimesLastYear</th>\n",
       "      <th>WorkLifeBalance</th>\n",
       "      <th>YearsAtCompany</th>\n",
       "      <th>YearsInCurrentRole</th>\n",
       "      <th>YearsSinceLastPromotion</th>\n",
       "      <th>YearsWithCurrManager</th>\n",
       "    </tr>\n",
       "  </thead>\n",
       "  <tbody>\n",
       "    <tr>\n",
       "      <th>0</th>\n",
       "      <td>41</td>\n",
       "      <td>Yes</td>\n",
       "      <td>Travel_Rarely</td>\n",
       "      <td>1102</td>\n",
       "      <td>Sales</td>\n",
       "      <td>1</td>\n",
       "      <td>2</td>\n",
       "      <td>Life Sciences</td>\n",
       "      <td>1</td>\n",
       "      <td>1</td>\n",
       "      <td>...</td>\n",
       "      <td>1</td>\n",
       "      <td>80</td>\n",
       "      <td>0</td>\n",
       "      <td>8</td>\n",
       "      <td>0</td>\n",
       "      <td>1</td>\n",
       "      <td>6</td>\n",
       "      <td>4</td>\n",
       "      <td>0</td>\n",
       "      <td>5</td>\n",
       "    </tr>\n",
       "    <tr>\n",
       "      <th>1</th>\n",
       "      <td>49</td>\n",
       "      <td>No</td>\n",
       "      <td>Travel_Frequently</td>\n",
       "      <td>279</td>\n",
       "      <td>Research &amp; Development</td>\n",
       "      <td>8</td>\n",
       "      <td>1</td>\n",
       "      <td>Life Sciences</td>\n",
       "      <td>1</td>\n",
       "      <td>2</td>\n",
       "      <td>...</td>\n",
       "      <td>4</td>\n",
       "      <td>80</td>\n",
       "      <td>1</td>\n",
       "      <td>10</td>\n",
       "      <td>3</td>\n",
       "      <td>3</td>\n",
       "      <td>10</td>\n",
       "      <td>7</td>\n",
       "      <td>1</td>\n",
       "      <td>7</td>\n",
       "    </tr>\n",
       "    <tr>\n",
       "      <th>2</th>\n",
       "      <td>37</td>\n",
       "      <td>Yes</td>\n",
       "      <td>Travel_Rarely</td>\n",
       "      <td>1373</td>\n",
       "      <td>Research &amp; Development</td>\n",
       "      <td>2</td>\n",
       "      <td>2</td>\n",
       "      <td>Other</td>\n",
       "      <td>1</td>\n",
       "      <td>4</td>\n",
       "      <td>...</td>\n",
       "      <td>2</td>\n",
       "      <td>80</td>\n",
       "      <td>0</td>\n",
       "      <td>7</td>\n",
       "      <td>3</td>\n",
       "      <td>3</td>\n",
       "      <td>0</td>\n",
       "      <td>0</td>\n",
       "      <td>0</td>\n",
       "      <td>0</td>\n",
       "    </tr>\n",
       "    <tr>\n",
       "      <th>3</th>\n",
       "      <td>33</td>\n",
       "      <td>No</td>\n",
       "      <td>Travel_Frequently</td>\n",
       "      <td>1392</td>\n",
       "      <td>Research &amp; Development</td>\n",
       "      <td>3</td>\n",
       "      <td>4</td>\n",
       "      <td>Life Sciences</td>\n",
       "      <td>1</td>\n",
       "      <td>5</td>\n",
       "      <td>...</td>\n",
       "      <td>3</td>\n",
       "      <td>80</td>\n",
       "      <td>0</td>\n",
       "      <td>8</td>\n",
       "      <td>3</td>\n",
       "      <td>3</td>\n",
       "      <td>8</td>\n",
       "      <td>7</td>\n",
       "      <td>3</td>\n",
       "      <td>0</td>\n",
       "    </tr>\n",
       "    <tr>\n",
       "      <th>4</th>\n",
       "      <td>27</td>\n",
       "      <td>No</td>\n",
       "      <td>Travel_Rarely</td>\n",
       "      <td>591</td>\n",
       "      <td>Research &amp; Development</td>\n",
       "      <td>2</td>\n",
       "      <td>1</td>\n",
       "      <td>Medical</td>\n",
       "      <td>1</td>\n",
       "      <td>7</td>\n",
       "      <td>...</td>\n",
       "      <td>4</td>\n",
       "      <td>80</td>\n",
       "      <td>1</td>\n",
       "      <td>6</td>\n",
       "      <td>3</td>\n",
       "      <td>3</td>\n",
       "      <td>2</td>\n",
       "      <td>2</td>\n",
       "      <td>2</td>\n",
       "      <td>2</td>\n",
       "    </tr>\n",
       "  </tbody>\n",
       "</table>\n",
       "<p>5 rows × 35 columns</p>\n",
       "</div>"
      ],
      "text/plain": [
       "   Age Attrition     BusinessTravel  DailyRate              Department  \\\n",
       "0   41       Yes      Travel_Rarely       1102                   Sales   \n",
       "1   49        No  Travel_Frequently        279  Research & Development   \n",
       "2   37       Yes      Travel_Rarely       1373  Research & Development   \n",
       "3   33        No  Travel_Frequently       1392  Research & Development   \n",
       "4   27        No      Travel_Rarely        591  Research & Development   \n",
       "\n",
       "   DistanceFromHome  Education EducationField  EmployeeCount  EmployeeNumber  \\\n",
       "0                 1          2  Life Sciences              1               1   \n",
       "1                 8          1  Life Sciences              1               2   \n",
       "2                 2          2          Other              1               4   \n",
       "3                 3          4  Life Sciences              1               5   \n",
       "4                 2          1        Medical              1               7   \n",
       "\n",
       "   ...  RelationshipSatisfaction StandardHours  StockOptionLevel  \\\n",
       "0  ...                         1            80                 0   \n",
       "1  ...                         4            80                 1   \n",
       "2  ...                         2            80                 0   \n",
       "3  ...                         3            80                 0   \n",
       "4  ...                         4            80                 1   \n",
       "\n",
       "   TotalWorkingYears  TrainingTimesLastYear WorkLifeBalance  YearsAtCompany  \\\n",
       "0                  8                      0               1               6   \n",
       "1                 10                      3               3              10   \n",
       "2                  7                      3               3               0   \n",
       "3                  8                      3               3               8   \n",
       "4                  6                      3               3               2   \n",
       "\n",
       "  YearsInCurrentRole  YearsSinceLastPromotion  YearsWithCurrManager  \n",
       "0                  4                        0                     5  \n",
       "1                  7                        1                     7  \n",
       "2                  0                        0                     0  \n",
       "3                  7                        3                     0  \n",
       "4                  2                        2                     2  \n",
       "\n",
       "[5 rows x 35 columns]"
      ]
     },
     "execution_count": 1,
     "metadata": {},
     "output_type": "execute_result"
    }
   ],
   "source": [
    "import pandas as pd\n",
    "import numpy as np\n",
    "import matplotlib.pyplot as plt\n",
    "import warnings\n",
    "import seaborn as sns\n",
    "\n",
    "from IPython.display import display\n",
    "from sklearn.preprocessing import LabelEncoder, StandardScaler\n",
    "from sklearn.model_selection import train_test_split, GridSearchCV\n",
    "from sklearn.tree import DecisionTreeRegressor\n",
    "from sklearn.metrics import r2_score, mean_squared_error\n",
    "from sklearn.model_selection import cross_val_score\n",
    "\n",
    "warnings.filterwarnings('ignore')\n",
    "%matplotlib inline\n",
    "\n",
    "df = pd.read_csv(\"WA_Fn-UseC_-HR-Employee-Attrition.csv\")\n",
    "df.head()"
   ]
  },
  {
   "cell_type": "code",
   "execution_count": 2,
   "id": "53c136a2",
   "metadata": {},
   "outputs": [
    {
     "data": {
      "text/plain": [
       "Index(['Age', 'Attrition', 'BusinessTravel', 'DailyRate', 'Department',\n",
       "       'DistanceFromHome', 'Education', 'EducationField', 'EmployeeCount',\n",
       "       'EmployeeNumber', 'EnvironmentSatisfaction', 'Gender',\n",
       "       'PerformanceScore', 'JobInvolvement', 'JobLevel', 'JobRole',\n",
       "       'JobSatisfaction', 'MaritalStatus', 'MonthlyIncome', 'MonthlyRate',\n",
       "       'NumCompaniesWorked', 'Over18', 'OverTime', 'PercentSalaryHike',\n",
       "       'PerformanceRating', 'RelationshipSatisfaction', 'StandardHours',\n",
       "       'StockOptionLevel', 'TotalWorkingYears', 'TrainingTimesLastYear',\n",
       "       'WorkLifeBalance', 'YearsAtCompany', 'YearsInCurrentRole',\n",
       "       'YearsSinceLastPromotion', 'YearsWithCurrManager'],\n",
       "      dtype='object')"
      ]
     },
     "execution_count": 2,
     "metadata": {},
     "output_type": "execute_result"
    }
   ],
   "source": [
    "df.columns"
   ]
  },
  {
   "cell_type": "code",
   "execution_count": 3,
   "id": "b20e9933",
   "metadata": {},
   "outputs": [
    {
     "data": {
      "text/plain": [
       "<Figure size 720x720 with 0 Axes>"
      ]
     },
     "metadata": {},
     "output_type": "display_data"
    },
    {
     "data": {
      "image/png": "[encoded data removed]",
      "text/plain": [
       "<Figure size 432x288 with 1 Axes>"
      ]
     },
     "metadata": {
      "needs_background": "light"
     },
     "output_type": "display_data"
    }
   ],
   "source": [
    "#removing outliers in each columns\n",
    "plt.figure(figsize=(10,10))\n",
    "df.plot.box(title='Boxplot Employee Performance',rot=90)\n",
    "\n",
    "plt.show()"
   ]
  },
  {
   "cell_type": "code",
   "execution_count": 4,
   "id": "65f534dd",
   "metadata": {},
   "outputs": [
    {
     "data": {
      "text/plain": [
       "<AxesSubplot:xlabel='YearsSinceLastPromotion'>"
      ]
     },
     "execution_count": 4,
     "metadata": {},
     "output_type": "execute_result"
    },
    {
     "data": {
      "image/png": "[encoded data removed]",
      "text/plain": [
       "<Figure size 432x288 with 1 Axes>"
      ]
     },
     "metadata": {
      "needs_background": "light"
     },
     "output_type": "display_data"
    }
   ],
   "source": [
    "#Box plot of YearsSinceLastPromotion column\n",
    "sns.boxplot(df['YearsSinceLastPromotion'])"
   ]
  },
  {
   "cell_type": "code",
   "execution_count": 5,
   "id": "e125d4c8",
   "metadata": {},
   "outputs": [
    {
     "data": {
      "text/plain": [
       "(1363, 35)"
      ]
     },
     "execution_count": 5,
     "metadata": {},
     "output_type": "execute_result"
    }
   ],
   "source": [
    "#finding upper fence value as the outliers relies after the upper fence\n",
    "Q1 = df[\"YearsSinceLastPromotion\"].quantile(0.25)\n",
    "Q3 = df[\"YearsSinceLastPromotion\"].quantile(0.75)\n",
    "IQR = Q3 - Q1\n",
    "Upper_Fence = Q3 + (1.5 * IQR)\n",
    "Upper_Fence\n",
    "\n",
    "#Finding outliers \n",
    "#np.where(df['YearsSinceLastPromotion']>Upper_Fence)\n",
    "\n",
    "#finding upper fence and trimming the dataset\n",
    "df = df[df['YearsSinceLastPromotion'] < Upper_Fence]\n",
    "df.shape"
   ]
  },
  {
   "cell_type": "code",
   "execution_count": null,
   "id": "a029bdfa",
   "metadata": {},
   "outputs": [],
   "source": []
  },
  {
   "cell_type": "code",
   "execution_count": 6,
   "id": "0586984f",
   "metadata": {},
   "outputs": [
    {
     "data": {
      "text/plain": [
       "<AxesSubplot:xlabel='YearsAtCompany'>"
      ]
     },
     "execution_count": 6,
     "metadata": {},
     "output_type": "execute_result"
    },
    {
     "data": {
      "image/png": "[encoded data removed]",
      "text/plain": [
       "<Figure size 432x288 with 1 Axes>"
      ]
     },
     "metadata": {
      "needs_background": "light"
     },
     "output_type": "display_data"
    }
   ],
   "source": [
    "#Box plot of YearsAtCompany column\n",
    "sns.boxplot(df['YearsAtCompany'])"
   ]
  },
  {
   "cell_type": "code",
   "execution_count": 7,
   "id": "7740e622",
   "metadata": {},
   "outputs": [
    {
     "data": {
      "text/plain": [
       "(1313, 35)"
      ]
     },
     "execution_count": 7,
     "metadata": {},
     "output_type": "execute_result"
    }
   ],
   "source": [
    "#finding upper fence value as the outliers relies after the upper fence\n",
    "Q1 = df[\"YearsAtCompany\"].quantile(0.25)\n",
    "Q3 = df[\"YearsAtCompany\"].quantile(0.75)\n",
    "IQR = Q3 - Q1\n",
    "Upper_Fence = Q3 + (1.5 * IQR)\n",
    "Upper_Fence\n",
    "\n",
    "#finding upper fence and trimming the dataset\n",
    "df = df[df['YearsAtCompany'] < Upper_Fence]\n",
    "df.shape"
   ]
  },
  {
   "cell_type": "code",
   "execution_count": null,
   "id": "e5d5f544",
   "metadata": {},
   "outputs": [],
   "source": []
  },
  {
   "cell_type": "code",
   "execution_count": 8,
   "id": "73872791",
   "metadata": {},
   "outputs": [
    {
     "data": {
      "text/plain": [
       "<AxesSubplot:xlabel='NumCompaniesWorked'>"
      ]
     },
     "execution_count": 8,
     "metadata": {},
     "output_type": "execute_result"
    },
    {
     "data": {
      "image/png": "[encoded data removed]",
      "text/plain": [
       "<Figure size 432x288 with 1 Axes>"
      ]
     },
     "metadata": {
      "needs_background": "light"
     },
     "output_type": "display_data"
    }
   ],
   "source": [
    "#Box plot of NumCompaniesWorked column\n",
    "sns.boxplot(df['NumCompaniesWorked'])"
   ]
  },
  {
   "cell_type": "code",
   "execution_count": 9,
   "id": "d7c50c29",
   "metadata": {},
   "outputs": [
    {
     "data": {
      "text/plain": [
       "(1265, 35)"
      ]
     },
     "execution_count": 9,
     "metadata": {},
     "output_type": "execute_result"
    }
   ],
   "source": [
    "#finding upper fence value as the outliers relies after the upper fence\n",
    "Q1 = df[\"NumCompaniesWorked\"].quantile(0.25)\n",
    "Q3 = df[\"NumCompaniesWorked\"].quantile(0.75)\n",
    "IQR = Q3 - Q1\n",
    "Upper_Fence = Q3 + (1.5 * IQR)\n",
    "Upper_Fence\n",
    "\n",
    "#finding upper fence and trimming the dataset\n",
    "df = df[df['NumCompaniesWorked'] < Upper_Fence]\n",
    "df.shape"
   ]
  },
  {
   "cell_type": "code",
   "execution_count": null,
   "id": "93d25017",
   "metadata": {},
   "outputs": [],
   "source": []
  },
  {
   "cell_type": "code",
   "execution_count": 10,
   "id": "93280bcf",
   "metadata": {},
   "outputs": [
    {
     "data": {
      "text/plain": [
       "<AxesSubplot:xlabel='MonthlyIncome'>"
      ]
     },
     "execution_count": 10,
     "metadata": {},
     "output_type": "execute_result"
    },
    {
     "data": {
      "image/png": "[encoded data removed]",
      "text/plain": [
       "<Figure size 432x288 with 1 Axes>"
      ]
     },
     "metadata": {
      "needs_background": "light"
     },
     "output_type": "display_data"
    }
   ],
   "source": [
    "#Box plot of MonthlyIncome column\n",
    "sns.boxplot(df['MonthlyIncome'])"
   ]
  },
  {
   "cell_type": "code",
   "execution_count": 11,
   "id": "14e5bce0",
   "metadata": {},
   "outputs": [
    {
     "data": {
      "text/plain": [
       "(1167, 35)"
      ]
     },
     "execution_count": 11,
     "metadata": {},
     "output_type": "execute_result"
    }
   ],
   "source": [
    "#finding upper fence value as the outliers relies after the upper fence\n",
    "Q1 = df[\"MonthlyIncome\"].quantile(0.25)\n",
    "Q3 = df[\"MonthlyIncome\"].quantile(0.75)\n",
    "IQR = Q3 - Q1\n",
    "Upper_Fence = Q3 + (1.5 * IQR)\n",
    "Upper_Fence\n",
    "\n",
    "#finding upper fence and trimming the dataset\n",
    "df = df[df['MonthlyIncome'] < Upper_Fence]\n",
    "df.shape"
   ]
  },
  {
   "cell_type": "code",
   "execution_count": 12,
   "id": "fdb8f698",
   "metadata": {},
   "outputs": [
    {
     "data": {
      "text/plain": [
       "<AxesSubplot:xlabel='MonthlyRate'>"
      ]
     },
     "execution_count": 12,
     "metadata": {},
     "output_type": "execute_result"
    },
    {
     "data": {
      "image/png": "[encoded data removed]",
      "text/plain": [
       "<Figure size 432x288 with 1 Axes>"
      ]
     },
     "metadata": {
      "needs_background": "light"
     },
     "output_type": "display_data"
    }
   ],
   "source": [
    "#Box plot of MonthlyRate column. No Outliers available \n",
    "sns.boxplot(df['MonthlyRate'])"
   ]
  },
  {
   "cell_type": "code",
   "execution_count": 13,
   "id": "99537651",
   "metadata": {},
   "outputs": [
    {
     "data": {
      "text/plain": [
       "<AxesSubplot:xlabel='DailyRate'>"
      ]
     },
     "execution_count": 13,
     "metadata": {},
     "output_type": "execute_result"
    },
    {
     "data": {
      "image/png": "[encoded data removed]",
      "text/plain": [
       "<Figure size 432x288 with 1 Axes>"
      ]
     },
     "metadata": {
      "needs_background": "light"
     },
     "output_type": "display_data"
    }
   ],
   "source": [
    "#Box plot of DailyRate column. No Outliers available \n",
    "sns.boxplot(df['DailyRate'])"
   ]
  },
  {
   "cell_type": "code",
   "execution_count": 14,
   "id": "5137ae4e",
   "metadata": {},
   "outputs": [
    {
     "data": {
      "text/plain": [
       "<AxesSubplot:xlabel='TotalWorkingYears'>"
      ]
     },
     "execution_count": 14,
     "metadata": {},
     "output_type": "execute_result"
    },
    {
     "data": {
      "image/png": "[encoded data removed]",
      "text/plain": [
       "<Figure size 432x288 with 1 Axes>"
      ]
     },
     "metadata": {
      "needs_background": "light"
     },
     "output_type": "display_data"
    }
   ],
   "source": [
    "#Box plot of TotalWorkingYears column.\n",
    "sns.boxplot(df['TotalWorkingYears'])"
   ]
  },
  {
   "cell_type": "code",
   "execution_count": 15,
   "id": "601ec663",
   "metadata": {},
   "outputs": [
    {
     "data": {
      "text/plain": [
       "(1130, 35)"
      ]
     },
     "execution_count": 15,
     "metadata": {},
     "output_type": "execute_result"
    }
   ],
   "source": [
    "#finding upper fence value as the outliers relies after the upper fence\n",
    "Q1 = df[\"TotalWorkingYears\"].quantile(0.25)\n",
    "Q3 = df[\"TotalWorkingYears\"].quantile(0.75)\n",
    "IQR = Q3 - Q1\n",
    "Upper_Fence = Q3 + (1.5 * IQR)\n",
    "Upper_Fence\n",
    "\n",
    "#finding upper fence and trimming the dataset\n",
    "df = df[df['TotalWorkingYears'] < Upper_Fence]\n",
    "df.shape"
   ]
  },
  {
   "cell_type": "code",
   "execution_count": 16,
   "id": "c291b0c2",
   "metadata": {},
   "outputs": [
    {
     "data": {
      "text/plain": [
       "<AxesSubplot:xlabel='PercentSalaryHike'>"
      ]
     },
     "execution_count": 16,
     "metadata": {},
     "output_type": "execute_result"
    },
    {
     "data": {
      "image/png": "[encoded data removed]",
      "text/plain": [
       "<Figure size 432x288 with 1 Axes>"
      ]
     },
     "metadata": {
      "needs_background": "light"
     },
     "output_type": "display_data"
    }
   ],
   "source": [
    "#Box plot of PercentSalaryHike column. No Outliers available\n",
    "sns.boxplot(df['PercentSalaryHike'])"
   ]
  },
  {
   "cell_type": "code",
   "execution_count": 17,
   "id": "64787a13",
   "metadata": {},
   "outputs": [
    {
     "data": {
      "text/plain": [
       "<AxesSubplot:xlabel='PerformanceScore'>"
      ]
     },
     "execution_count": 17,
     "metadata": {},
     "output_type": "execute_result"
    },
    {
     "data": {
      "image/png": "[encoded data removed]",
      "text/plain": [
       "<Figure size 432x288 with 1 Axes>"
      ]
     },
     "metadata": {
      "needs_background": "light"
     },
     "output_type": "display_data"
    }
   ],
   "source": [
    "#Box plot of PerformanceScore column. No Outliers available\n",
    "sns.boxplot(df['PerformanceScore'])"
   ]
  },
  {
   "cell_type": "code",
   "execution_count": 18,
   "id": "a717132c",
   "metadata": {},
   "outputs": [
    {
     "data": {
      "text/plain": [
       "(1130, 35)"
      ]
     },
     "execution_count": 18,
     "metadata": {},
     "output_type": "execute_result"
    }
   ],
   "source": [
    "#Checking number of rows and columns respectively \n",
    "df.shape"
   ]
  },
  {
   "cell_type": "code",
   "execution_count": 19,
   "id": "e94cecf8",
   "metadata": {},
   "outputs": [
    {
     "name": "stdout",
     "output_type": "stream",
     "text": [
      "<class 'pandas.core.frame.DataFrame'>\n",
      "Int64Index: 929 entries, 1 to 1469\n",
      "Data columns (total 35 columns):\n",
      " #   Column                    Non-Null Count  Dtype \n",
      "---  ------                    --------------  ----- \n",
      " 0   Age                       929 non-null    int64 \n",
      " 1   Attrition                 929 non-null    object\n",
      " 2   BusinessTravel            929 non-null    object\n",
      " 3   DailyRate                 929 non-null    int64 \n",
      " 4   Department                929 non-null    object\n",
      " 5   DistanceFromHome          929 non-null    int64 \n",
      " 6   Education                 929 non-null    int64 \n",
      " 7   EducationField            929 non-null    object\n",
      " 8   EmployeeCount             929 non-null    int64 \n",
      " 9   EmployeeNumber            929 non-null    int64 \n",
      " 10  EnvironmentSatisfaction   929 non-null    int64 \n",
      " 11  Gender                    929 non-null    object\n",
      " 12  PerformanceScore          929 non-null    int64 \n",
      " 13  JobInvolvement            929 non-null    int64 \n",
      " 14  JobLevel                  929 non-null    int64 \n",
      " 15  JobRole                   929 non-null    object\n",
      " 16  JobSatisfaction           929 non-null    int64 \n",
      " 17  MaritalStatus             929 non-null    object\n",
      " 18  MonthlyIncome             929 non-null    int64 \n",
      " 19  MonthlyRate               929 non-null    int64 \n",
      " 20  NumCompaniesWorked        929 non-null    int64 \n",
      " 21  Over18                    929 non-null    object\n",
      " 22  OverTime                  929 non-null    object\n",
      " 23  PercentSalaryHike         929 non-null    int64 \n",
      " 24  PerformanceRating         929 non-null    int64 \n",
      " 25  RelationshipSatisfaction  929 non-null    int64 \n",
      " 26  StandardHours             929 non-null    int64 \n",
      " 27  StockOptionLevel          929 non-null    int64 \n",
      " 28  TotalWorkingYears         929 non-null    int64 \n",
      " 29  TrainingTimesLastYear     929 non-null    int64 \n",
      " 30  WorkLifeBalance           929 non-null    int64 \n",
      " 31  YearsAtCompany            929 non-null    int64 \n",
      " 32  YearsInCurrentRole        929 non-null    int64 \n",
      " 33  YearsSinceLastPromotion   929 non-null    int64 \n",
      " 34  YearsWithCurrManager      929 non-null    int64 \n",
      "dtypes: int64(26), object(9)\n",
      "memory usage: 261.3+ KB\n"
     ]
    }
   ],
   "source": [
    "#Filtering only the currently working employee's data\n",
    "df = df[df[\"Attrition\"] == \"No\"]\n",
    "df.info()"
   ]
  },
  {
   "cell_type": "code",
   "execution_count": 20,
   "id": "d27d19a3",
   "metadata": {},
   "outputs": [
    {
     "name": "stdout",
     "output_type": "stream",
     "text": [
      "<class 'pandas.core.frame.DataFrame'>\n",
      "Int64Index: 929 entries, 1 to 1469\n",
      "Data columns (total 9 columns):\n",
      " #   Column                   Non-Null Count  Dtype\n",
      "---  ------                   --------------  -----\n",
      " 0   MonthlyIncome            929 non-null    int64\n",
      " 1   MonthlyRate              929 non-null    int64\n",
      " 2   DailyRate                929 non-null    int64\n",
      " 3   YearsSinceLastPromotion  929 non-null    int64\n",
      " 4   YearsAtCompany           929 non-null    int64\n",
      " 5   TotalWorkingYears        929 non-null    int64\n",
      " 6   NumCompaniesWorked       929 non-null    int64\n",
      " 7   PercentSalaryHike        929 non-null    int64\n",
      " 8   PerformanceScore         929 non-null    int64\n",
      "dtypes: int64(9)\n",
      "memory usage: 72.6 KB\n"
     ]
    }
   ],
   "source": [
    "#Loading the columns after feature selection\n",
    "df = df[['MonthlyIncome', 'MonthlyRate', 'DailyRate', 'YearsSinceLastPromotion',\n",
    "       'YearsAtCompany', 'TotalWorkingYears', 'NumCompaniesWorked',\n",
    "       'PercentSalaryHike', 'PerformanceScore']]\n",
    "\n",
    "df.info()"
   ]
  },
  {
   "cell_type": "code",
   "execution_count": 21,
   "id": "32417ed0",
   "metadata": {},
   "outputs": [
    {
     "name": "stdout",
     "output_type": "stream",
     "text": [
      "1051\n",
      "12808\n"
     ]
    }
   ],
   "source": [
    "#Check Maximum and Minimum value in MonthlyIncome column\n",
    "print(df[\"MonthlyIncome\"].min())\n",
    "print(df[\"MonthlyIncome\"].max())"
   ]
  },
  {
   "cell_type": "code",
   "execution_count": 22,
   "id": "b16a6b3a",
   "metadata": {},
   "outputs": [
    {
     "name": "stdout",
     "output_type": "stream",
     "text": [
      "2097\n",
      "26997\n"
     ]
    }
   ],
   "source": [
    "#Check Maximum and Minimum value in MonthlyRate column\n",
    "print(df[\"MonthlyRate\"].min())\n",
    "print(df[\"MonthlyRate\"].max())"
   ]
  },
  {
   "cell_type": "code",
   "execution_count": 23,
   "id": "51cda55a",
   "metadata": {},
   "outputs": [
    {
     "name": "stdout",
     "output_type": "stream",
     "text": [
      "106\n",
      "1498\n"
     ]
    }
   ],
   "source": [
    "#Check Maximum and Minimum value in DailyRate column\n",
    "print(df[\"DailyRate\"].min())\n",
    "print(df[\"DailyRate\"].max())"
   ]
  },
  {
   "cell_type": "code",
   "execution_count": 24,
   "id": "cc297073",
   "metadata": {},
   "outputs": [
    {
     "name": "stdout",
     "output_type": "stream",
     "text": [
      "0\n",
      "7\n"
     ]
    }
   ],
   "source": [
    "#Check Maximum and Minimum value in YearsSinceLastPromotion column\n",
    "print(df[\"YearsSinceLastPromotion\"].min())\n",
    "print(df[\"YearsSinceLastPromotion\"].max())"
   ]
  },
  {
   "cell_type": "code",
   "execution_count": 25,
   "id": "7a973054",
   "metadata": {},
   "outputs": [
    {
     "name": "stdout",
     "output_type": "stream",
     "text": [
      "0\n",
      "18\n"
     ]
    }
   ],
   "source": [
    "#Check Maximum and Minimum value in YearsAtCompany column\n",
    "print(df[\"YearsAtCompany\"].min())\n",
    "print(df[\"YearsAtCompany\"].max())"
   ]
  },
  {
   "cell_type": "code",
   "execution_count": 26,
   "id": "b5b54e8e",
   "metadata": {},
   "outputs": [
    {
     "name": "stdout",
     "output_type": "stream",
     "text": [
      "0\n",
      "19\n"
     ]
    }
   ],
   "source": [
    "#Check Maximum and Minimum value in TotalWorkingYears column\n",
    "print(df[\"TotalWorkingYears\"].min())\n",
    "print(df[\"TotalWorkingYears\"].max())"
   ]
  },
  {
   "cell_type": "code",
   "execution_count": 27,
   "id": "6dbe7fb5",
   "metadata": {},
   "outputs": [
    {
     "name": "stdout",
     "output_type": "stream",
     "text": [
      "0\n",
      "8\n"
     ]
    }
   ],
   "source": [
    "#Check Maximum and Minimum value in NumCompaniesWorked column\n",
    "print(df[\"NumCompaniesWorked\"].min())\n",
    "print(df[\"NumCompaniesWorked\"].max())"
   ]
  },
  {
   "cell_type": "code",
   "execution_count": 28,
   "id": "5fa8de66",
   "metadata": {},
   "outputs": [
    {
     "name": "stdout",
     "output_type": "stream",
     "text": [
      "11\n",
      "25\n"
     ]
    }
   ],
   "source": [
    "#Check Maximum and Minimum value in PercentSalaryHike column\n",
    "print(df[\"PercentSalaryHike\"].min())\n",
    "print(df[\"PercentSalaryHike\"].max())"
   ]
  },
  {
   "cell_type": "code",
   "execution_count": 29,
   "id": "6c7fd72c",
   "metadata": {},
   "outputs": [
    {
     "name": "stdout",
     "output_type": "stream",
     "text": [
      "30\n",
      "100\n"
     ]
    }
   ],
   "source": [
    "#Check Maximum and Minimum value in PerformanceScore column\n",
    "print(df[\"PerformanceScore\"].min())\n",
    "print(df[\"PerformanceScore\"].max())"
   ]
  },
  {
   "cell_type": "code",
   "execution_count": 30,
   "id": "8e2c203f",
   "metadata": {},
   "outputs": [
    {
     "data": {
      "text/html": [
       "<div>\n",
       "<style scoped>\n",
       "    .dataframe tbody tr th:only-of-type {\n",
       "        vertical-align: middle;\n",
       "    }\n",
       "\n",
       "    .dataframe tbody tr th {\n",
       "        vertical-align: top;\n",
       "    }\n",
       "\n",
       "    .dataframe thead th {\n",
       "        text-align: right;\n",
       "    }\n",
       "</style>\n",
       "<table border=\"1\" class=\"dataframe\">\n",
       "  <thead>\n",
       "    <tr style=\"text-align: right;\">\n",
       "      <th></th>\n",
       "      <th>MonthlyIncome</th>\n",
       "      <th>MonthlyRate</th>\n",
       "      <th>DailyRate</th>\n",
       "      <th>YearsSinceLastPromotion</th>\n",
       "      <th>YearsAtCompany</th>\n",
       "      <th>TotalWorkingYears</th>\n",
       "      <th>NumCompaniesWorked</th>\n",
       "      <th>PercentSalaryHike</th>\n",
       "      <th>PerformanceScore</th>\n",
       "      <th>MonthlyIncome_cal</th>\n",
       "    </tr>\n",
       "  </thead>\n",
       "  <tbody>\n",
       "    <tr>\n",
       "      <th>1</th>\n",
       "      <td>5130</td>\n",
       "      <td>24907</td>\n",
       "      <td>279</td>\n",
       "      <td>1</td>\n",
       "      <td>10</td>\n",
       "      <td>10</td>\n",
       "      <td>1</td>\n",
       "      <td>23</td>\n",
       "      <td>61</td>\n",
       "      <td>4500 &amp; above</td>\n",
       "    </tr>\n",
       "    <tr>\n",
       "      <th>3</th>\n",
       "      <td>2909</td>\n",
       "      <td>23159</td>\n",
       "      <td>1392</td>\n",
       "      <td>3</td>\n",
       "      <td>8</td>\n",
       "      <td>8</td>\n",
       "      <td>1</td>\n",
       "      <td>11</td>\n",
       "      <td>56</td>\n",
       "      <td>2500 &amp; above</td>\n",
       "    </tr>\n",
       "    <tr>\n",
       "      <th>5</th>\n",
       "      <td>3068</td>\n",
       "      <td>11864</td>\n",
       "      <td>1005</td>\n",
       "      <td>3</td>\n",
       "      <td>7</td>\n",
       "      <td>8</td>\n",
       "      <td>0</td>\n",
       "      <td>13</td>\n",
       "      <td>79</td>\n",
       "      <td>2500 &amp; above</td>\n",
       "    </tr>\n",
       "    <tr>\n",
       "      <th>6</th>\n",
       "      <td>2670</td>\n",
       "      <td>9964</td>\n",
       "      <td>1324</td>\n",
       "      <td>0</td>\n",
       "      <td>1</td>\n",
       "      <td>12</td>\n",
       "      <td>4</td>\n",
       "      <td>20</td>\n",
       "      <td>81</td>\n",
       "      <td>2500 &amp; above</td>\n",
       "    </tr>\n",
       "    <tr>\n",
       "      <th>7</th>\n",
       "      <td>2693</td>\n",
       "      <td>13335</td>\n",
       "      <td>1358</td>\n",
       "      <td>0</td>\n",
       "      <td>1</td>\n",
       "      <td>1</td>\n",
       "      <td>1</td>\n",
       "      <td>22</td>\n",
       "      <td>67</td>\n",
       "      <td>2500 &amp; above</td>\n",
       "    </tr>\n",
       "  </tbody>\n",
       "</table>\n",
       "</div>"
      ],
      "text/plain": [
       "   MonthlyIncome  MonthlyRate  DailyRate  YearsSinceLastPromotion  \\\n",
       "1           5130        24907        279                        1   \n",
       "3           2909        23159       1392                        3   \n",
       "5           3068        11864       1005                        3   \n",
       "6           2670         9964       1324                        0   \n",
       "7           2693        13335       1358                        0   \n",
       "\n",
       "   YearsAtCompany  TotalWorkingYears  NumCompaniesWorked  PercentSalaryHike  \\\n",
       "1              10                 10                   1                 23   \n",
       "3               8                  8                   1                 11   \n",
       "5               7                  8                   0                 13   \n",
       "6               1                 12                   4                 20   \n",
       "7               1                  1                   1                 22   \n",
       "\n",
       "   PerformanceScore MonthlyIncome_cal  \n",
       "1                61      4500 & above  \n",
       "3                56      2500 & above  \n",
       "5                79      2500 & above  \n",
       "6                81      2500 & above  \n",
       "7                67      2500 & above  "
      ]
     },
     "execution_count": 30,
     "metadata": {},
     "output_type": "execute_result"
    }
   ],
   "source": [
    "#Simplifying and grouping the MonthlyIncome column\n",
    "conditions = [\n",
    "    (df['MonthlyIncome'] < 1500),\n",
    "    (df['MonthlyIncome'] >= 1500) & (df['MonthlyIncome'] < 2500),\n",
    "    (df['MonthlyIncome'] >= 2500) & (df['MonthlyIncome'] < 3500),\n",
    "    (df['MonthlyIncome'] >= 3500) & (df['MonthlyIncome'] < 4500),\n",
    "    (df['MonthlyIncome'] >= 4500) & (df['MonthlyIncome'] < 5500),\n",
    "    (df['MonthlyIncome'] >= 5500) & (df['MonthlyIncome'] < 6500),\n",
    "    (df['MonthlyIncome'] >= 6500) & (df['MonthlyIncome'] < 7500),\n",
    "    (df['MonthlyIncome'] >= 7500) & (df['MonthlyIncome'] < 8500),\n",
    "    (df['MonthlyIncome'] >= 8500) & (df['MonthlyIncome'] < 9500),\n",
    "    (df['MonthlyIncome'] >= 9500) & (df['MonthlyIncome'] < 10500),\n",
    "    (df['MonthlyIncome'] >= 10500) & (df['MonthlyIncome'] < 11500),\n",
    "    (df['MonthlyIncome'] >= 11500) & (df['MonthlyIncome'] < 12500),\n",
    "    (df['MonthlyIncome'] >= 12500)\n",
    "    ]\n",
    "\n",
    "values = ['less than 1500', '1500 & above', '2500 & above', '3500 & above', '4500 & above', '5500 & above',\n",
    "          '6500 & above', '7500 & above', '8500 & above', '9500 & above', '10500 & above', '11500 & above',\n",
    "          '12500 & above']\n",
    "\n",
    "#adding the simplified column to a new calculated column\n",
    "df['MonthlyIncome_cal'] = np.select(conditions, values)\n",
    "\n",
    "df.head()"
   ]
  },
  {
   "cell_type": "code",
   "execution_count": null,
   "id": "ee158af8",
   "metadata": {},
   "outputs": [],
   "source": []
  },
  {
   "cell_type": "code",
   "execution_count": 31,
   "id": "79048823",
   "metadata": {},
   "outputs": [
    {
     "data": {
      "text/html": [
       "<div>\n",
       "<style scoped>\n",
       "    .dataframe tbody tr th:only-of-type {\n",
       "        vertical-align: middle;\n",
       "    }\n",
       "\n",
       "    .dataframe tbody tr th {\n",
       "        vertical-align: top;\n",
       "    }\n",
       "\n",
       "    .dataframe thead th {\n",
       "        text-align: right;\n",
       "    }\n",
       "</style>\n",
       "<table border=\"1\" class=\"dataframe\">\n",
       "  <thead>\n",
       "    <tr style=\"text-align: right;\">\n",
       "      <th></th>\n",
       "      <th>MonthlyIncome</th>\n",
       "      <th>MonthlyRate</th>\n",
       "      <th>DailyRate</th>\n",
       "      <th>YearsSinceLastPromotion</th>\n",
       "      <th>YearsAtCompany</th>\n",
       "      <th>TotalWorkingYears</th>\n",
       "      <th>NumCompaniesWorked</th>\n",
       "      <th>PercentSalaryHike</th>\n",
       "      <th>PerformanceScore</th>\n",
       "      <th>MonthlyIncome_cal</th>\n",
       "      <th>MonthlyRate_cal</th>\n",
       "    </tr>\n",
       "  </thead>\n",
       "  <tbody>\n",
       "    <tr>\n",
       "      <th>1</th>\n",
       "      <td>5130</td>\n",
       "      <td>24907</td>\n",
       "      <td>279</td>\n",
       "      <td>1</td>\n",
       "      <td>10</td>\n",
       "      <td>10</td>\n",
       "      <td>1</td>\n",
       "      <td>23</td>\n",
       "      <td>61</td>\n",
       "      <td>4500 &amp; above</td>\n",
       "      <td>22500 &amp; above</td>\n",
       "    </tr>\n",
       "    <tr>\n",
       "      <th>3</th>\n",
       "      <td>2909</td>\n",
       "      <td>23159</td>\n",
       "      <td>1392</td>\n",
       "      <td>3</td>\n",
       "      <td>8</td>\n",
       "      <td>8</td>\n",
       "      <td>1</td>\n",
       "      <td>11</td>\n",
       "      <td>56</td>\n",
       "      <td>2500 &amp; above</td>\n",
       "      <td>22500 &amp; above</td>\n",
       "    </tr>\n",
       "    <tr>\n",
       "      <th>5</th>\n",
       "      <td>3068</td>\n",
       "      <td>11864</td>\n",
       "      <td>1005</td>\n",
       "      <td>3</td>\n",
       "      <td>7</td>\n",
       "      <td>8</td>\n",
       "      <td>0</td>\n",
       "      <td>13</td>\n",
       "      <td>79</td>\n",
       "      <td>2500 &amp; above</td>\n",
       "      <td>10000 &amp; above</td>\n",
       "    </tr>\n",
       "    <tr>\n",
       "      <th>6</th>\n",
       "      <td>2670</td>\n",
       "      <td>9964</td>\n",
       "      <td>1324</td>\n",
       "      <td>0</td>\n",
       "      <td>1</td>\n",
       "      <td>12</td>\n",
       "      <td>4</td>\n",
       "      <td>20</td>\n",
       "      <td>81</td>\n",
       "      <td>2500 &amp; above</td>\n",
       "      <td>7500 &amp; above</td>\n",
       "    </tr>\n",
       "    <tr>\n",
       "      <th>7</th>\n",
       "      <td>2693</td>\n",
       "      <td>13335</td>\n",
       "      <td>1358</td>\n",
       "      <td>0</td>\n",
       "      <td>1</td>\n",
       "      <td>1</td>\n",
       "      <td>1</td>\n",
       "      <td>22</td>\n",
       "      <td>67</td>\n",
       "      <td>2500 &amp; above</td>\n",
       "      <td>12500 &amp; above</td>\n",
       "    </tr>\n",
       "  </tbody>\n",
       "</table>\n",
       "</div>"
      ],
      "text/plain": [
       "   MonthlyIncome  MonthlyRate  DailyRate  YearsSinceLastPromotion  \\\n",
       "1           5130        24907        279                        1   \n",
       "3           2909        23159       1392                        3   \n",
       "5           3068        11864       1005                        3   \n",
       "6           2670         9964       1324                        0   \n",
       "7           2693        13335       1358                        0   \n",
       "\n",
       "   YearsAtCompany  TotalWorkingYears  NumCompaniesWorked  PercentSalaryHike  \\\n",
       "1              10                 10                   1                 23   \n",
       "3               8                  8                   1                 11   \n",
       "5               7                  8                   0                 13   \n",
       "6               1                 12                   4                 20   \n",
       "7               1                  1                   1                 22   \n",
       "\n",
       "   PerformanceScore MonthlyIncome_cal MonthlyRate_cal  \n",
       "1                61      4500 & above   22500 & above  \n",
       "3                56      2500 & above   22500 & above  \n",
       "5                79      2500 & above   10000 & above  \n",
       "6                81      2500 & above    7500 & above  \n",
       "7                67      2500 & above   12500 & above  "
      ]
     },
     "execution_count": 31,
     "metadata": {},
     "output_type": "execute_result"
    }
   ],
   "source": [
    "#Simplifying and grouping the MonthlyRate column\n",
    "conditions = [\n",
    "    (df['MonthlyRate'] < 2500),\n",
    "    (df['MonthlyRate'] >= 2500) & (df['MonthlyRate'] < 5000),\n",
    "    (df['MonthlyRate'] >= 5000) & (df['MonthlyRate'] < 7500),\n",
    "    (df['MonthlyRate'] >= 7500) & (df['MonthlyRate'] < 10000),\n",
    "    (df['MonthlyRate'] >= 10000) & (df['MonthlyRate'] < 12500),\n",
    "    (df['MonthlyRate'] >= 12500) & (df['MonthlyRate'] < 15000),\n",
    "    (df['MonthlyRate'] >= 15000) & (df['MonthlyRate'] < 17500),\n",
    "    (df['MonthlyRate'] >= 17500) & (df['MonthlyRate'] < 20000),\n",
    "    (df['MonthlyRate'] >= 20000) & (df['MonthlyRate'] < 22500),\n",
    "    (df['MonthlyRate'] >= 22500) & (df['MonthlyRate'] < 25000),\n",
    "    (df['MonthlyRate'] >= 25000)\n",
    "    ]\n",
    "\n",
    "values = ['less than 2500', '2500 & above', '5000 & above', '7500 & above', '10000 & above', \n",
    "          '12500 & above', '15000 & above', '17500 & above', '20000 & above',  \n",
    "          '22500 & above', '25000 & above' ]\n",
    "\n",
    "#adding the simplified column to a new calculated column\n",
    "df['MonthlyRate_cal'] = np.select(conditions, values)\n",
    "\n",
    "df.head()"
   ]
  },
  {
   "cell_type": "code",
   "execution_count": 32,
   "id": "f5ba2012",
   "metadata": {},
   "outputs": [
    {
     "data": {
      "text/html": [
       "<div>\n",
       "<style scoped>\n",
       "    .dataframe tbody tr th:only-of-type {\n",
       "        vertical-align: middle;\n",
       "    }\n",
       "\n",
       "    .dataframe tbody tr th {\n",
       "        vertical-align: top;\n",
       "    }\n",
       "\n",
       "    .dataframe thead th {\n",
       "        text-align: right;\n",
       "    }\n",
       "</style>\n",
       "<table border=\"1\" class=\"dataframe\">\n",
       "  <thead>\n",
       "    <tr style=\"text-align: right;\">\n",
       "      <th></th>\n",
       "      <th>MonthlyIncome</th>\n",
       "      <th>MonthlyRate</th>\n",
       "      <th>DailyRate</th>\n",
       "      <th>YearsSinceLastPromotion</th>\n",
       "      <th>YearsAtCompany</th>\n",
       "      <th>TotalWorkingYears</th>\n",
       "      <th>NumCompaniesWorked</th>\n",
       "      <th>PercentSalaryHike</th>\n",
       "      <th>PerformanceScore</th>\n",
       "      <th>MonthlyIncome_cal</th>\n",
       "      <th>MonthlyRate_cal</th>\n",
       "      <th>DailyRate_cal</th>\n",
       "    </tr>\n",
       "  </thead>\n",
       "  <tbody>\n",
       "    <tr>\n",
       "      <th>1</th>\n",
       "      <td>5130</td>\n",
       "      <td>24907</td>\n",
       "      <td>279</td>\n",
       "      <td>1</td>\n",
       "      <td>10</td>\n",
       "      <td>10</td>\n",
       "      <td>1</td>\n",
       "      <td>23</td>\n",
       "      <td>61</td>\n",
       "      <td>4500 &amp; above</td>\n",
       "      <td>22500 &amp; above</td>\n",
       "      <td>200 &amp; above</td>\n",
       "    </tr>\n",
       "    <tr>\n",
       "      <th>3</th>\n",
       "      <td>2909</td>\n",
       "      <td>23159</td>\n",
       "      <td>1392</td>\n",
       "      <td>3</td>\n",
       "      <td>8</td>\n",
       "      <td>8</td>\n",
       "      <td>1</td>\n",
       "      <td>11</td>\n",
       "      <td>56</td>\n",
       "      <td>2500 &amp; above</td>\n",
       "      <td>22500 &amp; above</td>\n",
       "      <td>1300 &amp; above</td>\n",
       "    </tr>\n",
       "    <tr>\n",
       "      <th>5</th>\n",
       "      <td>3068</td>\n",
       "      <td>11864</td>\n",
       "      <td>1005</td>\n",
       "      <td>3</td>\n",
       "      <td>7</td>\n",
       "      <td>8</td>\n",
       "      <td>0</td>\n",
       "      <td>13</td>\n",
       "      <td>79</td>\n",
       "      <td>2500 &amp; above</td>\n",
       "      <td>10000 &amp; above</td>\n",
       "      <td>1000 &amp; above</td>\n",
       "    </tr>\n",
       "    <tr>\n",
       "      <th>6</th>\n",
       "      <td>2670</td>\n",
       "      <td>9964</td>\n",
       "      <td>1324</td>\n",
       "      <td>0</td>\n",
       "      <td>1</td>\n",
       "      <td>12</td>\n",
       "      <td>4</td>\n",
       "      <td>20</td>\n",
       "      <td>81</td>\n",
       "      <td>2500 &amp; above</td>\n",
       "      <td>7500 &amp; above</td>\n",
       "      <td>1300 &amp; above</td>\n",
       "    </tr>\n",
       "    <tr>\n",
       "      <th>7</th>\n",
       "      <td>2693</td>\n",
       "      <td>13335</td>\n",
       "      <td>1358</td>\n",
       "      <td>0</td>\n",
       "      <td>1</td>\n",
       "      <td>1</td>\n",
       "      <td>1</td>\n",
       "      <td>22</td>\n",
       "      <td>67</td>\n",
       "      <td>2500 &amp; above</td>\n",
       "      <td>12500 &amp; above</td>\n",
       "      <td>1300 &amp; above</td>\n",
       "    </tr>\n",
       "  </tbody>\n",
       "</table>\n",
       "</div>"
      ],
      "text/plain": [
       "   MonthlyIncome  MonthlyRate  DailyRate  YearsSinceLastPromotion  \\\n",
       "1           5130        24907        279                        1   \n",
       "3           2909        23159       1392                        3   \n",
       "5           3068        11864       1005                        3   \n",
       "6           2670         9964       1324                        0   \n",
       "7           2693        13335       1358                        0   \n",
       "\n",
       "   YearsAtCompany  TotalWorkingYears  NumCompaniesWorked  PercentSalaryHike  \\\n",
       "1              10                 10                   1                 23   \n",
       "3               8                  8                   1                 11   \n",
       "5               7                  8                   0                 13   \n",
       "6               1                 12                   4                 20   \n",
       "7               1                  1                   1                 22   \n",
       "\n",
       "   PerformanceScore MonthlyIncome_cal MonthlyRate_cal DailyRate_cal  \n",
       "1                61      4500 & above   22500 & above   200 & above  \n",
       "3                56      2500 & above   22500 & above  1300 & above  \n",
       "5                79      2500 & above   10000 & above  1000 & above  \n",
       "6                81      2500 & above    7500 & above  1300 & above  \n",
       "7                67      2500 & above   12500 & above  1300 & above  "
      ]
     },
     "execution_count": 32,
     "metadata": {},
     "output_type": "execute_result"
    }
   ],
   "source": [
    "#Simplifying and grouping the DailyRate column\n",
    "conditions = [\n",
    "    (df['DailyRate'] < 200),\n",
    "    (df['DailyRate'] >= 200) & (df['DailyRate'] < 300),\n",
    "    (df['DailyRate'] >= 300) & (df['DailyRate'] < 400),\n",
    "    (df['DailyRate'] >= 400) & (df['DailyRate'] < 500),\n",
    "    (df['DailyRate'] >= 500) & (df['DailyRate'] < 600),\n",
    "    (df['DailyRate'] >= 600) & (df['DailyRate'] < 700),\n",
    "    (df['DailyRate'] >= 700) & (df['DailyRate'] < 800),\n",
    "    (df['DailyRate'] >= 800) & (df['DailyRate'] < 900),\n",
    "    (df['DailyRate'] >= 900) & (df['DailyRate'] < 1000),\n",
    "    (df['DailyRate'] >= 1000) & (df['DailyRate'] < 1100),\n",
    "    (df['DailyRate'] >= 1100) & (df['DailyRate'] < 1200),\n",
    "    (df['DailyRate'] >= 1200) & (df['DailyRate'] < 1300),\n",
    "    (df['DailyRate'] >= 1300) & (df['DailyRate'] < 1400),\n",
    "    (df['DailyRate'] >= 1400)\n",
    "    ]\n",
    "\n",
    "values = ['less than 200', '200 & above', '300 & above', '400 & above', '500 & above', '600 & above', '700 & above', \n",
    "          '800 & above', '900 & above', '1000 & above', '1100 & above', '1200 & above', '1300 & above', '1400 & above' ]\n",
    "\n",
    "#adding the simplified column to a new calculated column\n",
    "df['DailyRate_cal'] = np.select(conditions, values)\n",
    "\n",
    "df.head()"
   ]
  },
  {
   "cell_type": "code",
   "execution_count": 33,
   "id": "0987ace3",
   "metadata": {},
   "outputs": [
    {
     "data": {
      "text/html": [
       "<div>\n",
       "<style scoped>\n",
       "    .dataframe tbody tr th:only-of-type {\n",
       "        vertical-align: middle;\n",
       "    }\n",
       "\n",
       "    .dataframe tbody tr th {\n",
       "        vertical-align: top;\n",
       "    }\n",
       "\n",
       "    .dataframe thead th {\n",
       "        text-align: right;\n",
       "    }\n",
       "</style>\n",
       "<table border=\"1\" class=\"dataframe\">\n",
       "  <thead>\n",
       "    <tr style=\"text-align: right;\">\n",
       "      <th></th>\n",
       "      <th>MonthlyIncome</th>\n",
       "      <th>MonthlyRate</th>\n",
       "      <th>DailyRate</th>\n",
       "      <th>YearsSinceLastPromotion</th>\n",
       "      <th>YearsAtCompany</th>\n",
       "      <th>TotalWorkingYears</th>\n",
       "      <th>NumCompaniesWorked</th>\n",
       "      <th>PercentSalaryHike</th>\n",
       "      <th>PerformanceScore</th>\n",
       "      <th>MonthlyIncome_cal</th>\n",
       "      <th>MonthlyRate_cal</th>\n",
       "      <th>DailyRate_cal</th>\n",
       "      <th>YearsAtCompany_cal</th>\n",
       "    </tr>\n",
       "  </thead>\n",
       "  <tbody>\n",
       "    <tr>\n",
       "      <th>1</th>\n",
       "      <td>5130</td>\n",
       "      <td>24907</td>\n",
       "      <td>279</td>\n",
       "      <td>1</td>\n",
       "      <td>10</td>\n",
       "      <td>10</td>\n",
       "      <td>1</td>\n",
       "      <td>23</td>\n",
       "      <td>61</td>\n",
       "      <td>4500 &amp; above</td>\n",
       "      <td>22500 &amp; above</td>\n",
       "      <td>200 &amp; above</td>\n",
       "      <td>More than 10 years</td>\n",
       "    </tr>\n",
       "    <tr>\n",
       "      <th>3</th>\n",
       "      <td>2909</td>\n",
       "      <td>23159</td>\n",
       "      <td>1392</td>\n",
       "      <td>3</td>\n",
       "      <td>8</td>\n",
       "      <td>8</td>\n",
       "      <td>1</td>\n",
       "      <td>11</td>\n",
       "      <td>56</td>\n",
       "      <td>2500 &amp; above</td>\n",
       "      <td>22500 &amp; above</td>\n",
       "      <td>1300 &amp; above</td>\n",
       "      <td>More than 7 years</td>\n",
       "    </tr>\n",
       "    <tr>\n",
       "      <th>5</th>\n",
       "      <td>3068</td>\n",
       "      <td>11864</td>\n",
       "      <td>1005</td>\n",
       "      <td>3</td>\n",
       "      <td>7</td>\n",
       "      <td>8</td>\n",
       "      <td>0</td>\n",
       "      <td>13</td>\n",
       "      <td>79</td>\n",
       "      <td>2500 &amp; above</td>\n",
       "      <td>10000 &amp; above</td>\n",
       "      <td>1000 &amp; above</td>\n",
       "      <td>More than 7 years</td>\n",
       "    </tr>\n",
       "    <tr>\n",
       "      <th>6</th>\n",
       "      <td>2670</td>\n",
       "      <td>9964</td>\n",
       "      <td>1324</td>\n",
       "      <td>0</td>\n",
       "      <td>1</td>\n",
       "      <td>12</td>\n",
       "      <td>4</td>\n",
       "      <td>20</td>\n",
       "      <td>81</td>\n",
       "      <td>2500 &amp; above</td>\n",
       "      <td>7500 &amp; above</td>\n",
       "      <td>1300 &amp; above</td>\n",
       "      <td>less than 2 years</td>\n",
       "    </tr>\n",
       "    <tr>\n",
       "      <th>7</th>\n",
       "      <td>2693</td>\n",
       "      <td>13335</td>\n",
       "      <td>1358</td>\n",
       "      <td>0</td>\n",
       "      <td>1</td>\n",
       "      <td>1</td>\n",
       "      <td>1</td>\n",
       "      <td>22</td>\n",
       "      <td>67</td>\n",
       "      <td>2500 &amp; above</td>\n",
       "      <td>12500 &amp; above</td>\n",
       "      <td>1300 &amp; above</td>\n",
       "      <td>less than 2 years</td>\n",
       "    </tr>\n",
       "  </tbody>\n",
       "</table>\n",
       "</div>"
      ],
      "text/plain": [
       "   MonthlyIncome  MonthlyRate  DailyRate  YearsSinceLastPromotion  \\\n",
       "1           5130        24907        279                        1   \n",
       "3           2909        23159       1392                        3   \n",
       "5           3068        11864       1005                        3   \n",
       "6           2670         9964       1324                        0   \n",
       "7           2693        13335       1358                        0   \n",
       "\n",
       "   YearsAtCompany  TotalWorkingYears  NumCompaniesWorked  PercentSalaryHike  \\\n",
       "1              10                 10                   1                 23   \n",
       "3               8                  8                   1                 11   \n",
       "5               7                  8                   0                 13   \n",
       "6               1                 12                   4                 20   \n",
       "7               1                  1                   1                 22   \n",
       "\n",
       "   PerformanceScore MonthlyIncome_cal MonthlyRate_cal DailyRate_cal  \\\n",
       "1                61      4500 & above   22500 & above   200 & above   \n",
       "3                56      2500 & above   22500 & above  1300 & above   \n",
       "5                79      2500 & above   10000 & above  1000 & above   \n",
       "6                81      2500 & above    7500 & above  1300 & above   \n",
       "7                67      2500 & above   12500 & above  1300 & above   \n",
       "\n",
       "   YearsAtCompany_cal  \n",
       "1  More than 10 years  \n",
       "3   More than 7 years  \n",
       "5   More than 7 years  \n",
       "6   less than 2 years  \n",
       "7   less than 2 years  "
      ]
     },
     "execution_count": 33,
     "metadata": {},
     "output_type": "execute_result"
    }
   ],
   "source": [
    "#Simplifying and grouping the YearsAtCompany column\n",
    "conditions = [\n",
    "    (df['YearsAtCompany'] < 2),\n",
    "    (df['YearsAtCompany'] >= 2) & (df['YearsAtCompany'] < 3),\n",
    "    (df['YearsAtCompany'] >= 3) & (df['YearsAtCompany'] < 5),\n",
    "    (df['YearsAtCompany'] >= 5) & (df['YearsAtCompany'] < 7),\n",
    "    (df['YearsAtCompany'] >= 7) & (df['YearsAtCompany'] < 10),\n",
    "    (df['YearsAtCompany'] >= 10) & (df['YearsAtCompany'] < 12),\n",
    "    (df['YearsAtCompany'] >= 12) & (df['YearsAtCompany'] < 15),\n",
    "    (df['YearsAtCompany'] >= 15) & (df['YearsAtCompany'] < 17),\n",
    "    (df['YearsAtCompany'] >= 17) & (df['YearsAtCompany'] < 20),\n",
    "    ]\n",
    "\n",
    "values = ['less than 2 years', 'More than 2 years', 'More than 3 years', 'More than 5 years', 'More than 7 years', \n",
    "          'More than 10 years', 'More than 12 years', 'More than 15 years', 'More than 17 years' ]\n",
    "\n",
    "#adding the simplified column to a new calculated column\n",
    "df['YearsAtCompany_cal'] = np.select(conditions, values)\n",
    "\n",
    "df.head()"
   ]
  },
  {
   "cell_type": "code",
   "execution_count": 34,
   "id": "68cec6fa",
   "metadata": {},
   "outputs": [
    {
     "data": {
      "text/html": [
       "<div>\n",
       "<style scoped>\n",
       "    .dataframe tbody tr th:only-of-type {\n",
       "        vertical-align: middle;\n",
       "    }\n",
       "\n",
       "    .dataframe tbody tr th {\n",
       "        vertical-align: top;\n",
       "    }\n",
       "\n",
       "    .dataframe thead th {\n",
       "        text-align: right;\n",
       "    }\n",
       "</style>\n",
       "<table border=\"1\" class=\"dataframe\">\n",
       "  <thead>\n",
       "    <tr style=\"text-align: right;\">\n",
       "      <th></th>\n",
       "      <th>MonthlyIncome</th>\n",
       "      <th>MonthlyRate</th>\n",
       "      <th>DailyRate</th>\n",
       "      <th>YearsSinceLastPromotion</th>\n",
       "      <th>YearsAtCompany</th>\n",
       "      <th>TotalWorkingYears</th>\n",
       "      <th>NumCompaniesWorked</th>\n",
       "      <th>PercentSalaryHike</th>\n",
       "      <th>PerformanceScore</th>\n",
       "      <th>MonthlyIncome_cal</th>\n",
       "      <th>MonthlyRate_cal</th>\n",
       "      <th>DailyRate_cal</th>\n",
       "      <th>YearsAtCompany_cal</th>\n",
       "      <th>TotalWorkingYears_cal</th>\n",
       "    </tr>\n",
       "  </thead>\n",
       "  <tbody>\n",
       "    <tr>\n",
       "      <th>1</th>\n",
       "      <td>5130</td>\n",
       "      <td>24907</td>\n",
       "      <td>279</td>\n",
       "      <td>1</td>\n",
       "      <td>10</td>\n",
       "      <td>10</td>\n",
       "      <td>1</td>\n",
       "      <td>23</td>\n",
       "      <td>61</td>\n",
       "      <td>4500 &amp; above</td>\n",
       "      <td>22500 &amp; above</td>\n",
       "      <td>200 &amp; above</td>\n",
       "      <td>More than 10 years</td>\n",
       "      <td>More than 10 years</td>\n",
       "    </tr>\n",
       "    <tr>\n",
       "      <th>3</th>\n",
       "      <td>2909</td>\n",
       "      <td>23159</td>\n",
       "      <td>1392</td>\n",
       "      <td>3</td>\n",
       "      <td>8</td>\n",
       "      <td>8</td>\n",
       "      <td>1</td>\n",
       "      <td>11</td>\n",
       "      <td>56</td>\n",
       "      <td>2500 &amp; above</td>\n",
       "      <td>22500 &amp; above</td>\n",
       "      <td>1300 &amp; above</td>\n",
       "      <td>More than 7 years</td>\n",
       "      <td>More than 7 years</td>\n",
       "    </tr>\n",
       "    <tr>\n",
       "      <th>5</th>\n",
       "      <td>3068</td>\n",
       "      <td>11864</td>\n",
       "      <td>1005</td>\n",
       "      <td>3</td>\n",
       "      <td>7</td>\n",
       "      <td>8</td>\n",
       "      <td>0</td>\n",
       "      <td>13</td>\n",
       "      <td>79</td>\n",
       "      <td>2500 &amp; above</td>\n",
       "      <td>10000 &amp; above</td>\n",
       "      <td>1000 &amp; above</td>\n",
       "      <td>More than 7 years</td>\n",
       "      <td>More than 7 years</td>\n",
       "    </tr>\n",
       "    <tr>\n",
       "      <th>6</th>\n",
       "      <td>2670</td>\n",
       "      <td>9964</td>\n",
       "      <td>1324</td>\n",
       "      <td>0</td>\n",
       "      <td>1</td>\n",
       "      <td>12</td>\n",
       "      <td>4</td>\n",
       "      <td>20</td>\n",
       "      <td>81</td>\n",
       "      <td>2500 &amp; above</td>\n",
       "      <td>7500 &amp; above</td>\n",
       "      <td>1300 &amp; above</td>\n",
       "      <td>less than 2 years</td>\n",
       "      <td>More than 12 years</td>\n",
       "    </tr>\n",
       "    <tr>\n",
       "      <th>7</th>\n",
       "      <td>2693</td>\n",
       "      <td>13335</td>\n",
       "      <td>1358</td>\n",
       "      <td>0</td>\n",
       "      <td>1</td>\n",
       "      <td>1</td>\n",
       "      <td>1</td>\n",
       "      <td>22</td>\n",
       "      <td>67</td>\n",
       "      <td>2500 &amp; above</td>\n",
       "      <td>12500 &amp; above</td>\n",
       "      <td>1300 &amp; above</td>\n",
       "      <td>less than 2 years</td>\n",
       "      <td>less than 2 years</td>\n",
       "    </tr>\n",
       "  </tbody>\n",
       "</table>\n",
       "</div>"
      ],
      "text/plain": [
       "   MonthlyIncome  MonthlyRate  DailyRate  YearsSinceLastPromotion  \\\n",
       "1           5130        24907        279                        1   \n",
       "3           2909        23159       1392                        3   \n",
       "5           3068        11864       1005                        3   \n",
       "6           2670         9964       1324                        0   \n",
       "7           2693        13335       1358                        0   \n",
       "\n",
       "   YearsAtCompany  TotalWorkingYears  NumCompaniesWorked  PercentSalaryHike  \\\n",
       "1              10                 10                   1                 23   \n",
       "3               8                  8                   1                 11   \n",
       "5               7                  8                   0                 13   \n",
       "6               1                 12                   4                 20   \n",
       "7               1                  1                   1                 22   \n",
       "\n",
       "   PerformanceScore MonthlyIncome_cal MonthlyRate_cal DailyRate_cal  \\\n",
       "1                61      4500 & above   22500 & above   200 & above   \n",
       "3                56      2500 & above   22500 & above  1300 & above   \n",
       "5                79      2500 & above   10000 & above  1000 & above   \n",
       "6                81      2500 & above    7500 & above  1300 & above   \n",
       "7                67      2500 & above   12500 & above  1300 & above   \n",
       "\n",
       "   YearsAtCompany_cal TotalWorkingYears_cal  \n",
       "1  More than 10 years    More than 10 years  \n",
       "3   More than 7 years     More than 7 years  \n",
       "5   More than 7 years     More than 7 years  \n",
       "6   less than 2 years    More than 12 years  \n",
       "7   less than 2 years     less than 2 years  "
      ]
     },
     "execution_count": 34,
     "metadata": {},
     "output_type": "execute_result"
    }
   ],
   "source": [
    "#Simplifying and grouping the TotalWorkingYears column\n",
    "conditions = [\n",
    "    (df['TotalWorkingYears'] < 2),\n",
    "    (df['TotalWorkingYears'] >= 2) & (df['TotalWorkingYears'] < 3),\n",
    "    (df['TotalWorkingYears'] >= 3) & (df['TotalWorkingYears'] < 5),\n",
    "    (df['TotalWorkingYears'] >= 5) & (df['TotalWorkingYears'] < 7),\n",
    "    (df['TotalWorkingYears'] >= 7) & (df['TotalWorkingYears'] < 10),\n",
    "    (df['TotalWorkingYears'] >= 10) & (df['TotalWorkingYears'] < 12),\n",
    "    (df['TotalWorkingYears'] >= 12) & (df['TotalWorkingYears'] < 15),\n",
    "    (df['TotalWorkingYears'] >= 15) & (df['TotalWorkingYears'] < 17),\n",
    "    (df['TotalWorkingYears'] >= 17) & (df['TotalWorkingYears'] < 20),\n",
    "    ]\n",
    "\n",
    "values = ['less than 2 years', 'More than 2 years', 'More than 3 years', 'More than 5 years', 'More than 7 years', \n",
    "          'More than 10 years', 'More than 12 years', 'More than 15 years', 'More than 17 years' ]\n",
    "\n",
    "#adding the simplified column to a new calculated column\n",
    "df['TotalWorkingYears_cal'] = np.select(conditions, values)\n",
    "df.head()"
   ]
  },
  {
   "cell_type": "code",
   "execution_count": 35,
   "id": "df28578a",
   "metadata": {},
   "outputs": [
    {
     "data": {
      "text/html": [
       "<div>\n",
       "<style scoped>\n",
       "    .dataframe tbody tr th:only-of-type {\n",
       "        vertical-align: middle;\n",
       "    }\n",
       "\n",
       "    .dataframe tbody tr th {\n",
       "        vertical-align: top;\n",
       "    }\n",
       "\n",
       "    .dataframe thead th {\n",
       "        text-align: right;\n",
       "    }\n",
       "</style>\n",
       "<table border=\"1\" class=\"dataframe\">\n",
       "  <thead>\n",
       "    <tr style=\"text-align: right;\">\n",
       "      <th></th>\n",
       "      <th>MonthlyIncome</th>\n",
       "      <th>MonthlyRate</th>\n",
       "      <th>DailyRate</th>\n",
       "      <th>YearsSinceLastPromotion</th>\n",
       "      <th>YearsAtCompany</th>\n",
       "      <th>TotalWorkingYears</th>\n",
       "      <th>NumCompaniesWorked</th>\n",
       "      <th>PercentSalaryHike</th>\n",
       "      <th>PerformanceScore</th>\n",
       "      <th>MonthlyIncome_cal</th>\n",
       "      <th>MonthlyRate_cal</th>\n",
       "      <th>DailyRate_cal</th>\n",
       "      <th>YearsAtCompany_cal</th>\n",
       "      <th>TotalWorkingYears_cal</th>\n",
       "      <th>YearsSinceLastPromotion_cal</th>\n",
       "    </tr>\n",
       "  </thead>\n",
       "  <tbody>\n",
       "    <tr>\n",
       "      <th>1</th>\n",
       "      <td>5130</td>\n",
       "      <td>24907</td>\n",
       "      <td>279</td>\n",
       "      <td>1</td>\n",
       "      <td>10</td>\n",
       "      <td>10</td>\n",
       "      <td>1</td>\n",
       "      <td>23</td>\n",
       "      <td>61</td>\n",
       "      <td>4500 &amp; above</td>\n",
       "      <td>22500 &amp; above</td>\n",
       "      <td>200 &amp; above</td>\n",
       "      <td>More than 10 years</td>\n",
       "      <td>More than 10 years</td>\n",
       "      <td>less than 2 years</td>\n",
       "    </tr>\n",
       "    <tr>\n",
       "      <th>3</th>\n",
       "      <td>2909</td>\n",
       "      <td>23159</td>\n",
       "      <td>1392</td>\n",
       "      <td>3</td>\n",
       "      <td>8</td>\n",
       "      <td>8</td>\n",
       "      <td>1</td>\n",
       "      <td>11</td>\n",
       "      <td>56</td>\n",
       "      <td>2500 &amp; above</td>\n",
       "      <td>22500 &amp; above</td>\n",
       "      <td>1300 &amp; above</td>\n",
       "      <td>More than 7 years</td>\n",
       "      <td>More than 7 years</td>\n",
       "      <td>less than 4 years</td>\n",
       "    </tr>\n",
       "    <tr>\n",
       "      <th>5</th>\n",
       "      <td>3068</td>\n",
       "      <td>11864</td>\n",
       "      <td>1005</td>\n",
       "      <td>3</td>\n",
       "      <td>7</td>\n",
       "      <td>8</td>\n",
       "      <td>0</td>\n",
       "      <td>13</td>\n",
       "      <td>79</td>\n",
       "      <td>2500 &amp; above</td>\n",
       "      <td>10000 &amp; above</td>\n",
       "      <td>1000 &amp; above</td>\n",
       "      <td>More than 7 years</td>\n",
       "      <td>More than 7 years</td>\n",
       "      <td>less than 4 years</td>\n",
       "    </tr>\n",
       "    <tr>\n",
       "      <th>6</th>\n",
       "      <td>2670</td>\n",
       "      <td>9964</td>\n",
       "      <td>1324</td>\n",
       "      <td>0</td>\n",
       "      <td>1</td>\n",
       "      <td>12</td>\n",
       "      <td>4</td>\n",
       "      <td>20</td>\n",
       "      <td>81</td>\n",
       "      <td>2500 &amp; above</td>\n",
       "      <td>7500 &amp; above</td>\n",
       "      <td>1300 &amp; above</td>\n",
       "      <td>less than 2 years</td>\n",
       "      <td>More than 12 years</td>\n",
       "      <td>less than 1 year</td>\n",
       "    </tr>\n",
       "    <tr>\n",
       "      <th>7</th>\n",
       "      <td>2693</td>\n",
       "      <td>13335</td>\n",
       "      <td>1358</td>\n",
       "      <td>0</td>\n",
       "      <td>1</td>\n",
       "      <td>1</td>\n",
       "      <td>1</td>\n",
       "      <td>22</td>\n",
       "      <td>67</td>\n",
       "      <td>2500 &amp; above</td>\n",
       "      <td>12500 &amp; above</td>\n",
       "      <td>1300 &amp; above</td>\n",
       "      <td>less than 2 years</td>\n",
       "      <td>less than 2 years</td>\n",
       "      <td>less than 1 year</td>\n",
       "    </tr>\n",
       "  </tbody>\n",
       "</table>\n",
       "</div>"
      ],
      "text/plain": [
       "   MonthlyIncome  MonthlyRate  DailyRate  YearsSinceLastPromotion  \\\n",
       "1           5130        24907        279                        1   \n",
       "3           2909        23159       1392                        3   \n",
       "5           3068        11864       1005                        3   \n",
       "6           2670         9964       1324                        0   \n",
       "7           2693        13335       1358                        0   \n",
       "\n",
       "   YearsAtCompany  TotalWorkingYears  NumCompaniesWorked  PercentSalaryHike  \\\n",
       "1              10                 10                   1                 23   \n",
       "3               8                  8                   1                 11   \n",
       "5               7                  8                   0                 13   \n",
       "6               1                 12                   4                 20   \n",
       "7               1                  1                   1                 22   \n",
       "\n",
       "   PerformanceScore MonthlyIncome_cal MonthlyRate_cal DailyRate_cal  \\\n",
       "1                61      4500 & above   22500 & above   200 & above   \n",
       "3                56      2500 & above   22500 & above  1300 & above   \n",
       "5                79      2500 & above   10000 & above  1000 & above   \n",
       "6                81      2500 & above    7500 & above  1300 & above   \n",
       "7                67      2500 & above   12500 & above  1300 & above   \n",
       "\n",
       "   YearsAtCompany_cal TotalWorkingYears_cal YearsSinceLastPromotion_cal  \n",
       "1  More than 10 years    More than 10 years           less than 2 years  \n",
       "3   More than 7 years     More than 7 years           less than 4 years  \n",
       "5   More than 7 years     More than 7 years           less than 4 years  \n",
       "6   less than 2 years    More than 12 years            less than 1 year  \n",
       "7   less than 2 years     less than 2 years            less than 1 year  "
      ]
     },
     "execution_count": 35,
     "metadata": {},
     "output_type": "execute_result"
    }
   ],
   "source": [
    "#Simplifying and grouping the YearsSinceLastPromotion column\n",
    "conditions = [\n",
    "    (df['YearsSinceLastPromotion'] < 1),\n",
    "    (df['YearsSinceLastPromotion'] >= 1) & (df['YearsSinceLastPromotion'] < 2),\n",
    "    (df['YearsSinceLastPromotion'] >= 2) & (df['YearsSinceLastPromotion'] < 3),\n",
    "    (df['YearsSinceLastPromotion'] >= 3) & (df['YearsSinceLastPromotion'] < 4),\n",
    "    (df['YearsSinceLastPromotion'] >= 4) & (df['YearsSinceLastPromotion'] < 5),\n",
    "    (df['YearsSinceLastPromotion'] >= 5) & (df['YearsSinceLastPromotion'] < 6),\n",
    "    (df['YearsSinceLastPromotion'] >= 6) \n",
    "    ]\n",
    "\n",
    "values = ['less than 1 year', 'less than 2 years', 'less than 3 years', 'less than 4 years', 'less than 5 years', \n",
    "          'less than 6 years', 'over 6 years' ]\n",
    "\n",
    "#adding the simplified column to a new calculated column\n",
    "df['YearsSinceLastPromotion_cal'] = np.select(conditions, values)\n",
    "df.head()"
   ]
  },
  {
   "cell_type": "code",
   "execution_count": 36,
   "id": "3a7e4a5e",
   "metadata": {},
   "outputs": [
    {
     "data": {
      "text/html": [
       "<div>\n",
       "<style scoped>\n",
       "    .dataframe tbody tr th:only-of-type {\n",
       "        vertical-align: middle;\n",
       "    }\n",
       "\n",
       "    .dataframe tbody tr th {\n",
       "        vertical-align: top;\n",
       "    }\n",
       "\n",
       "    .dataframe thead th {\n",
       "        text-align: right;\n",
       "    }\n",
       "</style>\n",
       "<table border=\"1\" class=\"dataframe\">\n",
       "  <thead>\n",
       "    <tr style=\"text-align: right;\">\n",
       "      <th></th>\n",
       "      <th>MonthlyIncome</th>\n",
       "      <th>MonthlyRate</th>\n",
       "      <th>DailyRate</th>\n",
       "      <th>YearsSinceLastPromotion</th>\n",
       "      <th>YearsAtCompany</th>\n",
       "      <th>TotalWorkingYears</th>\n",
       "      <th>NumCompaniesWorked</th>\n",
       "      <th>PercentSalaryHike</th>\n",
       "      <th>PerformanceScore</th>\n",
       "      <th>MonthlyIncome_cal</th>\n",
       "      <th>MonthlyRate_cal</th>\n",
       "      <th>DailyRate_cal</th>\n",
       "      <th>YearsAtCompany_cal</th>\n",
       "      <th>TotalWorkingYears_cal</th>\n",
       "      <th>YearsSinceLastPromotion_cal</th>\n",
       "      <th>NumCompaniesWorked_cal</th>\n",
       "    </tr>\n",
       "  </thead>\n",
       "  <tbody>\n",
       "    <tr>\n",
       "      <th>1</th>\n",
       "      <td>5130</td>\n",
       "      <td>24907</td>\n",
       "      <td>279</td>\n",
       "      <td>1</td>\n",
       "      <td>10</td>\n",
       "      <td>10</td>\n",
       "      <td>1</td>\n",
       "      <td>23</td>\n",
       "      <td>61</td>\n",
       "      <td>4500 &amp; above</td>\n",
       "      <td>22500 &amp; above</td>\n",
       "      <td>200 &amp; above</td>\n",
       "      <td>More than 10 years</td>\n",
       "      <td>More than 10 years</td>\n",
       "      <td>less than 2 years</td>\n",
       "      <td>less than 2</td>\n",
       "    </tr>\n",
       "    <tr>\n",
       "      <th>3</th>\n",
       "      <td>2909</td>\n",
       "      <td>23159</td>\n",
       "      <td>1392</td>\n",
       "      <td>3</td>\n",
       "      <td>8</td>\n",
       "      <td>8</td>\n",
       "      <td>1</td>\n",
       "      <td>11</td>\n",
       "      <td>56</td>\n",
       "      <td>2500 &amp; above</td>\n",
       "      <td>22500 &amp; above</td>\n",
       "      <td>1300 &amp; above</td>\n",
       "      <td>More than 7 years</td>\n",
       "      <td>More than 7 years</td>\n",
       "      <td>less than 4 years</td>\n",
       "      <td>less than 2</td>\n",
       "    </tr>\n",
       "    <tr>\n",
       "      <th>5</th>\n",
       "      <td>3068</td>\n",
       "      <td>11864</td>\n",
       "      <td>1005</td>\n",
       "      <td>3</td>\n",
       "      <td>7</td>\n",
       "      <td>8</td>\n",
       "      <td>0</td>\n",
       "      <td>13</td>\n",
       "      <td>79</td>\n",
       "      <td>2500 &amp; above</td>\n",
       "      <td>10000 &amp; above</td>\n",
       "      <td>1000 &amp; above</td>\n",
       "      <td>More than 7 years</td>\n",
       "      <td>More than 7 years</td>\n",
       "      <td>less than 4 years</td>\n",
       "      <td>less than 2</td>\n",
       "    </tr>\n",
       "    <tr>\n",
       "      <th>6</th>\n",
       "      <td>2670</td>\n",
       "      <td>9964</td>\n",
       "      <td>1324</td>\n",
       "      <td>0</td>\n",
       "      <td>1</td>\n",
       "      <td>12</td>\n",
       "      <td>4</td>\n",
       "      <td>20</td>\n",
       "      <td>81</td>\n",
       "      <td>2500 &amp; above</td>\n",
       "      <td>7500 &amp; above</td>\n",
       "      <td>1300 &amp; above</td>\n",
       "      <td>less than 2 years</td>\n",
       "      <td>More than 12 years</td>\n",
       "      <td>less than 1 year</td>\n",
       "      <td>less than 6</td>\n",
       "    </tr>\n",
       "    <tr>\n",
       "      <th>7</th>\n",
       "      <td>2693</td>\n",
       "      <td>13335</td>\n",
       "      <td>1358</td>\n",
       "      <td>0</td>\n",
       "      <td>1</td>\n",
       "      <td>1</td>\n",
       "      <td>1</td>\n",
       "      <td>22</td>\n",
       "      <td>67</td>\n",
       "      <td>2500 &amp; above</td>\n",
       "      <td>12500 &amp; above</td>\n",
       "      <td>1300 &amp; above</td>\n",
       "      <td>less than 2 years</td>\n",
       "      <td>less than 2 years</td>\n",
       "      <td>less than 1 year</td>\n",
       "      <td>less than 2</td>\n",
       "    </tr>\n",
       "  </tbody>\n",
       "</table>\n",
       "</div>"
      ],
      "text/plain": [
       "   MonthlyIncome  MonthlyRate  DailyRate  YearsSinceLastPromotion  \\\n",
       "1           5130        24907        279                        1   \n",
       "3           2909        23159       1392                        3   \n",
       "5           3068        11864       1005                        3   \n",
       "6           2670         9964       1324                        0   \n",
       "7           2693        13335       1358                        0   \n",
       "\n",
       "   YearsAtCompany  TotalWorkingYears  NumCompaniesWorked  PercentSalaryHike  \\\n",
       "1              10                 10                   1                 23   \n",
       "3               8                  8                   1                 11   \n",
       "5               7                  8                   0                 13   \n",
       "6               1                 12                   4                 20   \n",
       "7               1                  1                   1                 22   \n",
       "\n",
       "   PerformanceScore MonthlyIncome_cal MonthlyRate_cal DailyRate_cal  \\\n",
       "1                61      4500 & above   22500 & above   200 & above   \n",
       "3                56      2500 & above   22500 & above  1300 & above   \n",
       "5                79      2500 & above   10000 & above  1000 & above   \n",
       "6                81      2500 & above    7500 & above  1300 & above   \n",
       "7                67      2500 & above   12500 & above  1300 & above   \n",
       "\n",
       "   YearsAtCompany_cal TotalWorkingYears_cal YearsSinceLastPromotion_cal  \\\n",
       "1  More than 10 years    More than 10 years           less than 2 years   \n",
       "3   More than 7 years     More than 7 years           less than 4 years   \n",
       "5   More than 7 years     More than 7 years           less than 4 years   \n",
       "6   less than 2 years    More than 12 years            less than 1 year   \n",
       "7   less than 2 years     less than 2 years            less than 1 year   \n",
       "\n",
       "  NumCompaniesWorked_cal  \n",
       "1            less than 2  \n",
       "3            less than 2  \n",
       "5            less than 2  \n",
       "6            less than 6  \n",
       "7            less than 2  "
      ]
     },
     "execution_count": 36,
     "metadata": {},
     "output_type": "execute_result"
    }
   ],
   "source": [
    "# #Simplifying and grouping the NumCompaniesWorked column\n",
    "# conditions = [\n",
    "#     (df['NumCompaniesWorked'] < 1),\n",
    "#     (df['NumCompaniesWorked'] >= 1) & (df['NumCompaniesWorked'] < 2),\n",
    "#     (df['NumCompaniesWorked'] >= 2) & (df['NumCompaniesWorked'] < 3),\n",
    "#     (df['NumCompaniesWorked'] >= 3) & (df['NumCompaniesWorked'] < 4),\n",
    "#     (df['NumCompaniesWorked'] >= 4) & (df['NumCompaniesWorked'] < 5),\n",
    "#     (df['NumCompaniesWorked'] >= 5) & (df['NumCompaniesWorked'] < 6),\n",
    "#     (df['NumCompaniesWorked'] >= 6) & (df['NumCompaniesWorked'] < 7),\n",
    "#     (df['NumCompaniesWorked'] >= 7) & (df['NumCompaniesWorked'] < 8),\n",
    "#     (df['NumCompaniesWorked'] >= 8) & (df['NumCompaniesWorked'] < 9),\n",
    "#     (df['NumCompaniesWorked'] >= 9) \n",
    "#     ]\n",
    "\n",
    "# values = ['less than 1', 'less than 2', 'less than 3', 'less than 4', 'less than 5', \n",
    "#           'less than 6', 'less than 7', 'less than 8', 'less than 9', 'over 9' ]\n",
    "\n",
    "# #adding the simplified column to a new calculated column\n",
    "# df['NumCompaniesWorked_cal'] = np.select(conditions, values)\n",
    "# df.head()\n",
    "\n",
    "#Simplifying and grouping the NumCompaniesWorked column\n",
    "conditions = [\n",
    "    (df['NumCompaniesWorked'] < 2),\n",
    "    (df['NumCompaniesWorked'] >= 2) & (df['NumCompaniesWorked'] < 4),\n",
    "    (df['NumCompaniesWorked'] >= 4) & (df['NumCompaniesWorked'] < 6),\n",
    "    (df['NumCompaniesWorked'] >= 6) & (df['NumCompaniesWorked'] < 8),\n",
    "    (df['NumCompaniesWorked'] >= 8) & (df['NumCompaniesWorked'] < 10),\n",
    "    ]\n",
    "\n",
    "values = ['less than 2', 'less than 4','less than 6', 'less than 8', 'less than 10']\n",
    "\n",
    "#adding the simplified column to a new calculated column\n",
    "df['NumCompaniesWorked_cal'] = np.select(conditions, values)\n",
    "df.head()"
   ]
  },
  {
   "cell_type": "code",
   "execution_count": 37,
   "id": "50394426",
   "metadata": {},
   "outputs": [],
   "source": [
    "# #Simplifying and grouping the NumCompaniesWorked column\n",
    "# conditions = [\n",
    "#     (df['PercentSalaryHike'] < 15),\n",
    "#     (df['PercentSalaryHike'] >= 15) & (df['PercentSalaryHike'] < 17),\n",
    "#     (df['PercentSalaryHike'] >= 17) & (df['PercentSalaryHike'] < 20),\n",
    "#     (df['PercentSalaryHike'] >= 20) & (df['PercentSalaryHike'] < 22),\n",
    "#     (df['PercentSalaryHike'] >= 22) & (df['PercentSalaryHike'] < 25),\n",
    "#     (df['PercentSalaryHike'] >= 25) \n",
    "#     ]\n",
    "\n",
    "# values = ['<15', '15-17', '17-20', '20-22', '22-25', '>25']\n",
    "\n",
    "# #adding the simplified column to a new calculated column\n",
    "# df['PercentSalaryHike_cal'] = np.select(conditions, values)\n",
    "# df.head()"
   ]
  },
  {
   "cell_type": "code",
   "execution_count": 38,
   "id": "e97f1e00",
   "metadata": {},
   "outputs": [],
   "source": [
    "dfExport = df.copy()"
   ]
  },
  {
   "cell_type": "code",
   "execution_count": 39,
   "id": "5c82467b",
   "metadata": {},
   "outputs": [
    {
     "name": "stdout",
     "output_type": "stream",
     "text": [
      "<class 'pandas.core.frame.DataFrame'>\n",
      "Int64Index: 929 entries, 1 to 1469\n",
      "Data columns (total 16 columns):\n",
      " #   Column                       Non-Null Count  Dtype \n",
      "---  ------                       --------------  ----- \n",
      " 0   MonthlyIncome                929 non-null    int64 \n",
      " 1   MonthlyRate                  929 non-null    int64 \n",
      " 2   DailyRate                    929 non-null    int64 \n",
      " 3   YearsSinceLastPromotion      929 non-null    int64 \n",
      " 4   YearsAtCompany               929 non-null    int64 \n",
      " 5   TotalWorkingYears            929 non-null    int64 \n",
      " 6   NumCompaniesWorked           929 non-null    int64 \n",
      " 7   PercentSalaryHike            929 non-null    int64 \n",
      " 8   PerformanceScore             929 non-null    int64 \n",
      " 9   MonthlyIncome_cal            929 non-null    object\n",
      " 10  MonthlyRate_cal              929 non-null    object\n",
      " 11  DailyRate_cal                929 non-null    object\n",
      " 12  YearsAtCompany_cal           929 non-null    object\n",
      " 13  TotalWorkingYears_cal        929 non-null    object\n",
      " 14  YearsSinceLastPromotion_cal  929 non-null    object\n",
      " 15  NumCompaniesWorked_cal       929 non-null    object\n",
      "dtypes: int64(9), object(7)\n",
      "memory usage: 123.4+ KB\n"
     ]
    }
   ],
   "source": [
    "#Checking newly created column datatypes\n",
    "df.info()"
   ]
  },
  {
   "cell_type": "code",
   "execution_count": 40,
   "id": "b0985bbd",
   "metadata": {},
   "outputs": [],
   "source": [
    "#creating encoded labels and fit transforming them\n",
    "lblMonthlyIncome = LabelEncoder()\n",
    "df['MonthlyIncome_cal'] = lblMonthlyIncome.fit_transform(df['MonthlyIncome_cal'])\n",
    "\n",
    "lblMonthlyRate = LabelEncoder()\n",
    "df['MonthlyRate_cal'] = lblMonthlyRate.fit_transform(df['MonthlyRate_cal'])\n",
    "\n",
    "lblDailyRate = LabelEncoder()\n",
    "df['DailyRate_cal'] = lblDailyRate.fit_transform(df['DailyRate_cal'])\n",
    "\n",
    "lblYearsAtCompany = LabelEncoder()\n",
    "df['YearsAtCompany_cal'] = lblYearsAtCompany.fit_transform(df['YearsAtCompany_cal'])\n",
    "\n",
    "lblTotWorkYear = LabelEncoder()\n",
    "df['TotalWorkingYears_cal'] = lblTotWorkYear.fit_transform(df['TotalWorkingYears_cal'])\n",
    "\n",
    "lblYearsSinceLastPromotion = LabelEncoder()\n",
    "df['YearsSinceLastPromotion_cal'] = lblYearsSinceLastPromotion.fit_transform(df['YearsSinceLastPromotion_cal'])\n",
    "\n",
    "lblNumCompaniesWorked = LabelEncoder()\n",
    "df['NumCompaniesWorked_cal'] = lblNumCompaniesWorked.fit_transform(df['NumCompaniesWorked_cal'])\n",
    "\n",
    "# lblPercentSalaryHike = LabelEncoder()\n",
    "# df['PercentSalaryHike_cal'] = lblPercentSalaryHike.fit_transform(df['PercentSalaryHike_cal'])"
   ]
  },
  {
   "cell_type": "code",
   "execution_count": 41,
   "id": "0e8102f1",
   "metadata": {},
   "outputs": [
    {
     "name": "stdout",
     "output_type": "stream",
     "text": [
      "<class 'pandas.core.frame.DataFrame'>\n",
      "Int64Index: 929 entries, 1 to 1469\n",
      "Data columns (total 16 columns):\n",
      " #   Column                       Non-Null Count  Dtype\n",
      "---  ------                       --------------  -----\n",
      " 0   MonthlyIncome                929 non-null    int64\n",
      " 1   MonthlyRate                  929 non-null    int64\n",
      " 2   DailyRate                    929 non-null    int64\n",
      " 3   YearsSinceLastPromotion      929 non-null    int64\n",
      " 4   YearsAtCompany               929 non-null    int64\n",
      " 5   TotalWorkingYears            929 non-null    int64\n",
      " 6   NumCompaniesWorked           929 non-null    int64\n",
      " 7   PercentSalaryHike            929 non-null    int64\n",
      " 8   PerformanceScore             929 non-null    int64\n",
      " 9   MonthlyIncome_cal            929 non-null    int32\n",
      " 10  MonthlyRate_cal              929 non-null    int32\n",
      " 11  DailyRate_cal                929 non-null    int32\n",
      " 12  YearsAtCompany_cal           929 non-null    int32\n",
      " 13  TotalWorkingYears_cal        929 non-null    int32\n",
      " 14  YearsSinceLastPromotion_cal  929 non-null    int32\n",
      " 15  NumCompaniesWorked_cal       929 non-null    int32\n",
      "dtypes: int32(7), int64(9)\n",
      "memory usage: 98.0 KB\n"
     ]
    }
   ],
   "source": [
    "df.info()"
   ]
  },
  {
   "cell_type": "code",
   "execution_count": 42,
   "id": "3945af0e",
   "metadata": {
    "scrolled": false
   },
   "outputs": [
    {
     "data": {
      "text/html": [
       "<div>\n",
       "<style scoped>\n",
       "    .dataframe tbody tr th:only-of-type {\n",
       "        vertical-align: middle;\n",
       "    }\n",
       "\n",
       "    .dataframe tbody tr th {\n",
       "        vertical-align: top;\n",
       "    }\n",
       "\n",
       "    .dataframe thead th {\n",
       "        text-align: right;\n",
       "    }\n",
       "</style>\n",
       "<table border=\"1\" class=\"dataframe\">\n",
       "  <thead>\n",
       "    <tr style=\"text-align: right;\">\n",
       "      <th></th>\n",
       "      <th>MonthlyIncome</th>\n",
       "      <th>MonthlyRate</th>\n",
       "      <th>DailyRate</th>\n",
       "      <th>YearsSinceLastPromotion</th>\n",
       "      <th>YearsAtCompany</th>\n",
       "      <th>TotalWorkingYears</th>\n",
       "      <th>NumCompaniesWorked</th>\n",
       "      <th>PercentSalaryHike</th>\n",
       "      <th>PerformanceScore</th>\n",
       "      <th>MonthlyIncome_cal</th>\n",
       "      <th>MonthlyRate_cal</th>\n",
       "      <th>DailyRate_cal</th>\n",
       "      <th>YearsAtCompany_cal</th>\n",
       "      <th>TotalWorkingYears_cal</th>\n",
       "      <th>YearsSinceLastPromotion_cal</th>\n",
       "      <th>NumCompaniesWorked_cal</th>\n",
       "    </tr>\n",
       "  </thead>\n",
       "  <tbody>\n",
       "    <tr>\n",
       "      <th>1</th>\n",
       "      <td>5130</td>\n",
       "      <td>24907</td>\n",
       "      <td>279</td>\n",
       "      <td>1</td>\n",
       "      <td>10</td>\n",
       "      <td>10</td>\n",
       "      <td>1</td>\n",
       "      <td>23</td>\n",
       "      <td>61</td>\n",
       "      <td>6</td>\n",
       "      <td>5</td>\n",
       "      <td>5</td>\n",
       "      <td>0</td>\n",
       "      <td>0</td>\n",
       "      <td>1</td>\n",
       "      <td>1</td>\n",
       "    </tr>\n",
       "    <tr>\n",
       "      <th>3</th>\n",
       "      <td>2909</td>\n",
       "      <td>23159</td>\n",
       "      <td>1392</td>\n",
       "      <td>3</td>\n",
       "      <td>8</td>\n",
       "      <td>8</td>\n",
       "      <td>1</td>\n",
       "      <td>11</td>\n",
       "      <td>56</td>\n",
       "      <td>4</td>\n",
       "      <td>5</td>\n",
       "      <td>3</td>\n",
       "      <td>7</td>\n",
       "      <td>7</td>\n",
       "      <td>3</td>\n",
       "      <td>1</td>\n",
       "    </tr>\n",
       "    <tr>\n",
       "      <th>5</th>\n",
       "      <td>3068</td>\n",
       "      <td>11864</td>\n",
       "      <td>1005</td>\n",
       "      <td>3</td>\n",
       "      <td>7</td>\n",
       "      <td>8</td>\n",
       "      <td>0</td>\n",
       "      <td>13</td>\n",
       "      <td>79</td>\n",
       "      <td>4</td>\n",
       "      <td>0</td>\n",
       "      <td>0</td>\n",
       "      <td>7</td>\n",
       "      <td>7</td>\n",
       "      <td>3</td>\n",
       "      <td>1</td>\n",
       "    </tr>\n",
       "    <tr>\n",
       "      <th>6</th>\n",
       "      <td>2670</td>\n",
       "      <td>9964</td>\n",
       "      <td>1324</td>\n",
       "      <td>0</td>\n",
       "      <td>1</td>\n",
       "      <td>12</td>\n",
       "      <td>4</td>\n",
       "      <td>20</td>\n",
       "      <td>81</td>\n",
       "      <td>4</td>\n",
       "      <td>9</td>\n",
       "      <td>3</td>\n",
       "      <td>8</td>\n",
       "      <td>1</td>\n",
       "      <td>0</td>\n",
       "      <td>3</td>\n",
       "    </tr>\n",
       "    <tr>\n",
       "      <th>7</th>\n",
       "      <td>2693</td>\n",
       "      <td>13335</td>\n",
       "      <td>1358</td>\n",
       "      <td>0</td>\n",
       "      <td>1</td>\n",
       "      <td>1</td>\n",
       "      <td>1</td>\n",
       "      <td>22</td>\n",
       "      <td>67</td>\n",
       "      <td>4</td>\n",
       "      <td>1</td>\n",
       "      <td>3</td>\n",
       "      <td>8</td>\n",
       "      <td>8</td>\n",
       "      <td>0</td>\n",
       "      <td>1</td>\n",
       "    </tr>\n",
       "    <tr>\n",
       "      <th>...</th>\n",
       "      <td>...</td>\n",
       "      <td>...</td>\n",
       "      <td>...</td>\n",
       "      <td>...</td>\n",
       "      <td>...</td>\n",
       "      <td>...</td>\n",
       "      <td>...</td>\n",
       "      <td>...</td>\n",
       "      <td>...</td>\n",
       "      <td>...</td>\n",
       "      <td>...</td>\n",
       "      <td>...</td>\n",
       "      <td>...</td>\n",
       "      <td>...</td>\n",
       "      <td>...</td>\n",
       "      <td>...</td>\n",
       "    </tr>\n",
       "    <tr>\n",
       "      <th>1465</th>\n",
       "      <td>2571</td>\n",
       "      <td>12290</td>\n",
       "      <td>884</td>\n",
       "      <td>0</td>\n",
       "      <td>5</td>\n",
       "      <td>17</td>\n",
       "      <td>4</td>\n",
       "      <td>17</td>\n",
       "      <td>41</td>\n",
       "      <td>4</td>\n",
       "      <td>0</td>\n",
       "      <td>11</td>\n",
       "      <td>6</td>\n",
       "      <td>3</td>\n",
       "      <td>0</td>\n",
       "      <td>3</td>\n",
       "    </tr>\n",
       "    <tr>\n",
       "      <th>1466</th>\n",
       "      <td>9991</td>\n",
       "      <td>21457</td>\n",
       "      <td>613</td>\n",
       "      <td>1</td>\n",
       "      <td>7</td>\n",
       "      <td>9</td>\n",
       "      <td>4</td>\n",
       "      <td>15</td>\n",
       "      <td>42</td>\n",
       "      <td>11</td>\n",
       "      <td>4</td>\n",
       "      <td>9</td>\n",
       "      <td>7</td>\n",
       "      <td>7</td>\n",
       "      <td>1</td>\n",
       "      <td>3</td>\n",
       "    </tr>\n",
       "    <tr>\n",
       "      <th>1467</th>\n",
       "      <td>6142</td>\n",
       "      <td>5174</td>\n",
       "      <td>155</td>\n",
       "      <td>0</td>\n",
       "      <td>6</td>\n",
       "      <td>6</td>\n",
       "      <td>1</td>\n",
       "      <td>20</td>\n",
       "      <td>87</td>\n",
       "      <td>7</td>\n",
       "      <td>8</td>\n",
       "      <td>13</td>\n",
       "      <td>6</td>\n",
       "      <td>6</td>\n",
       "      <td>0</td>\n",
       "      <td>1</td>\n",
       "    </tr>\n",
       "    <tr>\n",
       "      <th>1468</th>\n",
       "      <td>5390</td>\n",
       "      <td>13243</td>\n",
       "      <td>1023</td>\n",
       "      <td>0</td>\n",
       "      <td>9</td>\n",
       "      <td>17</td>\n",
       "      <td>2</td>\n",
       "      <td>14</td>\n",
       "      <td>63</td>\n",
       "      <td>6</td>\n",
       "      <td>1</td>\n",
       "      <td>0</td>\n",
       "      <td>7</td>\n",
       "      <td>3</td>\n",
       "      <td>0</td>\n",
       "      <td>2</td>\n",
       "    </tr>\n",
       "    <tr>\n",
       "      <th>1469</th>\n",
       "      <td>4404</td>\n",
       "      <td>10228</td>\n",
       "      <td>628</td>\n",
       "      <td>1</td>\n",
       "      <td>4</td>\n",
       "      <td>6</td>\n",
       "      <td>2</td>\n",
       "      <td>12</td>\n",
       "      <td>82</td>\n",
       "      <td>5</td>\n",
       "      <td>0</td>\n",
       "      <td>9</td>\n",
       "      <td>5</td>\n",
       "      <td>6</td>\n",
       "      <td>1</td>\n",
       "      <td>2</td>\n",
       "    </tr>\n",
       "  </tbody>\n",
       "</table>\n",
       "<p>929 rows × 16 columns</p>\n",
       "</div>"
      ],
      "text/plain": [
       "      MonthlyIncome  MonthlyRate  DailyRate  YearsSinceLastPromotion  \\\n",
       "1              5130        24907        279                        1   \n",
       "3              2909        23159       1392                        3   \n",
       "5              3068        11864       1005                        3   \n",
       "6              2670         9964       1324                        0   \n",
       "7              2693        13335       1358                        0   \n",
       "...             ...          ...        ...                      ...   \n",
       "1465           2571        12290        884                        0   \n",
       "1466           9991        21457        613                        1   \n",
       "1467           6142         5174        155                        0   \n",
       "1468           5390        13243       1023                        0   \n",
       "1469           4404        10228        628                        1   \n",
       "\n",
       "      YearsAtCompany  TotalWorkingYears  NumCompaniesWorked  \\\n",
       "1                 10                 10                   1   \n",
       "3                  8                  8                   1   \n",
       "5                  7                  8                   0   \n",
       "6                  1                 12                   4   \n",
       "7                  1                  1                   1   \n",
       "...              ...                ...                 ...   \n",
       "1465               5                 17                   4   \n",
       "1466               7                  9                   4   \n",
       "1467               6                  6                   1   \n",
       "1468               9                 17                   2   \n",
       "1469               4                  6                   2   \n",
       "\n",
       "      PercentSalaryHike  PerformanceScore  MonthlyIncome_cal  MonthlyRate_cal  \\\n",
       "1                    23                61                  6                5   \n",
       "3                    11                56                  4                5   \n",
       "5                    13                79                  4                0   \n",
       "6                    20                81                  4                9   \n",
       "7                    22                67                  4                1   \n",
       "...                 ...               ...                ...              ...   \n",
       "1465                 17                41                  4                0   \n",
       "1466                 15                42                 11                4   \n",
       "1467                 20                87                  7                8   \n",
       "1468                 14                63                  6                1   \n",
       "1469                 12                82                  5                0   \n",
       "\n",
       "      DailyRate_cal  YearsAtCompany_cal  TotalWorkingYears_cal  \\\n",
       "1                 5                   0                      0   \n",
       "3                 3                   7                      7   \n",
       "5                 0                   7                      7   \n",
       "6                 3                   8                      1   \n",
       "7                 3                   8                      8   \n",
       "...             ...                 ...                    ...   \n",
       "1465             11                   6                      3   \n",
       "1466              9                   7                      7   \n",
       "1467             13                   6                      6   \n",
       "1468              0                   7                      3   \n",
       "1469              9                   5                      6   \n",
       "\n",
       "      YearsSinceLastPromotion_cal  NumCompaniesWorked_cal  \n",
       "1                               1                       1  \n",
       "3                               3                       1  \n",
       "5                               3                       1  \n",
       "6                               0                       3  \n",
       "7                               0                       1  \n",
       "...                           ...                     ...  \n",
       "1465                            0                       3  \n",
       "1466                            1                       3  \n",
       "1467                            0                       1  \n",
       "1468                            0                       2  \n",
       "1469                            1                       2  \n",
       "\n",
       "[929 rows x 16 columns]"
      ]
     },
     "execution_count": 42,
     "metadata": {},
     "output_type": "execute_result"
    }
   ],
   "source": [
    "df"
   ]
  },
  {
   "cell_type": "code",
   "execution_count": 43,
   "id": "85003948",
   "metadata": {},
   "outputs": [],
   "source": [
    "#converting the int32 columns to int64\n",
    "d = dict.fromkeys(df.select_dtypes(np.int32).columns, np.int64)\n",
    "df = df.astype(d)"
   ]
  },
  {
   "cell_type": "code",
   "execution_count": 44,
   "id": "f924d6e4",
   "metadata": {},
   "outputs": [],
   "source": [
    "df_cpy = df.copy()"
   ]
  },
  {
   "cell_type": "code",
   "execution_count": 45,
   "id": "d3bcc062",
   "metadata": {},
   "outputs": [],
   "source": [
    "#having only the calculated columns in the dataset and assigning the target value to y\n",
    "x = df_cpy.drop([\"PercentSalaryHike\", \"PerformanceScore\", \"MonthlyIncome\", \"MonthlyRate\", \"DailyRate\", \"YearsSinceLastPromotion\", \"YearsAtCompany\", \"TotalWorkingYears\", \"NumCompaniesWorked\"], axis=1)\n",
    "y_psh = df_cpy[\"PercentSalaryHike\"]"
   ]
  },
  {
   "cell_type": "code",
   "execution_count": 46,
   "id": "cd210f9d",
   "metadata": {},
   "outputs": [
    {
     "data": {
      "text/plain": [
       "DecisionTreeRegressor(random_state=0)"
      ]
     },
     "execution_count": 46,
     "metadata": {},
     "output_type": "execute_result"
    }
   ],
   "source": [
    "# splitting the dataset and the target into train and test data.\n",
    "# x - dataset; y_psh - Target column (Performance Salary Hike)\n",
    "x_train, x_test, y_train, y_test = train_test_split(x,y_psh,test_size=0.2,random_state=0)\n",
    "decsRegressor = DecisionTreeRegressor(random_state=0)\n",
    "decsRegressor.fit(x_train, y_train)\n",
    "\n",
    "decsRegressor_Test = DecisionTreeRegressor(random_state=0)\n",
    "decsRegressor_Test.fit(x_test, y_test)"
   ]
  },
  {
   "cell_type": "code",
   "execution_count": null,
   "id": "0ba5c099",
   "metadata": {},
   "outputs": [],
   "source": []
  },
  {
   "cell_type": "code",
   "execution_count": 47,
   "id": "b1c88f51",
   "metadata": {},
   "outputs": [
    {
     "name": "stdout",
     "output_type": "stream",
     "text": [
      "0.9944749262579884\n",
      "1.0\n"
     ]
    }
   ],
   "source": [
    "#Checking the score of model containing training dataset\n",
    "print(decsRegressor.score(x_train,y_train))\n",
    "print(decsRegressor_Test.score(x_test,y_test))\n"
   ]
  },
  {
   "cell_type": "code",
   "execution_count": 48,
   "id": "1d7f71b3",
   "metadata": {
    "scrolled": true
   },
   "outputs": [
    {
     "data": {
      "text/plain": [
       "array([12. , 20. , 15. , 14. , 12. , 14. , 25. , 11. , 16. , 21. , 11. ,\n",
       "       14. , 22. , 13. , 11. , 12. , 17. , 20. , 21. , 12. , 15. , 13. ,\n",
       "       11. , 21. , 12. , 13. , 15. , 18. , 12. , 11. , 17. , 13. , 13. ,\n",
       "       13. , 14. , 20. , 11. , 11. , 22. , 23. , 21. , 14. , 19. , 13. ,\n",
       "       21. , 11. , 12. , 13. , 13. , 15. , 11. , 23. , 13. , 11. , 11. ,\n",
       "       17. , 21. , 12. , 13. , 19. , 17. , 12. , 16. , 13. , 13. , 19. ,\n",
       "       22. , 16. , 11. , 11. , 12. , 12. , 20. , 17. , 21. , 14. , 15. ,\n",
       "       14. , 12. , 18. , 12. , 13. , 21. , 14. , 20. , 25. , 18. , 12. ,\n",
       "       11. , 21. , 23. , 12. , 12. , 11. , 18. , 14. , 21. , 11. , 15. ,\n",
       "       25. , 13. , 16. , 12. , 12. , 13. , 22. , 13. , 15. , 13. , 14. ,\n",
       "       18. , 22. , 14. , 13. , 11.5, 11. , 14. , 15. , 20. , 22. , 11. ,\n",
       "       17. , 13. , 11. , 18. , 15. , 17. , 16. , 11. , 18. , 17. , 12. ,\n",
       "       18. , 14. , 15. , 13. , 19. , 17. , 18. , 13. , 15. , 18. , 11. ,\n",
       "       18. , 21. , 22. , 12. , 18. , 15. , 11. , 13. , 13. , 15. , 14. ,\n",
       "       19. , 15. , 16. , 13. , 13. , 16. , 21. , 12. , 13. , 12. , 16. ,\n",
       "       17. , 12. , 11. , 16. , 13. , 12. , 20. , 16. , 12. , 23. , 11. ,\n",
       "       17. , 19. , 12. , 13. , 21. , 13. , 18. , 12. , 12. , 17. , 15. ,\n",
       "       20. , 15. , 11. , 12. , 14. , 11. , 16. , 12. , 11. , 18. , 24. ,\n",
       "       19. , 15. , 15. , 14. , 15. , 17. , 15. , 16. , 12. , 19. , 12. ,\n",
       "       11. , 12. , 11. , 14. , 11. , 16. , 13. , 13. , 11. , 19. , 21. ,\n",
       "       12. , 12. , 15. , 13. , 13. , 16. , 17. , 15. , 21. , 18. , 11. ,\n",
       "       13. , 14. , 20. , 12. , 16.5, 14. , 12. , 13. , 14. , 19. , 14. ,\n",
       "       11. , 11. , 12. , 15. , 24. , 15. , 12. , 14. , 17. , 20. , 14. ,\n",
       "       22. , 21. , 16. , 24. , 17. , 19. , 14. , 15. , 17. , 14. , 19. ,\n",
       "       19. , 11. , 12. , 18. , 17. , 12. , 19. , 11. , 14. , 13. , 22. ,\n",
       "       13. , 19. , 23. , 14. , 23. , 19. , 14. , 12. , 19. , 12. , 18. ,\n",
       "       22. , 17. , 13. , 11. , 13. , 11. , 12. , 15. , 11. , 14. , 20. ,\n",
       "       14. , 16. , 12. , 17. , 13. , 12. , 19. , 13. , 11. , 22. , 12. ,\n",
       "       12. , 15. , 14. , 14. , 17. , 12. , 21. , 15. , 18. , 13. , 14. ,\n",
       "       13. , 14. , 13. , 22. , 20. , 16. , 17. , 14. , 22. , 17. , 13. ,\n",
       "       18. , 13. , 13. , 18. , 15. , 13. , 11. , 17. , 13. , 12. , 12. ,\n",
       "       11. , 12. , 11. , 11. , 15. , 13. , 16. , 11. , 16. , 13. , 16. ,\n",
       "       13. , 12. , 16. , 11. , 12. , 19. , 12. , 15. , 16. , 16. , 14. ,\n",
       "       17. , 11. , 12. , 16. , 12. , 16. , 11. , 11. , 20. , 11. , 16. ,\n",
       "       11. , 13. , 13. , 22. , 14. , 11. , 23. , 12. , 16. , 22. , 14. ,\n",
       "       15. , 15. , 14. , 14. , 14. , 12. , 21. , 15. , 12. , 12. , 14. ,\n",
       "       14. , 22. , 20. , 18. , 15. , 25. , 20. , 12. , 12. , 14. , 19. ,\n",
       "       11. , 11. , 12. , 16. , 15. , 17. , 13. , 11. , 21. , 11. , 13. ,\n",
       "       15. , 23. , 14. , 13. , 11. , 20. , 17. , 19. , 13. , 17. , 12. ,\n",
       "       14. , 11. , 12. , 14. , 18. , 16. , 14. , 17. , 11. , 13. , 16. ,\n",
       "       12. , 19. , 11. , 20. , 12. , 19. , 16. , 17. , 11. , 19. , 11. ,\n",
       "       18. , 18. , 15. , 18. , 19. , 16. , 14. , 20. , 13. , 14. , 14. ,\n",
       "       12. , 14. , 19. , 21. , 14. , 15. , 19. , 13. , 20. , 19. , 13. ,\n",
       "       14. , 11. , 15. , 14. , 13. , 19. , 14. , 18. , 15. , 12. , 13. ,\n",
       "       12. , 11. , 22. , 13. , 13. , 19. , 14. , 12. , 20. , 14. , 14. ,\n",
       "       19. , 13. , 21. , 22. , 22. , 19. , 13. , 13. , 12. , 11. , 14. ,\n",
       "       19. , 12. , 25. , 13. , 14. , 19. , 13. , 20. , 11. , 18. , 16. ,\n",
       "       14. , 18. , 12. , 13. , 11. , 12. , 11. , 14. , 12. , 20. , 12. ,\n",
       "       16.5, 21. , 14. , 15. , 23. , 11. , 18. , 13. , 12. , 14. , 14. ,\n",
       "       14. , 22. , 18. , 15. , 12. , 12. , 14. , 14. , 17. , 19. , 23. ,\n",
       "       12. , 15. , 13. , 15. , 14. , 13. , 12. , 17. , 18. , 19. , 17. ,\n",
       "       14. , 18. , 20. , 16. , 14. , 23. , 12. , 17. , 20. , 17. , 13. ,\n",
       "       13. , 13. , 13. , 14. , 19. , 12. , 14. , 17. , 13. , 12. , 13. ,\n",
       "       15. , 14. , 18. , 12. , 13. , 14. , 12. , 14. , 21. , 12. , 13. ,\n",
       "       20. , 20. , 15. , 12. , 17. , 14. , 11. , 22. , 21. , 15. , 23. ,\n",
       "       14. , 22. , 17. , 22. , 15. , 16. , 14. , 14. , 15. , 14. , 11. ,\n",
       "       13. , 17. , 12. , 19. , 16. , 12. , 24. , 13. , 19. , 11.5, 11. ,\n",
       "       15. , 11. , 11. , 16. , 20. , 18. , 11. , 15. , 12. , 13. , 17. ,\n",
       "       24. , 21. , 12. , 18. , 11. , 12. , 19. , 13. , 17. , 18. , 12. ,\n",
       "       12. , 15. , 20. , 22. , 14. , 20. , 16. , 13. , 11. , 22. , 11. ,\n",
       "       18. , 14. , 18. , 18. , 14. , 11. , 11. , 21. , 20. , 20. , 11. ,\n",
       "       13. , 17. , 13. , 14. , 14. , 17. , 15. , 16. , 21. , 23. , 18. ,\n",
       "       19. , 18. , 21. , 11. , 13. , 14. , 12. , 14. , 12. , 15. , 18. ,\n",
       "       20. , 18. , 14. , 14. , 13. , 14. , 14. , 25. , 13. , 12. , 18. ,\n",
       "       18. , 12. , 13. , 20. , 21. , 13. , 14. , 12. , 12. , 13. , 15. ,\n",
       "       15. , 14. , 12. , 14. , 18. , 17. , 11. , 13. , 15. , 23. , 14. ,\n",
       "       11. , 22. , 22. , 13. , 13. , 14. , 13. , 13. , 17. , 13. , 13. ,\n",
       "       14. , 13. , 15. , 17. , 11. , 12. ])"
      ]
     },
     "execution_count": 48,
     "metadata": {},
     "output_type": "execute_result"
    }
   ],
   "source": [
    "#gettting predictions according to the trained model\n",
    "y_predict = decsRegressor.predict(x_train)\n",
    "y_predict"
   ]
  },
  {
   "cell_type": "code",
   "execution_count": 49,
   "id": "30701564",
   "metadata": {},
   "outputs": [
    {
     "data": {
      "text/plain": [
       "array([12., 22., 13., 16., 13., 11., 25., 18., 12., 21., 25., 19., 11.,\n",
       "       21., 17., 14., 15., 20., 11., 19., 19., 11., 20., 25., 13., 12.,\n",
       "       12., 19., 14., 16., 13., 11., 20., 14., 16., 11., 14., 20., 11.,\n",
       "       13., 12., 14., 24., 11., 19., 14., 12., 11., 14., 12., 11., 13.,\n",
       "       18., 21., 17., 24., 14., 13., 11., 17., 11., 19., 19., 12., 22.,\n",
       "       18., 13., 13., 13., 13., 14., 12., 11., 24., 17., 16., 11., 14.,\n",
       "       22., 12., 13., 12., 14., 12., 11., 19., 20., 17., 14., 18., 15.,\n",
       "       12., 22., 17., 20., 12., 16., 13., 11., 23., 17., 19., 17., 13.,\n",
       "       14., 14., 18., 14., 14., 24., 16., 14., 22., 11., 18., 12., 13.,\n",
       "       16., 14., 14., 13., 11., 14., 14., 13., 12., 18., 13., 11., 13.,\n",
       "       18., 15., 19., 13., 13., 13., 11., 14., 14., 21., 16., 11., 18.,\n",
       "       14., 22., 18., 16., 19., 11., 11., 16., 13., 13., 18., 12., 18.,\n",
       "       19., 15., 11., 13., 11., 14., 15., 15., 25., 13., 14., 16., 11.,\n",
       "       11., 12., 16., 21., 14., 23., 18., 19., 17., 20., 13., 13., 14.,\n",
       "       13., 11., 12., 14.])"
      ]
     },
     "execution_count": 49,
     "metadata": {},
     "output_type": "execute_result"
    }
   ],
   "source": [
    "#gettting predictions according to the test model\n",
    "y_predict_test = decsRegressor_Test.predict(x_test)\n",
    "y_predict_test"
   ]
  },
  {
   "cell_type": "code",
   "execution_count": 50,
   "id": "295c55b3",
   "metadata": {},
   "outputs": [
    {
     "name": "stdout",
     "output_type": "stream",
     "text": [
      "929\n"
     ]
    }
   ],
   "source": [
    "predictions = decsRegressor.predict(x)\n",
    "print(len(predictions))\n",
    "dfExport[\"Prediction_PercentSalaryHike\"] = predictions"
   ]
  },
  {
   "cell_type": "code",
   "execution_count": 51,
   "id": "c4e79ba8",
   "metadata": {},
   "outputs": [
    {
     "name": "stdout",
     "output_type": "stream",
     "text": [
      "11.0\n",
      "25.0\n"
     ]
    }
   ],
   "source": [
    "#Check Maximum and Minimum value in PerformanceScore column\n",
    "print(dfExport[\"Prediction_PercentSalaryHike\"].min())\n",
    "print(dfExport[\"Prediction_PercentSalaryHike\"].max())"
   ]
  },
  {
   "cell_type": "code",
   "execution_count": 52,
   "id": "e7ff5f5d",
   "metadata": {},
   "outputs": [
    {
     "data": {
      "text/html": [
       "<div>\n",
       "<style scoped>\n",
       "    .dataframe tbody tr th:only-of-type {\n",
       "        vertical-align: middle;\n",
       "    }\n",
       "\n",
       "    .dataframe tbody tr th {\n",
       "        vertical-align: top;\n",
       "    }\n",
       "\n",
       "    .dataframe thead th {\n",
       "        text-align: right;\n",
       "    }\n",
       "</style>\n",
       "<table border=\"1\" class=\"dataframe\">\n",
       "  <thead>\n",
       "    <tr style=\"text-align: right;\">\n",
       "      <th></th>\n",
       "      <th>MonthlyIncome</th>\n",
       "      <th>MonthlyRate</th>\n",
       "      <th>DailyRate</th>\n",
       "      <th>YearsSinceLastPromotion</th>\n",
       "      <th>YearsAtCompany</th>\n",
       "      <th>TotalWorkingYears</th>\n",
       "      <th>NumCompaniesWorked</th>\n",
       "      <th>PercentSalaryHike</th>\n",
       "      <th>PerformanceScore</th>\n",
       "      <th>MonthlyIncome_cal</th>\n",
       "      <th>MonthlyRate_cal</th>\n",
       "      <th>DailyRate_cal</th>\n",
       "      <th>YearsAtCompany_cal</th>\n",
       "      <th>TotalWorkingYears_cal</th>\n",
       "      <th>YearsSinceLastPromotion_cal</th>\n",
       "      <th>NumCompaniesWorked_cal</th>\n",
       "      <th>Prediction_PercentSalaryHike</th>\n",
       "      <th>Prediction_PercentSalaryHike_cal</th>\n",
       "    </tr>\n",
       "  </thead>\n",
       "  <tbody>\n",
       "    <tr>\n",
       "      <th>1</th>\n",
       "      <td>5130</td>\n",
       "      <td>24907</td>\n",
       "      <td>279</td>\n",
       "      <td>1</td>\n",
       "      <td>10</td>\n",
       "      <td>10</td>\n",
       "      <td>1</td>\n",
       "      <td>23</td>\n",
       "      <td>61</td>\n",
       "      <td>4500 &amp; above</td>\n",
       "      <td>22500 &amp; above</td>\n",
       "      <td>200 &amp; above</td>\n",
       "      <td>More than 10 years</td>\n",
       "      <td>More than 10 years</td>\n",
       "      <td>less than 2 years</td>\n",
       "      <td>less than 2</td>\n",
       "      <td>23.0</td>\n",
       "      <td>&gt;22</td>\n",
       "    </tr>\n",
       "    <tr>\n",
       "      <th>3</th>\n",
       "      <td>2909</td>\n",
       "      <td>23159</td>\n",
       "      <td>1392</td>\n",
       "      <td>3</td>\n",
       "      <td>8</td>\n",
       "      <td>8</td>\n",
       "      <td>1</td>\n",
       "      <td>11</td>\n",
       "      <td>56</td>\n",
       "      <td>2500 &amp; above</td>\n",
       "      <td>22500 &amp; above</td>\n",
       "      <td>1300 &amp; above</td>\n",
       "      <td>More than 7 years</td>\n",
       "      <td>More than 7 years</td>\n",
       "      <td>less than 4 years</td>\n",
       "      <td>less than 2</td>\n",
       "      <td>11.0</td>\n",
       "      <td>&lt;13</td>\n",
       "    </tr>\n",
       "    <tr>\n",
       "      <th>5</th>\n",
       "      <td>3068</td>\n",
       "      <td>11864</td>\n",
       "      <td>1005</td>\n",
       "      <td>3</td>\n",
       "      <td>7</td>\n",
       "      <td>8</td>\n",
       "      <td>0</td>\n",
       "      <td>13</td>\n",
       "      <td>79</td>\n",
       "      <td>2500 &amp; above</td>\n",
       "      <td>10000 &amp; above</td>\n",
       "      <td>1000 &amp; above</td>\n",
       "      <td>More than 7 years</td>\n",
       "      <td>More than 7 years</td>\n",
       "      <td>less than 4 years</td>\n",
       "      <td>less than 2</td>\n",
       "      <td>14.0</td>\n",
       "      <td>13-15</td>\n",
       "    </tr>\n",
       "    <tr>\n",
       "      <th>6</th>\n",
       "      <td>2670</td>\n",
       "      <td>9964</td>\n",
       "      <td>1324</td>\n",
       "      <td>0</td>\n",
       "      <td>1</td>\n",
       "      <td>12</td>\n",
       "      <td>4</td>\n",
       "      <td>20</td>\n",
       "      <td>81</td>\n",
       "      <td>2500 &amp; above</td>\n",
       "      <td>7500 &amp; above</td>\n",
       "      <td>1300 &amp; above</td>\n",
       "      <td>less than 2 years</td>\n",
       "      <td>More than 12 years</td>\n",
       "      <td>less than 1 year</td>\n",
       "      <td>less than 6</td>\n",
       "      <td>20.0</td>\n",
       "      <td>20-22</td>\n",
       "    </tr>\n",
       "    <tr>\n",
       "      <th>7</th>\n",
       "      <td>2693</td>\n",
       "      <td>13335</td>\n",
       "      <td>1358</td>\n",
       "      <td>0</td>\n",
       "      <td>1</td>\n",
       "      <td>1</td>\n",
       "      <td>1</td>\n",
       "      <td>22</td>\n",
       "      <td>67</td>\n",
       "      <td>2500 &amp; above</td>\n",
       "      <td>12500 &amp; above</td>\n",
       "      <td>1300 &amp; above</td>\n",
       "      <td>less than 2 years</td>\n",
       "      <td>less than 2 years</td>\n",
       "      <td>less than 1 year</td>\n",
       "      <td>less than 2</td>\n",
       "      <td>22.0</td>\n",
       "      <td>&gt;22</td>\n",
       "    </tr>\n",
       "  </tbody>\n",
       "</table>\n",
       "</div>"
      ],
      "text/plain": [
       "   MonthlyIncome  MonthlyRate  DailyRate  YearsSinceLastPromotion  \\\n",
       "1           5130        24907        279                        1   \n",
       "3           2909        23159       1392                        3   \n",
       "5           3068        11864       1005                        3   \n",
       "6           2670         9964       1324                        0   \n",
       "7           2693        13335       1358                        0   \n",
       "\n",
       "   YearsAtCompany  TotalWorkingYears  NumCompaniesWorked  PercentSalaryHike  \\\n",
       "1              10                 10                   1                 23   \n",
       "3               8                  8                   1                 11   \n",
       "5               7                  8                   0                 13   \n",
       "6               1                 12                   4                 20   \n",
       "7               1                  1                   1                 22   \n",
       "\n",
       "   PerformanceScore MonthlyIncome_cal MonthlyRate_cal DailyRate_cal  \\\n",
       "1                61      4500 & above   22500 & above   200 & above   \n",
       "3                56      2500 & above   22500 & above  1300 & above   \n",
       "5                79      2500 & above   10000 & above  1000 & above   \n",
       "6                81      2500 & above    7500 & above  1300 & above   \n",
       "7                67      2500 & above   12500 & above  1300 & above   \n",
       "\n",
       "   YearsAtCompany_cal TotalWorkingYears_cal YearsSinceLastPromotion_cal  \\\n",
       "1  More than 10 years    More than 10 years           less than 2 years   \n",
       "3   More than 7 years     More than 7 years           less than 4 years   \n",
       "5   More than 7 years     More than 7 years           less than 4 years   \n",
       "6   less than 2 years    More than 12 years            less than 1 year   \n",
       "7   less than 2 years     less than 2 years            less than 1 year   \n",
       "\n",
       "  NumCompaniesWorked_cal  Prediction_PercentSalaryHike  \\\n",
       "1            less than 2                          23.0   \n",
       "3            less than 2                          11.0   \n",
       "5            less than 2                          14.0   \n",
       "6            less than 6                          20.0   \n",
       "7            less than 2                          22.0   \n",
       "\n",
       "  Prediction_PercentSalaryHike_cal  \n",
       "1                              >22  \n",
       "3                              <13  \n",
       "5                            13-15  \n",
       "6                            20-22  \n",
       "7                              >22  "
      ]
     },
     "execution_count": 52,
     "metadata": {},
     "output_type": "execute_result"
    }
   ],
   "source": [
    "#Simplifying and grouping the Prediction_PercentSalaryHike column\n",
    "conditions = [\n",
    "    (dfExport['Prediction_PercentSalaryHike'] < 13),\n",
    "    (dfExport['Prediction_PercentSalaryHike'] >= 13) & (dfExport['Prediction_PercentSalaryHike'] < 15),\n",
    "    (dfExport['Prediction_PercentSalaryHike'] >= 15) & (dfExport['Prediction_PercentSalaryHike'] < 17),\n",
    "    (dfExport['Prediction_PercentSalaryHike'] >= 17) & (dfExport['Prediction_PercentSalaryHike'] < 20),\n",
    "    (dfExport['Prediction_PercentSalaryHike'] >= 20) & (dfExport['Prediction_PercentSalaryHike'] < 22),\n",
    "    (dfExport['Prediction_PercentSalaryHike'] >= 22) \n",
    "    ]\n",
    "\n",
    "values = ['<13', '13-15', '15-17', '17-20', '20-22', '>22']\n",
    "\n",
    "#adding the simplified column to a new calculated column\n",
    "dfExport['Prediction_PercentSalaryHike_cal'] = np.select(conditions, values)\n",
    "dfExport.head()"
   ]
  },
  {
   "cell_type": "code",
   "execution_count": 53,
   "id": "40d12ab4",
   "metadata": {},
   "outputs": [
    {
     "name": "stdout",
     "output_type": "stream",
     "text": [
      "0.9944749262579884\n",
      "1.0\n"
     ]
    }
   ],
   "source": [
    "r2score_Train = r2_score(y_train, y_predict)\n",
    "print(r2score_Train)\n",
    "\n",
    "r2score_Test= r2_score(y_test, y_predict_test)\n",
    "print(r2score_Test)"
   ]
  },
  {
   "cell_type": "code",
   "execution_count": 54,
   "id": "93bd2a5c",
   "metadata": {},
   "outputs": [],
   "source": [
    "import sklearn.metrics as metrics\n",
    "def regression_results(y_true, y_pred):\n",
    "\n",
    "    # Regression metrics\n",
    "    explained_variance=metrics.explained_variance_score(y_true, y_pred)\n",
    "    mean_absolute_error=metrics.mean_absolute_error(y_true, y_pred) \n",
    "    mse=metrics.mean_squared_error(y_true, y_pred) \n",
    "    mean_squared_log_error=metrics.mean_squared_log_error(y_true, y_pred)\n",
    "    median_absolute_error=metrics.median_absolute_error(y_true, y_pred)\n",
    "    r2=metrics.r2_score(y_true, y_pred)\n",
    "\n",
    "    print('explained_variance: ', round(explained_variance,4))    \n",
    "    print('mean_squared_log_error: ', round(mean_squared_log_error,4))\n",
    "    print('r2: ', round(r2,4))\n",
    "    print('MAE: ', round(mean_absolute_error,4))\n",
    "    print('MSE: ', round(mse,4))\n",
    "    print('RMSE: ', round(np.sqrt(mse),4))"
   ]
  },
  {
   "cell_type": "code",
   "execution_count": 55,
   "id": "7e1af9ad",
   "metadata": {},
   "outputs": [
    {
     "name": "stdout",
     "output_type": "stream",
     "text": [
      "Training Dataset Results:\n",
      "explained_variance:  0.9945\n",
      "mean_squared_log_error:  0.0003\n",
      "r2:  0.9945\n",
      "MAE:  0.0215\n",
      "MSE:  0.0686\n",
      "RMSE:  0.262\n",
      "Training Dataset Results:\n",
      "explained_variance:  1.0\n",
      "mean_squared_log_error:  0.0\n",
      "r2:  1.0\n",
      "MAE:  0.0\n",
      "MSE:  0.0\n",
      "RMSE:  0.0\n"
     ]
    }
   ],
   "source": [
    "print(\"Training Dataset Results:\")\n",
    "regression_results(y_train, y_predict)\n",
    "print(\"Training Dataset Results:\")\n",
    "regression_results(y_test, y_predict_test)"
   ]
  },
  {
   "cell_type": "code",
   "execution_count": 56,
   "id": "b69d5be7",
   "metadata": {},
   "outputs": [
    {
     "name": "stdout",
     "output_type": "stream",
     "text": [
      "<class 'pandas.core.frame.DataFrame'>\n",
      "Int64Index: 929 entries, 1 to 1469\n",
      "Data columns (total 7 columns):\n",
      " #   Column                       Non-Null Count  Dtype\n",
      "---  ------                       --------------  -----\n",
      " 0   MonthlyIncome_cal            929 non-null    int64\n",
      " 1   MonthlyRate_cal              929 non-null    int64\n",
      " 2   DailyRate_cal                929 non-null    int64\n",
      " 3   YearsAtCompany_cal           929 non-null    int64\n",
      " 4   TotalWorkingYears_cal        929 non-null    int64\n",
      " 5   YearsSinceLastPromotion_cal  929 non-null    int64\n",
      " 6   NumCompaniesWorked_cal       929 non-null    int64\n",
      "dtypes: int64(7)\n",
      "memory usage: 58.1 KB\n"
     ]
    }
   ],
   "source": [
    "x.info()"
   ]
  },
  {
   "cell_type": "code",
   "execution_count": 57,
   "id": "c5fa0a18",
   "metadata": {},
   "outputs": [
    {
     "data": {
      "text/plain": [
       "array([['7500 & above', 'less than 2500', '1100 & above',\n",
       "        'More than 5 years', 'More than 5 years', 'less than 4 years',\n",
       "        'less than 4']], dtype='<U17')"
      ]
     },
     "execution_count": 57,
     "metadata": {},
     "output_type": "execute_result"
    }
   ],
   "source": [
    "x = np.array([[\"7500 & above\", \"less than 2500\", \"1100 & above\", \"More than 5 years\", \"More than 5 years\", \"less than 4 years\", \"less than 4\" ]])\n",
    "x"
   ]
  },
  {
   "cell_type": "code",
   "execution_count": 58,
   "id": "5efb13b8",
   "metadata": {},
   "outputs": [
    {
     "data": {
      "text/plain": [
       "array([[ 9., 10.,  1.,  6.,  6.,  3.,  2.]])"
      ]
     },
     "execution_count": 58,
     "metadata": {},
     "output_type": "execute_result"
    }
   ],
   "source": [
    "x[:, 0] = lblMonthlyIncome.transform(x[:, 0])\n",
    "x[:, 1] = lblMonthlyRate.transform(x[:, 1])\n",
    "x[:, 2] = lblDailyRate.transform(x[:, 2])\n",
    "x[:, 3] = lblYearsAtCompany.transform(x[:, 3])\n",
    "x[:, 4] = lblTotWorkYear.transform(x[:, 4])\n",
    "x[:, 5] = lblYearsSinceLastPromotion.transform(x[:, 5])\n",
    "x[:, 6] = lblNumCompaniesWorked.transform(x[:, 6])\n",
    "\n",
    "x =  x.astype(float)\n",
    "x"
   ]
  },
  {
   "cell_type": "code",
   "execution_count": 59,
   "id": "f20498a5",
   "metadata": {},
   "outputs": [
    {
     "data": {
      "text/plain": [
       "array([14.])"
      ]
     },
     "execution_count": 59,
     "metadata": {},
     "output_type": "execute_result"
    }
   ],
   "source": [
    "y_pred = decsRegressor_Test.predict(x)\n",
    "y_pred"
   ]
  },
  {
   "cell_type": "code",
   "execution_count": 60,
   "id": "114b83f3",
   "metadata": {},
   "outputs": [],
   "source": [
    "import pickle\n",
    "\n",
    "data = {\"model\":decsRegressor_Test, \"lblMonthlyIncome\": lblMonthlyIncome, \"lblMonthlyRate\": lblMonthlyRate, \n",
    "        \"lblDailyRate\": lblDailyRate, \"lblYearsAtCompany\": lblYearsAtCompany, \"lblTotWorkYear\": lblTotWorkYear, \n",
    "        \"lblYearsSinceLastPromotion\": lblYearsSinceLastPromotion, \"lblNumCompaniesWorked\": lblNumCompaniesWorked} \n",
    "with open('EEP_MLScript_PercentSalaryHike.pkl', 'wb') as file:\n",
    "    pickle.dump(data, file)"
   ]
  },
  {
   "cell_type": "code",
   "execution_count": 61,
   "id": "277aa2f8",
   "metadata": {},
   "outputs": [
    {
     "data": {
      "text/plain": [
       "array([14.])"
      ]
     },
     "execution_count": 61,
     "metadata": {},
     "output_type": "execute_result"
    }
   ],
   "source": [
    "with open('EEP_MLScript_PercentSalaryHike.pkl', 'rb') as file:\n",
    "    data = pickle.load(file)\n",
    "    \n",
    "regressor_loaded = data[\"model\"]\n",
    "lblMonthlyIncome = data[\"lblMonthlyIncome\"]\n",
    "lblMonthlyRate = data[\"lblMonthlyRate\"]\n",
    "lblDailyRate = data[\"lblDailyRate\"]\n",
    "lblYearsAtCompany = data[\"lblYearsAtCompany\"]\n",
    "lblTotWorkYear = data[\"lblTotWorkYear\"]\n",
    "lblYearsSinceLastPromotion = data[\"lblYearsSinceLastPromotion\"]\n",
    "lblNumCompaniesWorked = data[\"lblNumCompaniesWorked\"]\n",
    "\n",
    "y_pred = regressor_loaded.predict(x)\n",
    "y_pred"
   ]
  },
  {
   "cell_type": "code",
   "execution_count": null,
   "id": "9a511fd9",
   "metadata": {},
   "outputs": [],
   "source": []
  },
  {
   "cell_type": "code",
   "execution_count": 62,
   "id": "4c6317b5",
   "metadata": {},
   "outputs": [
    {
     "data": {
      "text/html": [
       "<div>\n",
       "<style scoped>\n",
       "    .dataframe tbody tr th:only-of-type {\n",
       "        vertical-align: middle;\n",
       "    }\n",
       "\n",
       "    .dataframe tbody tr th {\n",
       "        vertical-align: top;\n",
       "    }\n",
       "\n",
       "    .dataframe thead th {\n",
       "        text-align: right;\n",
       "    }\n",
       "</style>\n",
       "<table border=\"1\" class=\"dataframe\">\n",
       "  <thead>\n",
       "    <tr style=\"text-align: right;\">\n",
       "      <th></th>\n",
       "      <th>MonthlyIncome</th>\n",
       "      <th>MonthlyRate</th>\n",
       "      <th>DailyRate</th>\n",
       "      <th>YearsSinceLastPromotion</th>\n",
       "      <th>YearsAtCompany</th>\n",
       "      <th>TotalWorkingYears</th>\n",
       "      <th>NumCompaniesWorked</th>\n",
       "      <th>PercentSalaryHike</th>\n",
       "      <th>PerformanceScore</th>\n",
       "      <th>MonthlyIncome_cal</th>\n",
       "      <th>MonthlyRate_cal</th>\n",
       "      <th>DailyRate_cal</th>\n",
       "      <th>YearsAtCompany_cal</th>\n",
       "      <th>TotalWorkingYears_cal</th>\n",
       "      <th>YearsSinceLastPromotion_cal</th>\n",
       "      <th>NumCompaniesWorked_cal</th>\n",
       "    </tr>\n",
       "  </thead>\n",
       "  <tbody>\n",
       "    <tr>\n",
       "      <th>1</th>\n",
       "      <td>5130</td>\n",
       "      <td>24907</td>\n",
       "      <td>279</td>\n",
       "      <td>1</td>\n",
       "      <td>10</td>\n",
       "      <td>10</td>\n",
       "      <td>1</td>\n",
       "      <td>23</td>\n",
       "      <td>61</td>\n",
       "      <td>6</td>\n",
       "      <td>5</td>\n",
       "      <td>5</td>\n",
       "      <td>0</td>\n",
       "      <td>0</td>\n",
       "      <td>1</td>\n",
       "      <td>1</td>\n",
       "    </tr>\n",
       "    <tr>\n",
       "      <th>3</th>\n",
       "      <td>2909</td>\n",
       "      <td>23159</td>\n",
       "      <td>1392</td>\n",
       "      <td>3</td>\n",
       "      <td>8</td>\n",
       "      <td>8</td>\n",
       "      <td>1</td>\n",
       "      <td>11</td>\n",
       "      <td>56</td>\n",
       "      <td>4</td>\n",
       "      <td>5</td>\n",
       "      <td>3</td>\n",
       "      <td>7</td>\n",
       "      <td>7</td>\n",
       "      <td>3</td>\n",
       "      <td>1</td>\n",
       "    </tr>\n",
       "    <tr>\n",
       "      <th>5</th>\n",
       "      <td>3068</td>\n",
       "      <td>11864</td>\n",
       "      <td>1005</td>\n",
       "      <td>3</td>\n",
       "      <td>7</td>\n",
       "      <td>8</td>\n",
       "      <td>0</td>\n",
       "      <td>13</td>\n",
       "      <td>79</td>\n",
       "      <td>4</td>\n",
       "      <td>0</td>\n",
       "      <td>0</td>\n",
       "      <td>7</td>\n",
       "      <td>7</td>\n",
       "      <td>3</td>\n",
       "      <td>1</td>\n",
       "    </tr>\n",
       "    <tr>\n",
       "      <th>6</th>\n",
       "      <td>2670</td>\n",
       "      <td>9964</td>\n",
       "      <td>1324</td>\n",
       "      <td>0</td>\n",
       "      <td>1</td>\n",
       "      <td>12</td>\n",
       "      <td>4</td>\n",
       "      <td>20</td>\n",
       "      <td>81</td>\n",
       "      <td>4</td>\n",
       "      <td>9</td>\n",
       "      <td>3</td>\n",
       "      <td>8</td>\n",
       "      <td>1</td>\n",
       "      <td>0</td>\n",
       "      <td>3</td>\n",
       "    </tr>\n",
       "    <tr>\n",
       "      <th>7</th>\n",
       "      <td>2693</td>\n",
       "      <td>13335</td>\n",
       "      <td>1358</td>\n",
       "      <td>0</td>\n",
       "      <td>1</td>\n",
       "      <td>1</td>\n",
       "      <td>1</td>\n",
       "      <td>22</td>\n",
       "      <td>67</td>\n",
       "      <td>4</td>\n",
       "      <td>1</td>\n",
       "      <td>3</td>\n",
       "      <td>8</td>\n",
       "      <td>8</td>\n",
       "      <td>0</td>\n",
       "      <td>1</td>\n",
       "    </tr>\n",
       "    <tr>\n",
       "      <th>...</th>\n",
       "      <td>...</td>\n",
       "      <td>...</td>\n",
       "      <td>...</td>\n",
       "      <td>...</td>\n",
       "      <td>...</td>\n",
       "      <td>...</td>\n",
       "      <td>...</td>\n",
       "      <td>...</td>\n",
       "      <td>...</td>\n",
       "      <td>...</td>\n",
       "      <td>...</td>\n",
       "      <td>...</td>\n",
       "      <td>...</td>\n",
       "      <td>...</td>\n",
       "      <td>...</td>\n",
       "      <td>...</td>\n",
       "    </tr>\n",
       "    <tr>\n",
       "      <th>1465</th>\n",
       "      <td>2571</td>\n",
       "      <td>12290</td>\n",
       "      <td>884</td>\n",
       "      <td>0</td>\n",
       "      <td>5</td>\n",
       "      <td>17</td>\n",
       "      <td>4</td>\n",
       "      <td>17</td>\n",
       "      <td>41</td>\n",
       "      <td>4</td>\n",
       "      <td>0</td>\n",
       "      <td>11</td>\n",
       "      <td>6</td>\n",
       "      <td>3</td>\n",
       "      <td>0</td>\n",
       "      <td>3</td>\n",
       "    </tr>\n",
       "    <tr>\n",
       "      <th>1466</th>\n",
       "      <td>9991</td>\n",
       "      <td>21457</td>\n",
       "      <td>613</td>\n",
       "      <td>1</td>\n",
       "      <td>7</td>\n",
       "      <td>9</td>\n",
       "      <td>4</td>\n",
       "      <td>15</td>\n",
       "      <td>42</td>\n",
       "      <td>11</td>\n",
       "      <td>4</td>\n",
       "      <td>9</td>\n",
       "      <td>7</td>\n",
       "      <td>7</td>\n",
       "      <td>1</td>\n",
       "      <td>3</td>\n",
       "    </tr>\n",
       "    <tr>\n",
       "      <th>1467</th>\n",
       "      <td>6142</td>\n",
       "      <td>5174</td>\n",
       "      <td>155</td>\n",
       "      <td>0</td>\n",
       "      <td>6</td>\n",
       "      <td>6</td>\n",
       "      <td>1</td>\n",
       "      <td>20</td>\n",
       "      <td>87</td>\n",
       "      <td>7</td>\n",
       "      <td>8</td>\n",
       "      <td>13</td>\n",
       "      <td>6</td>\n",
       "      <td>6</td>\n",
       "      <td>0</td>\n",
       "      <td>1</td>\n",
       "    </tr>\n",
       "    <tr>\n",
       "      <th>1468</th>\n",
       "      <td>5390</td>\n",
       "      <td>13243</td>\n",
       "      <td>1023</td>\n",
       "      <td>0</td>\n",
       "      <td>9</td>\n",
       "      <td>17</td>\n",
       "      <td>2</td>\n",
       "      <td>14</td>\n",
       "      <td>63</td>\n",
       "      <td>6</td>\n",
       "      <td>1</td>\n",
       "      <td>0</td>\n",
       "      <td>7</td>\n",
       "      <td>3</td>\n",
       "      <td>0</td>\n",
       "      <td>2</td>\n",
       "    </tr>\n",
       "    <tr>\n",
       "      <th>1469</th>\n",
       "      <td>4404</td>\n",
       "      <td>10228</td>\n",
       "      <td>628</td>\n",
       "      <td>1</td>\n",
       "      <td>4</td>\n",
       "      <td>6</td>\n",
       "      <td>2</td>\n",
       "      <td>12</td>\n",
       "      <td>82</td>\n",
       "      <td>5</td>\n",
       "      <td>0</td>\n",
       "      <td>9</td>\n",
       "      <td>5</td>\n",
       "      <td>6</td>\n",
       "      <td>1</td>\n",
       "      <td>2</td>\n",
       "    </tr>\n",
       "  </tbody>\n",
       "</table>\n",
       "<p>929 rows × 16 columns</p>\n",
       "</div>"
      ],
      "text/plain": [
       "      MonthlyIncome  MonthlyRate  DailyRate  YearsSinceLastPromotion  \\\n",
       "1              5130        24907        279                        1   \n",
       "3              2909        23159       1392                        3   \n",
       "5              3068        11864       1005                        3   \n",
       "6              2670         9964       1324                        0   \n",
       "7              2693        13335       1358                        0   \n",
       "...             ...          ...        ...                      ...   \n",
       "1465           2571        12290        884                        0   \n",
       "1466           9991        21457        613                        1   \n",
       "1467           6142         5174        155                        0   \n",
       "1468           5390        13243       1023                        0   \n",
       "1469           4404        10228        628                        1   \n",
       "\n",
       "      YearsAtCompany  TotalWorkingYears  NumCompaniesWorked  \\\n",
       "1                 10                 10                   1   \n",
       "3                  8                  8                   1   \n",
       "5                  7                  8                   0   \n",
       "6                  1                 12                   4   \n",
       "7                  1                  1                   1   \n",
       "...              ...                ...                 ...   \n",
       "1465               5                 17                   4   \n",
       "1466               7                  9                   4   \n",
       "1467               6                  6                   1   \n",
       "1468               9                 17                   2   \n",
       "1469               4                  6                   2   \n",
       "\n",
       "      PercentSalaryHike  PerformanceScore  MonthlyIncome_cal  MonthlyRate_cal  \\\n",
       "1                    23                61                  6                5   \n",
       "3                    11                56                  4                5   \n",
       "5                    13                79                  4                0   \n",
       "6                    20                81                  4                9   \n",
       "7                    22                67                  4                1   \n",
       "...                 ...               ...                ...              ...   \n",
       "1465                 17                41                  4                0   \n",
       "1466                 15                42                 11                4   \n",
       "1467                 20                87                  7                8   \n",
       "1468                 14                63                  6                1   \n",
       "1469                 12                82                  5                0   \n",
       "\n",
       "      DailyRate_cal  YearsAtCompany_cal  TotalWorkingYears_cal  \\\n",
       "1                 5                   0                      0   \n",
       "3                 3                   7                      7   \n",
       "5                 0                   7                      7   \n",
       "6                 3                   8                      1   \n",
       "7                 3                   8                      8   \n",
       "...             ...                 ...                    ...   \n",
       "1465             11                   6                      3   \n",
       "1466              9                   7                      7   \n",
       "1467             13                   6                      6   \n",
       "1468              0                   7                      3   \n",
       "1469              9                   5                      6   \n",
       "\n",
       "      YearsSinceLastPromotion_cal  NumCompaniesWorked_cal  \n",
       "1                               1                       1  \n",
       "3                               3                       1  \n",
       "5                               3                       1  \n",
       "6                               0                       3  \n",
       "7                               0                       1  \n",
       "...                           ...                     ...  \n",
       "1465                            0                       3  \n",
       "1466                            1                       3  \n",
       "1467                            0                       1  \n",
       "1468                            0                       2  \n",
       "1469                            1                       2  \n",
       "\n",
       "[929 rows x 16 columns]"
      ]
     },
     "execution_count": 62,
     "metadata": {},
     "output_type": "execute_result"
    }
   ],
   "source": [
    "df_cpy2 = df.copy()\n",
    "df_cpy2"
   ]
  },
  {
   "cell_type": "code",
   "execution_count": 63,
   "id": "c180ccf0",
   "metadata": {},
   "outputs": [],
   "source": [
    "x = df_cpy2.drop([\"PercentSalaryHike\", \"PerformanceScore\", \"MonthlyIncome\", \"MonthlyRate\", \"DailyRate\", \"YearsSinceLastPromotion\", \"YearsAtCompany\", \"TotalWorkingYears\", \"NumCompaniesWorked\" ], axis=1)\n",
    "y_psc = df_cpy2[\"PerformanceScore\"]"
   ]
  },
  {
   "cell_type": "code",
   "execution_count": 64,
   "id": "ad4e52bc",
   "metadata": {},
   "outputs": [
    {
     "data": {
      "text/plain": [
       "DecisionTreeRegressor(random_state=0)"
      ]
     },
     "execution_count": 64,
     "metadata": {},
     "output_type": "execute_result"
    }
   ],
   "source": [
    "# split data into training and testing datasets\n",
    "# y_psc- target column (Performance Score)\n",
    "x_train_psc, x_test_psc, y_train_psc, y_test_psc = train_test_split(x,y_psc,test_size=0.2,random_state=0)\n",
    "decsRegressor = DecisionTreeRegressor(random_state=0)\n",
    "decsRegressor.fit(x_train_psc, y_train_psc)\n",
    "\n",
    "decsRegressor_Test = DecisionTreeRegressor(random_state=0)\n",
    "decsRegressor_Test.fit(x_test_psc, y_test_psc)"
   ]
  },
  {
   "cell_type": "code",
   "execution_count": 65,
   "id": "741b7292",
   "metadata": {},
   "outputs": [
    {
     "name": "stdout",
     "output_type": "stream",
     "text": [
      "0.9984312627563712\n",
      "1.0\n"
     ]
    }
   ],
   "source": [
    "#Checking the score of model containing training dataset\n",
    "print(decsRegressor.score(x_train_psc,y_train_psc))\n",
    "print(decsRegressor_Test.score(x_test_psc,y_test_psc))"
   ]
  },
  {
   "cell_type": "code",
   "execution_count": 66,
   "id": "01ff87fe",
   "metadata": {},
   "outputs": [
    {
     "data": {
      "text/plain": [
       "array([ 92.5,  32. ,  45. ,  96. ,  42. ,  50. ,  51. ,  98. ,  36. ,\n",
       "        69. ,  56. ,  42. ,  57. ,  64. ,  67. ,  31. ,  48. ,  66. ,\n",
       "        47. ,  93. ,  85. ,  92. ,  41. ,  94. ,  66. ,  96. ,  53. ,\n",
       "        40. ,  62. ,  81. ,  93. ,  73. ,  72. ,  65. ,  44. ,  30. ,\n",
       "        48. ,  32. ,  71. ,  61. ,  92. ,  98. ,  87. ,  75. ,  39. ,\n",
       "        69. ,  73. ,  95. ,  32. ,  39. ,  78. ,  74. ,  84. ,  52. ,\n",
       "        42. ,  30. ,  70. ,  79. ,  80. ,  54. ,  62. ,  64. ,  99. ,\n",
       "        56. ,  84. ,  60. ,  49. ,  78. ,  40. ,  93. ,  56. ,  45. ,\n",
       "        43. ,  68. ,  55. ,  87. ,  84. ,  52. ,  89. ,  64. ,  90. ,\n",
       "        83. ,  94. ,  66. ,  45. ,  96. ,  30. ,  94. ,  61. ,  56. ,\n",
       "        95. ,  72. ,  55. ,  49. ,  93. ,  31. ,  46. ,  67. ,  59. ,\n",
       "        36. ,  62. ,  42. ,  65. ,  44. ,  46. ,  85. ,  78. ,  86. ,\n",
       "        96. ,  83. ,  54. ,  42. ,  30. ,  97. ,  75.5,  82. ,  68. ,\n",
       "        86. ,  94. ,  76. ,  89. ,  77. ,  71. ,  48. ,  81. ,  80. ,\n",
       "        66. ,  37. ,  67. ,  72. ,  52. ,  85. ,  84. ,  59. ,  35. ,\n",
       "        81. ,  68. ,  45. ,  41. ,  96. ,  94. ,  32. ,  59. ,  61. ,\n",
       "        77. ,  48. ,  72. ,  79. ,  50. ,  99. ,  43. ,  56. ,  30. ,\n",
       "        47. ,  60. ,  54. ,  60. ,  52. ,  64. ,  51. ,  38. ,  74. ,\n",
       "        94. ,  74. ,  78. ,  67. ,  62. , 100. ,  72. ,  30. ,  42. ,\n",
       "       100. ,  92. ,  69. ,  98. ,  84. ,  86. ,  87. ,  95. , 100. ,\n",
       "        56. ,  63. ,  65. ,  87. ,  48. ,  30. ,  45. ,  53. ,  86. ,\n",
       "        70. ,  62. ,  45. ,  73. ,  86. ,  97. ,  95. ,  86. ,  80. ,\n",
       "        77. ,  56. ,  45. ,  81. ,  43. ,  78. ,  96. ,  33. ,  42. ,\n",
       "        99. ,  91. ,  86. ,  92. ,  71. ,  82. ,  53. ,  95. ,  92. ,\n",
       "        94. ,  56. ,  63. ,  77. ,  82. ,  33. ,  79. ,  72. ,  46. ,\n",
       "        43. ,  43. ,  94. ,  94. ,  41. ,  86. ,  97. ,  51. ,  78. ,\n",
       "        83. ,  82. ,  73. ,  60. ,  74. ,  84. ,  87. ,  46. ,  82. ,\n",
       "       100. ,  92.5,  90. ,  52. ,  96. ,  33. ,  48. ,  81. ,  97. ,\n",
       "        74.5,  78. ,  71. ,  60. ,  39. , 100. ,  37. ,  62. ,  88. ,\n",
       "        51. ,  38. ,  48. ,  74. ,  82. ,  48. ,  44. ,  34. ,  84. ,\n",
       "        90. ,  67. , 100. ,  35. ,  33. ,  60. ,  87. ,  61. ,  32. ,\n",
       "        94. ,  66. ,  80. ,  82. ,  88. ,  32. ,  84. ,  59. ,  69. ,\n",
       "        73. ,  87. ,  75. ,  81. ,  55. ,  34. ,  42. ,  55. ,  43. ,\n",
       "        74. ,  61. ,  36. ,  40. ,  78. ,  49. ,  83. ,  46. ,  37. ,\n",
       "        88. ,  46. ,  47. ,  98. ,  73. ,  35. ,  93. ,  59. ,  91. ,\n",
       "        37. ,  69. ,  45. ,  98. ,  47. ,  96. ,  95. ,  82. ,  81. ,\n",
       "        97. ,  80. ,  71. ,  67. ,  30. ,  49. ,  72. ,  43. ,  51. ,\n",
       "        30. ,  35. ,  90. ,  96. ,  68. ,  80. ,  45. ,  96. ,  64. ,\n",
       "        75. ,  82. ,  30. ,  40. ,  74. ,  36. ,  88. ,  51. ,  76. ,\n",
       "        81. ,  84. ,  67. ,  78. ,  82. ,  32. ,  48. ,  79. ,  76. ,\n",
       "        36. ,  79. ,  83. ,  93. ,  55. ,  74. ,  87. ,  61. ,  44. ,\n",
       "        75. ,  52. ,  76. ,  54. ,  83. ,  48. ,  48. ,  83. ,  90. ,\n",
       "        91. ,  56. ,  99. ,  67. ,  49. ,  66. ,  88. ,  33. ,  42. ,\n",
       "        72. ,  42. ,  82. ,  79. ,  36. ,  95. ,  90. ,  45. ,  32. ,\n",
       "        68. ,  67. ,  92. ,  64. ,  84. ,  67. ,  92. ,  58. ,  52. ,\n",
       "        41. ,  61. ,  44. ,  48. ,  74. ,  36. ,  41. ,  62. ,  72. ,\n",
       "        54. ,  95. ,  45. ,  36. ,  73. ,  95. ,  82. ,  82. ,  58. ,\n",
       "        87. ,  47. ,  87. ,  32. ,  48. ,  78. ,  53. ,  96. ,  41. ,\n",
       "        96. ,  72. ,  89. ,  97. ,  43. ,  68. ,  79. ,  32. ,  47. ,\n",
       "        98. ,  38. ,  34. ,  52. ,  48. ,  58. ,  86. ,  57. ,  94. ,\n",
       "        71. ,  91. ,  98. ,  84. ,  76. ,  96. ,  72. ,  92. ,  70. ,\n",
       "        37. ,  37. ,  61. ,  77. ,  42. ,  76. ,  98. ,  90. ,  79. ,\n",
       "        96. ,  52. ,  84. ,  78. ,  92. ,  95. ,  48. ,  68. ,  91. ,\n",
       "        81. ,  68. ,  90. ,  53. ,  62. ,  79. ,  40. ,  65. ,  55. ,\n",
       "        57. ,  46. ,  76. ,  47. ,  84. ,  55. ,  86. ,  41. ,  92. ,\n",
       "        33. ,  45. ,  66. ,  33. ,  66. ,  46. ,  63. ,  60. ,  88. ,\n",
       "        60. ,  46. ,  51. ,  80. ,  55. ,  62. ,  60. ,  77. ,  98. ,\n",
       "        97. ,  87. ,  77. ,  45. ,  52. ,  56. , 100. ,  91. ,  72. ,\n",
       "        85. ,  43. ,  85. ,  44. ,  98. ,  87. ,  82. ,  59. ,  39. ,\n",
       "        92. ,  32. ,  66. ,  39. ,  73. ,  57. ,  42. ,  37. ,  87. ,\n",
       "        88. ,  44. ,  48. ,  76. ,  78. ,  66. ,  46. ,  45. ,  56. ,\n",
       "        98. ,  66. ,  97. ,  84. ,  95. ,  62. ,  33. ,  30. ,  52. ,\n",
       "       100. ,  83. ,  46. ,  91. ,  47. ,  92. ,  62. ,  57. ,  42. ,\n",
       "        56. ,  41. ,  61. ,  83. ,  33. ,  61. ,  41. ,  33. ,  54. ,\n",
       "        94. ,  85. ,  43. , 100. ,  49. ,  34. ,  69. ,  31. ,  49. ,\n",
       "        41. ,  53. ,  40. ,  68. ,  42. ,  56. ,  32. ,  30. ,  79. ,\n",
       "        84. ,  69. ,  77. ,  80. ,  66. ,  75. ,  94. ,  48. ,  57. ,\n",
       "        43. ,  76. ,  75. ,  35. ,  89. ,  57. ,  89. ,  74. ,  98. ,\n",
       "        37. ,  90. ,  40. ,  67. ,  98. ,  43. ,  87. ,  42. ,  91. ,\n",
       "        80. ,  81. ,  52. ,  88. ,  75.5,  49. ,  97. ,  93. ,  53. ,\n",
       "        33. ,  66. ,  87. ,  92. ,  54. ,  62. ,  41. ,  35. ,  56. ,\n",
       "        64. ,  63. ,  31. ,  76. ,  98. ,  54. ,  97. ,  57. ,  32. ,\n",
       "        90. ,  42. ,  99. ,  40. ,  80. ,  59. ,  71. ,  74. ,  83. ,\n",
       "        96. ,  47. ,  98. ,  98. ,  79. ,  41. ,  65. ,  97. ,  57. ,\n",
       "        89. ,  33. ,  46. ,  43. ,  88. ,  85. ,  87. ,  51. ,  56. ,\n",
       "        49. ,  97. ,  51. ,  50. ,  63. ,  96. ,  39. ,  60. ,  95. ,\n",
       "        73. ,  84. ,  97. ,  39. ,  67. ,  96. ,  46. ,  76. ,  52. ,\n",
       "        77. ,  81. ,  92. ,  49. ,  38. ,  83. ,  92. ,  64. ,  89. ,\n",
       "        63. ,  44. ,  75. ,  62. ,  84. ,  70. ,  54. ,  76. ,  74.5,\n",
       "        75. ,  70. ,  95. ,  78. ,  94. ,  96. ,  75. ,  78. ,  71. ,\n",
       "        35. ,  78. ,  59. ,  52. ,  30. ,  35. ,  57. ,  74. ,  39. ,\n",
       "        86. , 100. ,  79. ,  77. ,  32. ,  31. ,  82. ,  42. ,  34. ,\n",
       "        63. ,  47. ,  86. ,  76. ,  65. ])"
      ]
     },
     "execution_count": 66,
     "metadata": {},
     "output_type": "execute_result"
    }
   ],
   "source": [
    "# prediction using the trained model\n",
    "y_predict_psc = decsRegressor.predict(x_train_psc)\n",
    "y_predict_psc"
   ]
  },
  {
   "cell_type": "code",
   "execution_count": 67,
   "id": "d2ff6077",
   "metadata": {},
   "outputs": [
    {
     "data": {
      "text/plain": [
       "array([ 39.,  60.,  39.,  31.,  46.,  88.,  33.,  96.,  73.,  75.,  43.,\n",
       "        91.,  50.,  32.,  41.,  62.,  46.,  81.,  83.,  55.,  71.,  99.,\n",
       "        36.,  54.,  51.,  52.,  76.,  48.,  62.,  49.,  43.,  56.,  75.,\n",
       "        68.,  80.,  77.,  89.,  79.,  83.,  93.,  63.,  92.,  44.,  54.,\n",
       "        76.,  93.,  72.,  80.,  84.,  57.,  60.,  36.,  63.,  79.,  59.,\n",
       "        93.,  65.,  35.,  62.,  35.,  48.,  84.,  31.,  85.,  38.,  34.,\n",
       "        61.,  54.,  87.,  71.,  90.,  44.,  87.,  62.,  46.,  83.,  51.,\n",
       "        75.,  73.,  86.,  64.,  49.,  69.,  98.,  44.,  32.,  82.,  77.,\n",
       "        61.,  47.,  41.,  67.,  71.,  70.,  71.,  66.,  30.,  54.,  40.,\n",
       "        58.,  66.,  36.,  99.,  65.,  84.,  54.,  83.,  39.,  57.,  38.,\n",
       "        99.,  91.,  93.,  46.,  94.,  66.,  55.,  59.,  77.,  43.,  90.,\n",
       "        57.,  74.,  91.,  95.,  62.,  57.,  97.,  60.,  45.,  97.,  62.,\n",
       "        61.,  91.,  66.,  44.,  75.,  47.,  57.,  44.,  92.,  41.,  72.,\n",
       "        90.,  90.,  79., 100.,  59.,  87.,  37.,  71.,  54.,  79.,  67.,\n",
       "        86.,  51.,  78.,  54.,  50.,  79.,  67.,  63.,  42.,  36.,  87.,\n",
       "        81.,  57.,  42., 100.,  77.,  42.,  58.,  66., 100.,  61.,  55.,\n",
       "        57.,  85.,  98.,  46.,  83.,  80.,  79.,  42.,  52.,  73.])"
      ]
     },
     "execution_count": 67,
     "metadata": {},
     "output_type": "execute_result"
    }
   ],
   "source": [
    "y_predict_psc_test = decsRegressor_Test.predict(x_test_psc)\n",
    "y_predict_psc_test"
   ]
  },
  {
   "cell_type": "code",
   "execution_count": 68,
   "id": "61ac9d39",
   "metadata": {},
   "outputs": [
    {
     "name": "stdout",
     "output_type": "stream",
     "text": [
      "929\n"
     ]
    }
   ],
   "source": [
    "predictions = decsRegressor.predict(x)\n",
    "print(len(predictions))\n",
    "dfExport[\"Prediction_PerformanceScore\"] = predictions"
   ]
  },
  {
   "cell_type": "code",
   "execution_count": 69,
   "id": "c577bbbb",
   "metadata": {},
   "outputs": [
    {
     "name": "stdout",
     "output_type": "stream",
     "text": [
      "30.0\n",
      "100.0\n"
     ]
    }
   ],
   "source": [
    "print(dfExport[\"Prediction_PerformanceScore\"].min())\n",
    "print(dfExport[\"Prediction_PerformanceScore\"].max())"
   ]
  },
  {
   "cell_type": "code",
   "execution_count": 70,
   "id": "06230581",
   "metadata": {},
   "outputs": [
    {
     "data": {
      "text/html": [
       "<div>\n",
       "<style scoped>\n",
       "    .dataframe tbody tr th:only-of-type {\n",
       "        vertical-align: middle;\n",
       "    }\n",
       "\n",
       "    .dataframe tbody tr th {\n",
       "        vertical-align: top;\n",
       "    }\n",
       "\n",
       "    .dataframe thead th {\n",
       "        text-align: right;\n",
       "    }\n",
       "</style>\n",
       "<table border=\"1\" class=\"dataframe\">\n",
       "  <thead>\n",
       "    <tr style=\"text-align: right;\">\n",
       "      <th></th>\n",
       "      <th>MonthlyIncome</th>\n",
       "      <th>MonthlyRate</th>\n",
       "      <th>DailyRate</th>\n",
       "      <th>YearsSinceLastPromotion</th>\n",
       "      <th>YearsAtCompany</th>\n",
       "      <th>TotalWorkingYears</th>\n",
       "      <th>NumCompaniesWorked</th>\n",
       "      <th>PercentSalaryHike</th>\n",
       "      <th>PerformanceScore</th>\n",
       "      <th>MonthlyIncome_cal</th>\n",
       "      <th>MonthlyRate_cal</th>\n",
       "      <th>DailyRate_cal</th>\n",
       "      <th>YearsAtCompany_cal</th>\n",
       "      <th>TotalWorkingYears_cal</th>\n",
       "      <th>YearsSinceLastPromotion_cal</th>\n",
       "      <th>NumCompaniesWorked_cal</th>\n",
       "      <th>Prediction_PercentSalaryHike</th>\n",
       "      <th>Prediction_PercentSalaryHike_cal</th>\n",
       "      <th>Prediction_PerformanceScore</th>\n",
       "      <th>Prediction_PerformanceScore_cal</th>\n",
       "    </tr>\n",
       "  </thead>\n",
       "  <tbody>\n",
       "    <tr>\n",
       "      <th>1</th>\n",
       "      <td>5130</td>\n",
       "      <td>24907</td>\n",
       "      <td>279</td>\n",
       "      <td>1</td>\n",
       "      <td>10</td>\n",
       "      <td>10</td>\n",
       "      <td>1</td>\n",
       "      <td>23</td>\n",
       "      <td>61</td>\n",
       "      <td>4500 &amp; above</td>\n",
       "      <td>22500 &amp; above</td>\n",
       "      <td>200 &amp; above</td>\n",
       "      <td>More than 10 years</td>\n",
       "      <td>More than 10 years</td>\n",
       "      <td>less than 2 years</td>\n",
       "      <td>less than 2</td>\n",
       "      <td>23.0</td>\n",
       "      <td>&gt;22</td>\n",
       "      <td>61.0</td>\n",
       "      <td>60-69</td>\n",
       "    </tr>\n",
       "    <tr>\n",
       "      <th>3</th>\n",
       "      <td>2909</td>\n",
       "      <td>23159</td>\n",
       "      <td>1392</td>\n",
       "      <td>3</td>\n",
       "      <td>8</td>\n",
       "      <td>8</td>\n",
       "      <td>1</td>\n",
       "      <td>11</td>\n",
       "      <td>56</td>\n",
       "      <td>2500 &amp; above</td>\n",
       "      <td>22500 &amp; above</td>\n",
       "      <td>1300 &amp; above</td>\n",
       "      <td>More than 7 years</td>\n",
       "      <td>More than 7 years</td>\n",
       "      <td>less than 4 years</td>\n",
       "      <td>less than 2</td>\n",
       "      <td>11.0</td>\n",
       "      <td>&lt;13</td>\n",
       "      <td>56.0</td>\n",
       "      <td>50-59</td>\n",
       "    </tr>\n",
       "    <tr>\n",
       "      <th>5</th>\n",
       "      <td>3068</td>\n",
       "      <td>11864</td>\n",
       "      <td>1005</td>\n",
       "      <td>3</td>\n",
       "      <td>7</td>\n",
       "      <td>8</td>\n",
       "      <td>0</td>\n",
       "      <td>13</td>\n",
       "      <td>79</td>\n",
       "      <td>2500 &amp; above</td>\n",
       "      <td>10000 &amp; above</td>\n",
       "      <td>1000 &amp; above</td>\n",
       "      <td>More than 7 years</td>\n",
       "      <td>More than 7 years</td>\n",
       "      <td>less than 4 years</td>\n",
       "      <td>less than 2</td>\n",
       "      <td>14.0</td>\n",
       "      <td>13-15</td>\n",
       "      <td>42.0</td>\n",
       "      <td>40-49</td>\n",
       "    </tr>\n",
       "    <tr>\n",
       "      <th>6</th>\n",
       "      <td>2670</td>\n",
       "      <td>9964</td>\n",
       "      <td>1324</td>\n",
       "      <td>0</td>\n",
       "      <td>1</td>\n",
       "      <td>12</td>\n",
       "      <td>4</td>\n",
       "      <td>20</td>\n",
       "      <td>81</td>\n",
       "      <td>2500 &amp; above</td>\n",
       "      <td>7500 &amp; above</td>\n",
       "      <td>1300 &amp; above</td>\n",
       "      <td>less than 2 years</td>\n",
       "      <td>More than 12 years</td>\n",
       "      <td>less than 1 year</td>\n",
       "      <td>less than 6</td>\n",
       "      <td>20.0</td>\n",
       "      <td>20-22</td>\n",
       "      <td>81.0</td>\n",
       "      <td>80-89</td>\n",
       "    </tr>\n",
       "    <tr>\n",
       "      <th>7</th>\n",
       "      <td>2693</td>\n",
       "      <td>13335</td>\n",
       "      <td>1358</td>\n",
       "      <td>0</td>\n",
       "      <td>1</td>\n",
       "      <td>1</td>\n",
       "      <td>1</td>\n",
       "      <td>22</td>\n",
       "      <td>67</td>\n",
       "      <td>2500 &amp; above</td>\n",
       "      <td>12500 &amp; above</td>\n",
       "      <td>1300 &amp; above</td>\n",
       "      <td>less than 2 years</td>\n",
       "      <td>less than 2 years</td>\n",
       "      <td>less than 1 year</td>\n",
       "      <td>less than 2</td>\n",
       "      <td>22.0</td>\n",
       "      <td>&gt;22</td>\n",
       "      <td>67.0</td>\n",
       "      <td>60-69</td>\n",
       "    </tr>\n",
       "  </tbody>\n",
       "</table>\n",
       "</div>"
      ],
      "text/plain": [
       "   MonthlyIncome  MonthlyRate  DailyRate  YearsSinceLastPromotion  \\\n",
       "1           5130        24907        279                        1   \n",
       "3           2909        23159       1392                        3   \n",
       "5           3068        11864       1005                        3   \n",
       "6           2670         9964       1324                        0   \n",
       "7           2693        13335       1358                        0   \n",
       "\n",
       "   YearsAtCompany  TotalWorkingYears  NumCompaniesWorked  PercentSalaryHike  \\\n",
       "1              10                 10                   1                 23   \n",
       "3               8                  8                   1                 11   \n",
       "5               7                  8                   0                 13   \n",
       "6               1                 12                   4                 20   \n",
       "7               1                  1                   1                 22   \n",
       "\n",
       "   PerformanceScore MonthlyIncome_cal MonthlyRate_cal DailyRate_cal  \\\n",
       "1                61      4500 & above   22500 & above   200 & above   \n",
       "3                56      2500 & above   22500 & above  1300 & above   \n",
       "5                79      2500 & above   10000 & above  1000 & above   \n",
       "6                81      2500 & above    7500 & above  1300 & above   \n",
       "7                67      2500 & above   12500 & above  1300 & above   \n",
       "\n",
       "   YearsAtCompany_cal TotalWorkingYears_cal YearsSinceLastPromotion_cal  \\\n",
       "1  More than 10 years    More than 10 years           less than 2 years   \n",
       "3   More than 7 years     More than 7 years           less than 4 years   \n",
       "5   More than 7 years     More than 7 years           less than 4 years   \n",
       "6   less than 2 years    More than 12 years            less than 1 year   \n",
       "7   less than 2 years     less than 2 years            less than 1 year   \n",
       "\n",
       "  NumCompaniesWorked_cal  Prediction_PercentSalaryHike  \\\n",
       "1            less than 2                          23.0   \n",
       "3            less than 2                          11.0   \n",
       "5            less than 2                          14.0   \n",
       "6            less than 6                          20.0   \n",
       "7            less than 2                          22.0   \n",
       "\n",
       "  Prediction_PercentSalaryHike_cal  Prediction_PerformanceScore  \\\n",
       "1                              >22                         61.0   \n",
       "3                              <13                         56.0   \n",
       "5                            13-15                         42.0   \n",
       "6                            20-22                         81.0   \n",
       "7                              >22                         67.0   \n",
       "\n",
       "  Prediction_PerformanceScore_cal  \n",
       "1                           60-69  \n",
       "3                           50-59  \n",
       "5                           40-49  \n",
       "6                           80-89  \n",
       "7                           60-69  "
      ]
     },
     "execution_count": 70,
     "metadata": {},
     "output_type": "execute_result"
    }
   ],
   "source": [
    "#Simplifying and grouping the Prediction_PerformanceScore column\n",
    "conditions = [\n",
    "    (dfExport['Prediction_PerformanceScore'] < 40),\n",
    "    (dfExport['Prediction_PerformanceScore'] >= 40) & (dfExport['Prediction_PerformanceScore'] < 50),\n",
    "    (dfExport['Prediction_PerformanceScore'] >= 50) & (dfExport['Prediction_PerformanceScore'] < 60),\n",
    "    (dfExport['Prediction_PerformanceScore'] >= 60) & (dfExport['Prediction_PerformanceScore'] < 70),\n",
    "    (dfExport['Prediction_PerformanceScore'] >= 70) & (dfExport['Prediction_PerformanceScore'] < 80),\n",
    "    (dfExport['Prediction_PerformanceScore'] >= 80) & (dfExport['Prediction_PerformanceScore'] < 90),\n",
    "    (dfExport['Prediction_PerformanceScore'] >= 90) \n",
    "    ]\n",
    "\n",
    "values = ['<40', '40-49', '50-59', '60-69', '70-79', '80-89', '>90']\n",
    "\n",
    "#adding the simplified column to a new calculated column\n",
    "dfExport['Prediction_PerformanceScore_cal'] = np.select(conditions, values)\n",
    "dfExport.head()"
   ]
  },
  {
   "cell_type": "code",
   "execution_count": 71,
   "id": "84975ef2",
   "metadata": {},
   "outputs": [
    {
     "name": "stdout",
     "output_type": "stream",
     "text": [
      "0.9984312627563712\n",
      "1.0\n"
     ]
    }
   ],
   "source": [
    "r2score_psc = r2_score(y_train_psc, y_predict_psc)\n",
    "print(r2score_psc)\n",
    "\n",
    "r2score_psc = r2_score(y_test_psc, y_test_psc)\n",
    "print(r2score_psc)"
   ]
  },
  {
   "cell_type": "code",
   "execution_count": 72,
   "id": "de2054ba",
   "metadata": {},
   "outputs": [
    {
     "name": "stdout",
     "output_type": "stream",
     "text": [
      "Training Dataset Results:\n",
      "explained_variance:  0.9984\n",
      "mean_squared_log_error:  0.0001\n",
      "r2:  0.9984\n",
      "MAE:  0.074\n",
      "MSE:  0.6723\n",
      "RMSE:  0.8199\n",
      "Training Dataset Results:\n",
      "explained_variance:  1.0\n",
      "mean_squared_log_error:  0.0\n",
      "r2:  1.0\n",
      "MAE:  0.0\n",
      "MSE:  0.0\n",
      "RMSE:  0.0\n"
     ]
    }
   ],
   "source": [
    "print(\"Training Dataset Results:\")\n",
    "regression_results(y_train_psc, y_predict_psc)\n",
    "print(\"Training Dataset Results:\")\n",
    "regression_results(y_test_psc, y_predict_psc_test)"
   ]
  },
  {
   "cell_type": "code",
   "execution_count": 73,
   "id": "60661445",
   "metadata": {},
   "outputs": [
    {
     "data": {
      "text/plain": [
       "array([['3500 & above', 'less than 2500', '1100 & above',\n",
       "        'More than 2 years', 'More than 5 years', 'less than 4 years',\n",
       "        'less than 4']], dtype='<U17')"
      ]
     },
     "execution_count": 73,
     "metadata": {},
     "output_type": "execute_result"
    }
   ],
   "source": [
    "x = np.array([[\"3500 & above\", \"less than 2500\", \"1100 & above\", \"More than 2 years\", \"More than 5 years\", \"less than 4 years\", \"less than 4\" ]])\n",
    "x"
   ]
  },
  {
   "cell_type": "code",
   "execution_count": 74,
   "id": "97f0114b",
   "metadata": {},
   "outputs": [
    {
     "data": {
      "text/plain": [
       "array([[ 5., 10.,  1.,  4.,  6.,  3.,  2.]])"
      ]
     },
     "execution_count": 74,
     "metadata": {},
     "output_type": "execute_result"
    }
   ],
   "source": [
    "x[:, 0] = lblMonthlyIncome.transform(x[:, 0])\n",
    "x[:, 1] = lblMonthlyRate.transform(x[:, 1])\n",
    "x[:, 2] = lblDailyRate.transform(x[:, 2])\n",
    "x[:, 3] = lblYearsAtCompany.transform(x[:, 3])\n",
    "x[:, 4] = lblTotWorkYear.transform(x[:, 4])\n",
    "x[:, 5] = lblYearsSinceLastPromotion.transform(x[:, 5])\n",
    "x[:, 6] = lblNumCompaniesWorked.transform(x[:, 6])\n",
    "\n",
    "x =  x.astype(float)\n",
    "x"
   ]
  },
  {
   "cell_type": "code",
   "execution_count": 75,
   "id": "fd89b44f",
   "metadata": {},
   "outputs": [
    {
     "data": {
      "text/plain": [
       "array([42.])"
      ]
     },
     "execution_count": 75,
     "metadata": {},
     "output_type": "execute_result"
    }
   ],
   "source": [
    "y_pred = decsRegressor_Test.predict(x)\n",
    "y_pred"
   ]
  },
  {
   "cell_type": "code",
   "execution_count": 76,
   "id": "c6f0851b",
   "metadata": {},
   "outputs": [],
   "source": [
    "data = {\"model\":decsRegressor_Test, \"lblMonthlyIncome\": lblMonthlyIncome, \"lblMonthlyRate\": lblMonthlyRate, \n",
    "        \"lblDailyRate\": lblDailyRate, \"lblYearsAtCompany\": lblYearsAtCompany, \"lblTotWorkYear\": lblTotWorkYear, \n",
    "        \"lblYearsSinceLastPromotion\": lblYearsSinceLastPromotion, \"lblNumCompaniesWorked\": lblNumCompaniesWorked} \n",
    "with open('EEP_MLScript_PerformanceScore.pkl', 'wb') as file:\n",
    "    pickle.dump(data, file)"
   ]
  },
  {
   "cell_type": "code",
   "execution_count": 77,
   "id": "5480d40a",
   "metadata": {},
   "outputs": [
    {
     "data": {
      "text/plain": [
       "array([42.])"
      ]
     },
     "execution_count": 77,
     "metadata": {},
     "output_type": "execute_result"
    }
   ],
   "source": [
    "with open('EEP_MLScript_PerformanceScore.pkl', 'rb') as file:\n",
    "    data = pickle.load(file)\n",
    "    \n",
    "regressor_loaded = data[\"model\"]\n",
    "lblMonthlyIncome = data[\"lblMonthlyIncome\"]\n",
    "lblMonthlyRate = data[\"lblMonthlyRate\"]\n",
    "lblDailyRate = data[\"lblDailyRate\"]\n",
    "lblYearsAtCompany = data[\"lblYearsAtCompany\"]\n",
    "lblTotWorkYear = data[\"lblTotWorkYear\"]\n",
    "lblYearsSinceLastPromotion = data[\"lblYearsSinceLastPromotion\"]\n",
    "lblNumCompaniesWorked = data[\"lblNumCompaniesWorked\"]\n",
    "\n",
    "y_pred = regressor_loaded.predict(x)\n",
    "y_pred"
   ]
  },
  {
   "cell_type": "code",
   "execution_count": 78,
   "id": "56ef6384",
   "metadata": {},
   "outputs": [
    {
     "data": {
      "text/plain": [
       "Index(['MonthlyIncome', 'MonthlyRate', 'DailyRate', 'YearsSinceLastPromotion',\n",
       "       'YearsAtCompany', 'TotalWorkingYears', 'NumCompaniesWorked',\n",
       "       'PercentSalaryHike', 'PerformanceScore', 'MonthlyIncome_cal',\n",
       "       'MonthlyRate_cal', 'DailyRate_cal', 'YearsAtCompany_cal',\n",
       "       'TotalWorkingYears_cal', 'YearsSinceLastPromotion_cal',\n",
       "       'NumCompaniesWorked_cal', 'Prediction_PercentSalaryHike',\n",
       "       'Prediction_PercentSalaryHike_cal', 'Prediction_PerformanceScore',\n",
       "       'Prediction_PerformanceScore_cal'],\n",
       "      dtype='object')"
      ]
     },
     "execution_count": 78,
     "metadata": {},
     "output_type": "execute_result"
    }
   ],
   "source": [
    "dfExport.columns"
   ]
  },
  {
   "cell_type": "code",
   "execution_count": 79,
   "id": "b8e87b5b",
   "metadata": {},
   "outputs": [],
   "source": [
    "dfExport.to_csv('Calculated_Employee_Dataset.csv')"
   ]
  }
 ],
 "metadata": {
  "kernelspec": {
   "display_name": "Python 3 (ipykernel)",
   "language": "python",
   "name": "python3"
  },
  "language_info": {
   "codemirror_mode": {
    "name": "ipython",
    "version": 3
   },
   "file_extension": ".py",
   "mimetype": "text/x-python",
   "name": "python",
   "nbconvert_exporter": "python",
   "pygments_lexer": "ipython3",
   "version": "3.9.7"
  }
 },
 "nbformat": 4,
 "nbformat_minor": 5
}

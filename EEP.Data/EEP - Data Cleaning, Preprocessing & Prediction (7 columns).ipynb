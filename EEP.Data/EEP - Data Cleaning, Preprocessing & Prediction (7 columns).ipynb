{
 "cells": [
  {
   "cell_type": "code",
   "execution_count": 1,
   "id": "8f3c741c",
   "metadata": {},
   "outputs": [
    {
     "data": {
      "text/html": [
       "<div>\n",
       "<style scoped>\n",
       "    .dataframe tbody tr th:only-of-type {\n",
       "        vertical-align: middle;\n",
       "    }\n",
       "\n",
       "    .dataframe tbody tr th {\n",
       "        vertical-align: top;\n",
       "    }\n",
       "\n",
       "    .dataframe thead th {\n",
       "        text-align: right;\n",
       "    }\n",
       "</style>\n",
       "<table border=\"1\" class=\"dataframe\">\n",
       "  <thead>\n",
       "    <tr style=\"text-align: right;\">\n",
       "      <th></th>\n",
       "      <th>Age</th>\n",
       "      <th>Attrition</th>\n",
       "      <th>BusinessTravel</th>\n",
       "      <th>DailyRate</th>\n",
       "      <th>Department</th>\n",
       "      <th>DistanceFromHome</th>\n",
       "      <th>Education</th>\n",
       "      <th>EducationField</th>\n",
       "      <th>EmployeeCount</th>\n",
       "      <th>EmployeeNumber</th>\n",
       "      <th>...</th>\n",
       "      <th>RelationshipSatisfaction</th>\n",
       "      <th>StandardHours</th>\n",
       "      <th>StockOptionLevel</th>\n",
       "      <th>TotalWorkingYears</th>\n",
       "      <th>TrainingTimesLastYear</th>\n",
       "      <th>WorkLifeBalance</th>\n",
       "      <th>YearsAtCompany</th>\n",
       "      <th>YearsInCurrentRole</th>\n",
       "      <th>YearsSinceLastPromotion</th>\n",
       "      <th>YearsWithCurrManager</th>\n",
       "    </tr>\n",
       "  </thead>\n",
       "  <tbody>\n",
       "    <tr>\n",
       "      <th>0</th>\n",
       "      <td>41</td>\n",
       "      <td>Yes</td>\n",
       "      <td>Travel_Rarely</td>\n",
       "      <td>1102</td>\n",
       "      <td>Sales</td>\n",
       "      <td>1</td>\n",
       "      <td>2</td>\n",
       "      <td>Life Sciences</td>\n",
       "      <td>1</td>\n",
       "      <td>1</td>\n",
       "      <td>...</td>\n",
       "      <td>1</td>\n",
       "      <td>80</td>\n",
       "      <td>0</td>\n",
       "      <td>8</td>\n",
       "      <td>0</td>\n",
       "      <td>1</td>\n",
       "      <td>6</td>\n",
       "      <td>4</td>\n",
       "      <td>0</td>\n",
       "      <td>5</td>\n",
       "    </tr>\n",
       "    <tr>\n",
       "      <th>1</th>\n",
       "      <td>49</td>\n",
       "      <td>No</td>\n",
       "      <td>Travel_Frequently</td>\n",
       "      <td>279</td>\n",
       "      <td>Research &amp; Development</td>\n",
       "      <td>8</td>\n",
       "      <td>1</td>\n",
       "      <td>Life Sciences</td>\n",
       "      <td>1</td>\n",
       "      <td>2</td>\n",
       "      <td>...</td>\n",
       "      <td>4</td>\n",
       "      <td>80</td>\n",
       "      <td>1</td>\n",
       "      <td>10</td>\n",
       "      <td>3</td>\n",
       "      <td>3</td>\n",
       "      <td>10</td>\n",
       "      <td>7</td>\n",
       "      <td>1</td>\n",
       "      <td>7</td>\n",
       "    </tr>\n",
       "    <tr>\n",
       "      <th>2</th>\n",
       "      <td>37</td>\n",
       "      <td>Yes</td>\n",
       "      <td>Travel_Rarely</td>\n",
       "      <td>1373</td>\n",
       "      <td>Research &amp; Development</td>\n",
       "      <td>2</td>\n",
       "      <td>2</td>\n",
       "      <td>Other</td>\n",
       "      <td>1</td>\n",
       "      <td>4</td>\n",
       "      <td>...</td>\n",
       "      <td>2</td>\n",
       "      <td>80</td>\n",
       "      <td>0</td>\n",
       "      <td>7</td>\n",
       "      <td>3</td>\n",
       "      <td>3</td>\n",
       "      <td>0</td>\n",
       "      <td>0</td>\n",
       "      <td>0</td>\n",
       "      <td>0</td>\n",
       "    </tr>\n",
       "    <tr>\n",
       "      <th>3</th>\n",
       "      <td>33</td>\n",
       "      <td>No</td>\n",
       "      <td>Travel_Frequently</td>\n",
       "      <td>1392</td>\n",
       "      <td>Research &amp; Development</td>\n",
       "      <td>3</td>\n",
       "      <td>4</td>\n",
       "      <td>Life Sciences</td>\n",
       "      <td>1</td>\n",
       "      <td>5</td>\n",
       "      <td>...</td>\n",
       "      <td>3</td>\n",
       "      <td>80</td>\n",
       "      <td>0</td>\n",
       "      <td>8</td>\n",
       "      <td>3</td>\n",
       "      <td>3</td>\n",
       "      <td>8</td>\n",
       "      <td>7</td>\n",
       "      <td>3</td>\n",
       "      <td>0</td>\n",
       "    </tr>\n",
       "    <tr>\n",
       "      <th>4</th>\n",
       "      <td>27</td>\n",
       "      <td>No</td>\n",
       "      <td>Travel_Rarely</td>\n",
       "      <td>591</td>\n",
       "      <td>Research &amp; Development</td>\n",
       "      <td>2</td>\n",
       "      <td>1</td>\n",
       "      <td>Medical</td>\n",
       "      <td>1</td>\n",
       "      <td>7</td>\n",
       "      <td>...</td>\n",
       "      <td>4</td>\n",
       "      <td>80</td>\n",
       "      <td>1</td>\n",
       "      <td>6</td>\n",
       "      <td>3</td>\n",
       "      <td>3</td>\n",
       "      <td>2</td>\n",
       "      <td>2</td>\n",
       "      <td>2</td>\n",
       "      <td>2</td>\n",
       "    </tr>\n",
       "  </tbody>\n",
       "</table>\n",
       "<p>5 rows × 35 columns</p>\n",
       "</div>"
      ],
      "text/plain": [
       "   Age Attrition     BusinessTravel  DailyRate              Department  \\\n",
       "0   41       Yes      Travel_Rarely       1102                   Sales   \n",
       "1   49        No  Travel_Frequently        279  Research & Development   \n",
       "2   37       Yes      Travel_Rarely       1373  Research & Development   \n",
       "3   33        No  Travel_Frequently       1392  Research & Development   \n",
       "4   27        No      Travel_Rarely        591  Research & Development   \n",
       "\n",
       "   DistanceFromHome  Education EducationField  EmployeeCount  EmployeeNumber  \\\n",
       "0                 1          2  Life Sciences              1               1   \n",
       "1                 8          1  Life Sciences              1               2   \n",
       "2                 2          2          Other              1               4   \n",
       "3                 3          4  Life Sciences              1               5   \n",
       "4                 2          1        Medical              1               7   \n",
       "\n",
       "   ...  RelationshipSatisfaction StandardHours  StockOptionLevel  \\\n",
       "0  ...                         1            80                 0   \n",
       "1  ...                         4            80                 1   \n",
       "2  ...                         2            80                 0   \n",
       "3  ...                         3            80                 0   \n",
       "4  ...                         4            80                 1   \n",
       "\n",
       "   TotalWorkingYears  TrainingTimesLastYear WorkLifeBalance  YearsAtCompany  \\\n",
       "0                  8                      0               1               6   \n",
       "1                 10                      3               3              10   \n",
       "2                  7                      3               3               0   \n",
       "3                  8                      3               3               8   \n",
       "4                  6                      3               3               2   \n",
       "\n",
       "  YearsInCurrentRole  YearsSinceLastPromotion  YearsWithCurrManager  \n",
       "0                  4                        0                     5  \n",
       "1                  7                        1                     7  \n",
       "2                  0                        0                     0  \n",
       "3                  7                        3                     0  \n",
       "4                  2                        2                     2  \n",
       "\n",
       "[5 rows x 35 columns]"
      ]
     },
     "execution_count": 1,
     "metadata": {},
     "output_type": "execute_result"
    }
   ],
   "source": [
    "#Imports and data reading.\n",
    "import pandas as pd\n",
    "import numpy as np\n",
    "import matplotlib.pyplot as plt\n",
    "import warnings\n",
    "import seaborn as sns\n",
    "\n",
    "from IPython.display import display\n",
    "from sklearn.preprocessing import LabelEncoder, StandardScaler\n",
    "from sklearn.model_selection import train_test_split, GridSearchCV\n",
    "from sklearn.tree import DecisionTreeRegressor, DecisionTreeClassifier\n",
    "from sklearn.naive_bayes import BernoulliNB\n",
    "from sklearn.neighbors import KNeighborsClassifier\n",
    "from sklearn.svm import SVC\n",
    "from sklearn.metrics import r2_score, mean_squared_error, accuracy_score, classification_report, confusion_matrix\n",
    "from sklearn.model_selection import cross_val_score\n",
    "\n",
    "warnings.filterwarnings('ignore')\n",
    "%matplotlib inline\n",
    "\n",
    "df = pd.read_csv(\"WA_Fn-UseC_-HR-Employee-Attrition.csv\")\n",
    "df.head()\n"
   ]
  },
  {
   "cell_type": "code",
   "execution_count": 2,
   "id": "53c136a2",
   "metadata": {},
   "outputs": [
    {
     "data": {
      "text/plain": [
       "Index(['Age', 'Attrition', 'BusinessTravel', 'DailyRate', 'Department',\n",
       "       'DistanceFromHome', 'Education', 'EducationField', 'EmployeeCount',\n",
       "       'EmployeeNumber', 'EnvironmentSatisfaction', 'Gender',\n",
       "       'PerformanceScore', 'JobInvolvement', 'JobLevel', 'JobRole',\n",
       "       'JobSatisfaction', 'MaritalStatus', 'MonthlyIncome', 'MonthlyRate',\n",
       "       'NumCompaniesWorked', 'Over18', 'OverTime', 'PercentSalaryHike',\n",
       "       'PerformanceRating', 'RelationshipSatisfaction', 'StandardHours',\n",
       "       'StockOptionLevel', 'TotalWorkingYears', 'TrainingTimesLastYear',\n",
       "       'WorkLifeBalance', 'YearsAtCompany', 'YearsInCurrentRole',\n",
       "       'YearsSinceLastPromotion', 'YearsWithCurrManager'],\n",
       "      dtype='object')"
      ]
     },
     "execution_count": 2,
     "metadata": {},
     "output_type": "execute_result"
    }
   ],
   "source": [
    "# Check columns\n",
    "df.columns"
   ]
  },
  {
   "cell_type": "code",
   "execution_count": 3,
   "id": "b20e9933",
   "metadata": {},
   "outputs": [
    {
     "data": {
      "text/plain": [
       "<Figure size 720x720 with 0 Axes>"
      ]
     },
     "metadata": {},
     "output_type": "display_data"
    },
    {
     "data": {
      "image/png": "[encoded data removed]",
      "text/plain": [
       "<Figure size 432x288 with 1 Axes>"
      ]
     },
     "metadata": {
      "needs_background": "light"
     },
     "output_type": "display_data"
    }
   ],
   "source": [
    "#Plotting outliers in each columns\n",
    "plt.figure(figsize=(10,10))\n",
    "df.plot.box(title='Boxplot Employee Performance',rot=90)\n",
    "\n",
    "plt.show()"
   ]
  },
  {
   "cell_type": "code",
   "execution_count": 4,
   "id": "65f534dd",
   "metadata": {},
   "outputs": [
    {
     "data": {
      "text/plain": [
       "<AxesSubplot:xlabel='YearsSinceLastPromotion'>"
      ]
     },
     "execution_count": 4,
     "metadata": {},
     "output_type": "execute_result"
    },
    {
     "data": {
      "image/png": "[encoded data removed]",
      "text/plain": [
       "<Figure size 432x288 with 1 Axes>"
      ]
     },
     "metadata": {
      "needs_background": "light"
     },
     "output_type": "display_data"
    }
   ],
   "source": [
    "#Box plot of YearsSinceLastPromotion column\n",
    "sns.boxplot(df['YearsSinceLastPromotion'])"
   ]
  },
  {
   "cell_type": "code",
   "execution_count": 5,
   "id": "e125d4c8",
   "metadata": {},
   "outputs": [
    {
     "data": {
      "text/plain": [
       "(1363, 35)"
      ]
     },
     "execution_count": 5,
     "metadata": {},
     "output_type": "execute_result"
    }
   ],
   "source": [
    "#finding upper fence value as the outliers relies after the upper fence\n",
    "Q1 = df[\"YearsSinceLastPromotion\"].quantile(0.25)\n",
    "Q3 = df[\"YearsSinceLastPromotion\"].quantile(0.75)\n",
    "IQR = Q3 - Q1\n",
    "Upper_Fence = Q3 + (1.5 * IQR)\n",
    "Upper_Fence\n",
    "\n",
    "#Finding outliers \n",
    "#np.where(df['YearsSinceLastPromotion']>Upper_Fence)\n",
    "\n",
    "#finding upper fence and trimming the dataset\n",
    "df = df[df['YearsSinceLastPromotion'] < Upper_Fence]\n",
    "df.shape"
   ]
  },
  {
   "cell_type": "code",
   "execution_count": 6,
   "id": "0586984f",
   "metadata": {},
   "outputs": [
    {
     "data": {
      "text/plain": [
       "<AxesSubplot:xlabel='YearsAtCompany'>"
      ]
     },
     "execution_count": 6,
     "metadata": {},
     "output_type": "execute_result"
    },
    {
     "data": {
      "image/png": "[encoded data removed]",
      "text/plain": [
       "<Figure size 432x288 with 1 Axes>"
      ]
     },
     "metadata": {
      "needs_background": "light"
     },
     "output_type": "display_data"
    }
   ],
   "source": [
    "#Box plot of YearsAtCompany column\n",
    "sns.boxplot(df['YearsAtCompany'])"
   ]
  },
  {
   "cell_type": "code",
   "execution_count": 7,
   "id": "7740e622",
   "metadata": {},
   "outputs": [
    {
     "data": {
      "text/plain": [
       "(1313, 35)"
      ]
     },
     "execution_count": 7,
     "metadata": {},
     "output_type": "execute_result"
    }
   ],
   "source": [
    "#finding upper fence value as the outliers relies after the upper fence\n",
    "Q1 = df[\"YearsAtCompany\"].quantile(0.25)\n",
    "Q3 = df[\"YearsAtCompany\"].quantile(0.75)\n",
    "IQR = Q3 - Q1\n",
    "Upper_Fence = Q3 + (1.5 * IQR)\n",
    "Upper_Fence\n",
    "\n",
    "#finding upper fence and trimming the dataset\n",
    "df = df[df['YearsAtCompany'] < Upper_Fence]\n",
    "df.shape"
   ]
  },
  {
   "cell_type": "code",
   "execution_count": 8,
   "id": "73872791",
   "metadata": {},
   "outputs": [
    {
     "data": {
      "text/plain": [
       "<AxesSubplot:xlabel='NumCompaniesWorked'>"
      ]
     },
     "execution_count": 8,
     "metadata": {},
     "output_type": "execute_result"
    },
    {
     "data": {
      "image/png": "[encoded data removed]",
      "text/plain": [
       "<Figure size 432x288 with 1 Axes>"
      ]
     },
     "metadata": {
      "needs_background": "light"
     },
     "output_type": "display_data"
    }
   ],
   "source": [
    "#Box plot of NumCompaniesWorked column\n",
    "sns.boxplot(df['NumCompaniesWorked'])"
   ]
  },
  {
   "cell_type": "code",
   "execution_count": 9,
   "id": "d7c50c29",
   "metadata": {},
   "outputs": [
    {
     "data": {
      "text/plain": [
       "(1265, 35)"
      ]
     },
     "execution_count": 9,
     "metadata": {},
     "output_type": "execute_result"
    }
   ],
   "source": [
    "#finding upper fence value as the outliers relies after the upper fence\n",
    "Q1 = df[\"NumCompaniesWorked\"].quantile(0.25)\n",
    "Q3 = df[\"NumCompaniesWorked\"].quantile(0.75)\n",
    "IQR = Q3 - Q1\n",
    "Upper_Fence = Q3 + (1.5 * IQR)\n",
    "Upper_Fence\n",
    "\n",
    "#finding upper fence and trimming the dataset\n",
    "df = df[df['NumCompaniesWorked'] < Upper_Fence]\n",
    "df.shape"
   ]
  },
  {
   "cell_type": "code",
   "execution_count": 10,
   "id": "93280bcf",
   "metadata": {},
   "outputs": [
    {
     "data": {
      "text/plain": [
       "<AxesSubplot:xlabel='MonthlyIncome'>"
      ]
     },
     "execution_count": 10,
     "metadata": {},
     "output_type": "execute_result"
    },
    {
     "data": {
      "image/png": "[encoded data removed]",
      "text/plain": [
       "<Figure size 432x288 with 1 Axes>"
      ]
     },
     "metadata": {
      "needs_background": "light"
     },
     "output_type": "display_data"
    }
   ],
   "source": [
    "#Box plot of MonthlyIncome column\n",
    "sns.boxplot(df['MonthlyIncome'])"
   ]
  },
  {
   "cell_type": "code",
   "execution_count": 11,
   "id": "14e5bce0",
   "metadata": {},
   "outputs": [
    {
     "data": {
      "text/plain": [
       "(1167, 35)"
      ]
     },
     "execution_count": 11,
     "metadata": {},
     "output_type": "execute_result"
    }
   ],
   "source": [
    "#finding upper fence value as the outliers relies after the upper fence\n",
    "Q1 = df[\"MonthlyIncome\"].quantile(0.25)\n",
    "Q3 = df[\"MonthlyIncome\"].quantile(0.75)\n",
    "IQR = Q3 - Q1\n",
    "Upper_Fence = Q3 + (1.5 * IQR)\n",
    "Upper_Fence\n",
    "\n",
    "#finding upper fence and trimming the dataset\n",
    "df = df[df['MonthlyIncome'] < Upper_Fence]\n",
    "df.shape"
   ]
  },
  {
   "cell_type": "code",
   "execution_count": 12,
   "id": "fdb8f698",
   "metadata": {},
   "outputs": [
    {
     "data": {
      "text/plain": [
       "<AxesSubplot:xlabel='MonthlyRate'>"
      ]
     },
     "execution_count": 12,
     "metadata": {},
     "output_type": "execute_result"
    },
    {
     "data": {
      "image/png": "[encoded data removed]",
      "text/plain": [
       "<Figure size 432x288 with 1 Axes>"
      ]
     },
     "metadata": {
      "needs_background": "light"
     },
     "output_type": "display_data"
    }
   ],
   "source": [
    "#Box plot of MonthlyRate column. No Outliers available \n",
    "sns.boxplot(df['MonthlyRate'])"
   ]
  },
  {
   "cell_type": "code",
   "execution_count": 13,
   "id": "99537651",
   "metadata": {},
   "outputs": [
    {
     "data": {
      "text/plain": [
       "<AxesSubplot:xlabel='DailyRate'>"
      ]
     },
     "execution_count": 13,
     "metadata": {},
     "output_type": "execute_result"
    },
    {
     "data": {
      "image/png": "[encoded data removed]",
      "text/plain": [
       "<Figure size 432x288 with 1 Axes>"
      ]
     },
     "metadata": {
      "needs_background": "light"
     },
     "output_type": "display_data"
    }
   ],
   "source": [
    "#Box plot of DailyRate column. No Outliers available \n",
    "sns.boxplot(df['DailyRate'])"
   ]
  },
  {
   "cell_type": "code",
   "execution_count": 14,
   "id": "5137ae4e",
   "metadata": {},
   "outputs": [
    {
     "data": {
      "text/plain": [
       "<AxesSubplot:xlabel='TotalWorkingYears'>"
      ]
     },
     "execution_count": 14,
     "metadata": {},
     "output_type": "execute_result"
    },
    {
     "data": {
      "image/png": "[encoded data removed]",
      "text/plain": [
       "<Figure size 432x288 with 1 Axes>"
      ]
     },
     "metadata": {
      "needs_background": "light"
     },
     "output_type": "display_data"
    }
   ],
   "source": [
    "#Box plot of TotalWorkingYears column.\n",
    "sns.boxplot(df['TotalWorkingYears'])"
   ]
  },
  {
   "cell_type": "code",
   "execution_count": 15,
   "id": "601ec663",
   "metadata": {},
   "outputs": [
    {
     "data": {
      "text/plain": [
       "(1130, 35)"
      ]
     },
     "execution_count": 15,
     "metadata": {},
     "output_type": "execute_result"
    }
   ],
   "source": [
    "#finding upper fence value as the outliers relies after the upper fence\n",
    "Q1 = df[\"TotalWorkingYears\"].quantile(0.25)\n",
    "Q3 = df[\"TotalWorkingYears\"].quantile(0.75)\n",
    "IQR = Q3 - Q1\n",
    "Upper_Fence = Q3 + (1.5 * IQR)\n",
    "Upper_Fence\n",
    "\n",
    "#finding upper fence and trimming the dataset\n",
    "df = df[df['TotalWorkingYears'] < Upper_Fence]\n",
    "df.shape"
   ]
  },
  {
   "cell_type": "code",
   "execution_count": 16,
   "id": "c291b0c2",
   "metadata": {},
   "outputs": [
    {
     "data": {
      "text/plain": [
       "<AxesSubplot:xlabel='PercentSalaryHike'>"
      ]
     },
     "execution_count": 16,
     "metadata": {},
     "output_type": "execute_result"
    },
    {
     "data": {
      "image/png": "[encoded data removed]",
      "text/plain": [
       "<Figure size 432x288 with 1 Axes>"
      ]
     },
     "metadata": {
      "needs_background": "light"
     },
     "output_type": "display_data"
    }
   ],
   "source": [
    "#Box plot of PercentSalaryHike column. No Outliers available\n",
    "sns.boxplot(df['PercentSalaryHike'])"
   ]
  },
  {
   "cell_type": "code",
   "execution_count": 17,
   "id": "64787a13",
   "metadata": {},
   "outputs": [
    {
     "data": {
      "text/plain": [
       "<AxesSubplot:xlabel='PerformanceScore'>"
      ]
     },
     "execution_count": 17,
     "metadata": {},
     "output_type": "execute_result"
    },
    {
     "data": {
      "image/png": "[encoded data removed]",
      "text/plain": [
       "<Figure size 432x288 with 1 Axes>"
      ]
     },
     "metadata": {
      "needs_background": "light"
     },
     "output_type": "display_data"
    }
   ],
   "source": [
    "#Box plot of PerformanceScore column. No Outliers available\n",
    "sns.boxplot(df['PerformanceScore'])"
   ]
  },
  {
   "cell_type": "code",
   "execution_count": 18,
   "id": "a717132c",
   "metadata": {},
   "outputs": [
    {
     "data": {
      "text/plain": [
       "(1130, 35)"
      ]
     },
     "execution_count": 18,
     "metadata": {},
     "output_type": "execute_result"
    }
   ],
   "source": [
    "#Checking number of rows and columns respectively \n",
    "df.shape"
   ]
  },
  {
   "cell_type": "code",
   "execution_count": 19,
   "id": "6fbf8d02",
   "metadata": {},
   "outputs": [
    {
     "data": {
      "text/plain": [
       "<Figure size 720x720 with 0 Axes>"
      ]
     },
     "metadata": {},
     "output_type": "display_data"
    },
    {
     "data": {
      "image/png": "[encoded data removed]",
      "text/plain": [
       "<Figure size 432x288 with 1 Axes>"
      ]
     },
     "metadata": {
      "needs_background": "light"
     },
     "output_type": "display_data"
    }
   ],
   "source": [
    "#Plotting outliers to make sure whether there are any more outliers in each columns\n",
    "# Still there are some more outliers\n",
    "plt.figure(figsize=(10,10))\n",
    "df.plot.box(title='Boxplot Employee Performance',rot=90)\n",
    "\n",
    "plt.show()"
   ]
  },
  {
   "cell_type": "markdown",
   "id": "9d547a7c",
   "metadata": {},
   "source": [
    "#### Removing outliers until each column is left with 0 outliers"
   ]
  },
  {
   "cell_type": "markdown",
   "id": "668f36c0",
   "metadata": {},
   "source": [
    "##### YearsSinceLastPromotion"
   ]
  },
  {
   "cell_type": "code",
   "execution_count": 20,
   "id": "b6e69b12",
   "metadata": {},
   "outputs": [
    {
     "data": {
      "text/plain": [
       "<AxesSubplot:xlabel='YearsSinceLastPromotion'>"
      ]
     },
     "execution_count": 20,
     "metadata": {},
     "output_type": "execute_result"
    },
    {
     "data": {
      "image/png": "[encoded data removed]",
      "text/plain": [
       "<Figure size 432x288 with 1 Axes>"
      ]
     },
     "metadata": {
      "needs_background": "light"
     },
     "output_type": "display_data"
    }
   ],
   "source": [
    "#Box plot of YearsSinceLastPromotion column\n",
    "sns.boxplot(df['YearsSinceLastPromotion'])"
   ]
  },
  {
   "cell_type": "code",
   "execution_count": 21,
   "id": "635cbc37",
   "metadata": {},
   "outputs": [
    {
     "name": "stdout",
     "output_type": "stream",
     "text": [
      "(1009, 35)\n"
     ]
    },
    {
     "data": {
      "text/plain": [
       "<AxesSubplot:xlabel='YearsSinceLastPromotion'>"
      ]
     },
     "execution_count": 21,
     "metadata": {},
     "output_type": "execute_result"
    },
    {
     "data": {
      "image/png": "[encoded data removed]",
      "text/plain": [
       "<Figure size 432x288 with 1 Axes>"
      ]
     },
     "metadata": {
      "needs_background": "light"
     },
     "output_type": "display_data"
    }
   ],
   "source": [
    "#finding upper fence value as the outliers relies after the upper fence\n",
    "Q1 = df[\"YearsSinceLastPromotion\"].quantile(0.25)\n",
    "Q3 = df[\"YearsSinceLastPromotion\"].quantile(0.75)\n",
    "IQR = Q3 - Q1\n",
    "Upper_Fence = Q3 + (1.5 * IQR)\n",
    "Upper_Fence\n",
    "\n",
    "#Finding outliers \n",
    "#np.where(df['YearsSinceLastPromotion']>Upper_Fence)\n",
    "\n",
    "#finding upper fence and trimming the dataset\n",
    "df = df[df['YearsSinceLastPromotion'] < Upper_Fence]\n",
    "print(df.shape)\n",
    "\n",
    "#Box plot of YearsSinceLastPromotion column\n",
    "sns.boxplot(df['YearsSinceLastPromotion'])"
   ]
  },
  {
   "cell_type": "code",
   "execution_count": 22,
   "id": "31f64755",
   "metadata": {},
   "outputs": [
    {
     "name": "stdout",
     "output_type": "stream",
     "text": [
      "(928, 35)\n"
     ]
    },
    {
     "data": {
      "text/plain": [
       "<AxesSubplot:xlabel='YearsSinceLastPromotion'>"
      ]
     },
     "execution_count": 22,
     "metadata": {},
     "output_type": "execute_result"
    },
    {
     "data": {
      "image/png": "[encoded data removed]",
      "text/plain": [
       "<Figure size 432x288 with 1 Axes>"
      ]
     },
     "metadata": {
      "needs_background": "light"
     },
     "output_type": "display_data"
    }
   ],
   "source": [
    "#finding upper fence value as the outliers relies after the upper fence\n",
    "Q1 = df[\"YearsSinceLastPromotion\"].quantile(0.25)\n",
    "Q3 = df[\"YearsSinceLastPromotion\"].quantile(0.75)\n",
    "IQR = Q3 - Q1\n",
    "Upper_Fence = Q3 + (1.5 * IQR)\n",
    "Upper_Fence\n",
    "\n",
    "#Finding outliers \n",
    "#np.where(df['YearsSinceLastPromotion']>Upper_Fence)\n",
    "\n",
    "#finding upper fence and trimming the dataset\n",
    "df = df[df['YearsSinceLastPromotion'] < Upper_Fence]\n",
    "print(df.shape)\n",
    "\n",
    "#Box plot of YearsSinceLastPromotion column\n",
    "sns.boxplot(df['YearsSinceLastPromotion'])"
   ]
  },
  {
   "cell_type": "markdown",
   "id": "d0cd02a2",
   "metadata": {},
   "source": [
    "##### YearsAtCompany"
   ]
  },
  {
   "cell_type": "code",
   "execution_count": 23,
   "id": "d66b84ff",
   "metadata": {},
   "outputs": [
    {
     "data": {
      "text/plain": [
       "<AxesSubplot:xlabel='YearsAtCompany'>"
      ]
     },
     "execution_count": 23,
     "metadata": {},
     "output_type": "execute_result"
    },
    {
     "data": {
      "image/png": "[encoded data removed]",
      "text/plain": [
       "<Figure size 432x288 with 1 Axes>"
      ]
     },
     "metadata": {
      "needs_background": "light"
     },
     "output_type": "display_data"
    }
   ],
   "source": [
    "#Box plot of YearsAtCompany column\n",
    "sns.boxplot(df['YearsAtCompany'])"
   ]
  },
  {
   "cell_type": "code",
   "execution_count": 24,
   "id": "9716e284",
   "metadata": {},
   "outputs": [
    {
     "name": "stdout",
     "output_type": "stream",
     "text": [
      "(907, 35)\n"
     ]
    },
    {
     "data": {
      "text/plain": [
       "<AxesSubplot:xlabel='YearsAtCompany'>"
      ]
     },
     "execution_count": 24,
     "metadata": {},
     "output_type": "execute_result"
    },
    {
     "data": {
      "image/png": "[encoded data removed]",
      "text/plain": [
       "<Figure size 432x288 with 1 Axes>"
      ]
     },
     "metadata": {
      "needs_background": "light"
     },
     "output_type": "display_data"
    }
   ],
   "source": [
    "#finding upper fence value as the outliers relies after the upper fence\n",
    "Q1 = df[\"YearsAtCompany\"].quantile(0.25)\n",
    "Q3 = df[\"YearsAtCompany\"].quantile(0.75)\n",
    "IQR = Q3 - Q1\n",
    "Upper_Fence = Q3 + (1.5 * IQR)\n",
    "Upper_Fence\n",
    "\n",
    "#finding upper fence and trimming the dataset\n",
    "df = df[df['YearsAtCompany'] < Upper_Fence]\n",
    "print(df.shape)\n",
    "\n",
    "sns.boxplot(df['YearsAtCompany'])"
   ]
  },
  {
   "cell_type": "markdown",
   "id": "0e54766f",
   "metadata": {},
   "source": [
    "##### NumCompaniesWorked"
   ]
  },
  {
   "cell_type": "code",
   "execution_count": 25,
   "id": "ad23c866",
   "metadata": {},
   "outputs": [
    {
     "data": {
      "text/plain": [
       "<AxesSubplot:xlabel='NumCompaniesWorked'>"
      ]
     },
     "execution_count": 25,
     "metadata": {},
     "output_type": "execute_result"
    },
    {
     "data": {
      "image/png": "[encoded data removed]",
      "text/plain": [
       "<Figure size 432x288 with 1 Axes>"
      ]
     },
     "metadata": {
      "needs_background": "light"
     },
     "output_type": "display_data"
    }
   ],
   "source": [
    "#Box plot of NumCompaniesWorked column\n",
    "sns.boxplot(df['NumCompaniesWorked'])"
   ]
  },
  {
   "cell_type": "markdown",
   "id": "60c89189",
   "metadata": {},
   "source": [
    "##### MonthlyIncome"
   ]
  },
  {
   "cell_type": "code",
   "execution_count": 26,
   "id": "a760c408",
   "metadata": {},
   "outputs": [
    {
     "data": {
      "text/plain": [
       "<AxesSubplot:xlabel='MonthlyIncome'>"
      ]
     },
     "execution_count": 26,
     "metadata": {},
     "output_type": "execute_result"
    },
    {
     "data": {
      "image/png": "[encoded data removed]",
      "text/plain": [
       "<Figure size 432x288 with 1 Axes>"
      ]
     },
     "metadata": {
      "needs_background": "light"
     },
     "output_type": "display_data"
    }
   ],
   "source": [
    "#Box plot of MonthlyIncome column\n",
    "sns.boxplot(df['MonthlyIncome'])"
   ]
  },
  {
   "cell_type": "code",
   "execution_count": 27,
   "id": "5b627aed",
   "metadata": {},
   "outputs": [
    {
     "name": "stdout",
     "output_type": "stream",
     "text": [
      "(886, 35)\n"
     ]
    },
    {
     "data": {
      "text/plain": [
       "<AxesSubplot:xlabel='MonthlyIncome'>"
      ]
     },
     "execution_count": 27,
     "metadata": {},
     "output_type": "execute_result"
    },
    {
     "data": {
      "image/png": "[encoded data removed]",
      "text/plain": [
       "<Figure size 432x288 with 1 Axes>"
      ]
     },
     "metadata": {
      "needs_background": "light"
     },
     "output_type": "display_data"
    }
   ],
   "source": [
    "#finding upper fence value as the outliers relies after the upper fence\n",
    "Q1 = df[\"MonthlyIncome\"].quantile(0.25)\n",
    "Q3 = df[\"MonthlyIncome\"].quantile(0.75)\n",
    "IQR = Q3 - Q1\n",
    "Upper_Fence = Q3 + (1.5 * IQR)\n",
    "Upper_Fence\n",
    "\n",
    "#finding upper fence and trimming the dataset\n",
    "df = df[df['MonthlyIncome'] < Upper_Fence]\n",
    "print(df.shape)\n",
    "\n",
    "sns.boxplot(df['MonthlyIncome'])"
   ]
  },
  {
   "cell_type": "code",
   "execution_count": 28,
   "id": "9905c0a6",
   "metadata": {},
   "outputs": [
    {
     "name": "stdout",
     "output_type": "stream",
     "text": [
      "(874, 35)\n"
     ]
    },
    {
     "data": {
      "text/plain": [
       "<AxesSubplot:xlabel='MonthlyIncome'>"
      ]
     },
     "execution_count": 28,
     "metadata": {},
     "output_type": "execute_result"
    },
    {
     "data": {
      "image/png": "[encoded data removed]",
      "text/plain": [
       "<Figure size 432x288 with 1 Axes>"
      ]
     },
     "metadata": {
      "needs_background": "light"
     },
     "output_type": "display_data"
    }
   ],
   "source": [
    "#finding upper fence value as the outliers relies after the upper fence\n",
    "Q1 = df[\"MonthlyIncome\"].quantile(0.25)\n",
    "Q3 = df[\"MonthlyIncome\"].quantile(0.75)\n",
    "IQR = Q3 - Q1\n",
    "Upper_Fence = Q3 + (1.5 * IQR)\n",
    "Upper_Fence\n",
    "\n",
    "#finding upper fence and trimming the dataset\n",
    "df = df[df['MonthlyIncome'] < Upper_Fence]\n",
    "print(df.shape)\n",
    "\n",
    "sns.boxplot(df['MonthlyIncome'])"
   ]
  },
  {
   "cell_type": "code",
   "execution_count": 29,
   "id": "0a250260",
   "metadata": {},
   "outputs": [
    {
     "name": "stdout",
     "output_type": "stream",
     "text": [
      "(867, 35)\n"
     ]
    },
    {
     "data": {
      "text/plain": [
       "<AxesSubplot:xlabel='MonthlyIncome'>"
      ]
     },
     "execution_count": 29,
     "metadata": {},
     "output_type": "execute_result"
    },
    {
     "data": {
      "image/png": "[encoded data removed]",
      "text/plain": [
       "<Figure size 432x288 with 1 Axes>"
      ]
     },
     "metadata": {
      "needs_background": "light"
     },
     "output_type": "display_data"
    }
   ],
   "source": [
    "#finding upper fence value as the outliers relies after the upper fence\n",
    "Q1 = df[\"MonthlyIncome\"].quantile(0.25)\n",
    "Q3 = df[\"MonthlyIncome\"].quantile(0.75)\n",
    "IQR = Q3 - Q1\n",
    "Upper_Fence = Q3 + (1.5 * IQR)\n",
    "Upper_Fence\n",
    "\n",
    "#finding upper fence and trimming the dataset\n",
    "df = df[df['MonthlyIncome'] < Upper_Fence]\n",
    "print(df.shape)\n",
    "\n",
    "sns.boxplot(df['MonthlyIncome'])"
   ]
  },
  {
   "cell_type": "code",
   "execution_count": 30,
   "id": "17767790",
   "metadata": {},
   "outputs": [
    {
     "name": "stdout",
     "output_type": "stream",
     "text": [
      "(865, 35)\n"
     ]
    },
    {
     "data": {
      "text/plain": [
       "<AxesSubplot:xlabel='MonthlyIncome'>"
      ]
     },
     "execution_count": 30,
     "metadata": {},
     "output_type": "execute_result"
    },
    {
     "data": {
      "image/png": "[encoded data removed]",
      "text/plain": [
       "<Figure size 432x288 with 1 Axes>"
      ]
     },
     "metadata": {
      "needs_background": "light"
     },
     "output_type": "display_data"
    }
   ],
   "source": [
    "#finding upper fence value as the outliers relies after the upper fence\n",
    "Q1 = df[\"MonthlyIncome\"].quantile(0.25)\n",
    "Q3 = df[\"MonthlyIncome\"].quantile(0.75)\n",
    "IQR = Q3 - Q1\n",
    "Upper_Fence = Q3 + (1.5 * IQR)\n",
    "Upper_Fence\n",
    "\n",
    "#finding upper fence and trimming the dataset\n",
    "df = df[df['MonthlyIncome'] < Upper_Fence]\n",
    "print(df.shape)\n",
    "\n",
    "sns.boxplot(df['MonthlyIncome'])"
   ]
  },
  {
   "cell_type": "code",
   "execution_count": 31,
   "id": "4876d8ac",
   "metadata": {},
   "outputs": [
    {
     "name": "stdout",
     "output_type": "stream",
     "text": [
      "(862, 35)\n"
     ]
    },
    {
     "data": {
      "text/plain": [
       "<AxesSubplot:xlabel='MonthlyIncome'>"
      ]
     },
     "execution_count": 31,
     "metadata": {},
     "output_type": "execute_result"
    },
    {
     "data": {
      "image/png": "[encoded data removed]",
      "text/plain": [
       "<Figure size 432x288 with 1 Axes>"
      ]
     },
     "metadata": {
      "needs_background": "light"
     },
     "output_type": "display_data"
    }
   ],
   "source": [
    "#finding upper fence value as the outliers relies after the upper fence\n",
    "Q1 = df[\"MonthlyIncome\"].quantile(0.25)\n",
    "Q3 = df[\"MonthlyIncome\"].quantile(0.75)\n",
    "IQR = Q3 - Q1\n",
    "Upper_Fence = Q3 + (1.5 * IQR)\n",
    "Upper_Fence\n",
    "\n",
    "#finding upper fence and trimming the dataset\n",
    "df = df[df['MonthlyIncome'] < Upper_Fence]\n",
    "print(df.shape)\n",
    "\n",
    "sns.boxplot(df['MonthlyIncome'])"
   ]
  },
  {
   "cell_type": "markdown",
   "id": "dabac4ce",
   "metadata": {},
   "source": [
    "##### TotalWorkingYears"
   ]
  },
  {
   "cell_type": "code",
   "execution_count": 32,
   "id": "69d6e71d",
   "metadata": {},
   "outputs": [
    {
     "data": {
      "text/plain": [
       "<AxesSubplot:xlabel='TotalWorkingYears'>"
      ]
     },
     "execution_count": 32,
     "metadata": {},
     "output_type": "execute_result"
    },
    {
     "data": {
      "image/png": "[encoded data removed]",
      "text/plain": [
       "<Figure size 432x288 with 1 Axes>"
      ]
     },
     "metadata": {
      "needs_background": "light"
     },
     "output_type": "display_data"
    }
   ],
   "source": [
    "#Box plot of TotalWorkingYears column.\n",
    "sns.boxplot(df['TotalWorkingYears'])"
   ]
  },
  {
   "cell_type": "code",
   "execution_count": 33,
   "id": "74f37c12",
   "metadata": {},
   "outputs": [
    {
     "name": "stdout",
     "output_type": "stream",
     "text": [
      "(850, 35)\n"
     ]
    },
    {
     "data": {
      "text/plain": [
       "<AxesSubplot:xlabel='TotalWorkingYears'>"
      ]
     },
     "execution_count": 33,
     "metadata": {},
     "output_type": "execute_result"
    },
    {
     "data": {
      "image/png": "[encoded data removed]",
      "text/plain": [
       "<Figure size 432x288 with 1 Axes>"
      ]
     },
     "metadata": {
      "needs_background": "light"
     },
     "output_type": "display_data"
    }
   ],
   "source": [
    "#finding upper fence value as the outliers relies after the upper fence\n",
    "Q1 = df[\"TotalWorkingYears\"].quantile(0.25)\n",
    "Q3 = df[\"TotalWorkingYears\"].quantile(0.75)\n",
    "IQR = Q3 - Q1\n",
    "Upper_Fence = Q3 + (1.5 * IQR)\n",
    "Upper_Fence\n",
    "\n",
    "#finding upper fence and trimming the dataset\n",
    "df = df[df['TotalWorkingYears'] < Upper_Fence]\n",
    "print(df.shape)\n",
    "\n",
    "sns.boxplot(df['TotalWorkingYears'])"
   ]
  },
  {
   "cell_type": "code",
   "execution_count": 34,
   "id": "e94cecf8",
   "metadata": {},
   "outputs": [
    {
     "name": "stdout",
     "output_type": "stream",
     "text": [
      "<class 'pandas.core.frame.DataFrame'>\n",
      "Int64Index: 686 entries, 1 to 1469\n",
      "Data columns (total 35 columns):\n",
      " #   Column                    Non-Null Count  Dtype \n",
      "---  ------                    --------------  ----- \n",
      " 0   Age                       686 non-null    int64 \n",
      " 1   Attrition                 686 non-null    object\n",
      " 2   BusinessTravel            686 non-null    object\n",
      " 3   DailyRate                 686 non-null    int64 \n",
      " 4   Department                686 non-null    object\n",
      " 5   DistanceFromHome          686 non-null    int64 \n",
      " 6   Education                 686 non-null    int64 \n",
      " 7   EducationField            686 non-null    object\n",
      " 8   EmployeeCount             686 non-null    int64 \n",
      " 9   EmployeeNumber            686 non-null    int64 \n",
      " 10  EnvironmentSatisfaction   686 non-null    int64 \n",
      " 11  Gender                    686 non-null    object\n",
      " 12  PerformanceScore          686 non-null    int64 \n",
      " 13  JobInvolvement            686 non-null    int64 \n",
      " 14  JobLevel                  686 non-null    int64 \n",
      " 15  JobRole                   686 non-null    object\n",
      " 16  JobSatisfaction           686 non-null    int64 \n",
      " 17  MaritalStatus             686 non-null    object\n",
      " 18  MonthlyIncome             686 non-null    int64 \n",
      " 19  MonthlyRate               686 non-null    int64 \n",
      " 20  NumCompaniesWorked        686 non-null    int64 \n",
      " 21  Over18                    686 non-null    object\n",
      " 22  OverTime                  686 non-null    object\n",
      " 23  PercentSalaryHike         686 non-null    int64 \n",
      " 24  PerformanceRating         686 non-null    int64 \n",
      " 25  RelationshipSatisfaction  686 non-null    int64 \n",
      " 26  StandardHours             686 non-null    int64 \n",
      " 27  StockOptionLevel          686 non-null    int64 \n",
      " 28  TotalWorkingYears         686 non-null    int64 \n",
      " 29  TrainingTimesLastYear     686 non-null    int64 \n",
      " 30  WorkLifeBalance           686 non-null    int64 \n",
      " 31  YearsAtCompany            686 non-null    int64 \n",
      " 32  YearsInCurrentRole        686 non-null    int64 \n",
      " 33  YearsSinceLastPromotion   686 non-null    int64 \n",
      " 34  YearsWithCurrManager      686 non-null    int64 \n",
      "dtypes: int64(26), object(9)\n",
      "memory usage: 192.9+ KB\n"
     ]
    }
   ],
   "source": [
    "#Filtering only the currently working employee's data\n",
    "df = df[df[\"Attrition\"] == \"No\"]\n",
    "df.info()"
   ]
  },
  {
   "cell_type": "code",
   "execution_count": 35,
   "id": "393a97b9",
   "metadata": {},
   "outputs": [
    {
     "data": {
      "text/plain": [
       "<Figure size 720x720 with 0 Axes>"
      ]
     },
     "metadata": {},
     "output_type": "display_data"
    },
    {
     "data": {
      "image/png": "[encoded data removed]",
      "text/plain": [
       "<Figure size 432x288 with 1 Axes>"
      ]
     },
     "metadata": {
      "needs_background": "light"
     },
     "output_type": "display_data"
    }
   ],
   "source": [
    "#Plotting outliers in each columns\n",
    "plt.figure(figsize=(10,10))\n",
    "df.plot.box(title='Boxplot Employee Performance',rot=90)\n",
    "\n",
    "plt.show()"
   ]
  },
  {
   "cell_type": "code",
   "execution_count": 36,
   "id": "974f46b7",
   "metadata": {},
   "outputs": [
    {
     "data": {
      "text/html": [
       "<div>\n",
       "<style scoped>\n",
       "    .dataframe tbody tr th:only-of-type {\n",
       "        vertical-align: middle;\n",
       "    }\n",
       "\n",
       "    .dataframe tbody tr th {\n",
       "        vertical-align: top;\n",
       "    }\n",
       "\n",
       "    .dataframe thead th {\n",
       "        text-align: right;\n",
       "    }\n",
       "</style>\n",
       "<table border=\"1\" class=\"dataframe\">\n",
       "  <thead>\n",
       "    <tr style=\"text-align: right;\">\n",
       "      <th></th>\n",
       "      <th>Age</th>\n",
       "      <th>Attrition</th>\n",
       "      <th>BusinessTravel</th>\n",
       "      <th>DailyRate</th>\n",
       "      <th>Department</th>\n",
       "      <th>DistanceFromHome</th>\n",
       "      <th>Education</th>\n",
       "      <th>EducationField</th>\n",
       "      <th>EmployeeCount</th>\n",
       "      <th>EmployeeNumber</th>\n",
       "      <th>...</th>\n",
       "      <th>RelationshipSatisfaction</th>\n",
       "      <th>StandardHours</th>\n",
       "      <th>StockOptionLevel</th>\n",
       "      <th>TotalWorkingYears</th>\n",
       "      <th>TrainingTimesLastYear</th>\n",
       "      <th>WorkLifeBalance</th>\n",
       "      <th>YearsAtCompany</th>\n",
       "      <th>YearsInCurrentRole</th>\n",
       "      <th>YearsSinceLastPromotion</th>\n",
       "      <th>YearsWithCurrManager</th>\n",
       "    </tr>\n",
       "  </thead>\n",
       "  <tbody>\n",
       "    <tr>\n",
       "      <th>1</th>\n",
       "      <td>49</td>\n",
       "      <td>No</td>\n",
       "      <td>Travel_Frequently</td>\n",
       "      <td>279</td>\n",
       "      <td>Research &amp; Development</td>\n",
       "      <td>8</td>\n",
       "      <td>1</td>\n",
       "      <td>Life Sciences</td>\n",
       "      <td>1</td>\n",
       "      <td>2</td>\n",
       "      <td>...</td>\n",
       "      <td>4</td>\n",
       "      <td>80</td>\n",
       "      <td>1</td>\n",
       "      <td>10</td>\n",
       "      <td>3</td>\n",
       "      <td>3</td>\n",
       "      <td>10</td>\n",
       "      <td>7</td>\n",
       "      <td>1</td>\n",
       "      <td>7</td>\n",
       "    </tr>\n",
       "    <tr>\n",
       "      <th>6</th>\n",
       "      <td>59</td>\n",
       "      <td>No</td>\n",
       "      <td>Travel_Rarely</td>\n",
       "      <td>1324</td>\n",
       "      <td>Research &amp; Development</td>\n",
       "      <td>3</td>\n",
       "      <td>3</td>\n",
       "      <td>Medical</td>\n",
       "      <td>1</td>\n",
       "      <td>10</td>\n",
       "      <td>...</td>\n",
       "      <td>1</td>\n",
       "      <td>80</td>\n",
       "      <td>3</td>\n",
       "      <td>12</td>\n",
       "      <td>3</td>\n",
       "      <td>2</td>\n",
       "      <td>1</td>\n",
       "      <td>0</td>\n",
       "      <td>0</td>\n",
       "      <td>0</td>\n",
       "    </tr>\n",
       "    <tr>\n",
       "      <th>7</th>\n",
       "      <td>30</td>\n",
       "      <td>No</td>\n",
       "      <td>Travel_Rarely</td>\n",
       "      <td>1358</td>\n",
       "      <td>Research &amp; Development</td>\n",
       "      <td>24</td>\n",
       "      <td>1</td>\n",
       "      <td>Life Sciences</td>\n",
       "      <td>1</td>\n",
       "      <td>11</td>\n",
       "      <td>...</td>\n",
       "      <td>2</td>\n",
       "      <td>80</td>\n",
       "      <td>1</td>\n",
       "      <td>1</td>\n",
       "      <td>2</td>\n",
       "      <td>3</td>\n",
       "      <td>1</td>\n",
       "      <td>0</td>\n",
       "      <td>0</td>\n",
       "      <td>0</td>\n",
       "    </tr>\n",
       "    <tr>\n",
       "      <th>10</th>\n",
       "      <td>35</td>\n",
       "      <td>No</td>\n",
       "      <td>Travel_Rarely</td>\n",
       "      <td>809</td>\n",
       "      <td>Research &amp; Development</td>\n",
       "      <td>16</td>\n",
       "      <td>3</td>\n",
       "      <td>Medical</td>\n",
       "      <td>1</td>\n",
       "      <td>14</td>\n",
       "      <td>...</td>\n",
       "      <td>3</td>\n",
       "      <td>80</td>\n",
       "      <td>1</td>\n",
       "      <td>6</td>\n",
       "      <td>5</td>\n",
       "      <td>3</td>\n",
       "      <td>5</td>\n",
       "      <td>4</td>\n",
       "      <td>0</td>\n",
       "      <td>3</td>\n",
       "    </tr>\n",
       "    <tr>\n",
       "      <th>11</th>\n",
       "      <td>29</td>\n",
       "      <td>No</td>\n",
       "      <td>Travel_Rarely</td>\n",
       "      <td>153</td>\n",
       "      <td>Research &amp; Development</td>\n",
       "      <td>15</td>\n",
       "      <td>2</td>\n",
       "      <td>Life Sciences</td>\n",
       "      <td>1</td>\n",
       "      <td>15</td>\n",
       "      <td>...</td>\n",
       "      <td>4</td>\n",
       "      <td>80</td>\n",
       "      <td>0</td>\n",
       "      <td>10</td>\n",
       "      <td>3</td>\n",
       "      <td>3</td>\n",
       "      <td>9</td>\n",
       "      <td>5</td>\n",
       "      <td>0</td>\n",
       "      <td>8</td>\n",
       "    </tr>\n",
       "    <tr>\n",
       "      <th>...</th>\n",
       "      <td>...</td>\n",
       "      <td>...</td>\n",
       "      <td>...</td>\n",
       "      <td>...</td>\n",
       "      <td>...</td>\n",
       "      <td>...</td>\n",
       "      <td>...</td>\n",
       "      <td>...</td>\n",
       "      <td>...</td>\n",
       "      <td>...</td>\n",
       "      <td>...</td>\n",
       "      <td>...</td>\n",
       "      <td>...</td>\n",
       "      <td>...</td>\n",
       "      <td>...</td>\n",
       "      <td>...</td>\n",
       "      <td>...</td>\n",
       "      <td>...</td>\n",
       "      <td>...</td>\n",
       "      <td>...</td>\n",
       "      <td>...</td>\n",
       "    </tr>\n",
       "    <tr>\n",
       "      <th>1464</th>\n",
       "      <td>26</td>\n",
       "      <td>No</td>\n",
       "      <td>Travel_Rarely</td>\n",
       "      <td>1167</td>\n",
       "      <td>Sales</td>\n",
       "      <td>5</td>\n",
       "      <td>3</td>\n",
       "      <td>Other</td>\n",
       "      <td>1</td>\n",
       "      <td>2060</td>\n",
       "      <td>...</td>\n",
       "      <td>4</td>\n",
       "      <td>80</td>\n",
       "      <td>0</td>\n",
       "      <td>5</td>\n",
       "      <td>2</td>\n",
       "      <td>3</td>\n",
       "      <td>4</td>\n",
       "      <td>2</td>\n",
       "      <td>0</td>\n",
       "      <td>0</td>\n",
       "    </tr>\n",
       "    <tr>\n",
       "      <th>1465</th>\n",
       "      <td>36</td>\n",
       "      <td>No</td>\n",
       "      <td>Travel_Frequently</td>\n",
       "      <td>884</td>\n",
       "      <td>Research &amp; Development</td>\n",
       "      <td>23</td>\n",
       "      <td>2</td>\n",
       "      <td>Medical</td>\n",
       "      <td>1</td>\n",
       "      <td>2061</td>\n",
       "      <td>...</td>\n",
       "      <td>3</td>\n",
       "      <td>80</td>\n",
       "      <td>1</td>\n",
       "      <td>17</td>\n",
       "      <td>3</td>\n",
       "      <td>3</td>\n",
       "      <td>5</td>\n",
       "      <td>2</td>\n",
       "      <td>0</td>\n",
       "      <td>3</td>\n",
       "    </tr>\n",
       "    <tr>\n",
       "      <th>1467</th>\n",
       "      <td>27</td>\n",
       "      <td>No</td>\n",
       "      <td>Travel_Rarely</td>\n",
       "      <td>155</td>\n",
       "      <td>Research &amp; Development</td>\n",
       "      <td>4</td>\n",
       "      <td>3</td>\n",
       "      <td>Life Sciences</td>\n",
       "      <td>1</td>\n",
       "      <td>2064</td>\n",
       "      <td>...</td>\n",
       "      <td>2</td>\n",
       "      <td>80</td>\n",
       "      <td>1</td>\n",
       "      <td>6</td>\n",
       "      <td>0</td>\n",
       "      <td>3</td>\n",
       "      <td>6</td>\n",
       "      <td>2</td>\n",
       "      <td>0</td>\n",
       "      <td>3</td>\n",
       "    </tr>\n",
       "    <tr>\n",
       "      <th>1468</th>\n",
       "      <td>49</td>\n",
       "      <td>No</td>\n",
       "      <td>Travel_Frequently</td>\n",
       "      <td>1023</td>\n",
       "      <td>Sales</td>\n",
       "      <td>2</td>\n",
       "      <td>3</td>\n",
       "      <td>Medical</td>\n",
       "      <td>1</td>\n",
       "      <td>2065</td>\n",
       "      <td>...</td>\n",
       "      <td>4</td>\n",
       "      <td>80</td>\n",
       "      <td>0</td>\n",
       "      <td>17</td>\n",
       "      <td>3</td>\n",
       "      <td>2</td>\n",
       "      <td>9</td>\n",
       "      <td>6</td>\n",
       "      <td>0</td>\n",
       "      <td>8</td>\n",
       "    </tr>\n",
       "    <tr>\n",
       "      <th>1469</th>\n",
       "      <td>34</td>\n",
       "      <td>No</td>\n",
       "      <td>Travel_Rarely</td>\n",
       "      <td>628</td>\n",
       "      <td>Research &amp; Development</td>\n",
       "      <td>8</td>\n",
       "      <td>3</td>\n",
       "      <td>Medical</td>\n",
       "      <td>1</td>\n",
       "      <td>2068</td>\n",
       "      <td>...</td>\n",
       "      <td>1</td>\n",
       "      <td>80</td>\n",
       "      <td>0</td>\n",
       "      <td>6</td>\n",
       "      <td>3</td>\n",
       "      <td>4</td>\n",
       "      <td>4</td>\n",
       "      <td>3</td>\n",
       "      <td>1</td>\n",
       "      <td>2</td>\n",
       "    </tr>\n",
       "  </tbody>\n",
       "</table>\n",
       "<p>686 rows × 35 columns</p>\n",
       "</div>"
      ],
      "text/plain": [
       "      Age Attrition     BusinessTravel  DailyRate              Department  \\\n",
       "1      49        No  Travel_Frequently        279  Research & Development   \n",
       "6      59        No      Travel_Rarely       1324  Research & Development   \n",
       "7      30        No      Travel_Rarely       1358  Research & Development   \n",
       "10     35        No      Travel_Rarely        809  Research & Development   \n",
       "11     29        No      Travel_Rarely        153  Research & Development   \n",
       "...   ...       ...                ...        ...                     ...   \n",
       "1464   26        No      Travel_Rarely       1167                   Sales   \n",
       "1465   36        No  Travel_Frequently        884  Research & Development   \n",
       "1467   27        No      Travel_Rarely        155  Research & Development   \n",
       "1468   49        No  Travel_Frequently       1023                   Sales   \n",
       "1469   34        No      Travel_Rarely        628  Research & Development   \n",
       "\n",
       "      DistanceFromHome  Education EducationField  EmployeeCount  \\\n",
       "1                    8          1  Life Sciences              1   \n",
       "6                    3          3        Medical              1   \n",
       "7                   24          1  Life Sciences              1   \n",
       "10                  16          3        Medical              1   \n",
       "11                  15          2  Life Sciences              1   \n",
       "...                ...        ...            ...            ...   \n",
       "1464                 5          3          Other              1   \n",
       "1465                23          2        Medical              1   \n",
       "1467                 4          3  Life Sciences              1   \n",
       "1468                 2          3        Medical              1   \n",
       "1469                 8          3        Medical              1   \n",
       "\n",
       "      EmployeeNumber  ...  RelationshipSatisfaction StandardHours  \\\n",
       "1                  2  ...                         4            80   \n",
       "6                 10  ...                         1            80   \n",
       "7                 11  ...                         2            80   \n",
       "10                14  ...                         3            80   \n",
       "11                15  ...                         4            80   \n",
       "...              ...  ...                       ...           ...   \n",
       "1464            2060  ...                         4            80   \n",
       "1465            2061  ...                         3            80   \n",
       "1467            2064  ...                         2            80   \n",
       "1468            2065  ...                         4            80   \n",
       "1469            2068  ...                         1            80   \n",
       "\n",
       "      StockOptionLevel  TotalWorkingYears  TrainingTimesLastYear  \\\n",
       "1                    1                 10                      3   \n",
       "6                    3                 12                      3   \n",
       "7                    1                  1                      2   \n",
       "10                   1                  6                      5   \n",
       "11                   0                 10                      3   \n",
       "...                ...                ...                    ...   \n",
       "1464                 0                  5                      2   \n",
       "1465                 1                 17                      3   \n",
       "1467                 1                  6                      0   \n",
       "1468                 0                 17                      3   \n",
       "1469                 0                  6                      3   \n",
       "\n",
       "     WorkLifeBalance  YearsAtCompany YearsInCurrentRole  \\\n",
       "1                  3              10                  7   \n",
       "6                  2               1                  0   \n",
       "7                  3               1                  0   \n",
       "10                 3               5                  4   \n",
       "11                 3               9                  5   \n",
       "...              ...             ...                ...   \n",
       "1464               3               4                  2   \n",
       "1465               3               5                  2   \n",
       "1467               3               6                  2   \n",
       "1468               2               9                  6   \n",
       "1469               4               4                  3   \n",
       "\n",
       "      YearsSinceLastPromotion  YearsWithCurrManager  \n",
       "1                           1                     7  \n",
       "6                           0                     0  \n",
       "7                           0                     0  \n",
       "10                          0                     3  \n",
       "11                          0                     8  \n",
       "...                       ...                   ...  \n",
       "1464                        0                     0  \n",
       "1465                        0                     3  \n",
       "1467                        0                     3  \n",
       "1468                        0                     8  \n",
       "1469                        1                     2  \n",
       "\n",
       "[686 rows x 35 columns]"
      ]
     },
     "execution_count": 36,
     "metadata": {},
     "output_type": "execute_result"
    }
   ],
   "source": [
    "df"
   ]
  },
  {
   "cell_type": "code",
   "execution_count": 37,
   "id": "e3ec65b6",
   "metadata": {},
   "outputs": [
    {
     "data": {
      "image/png": "[encoded data removed]",
      "text/plain": [
       "<Figure size 1080x720 with 2 Axes>"
      ]
     },
     "metadata": {
      "needs_background": "light"
     },
     "output_type": "display_data"
    }
   ],
   "source": [
    "plt.figure(figsize=(15,10))\n",
    "plt.subplot(2,2,1)\n",
    "sns.barplot(df['Department'],df['PercentSalaryHike'])\n",
    "plt.subplot(2,2,2)\n",
    "sns.barplot(df['Department'],df['PerformanceScore'])\n",
    "plt.show()"
   ]
  },
  {
   "cell_type": "code",
   "execution_count": 38,
   "id": "b18e86ef",
   "metadata": {},
   "outputs": [
    {
     "data": {
      "image/png": "[encoded data removed]",
      "text/plain": [
       "<Figure size 2160x1440 with 2 Axes>"
      ]
     },
     "metadata": {
      "needs_background": "light"
     },
     "output_type": "display_data"
    }
   ],
   "source": [
    "plt.figure(figsize=(30,20))\n",
    "plt.subplot(2,2,1)\n",
    "sns.barplot(df['JobRole'],df['PercentSalaryHike'])\n",
    "plt.subplot(2,2,2)\n",
    "sns.barplot(df['JobRole'],df['PerformanceScore'])\n",
    "plt.show()"
   ]
  },
  {
   "cell_type": "code",
   "execution_count": 39,
   "id": "4168e637",
   "metadata": {},
   "outputs": [
    {
     "data": {
      "text/plain": [
       "Department              PercentSalaryHike\n",
       "Human Resources         11                    9\n",
       "                        13                    5\n",
       "                        16                    3\n",
       "                        21                    3\n",
       "                        14                    2\n",
       "                        17                    2\n",
       "                        19                    2\n",
       "                        12                    1\n",
       "                        15                    1\n",
       "                        18                    1\n",
       "                        22                    1\n",
       "Research & Development  13                   64\n",
       "                        12                   61\n",
       "                        14                   61\n",
       "                        11                   52\n",
       "                        16                   32\n",
       "                        17                   32\n",
       "                        18                   31\n",
       "                        15                   30\n",
       "                        20                   25\n",
       "                        19                   23\n",
       "                        22                   16\n",
       "                        21                   12\n",
       "                        23                    8\n",
       "                        25                    5\n",
       "                        24                    4\n",
       "Sales                   12                   30\n",
       "                        14                   28\n",
       "                        13                   27\n",
       "                        11                   24\n",
       "                        18                   17\n",
       "                        15                   16\n",
       "                        19                   16\n",
       "                        16                   10\n",
       "                        17                    9\n",
       "                        22                    9\n",
       "                        21                    6\n",
       "                        20                    5\n",
       "                        23                    1\n",
       "                        24                    1\n",
       "                        25                    1\n",
       "Name: PercentSalaryHike, dtype: int64"
      ]
     },
     "execution_count": 39,
     "metadata": {},
     "output_type": "execute_result"
    }
   ],
   "source": [
    "df.groupby(by='Department')['PercentSalaryHike'].value_counts()"
   ]
  },
  {
   "cell_type": "code",
   "execution_count": 40,
   "id": "1ca19146",
   "metadata": {},
   "outputs": [
    {
     "data": {
      "image/png": "[encoded data removed]",
      "text/plain": [
       "<Figure size 1080x720 with 3 Axes>"
      ]
     },
     "metadata": {
      "needs_background": "light"
     },
     "output_type": "display_data"
    }
   ],
   "source": [
    "dept = pd.get_dummies(df['Department'])\n",
    "perHike = pd.DataFrame(df['PercentSalaryHike'])\n",
    "dept_hike = pd.concat([dept,perHike],axis=1)\n",
    "\n",
    "plt.figure(figsize=(15,10))\n",
    "plt.subplot(2,3,1)\n",
    "sns.barplot(dept_hike['PercentSalaryHike'],dept_hike['Human Resources'])\n",
    "plt.subplot(2,3,2)\n",
    "sns.barplot(dept_hike['PercentSalaryHike'],dept_hike['Research & Development'])\n",
    "plt.subplot(2,3,3)\n",
    "sns.barplot(dept_hike['PercentSalaryHike'],dept_hike['Sales'])\n",
    "plt.show()"
   ]
  },
  {
   "cell_type": "code",
   "execution_count": null,
   "id": "6f12c4da",
   "metadata": {},
   "outputs": [],
   "source": []
  },
  {
   "cell_type": "code",
   "execution_count": 41,
   "id": "fb948676",
   "metadata": {
    "scrolled": false
   },
   "outputs": [
    {
     "data": {
      "text/plain": [
       "Department       PerformanceScore\n",
       "Human Resources  36                  2\n",
       "                 52                  2\n",
       "                 88                  2\n",
       "                 31                  1\n",
       "                 37                  1\n",
       "                                    ..\n",
       "Sales            59                  1\n",
       "                 60                  1\n",
       "                 65                  1\n",
       "                 69                  1\n",
       "                 90                  1\n",
       "Name: PerformanceScore, Length: 163, dtype: int64"
      ]
     },
     "execution_count": 41,
     "metadata": {},
     "output_type": "execute_result"
    }
   ],
   "source": [
    "df.groupby(by='Department')['PerformanceScore'].value_counts()"
   ]
  },
  {
   "cell_type": "code",
   "execution_count": 42,
   "id": "31fa6acd",
   "metadata": {},
   "outputs": [
    {
     "data": {
      "image/png": "[encoded data removed]",
      "text/plain": [
       "<Figure size 1080x720 with 3 Axes>"
      ]
     },
     "metadata": {
      "needs_background": "light"
     },
     "output_type": "display_data"
    }
   ],
   "source": [
    "dept = pd.get_dummies(df['Department'])\n",
    "perScr = pd.DataFrame(df['PerformanceScore'])\n",
    "dept_perf = pd.concat([dept,perScr],axis=1)\n",
    "\n",
    "plt.figure(figsize=(15,10))\n",
    "plt.subplot(3,1,1)\n",
    "sns.barplot(dept_perf['PerformanceScore'],dept_perf['Human Resources'])\n",
    "plt.subplot(3,1,2)\n",
    "sns.barplot(dept_perf['PerformanceScore'],dept_perf['Research & Development'])\n",
    "plt.subplot(3,1,3)\n",
    "sns.barplot(dept_perf['PerformanceScore'],dept_perf['Sales'])\n",
    "plt.show()"
   ]
  },
  {
   "cell_type": "code",
   "execution_count": 43,
   "id": "09bbbd76",
   "metadata": {},
   "outputs": [
    {
     "name": "stdout",
     "output_type": "stream",
     "text": [
      "<class 'pandas.core.frame.DataFrame'>\n",
      "Int64Index: 456 entries, 1 to 1469\n",
      "Data columns (total 35 columns):\n",
      " #   Column                    Non-Null Count  Dtype \n",
      "---  ------                    --------------  ----- \n",
      " 0   Age                       456 non-null    int64 \n",
      " 1   Attrition                 456 non-null    object\n",
      " 2   BusinessTravel            456 non-null    object\n",
      " 3   DailyRate                 456 non-null    int64 \n",
      " 4   Department                456 non-null    object\n",
      " 5   DistanceFromHome          456 non-null    int64 \n",
      " 6   Education                 456 non-null    int64 \n",
      " 7   EducationField            456 non-null    object\n",
      " 8   EmployeeCount             456 non-null    int64 \n",
      " 9   EmployeeNumber            456 non-null    int64 \n",
      " 10  EnvironmentSatisfaction   456 non-null    int64 \n",
      " 11  Gender                    456 non-null    object\n",
      " 12  PerformanceScore          456 non-null    int64 \n",
      " 13  JobInvolvement            456 non-null    int64 \n",
      " 14  JobLevel                  456 non-null    int64 \n",
      " 15  JobRole                   456 non-null    object\n",
      " 16  JobSatisfaction           456 non-null    int64 \n",
      " 17  MaritalStatus             456 non-null    object\n",
      " 18  MonthlyIncome             456 non-null    int64 \n",
      " 19  MonthlyRate               456 non-null    int64 \n",
      " 20  NumCompaniesWorked        456 non-null    int64 \n",
      " 21  Over18                    456 non-null    object\n",
      " 22  OverTime                  456 non-null    object\n",
      " 23  PercentSalaryHike         456 non-null    int64 \n",
      " 24  PerformanceRating         456 non-null    int64 \n",
      " 25  RelationshipSatisfaction  456 non-null    int64 \n",
      " 26  StandardHours             456 non-null    int64 \n",
      " 27  StockOptionLevel          456 non-null    int64 \n",
      " 28  TotalWorkingYears         456 non-null    int64 \n",
      " 29  TrainingTimesLastYear     456 non-null    int64 \n",
      " 30  WorkLifeBalance           456 non-null    int64 \n",
      " 31  YearsAtCompany            456 non-null    int64 \n",
      " 32  YearsInCurrentRole        456 non-null    int64 \n",
      " 33  YearsSinceLastPromotion   456 non-null    int64 \n",
      " 34  YearsWithCurrManager      456 non-null    int64 \n",
      "dtypes: int64(26), object(9)\n",
      "memory usage: 128.2+ KB\n"
     ]
    }
   ],
   "source": [
    "df = df[df[\"Department\"] == \"Research & Development\"]\n",
    "df.info()"
   ]
  },
  {
   "cell_type": "code",
   "execution_count": 44,
   "id": "72c4a8c2",
   "metadata": {},
   "outputs": [
    {
     "data": {
      "text/plain": [
       "Department              JobRole                  \n",
       "Research & Development  Research Scientist           191\n",
       "                        Laboratory Technician        144\n",
       "                        Manufacturing Director        65\n",
       "                        Healthcare Representative     56\n",
       "Name: JobRole, dtype: int64"
      ]
     },
     "execution_count": 44,
     "metadata": {},
     "output_type": "execute_result"
    }
   ],
   "source": [
    "df.groupby(by='Department')['JobRole'].value_counts()"
   ]
  },
  {
   "cell_type": "code",
   "execution_count": 45,
   "id": "7fb1d24f",
   "metadata": {},
   "outputs": [
    {
     "name": "stdout",
     "output_type": "stream",
     "text": [
      "<class 'pandas.core.frame.DataFrame'>\n",
      "Int64Index: 191 entries, 1 to 1460\n",
      "Data columns (total 35 columns):\n",
      " #   Column                    Non-Null Count  Dtype \n",
      "---  ------                    --------------  ----- \n",
      " 0   Age                       191 non-null    int64 \n",
      " 1   Attrition                 191 non-null    object\n",
      " 2   BusinessTravel            191 non-null    object\n",
      " 3   DailyRate                 191 non-null    int64 \n",
      " 4   Department                191 non-null    object\n",
      " 5   DistanceFromHome          191 non-null    int64 \n",
      " 6   Education                 191 non-null    int64 \n",
      " 7   EducationField            191 non-null    object\n",
      " 8   EmployeeCount             191 non-null    int64 \n",
      " 9   EmployeeNumber            191 non-null    int64 \n",
      " 10  EnvironmentSatisfaction   191 non-null    int64 \n",
      " 11  Gender                    191 non-null    object\n",
      " 12  PerformanceScore          191 non-null    int64 \n",
      " 13  JobInvolvement            191 non-null    int64 \n",
      " 14  JobLevel                  191 non-null    int64 \n",
      " 15  JobRole                   191 non-null    object\n",
      " 16  JobSatisfaction           191 non-null    int64 \n",
      " 17  MaritalStatus             191 non-null    object\n",
      " 18  MonthlyIncome             191 non-null    int64 \n",
      " 19  MonthlyRate               191 non-null    int64 \n",
      " 20  NumCompaniesWorked        191 non-null    int64 \n",
      " 21  Over18                    191 non-null    object\n",
      " 22  OverTime                  191 non-null    object\n",
      " 23  PercentSalaryHike         191 non-null    int64 \n",
      " 24  PerformanceRating         191 non-null    int64 \n",
      " 25  RelationshipSatisfaction  191 non-null    int64 \n",
      " 26  StandardHours             191 non-null    int64 \n",
      " 27  StockOptionLevel          191 non-null    int64 \n",
      " 28  TotalWorkingYears         191 non-null    int64 \n",
      " 29  TrainingTimesLastYear     191 non-null    int64 \n",
      " 30  WorkLifeBalance           191 non-null    int64 \n",
      " 31  YearsAtCompany            191 non-null    int64 \n",
      " 32  YearsInCurrentRole        191 non-null    int64 \n",
      " 33  YearsSinceLastPromotion   191 non-null    int64 \n",
      " 34  YearsWithCurrManager      191 non-null    int64 \n",
      "dtypes: int64(26), object(9)\n",
      "memory usage: 53.7+ KB\n"
     ]
    }
   ],
   "source": [
    "df = df[df[\"JobRole\"] == \"Research Scientist\"]\n",
    "df.info()"
   ]
  },
  {
   "cell_type": "code",
   "execution_count": 46,
   "id": "fd9dea14",
   "metadata": {},
   "outputs": [
    {
     "data": {
      "text/plain": [
       "Department              EducationField  \n",
       "Research & Development  Life Sciences       84\n",
       "                        Medical             74\n",
       "                        Technical Degree    24\n",
       "                        Other                9\n",
       "Name: EducationField, dtype: int64"
      ]
     },
     "execution_count": 46,
     "metadata": {},
     "output_type": "execute_result"
    }
   ],
   "source": [
    "df.groupby(by='Department')['EducationField'].value_counts()"
   ]
  },
  {
   "cell_type": "code",
   "execution_count": null,
   "id": "30ac0283",
   "metadata": {},
   "outputs": [],
   "source": []
  },
  {
   "cell_type": "markdown",
   "id": "c4198843",
   "metadata": {},
   "source": [
    "### Feature Selection"
   ]
  },
  {
   "cell_type": "code",
   "execution_count": 47,
   "id": "c5e7c63f",
   "metadata": {},
   "outputs": [
    {
     "data": {
      "text/plain": [
       "Index(['Attrition', 'DailyRate', 'Education', 'EnvironmentSatisfaction',\n",
       "       'PerformanceScore', 'JobInvolvement', 'JobLevel', 'JobSatisfaction',\n",
       "       'MonthlyIncome', 'MonthlyRate', 'NumCompaniesWorked',\n",
       "       'PercentSalaryHike', 'PerformanceRating', 'RelationshipSatisfaction',\n",
       "       'StockOptionLevel', 'TotalWorkingYears', 'TrainingTimesLastYear',\n",
       "       'WorkLifeBalance', 'YearsAtCompany', 'YearsInCurrentRole',\n",
       "       'YearsSinceLastPromotion', 'YearsWithCurrManager'],\n",
       "      dtype='object')"
      ]
     },
     "execution_count": 47,
     "metadata": {},
     "output_type": "execute_result"
    }
   ],
   "source": [
    "#removing columns that are not reqiured\n",
    "#ex- categorical columns, unique & constant columns\n",
    "#categorical, unique and constant columns identified from profiling report\n",
    "df = df.drop(labels=['Age', 'BusinessTravel', 'EmployeeNumber', 'DistanceFromHome', 'EmployeeCount', 'Department', 'EducationField', 'Gender', 'MaritalStatus', 'JobRole', 'Over18', 'OverTime', 'StandardHours' ], axis=1)\n",
    "df.columns"
   ]
  },
  {
   "cell_type": "code",
   "execution_count": 48,
   "id": "6c638270",
   "metadata": {},
   "outputs": [],
   "source": [
    "#getting top 10 columns for the target column Percentage of Salary Hike\n",
    "#_psh = PercentSalaryHike\n",
    "df[\"Attrition\"] = df.Attrition.replace({'Yes': 1, 'No': 0})\n",
    "x_psh = df[['Attrition', 'DailyRate', 'Education',\n",
    "       'EnvironmentSatisfaction', 'JobInvolvement',\n",
    "       'JobLevel', 'JobSatisfaction', 'MonthlyIncome', 'MonthlyRate',\n",
    "       'NumCompaniesWorked', 'PerformanceRating',\n",
    "       'RelationshipSatisfaction', 'StockOptionLevel', 'TotalWorkingYears',\n",
    "       'TrainingTimesLastYear', 'WorkLifeBalance', 'YearsAtCompany',\n",
    "       'YearsInCurrentRole', 'YearsSinceLastPromotion',\n",
    "       'YearsWithCurrManager']] #independant columns\n",
    "y_psh = df['PercentSalaryHike'] #target column"
   ]
  },
  {
   "cell_type": "code",
   "execution_count": 49,
   "id": "6ae0f250",
   "metadata": {},
   "outputs": [
    {
     "data": {
      "text/html": [
       "<div>\n",
       "<style scoped>\n",
       "    .dataframe tbody tr th:only-of-type {\n",
       "        vertical-align: middle;\n",
       "    }\n",
       "\n",
       "    .dataframe tbody tr th {\n",
       "        vertical-align: top;\n",
       "    }\n",
       "\n",
       "    .dataframe thead th {\n",
       "        text-align: right;\n",
       "    }\n",
       "</style>\n",
       "<table border=\"1\" class=\"dataframe\">\n",
       "  <thead>\n",
       "    <tr style=\"text-align: right;\">\n",
       "      <th></th>\n",
       "      <th>Features</th>\n",
       "      <th>Score</th>\n",
       "    </tr>\n",
       "  </thead>\n",
       "  <tbody>\n",
       "    <tr>\n",
       "      <th>8</th>\n",
       "      <td>MonthlyRate</td>\n",
       "      <td>56508.012491</td>\n",
       "    </tr>\n",
       "    <tr>\n",
       "      <th>1</th>\n",
       "      <td>DailyRate</td>\n",
       "      <td>4192.655097</td>\n",
       "    </tr>\n",
       "    <tr>\n",
       "      <th>7</th>\n",
       "      <td>MonthlyIncome</td>\n",
       "      <td>3604.455598</td>\n",
       "    </tr>\n",
       "    <tr>\n",
       "      <th>19</th>\n",
       "      <td>YearsWithCurrManager</td>\n",
       "      <td>33.677968</td>\n",
       "    </tr>\n",
       "    <tr>\n",
       "      <th>16</th>\n",
       "      <td>YearsAtCompany</td>\n",
       "      <td>29.100898</td>\n",
       "    </tr>\n",
       "    <tr>\n",
       "      <th>13</th>\n",
       "      <td>TotalWorkingYears</td>\n",
       "      <td>28.944446</td>\n",
       "    </tr>\n",
       "    <tr>\n",
       "      <th>17</th>\n",
       "      <td>YearsInCurrentRole</td>\n",
       "      <td>23.296100</td>\n",
       "    </tr>\n",
       "    <tr>\n",
       "      <th>9</th>\n",
       "      <td>NumCompaniesWorked</td>\n",
       "      <td>18.778708</td>\n",
       "    </tr>\n",
       "    <tr>\n",
       "      <th>18</th>\n",
       "      <td>YearsSinceLastPromotion</td>\n",
       "      <td>14.660832</td>\n",
       "    </tr>\n",
       "    <tr>\n",
       "      <th>14</th>\n",
       "      <td>TrainingTimesLastYear</td>\n",
       "      <td>10.132253</td>\n",
       "    </tr>\n",
       "  </tbody>\n",
       "</table>\n",
       "</div>"
      ],
      "text/plain": [
       "                   Features         Score\n",
       "8               MonthlyRate  56508.012491\n",
       "1                 DailyRate   4192.655097\n",
       "7             MonthlyIncome   3604.455598\n",
       "19     YearsWithCurrManager     33.677968\n",
       "16           YearsAtCompany     29.100898\n",
       "13        TotalWorkingYears     28.944446\n",
       "17       YearsInCurrentRole     23.296100\n",
       "9        NumCompaniesWorked     18.778708\n",
       "18  YearsSinceLastPromotion     14.660832\n",
       "14    TrainingTimesLastYear     10.132253"
      ]
     },
     "execution_count": 49,
     "metadata": {},
     "output_type": "execute_result"
    }
   ],
   "source": [
    "from sklearn.feature_selection import SelectKBest\n",
    "from sklearn.feature_selection import chi2\n",
    "\n",
    "#k=10 means getting top 10 best features\n",
    "bestFeatures_psh = SelectKBest(score_func=chi2, k=10)\n",
    "fit_psh = bestFeatures_psh.fit(x_psh,y_psh)\n",
    "\n",
    "df_Cols_psh = pd.DataFrame(x_psh.columns)\n",
    "df_Scores_psh = pd.DataFrame(fit_psh.scores_)\n",
    "\n",
    "#creating the dataframe for better visualisation\n",
    "ColScores_psh = pd.concat([df_Cols_psh, df_Scores_psh], axis=1)\n",
    "ColScores_psh.columns = ['Features', 'Score']\n",
    "\n",
    "#printing top 10 columns\n",
    "ColScores_psh.nlargest(10,'Score')"
   ]
  },
  {
   "cell_type": "code",
   "execution_count": 50,
   "id": "6ee0efca",
   "metadata": {},
   "outputs": [],
   "source": [
    "#getting top 10 columns for the target column Performance Score\n",
    "#_psc = PerformanceScore\n",
    "x_psc = df[['Attrition', 'DailyRate', 'Education',\n",
    "       'EnvironmentSatisfaction', 'JobInvolvement',\n",
    "       'JobLevel', 'JobSatisfaction', 'MonthlyIncome', 'MonthlyRate',\n",
    "       'NumCompaniesWorked', 'PerformanceRating',\n",
    "       'RelationshipSatisfaction', 'StockOptionLevel', 'TotalWorkingYears',\n",
    "       'TrainingTimesLastYear', 'WorkLifeBalance', 'YearsAtCompany',\n",
    "       'YearsInCurrentRole', 'YearsSinceLastPromotion',\n",
    "       'YearsWithCurrManager']] #independant columns\n",
    "y_psc = df['PerformanceScore'] #target column"
   ]
  },
  {
   "cell_type": "code",
   "execution_count": 51,
   "id": "d6206609",
   "metadata": {},
   "outputs": [
    {
     "data": {
      "text/html": [
       "<div>\n",
       "<style scoped>\n",
       "    .dataframe tbody tr th:only-of-type {\n",
       "        vertical-align: middle;\n",
       "    }\n",
       "\n",
       "    .dataframe tbody tr th {\n",
       "        vertical-align: top;\n",
       "    }\n",
       "\n",
       "    .dataframe thead th {\n",
       "        text-align: right;\n",
       "    }\n",
       "</style>\n",
       "<table border=\"1\" class=\"dataframe\">\n",
       "  <thead>\n",
       "    <tr style=\"text-align: right;\">\n",
       "      <th></th>\n",
       "      <th>Features</th>\n",
       "      <th>Score</th>\n",
       "    </tr>\n",
       "  </thead>\n",
       "  <tbody>\n",
       "    <tr>\n",
       "      <th>8</th>\n",
       "      <td>MonthlyRate</td>\n",
       "      <td>253017.073424</td>\n",
       "    </tr>\n",
       "    <tr>\n",
       "      <th>7</th>\n",
       "      <td>MonthlyIncome</td>\n",
       "      <td>20229.208805</td>\n",
       "    </tr>\n",
       "    <tr>\n",
       "      <th>1</th>\n",
       "      <td>DailyRate</td>\n",
       "      <td>15271.460449</td>\n",
       "    </tr>\n",
       "    <tr>\n",
       "      <th>13</th>\n",
       "      <td>TotalWorkingYears</td>\n",
       "      <td>142.934831</td>\n",
       "    </tr>\n",
       "    <tr>\n",
       "      <th>17</th>\n",
       "      <td>YearsInCurrentRole</td>\n",
       "      <td>134.514733</td>\n",
       "    </tr>\n",
       "    <tr>\n",
       "      <th>16</th>\n",
       "      <td>YearsAtCompany</td>\n",
       "      <td>115.250735</td>\n",
       "    </tr>\n",
       "    <tr>\n",
       "      <th>19</th>\n",
       "      <td>YearsWithCurrManager</td>\n",
       "      <td>114.959179</td>\n",
       "    </tr>\n",
       "    <tr>\n",
       "      <th>9</th>\n",
       "      <td>NumCompaniesWorked</td>\n",
       "      <td>114.614314</td>\n",
       "    </tr>\n",
       "    <tr>\n",
       "      <th>12</th>\n",
       "      <td>StockOptionLevel</td>\n",
       "      <td>67.510390</td>\n",
       "    </tr>\n",
       "    <tr>\n",
       "      <th>18</th>\n",
       "      <td>YearsSinceLastPromotion</td>\n",
       "      <td>58.594574</td>\n",
       "    </tr>\n",
       "  </tbody>\n",
       "</table>\n",
       "</div>"
      ],
      "text/plain": [
       "                   Features          Score\n",
       "8               MonthlyRate  253017.073424\n",
       "7             MonthlyIncome   20229.208805\n",
       "1                 DailyRate   15271.460449\n",
       "13        TotalWorkingYears     142.934831\n",
       "17       YearsInCurrentRole     134.514733\n",
       "16           YearsAtCompany     115.250735\n",
       "19     YearsWithCurrManager     114.959179\n",
       "9        NumCompaniesWorked     114.614314\n",
       "12         StockOptionLevel      67.510390\n",
       "18  YearsSinceLastPromotion      58.594574"
      ]
     },
     "execution_count": 51,
     "metadata": {},
     "output_type": "execute_result"
    }
   ],
   "source": [
    "#k=10 means getting top 10 best features\n",
    "bestFeatures_psc = SelectKBest(score_func=chi2, k=10)\n",
    "fit_psc = bestFeatures_psc.fit(x_psc,y_psc)\n",
    "\n",
    "df_Cols_psc = pd.DataFrame(x_psc.columns)\n",
    "df_Scores_psc = pd.DataFrame(fit_psc.scores_)\n",
    "\n",
    "#creating the dataframe for better visualisation\n",
    "ColScores_psc = pd.concat([df_Cols_psc, df_Scores_psc], axis=1)\n",
    "ColScores_psc.columns = ['Features', 'Score']\n",
    "\n",
    "#printing top 10 columns\n",
    "ColScores_psc.nlargest(10,'Score')"
   ]
  },
  {
   "cell_type": "code",
   "execution_count": 52,
   "id": "2a7e1ba8",
   "metadata": {},
   "outputs": [
    {
     "name": "stdout",
     "output_type": "stream",
     "text": [
      "                   Features         Score\n",
      "8               MonthlyRate  56508.012491\n",
      "1                 DailyRate   4192.655097\n",
      "7             MonthlyIncome   3604.455598\n",
      "19     YearsWithCurrManager     33.677968\n",
      "16           YearsAtCompany     29.100898\n",
      "13        TotalWorkingYears     28.944446\n",
      "17       YearsInCurrentRole     23.296100\n",
      "9        NumCompaniesWorked     18.778708\n",
      "18  YearsSinceLastPromotion     14.660832\n",
      "14    TrainingTimesLastYear     10.132253\n",
      "-----------\n",
      "                   Features          Score\n",
      "8               MonthlyRate  253017.073424\n",
      "7             MonthlyIncome   20229.208805\n",
      "1                 DailyRate   15271.460449\n",
      "13        TotalWorkingYears     142.934831\n",
      "17       YearsInCurrentRole     134.514733\n",
      "16           YearsAtCompany     115.250735\n",
      "19     YearsWithCurrManager     114.959179\n",
      "9        NumCompaniesWorked     114.614314\n",
      "12         StockOptionLevel      67.510390\n",
      "18  YearsSinceLastPromotion      58.594574\n"
     ]
    }
   ],
   "source": [
    "print(ColScores_psh.nlargest(10,'Score'))\n",
    "print(\"-----------\")\n",
    "print(ColScores_psc.nlargest(10,'Score'))"
   ]
  },
  {
   "cell_type": "code",
   "execution_count": 53,
   "id": "919ba231",
   "metadata": {},
   "outputs": [
    {
     "name": "stdout",
     "output_type": "stream",
     "text": [
      "<class 'pandas.core.frame.DataFrame'>\n",
      "Int64Index: 191 entries, 1 to 1460\n",
      "Data columns (total 11 columns):\n",
      " #   Column                   Non-Null Count  Dtype\n",
      "---  ------                   --------------  -----\n",
      " 0   MonthlyRate              191 non-null    int64\n",
      " 1   MonthlyIncome            191 non-null    int64\n",
      " 2   DailyRate                191 non-null    int64\n",
      " 3   NumCompaniesWorked       191 non-null    int64\n",
      " 4   TotalWorkingYears        191 non-null    int64\n",
      " 5   YearsWithCurrManager     191 non-null    int64\n",
      " 6   YearsAtCompany           191 non-null    int64\n",
      " 7   YearsInCurrentRole       191 non-null    int64\n",
      " 8   YearsSinceLastPromotion  191 non-null    int64\n",
      " 9   PercentSalaryHike        191 non-null    int64\n",
      " 10  PerformanceScore         191 non-null    int64\n",
      "dtypes: int64(11)\n",
      "memory usage: 17.9 KB\n"
     ]
    }
   ],
   "source": [
    "#Common features for both target variables are taken here\n",
    "df_fs = df[[\"MonthlyRate\", \"MonthlyIncome\", \"DailyRate\", \"NumCompaniesWorked\", \"TotalWorkingYears\", \n",
    "            \"YearsWithCurrManager\", \"YearsAtCompany\", \"YearsInCurrentRole\", \"YearsSinceLastPromotion\",\n",
    "            \"PercentSalaryHike\", \"PerformanceScore\"]]\n",
    "df_fs.info()"
   ]
  },
  {
   "cell_type": "code",
   "execution_count": 54,
   "id": "e6edb109",
   "metadata": {},
   "outputs": [
    {
     "data": {
      "image/png": "[encoded data removed]",
      "text/plain": [
       "<Figure size 1800x720 with 2 Axes>"
      ]
     },
     "metadata": {
      "needs_background": "light"
     },
     "output_type": "display_data"
    }
   ],
   "source": [
    "#checking correlation for the dataset\n",
    "plt.figure(figsize=(25,10))\n",
    "cor = df_fs.corr(method=\"spearman\")\n",
    "sns.heatmap(cor, annot=True, cmap=plt.cm.CMRmap_r)\n",
    "plt.show()"
   ]
  },
  {
   "cell_type": "code",
   "execution_count": 55,
   "id": "33cd9473",
   "metadata": {},
   "outputs": [
    {
     "data": {
      "text/plain": [
       "{'YearsAtCompany', 'YearsInCurrentRole'}"
      ]
     },
     "execution_count": 55,
     "metadata": {},
     "output_type": "execute_result"
    }
   ],
   "source": [
    "#function that helps to check the correlated features.\n",
    "def correlation(dataset, threshold):\n",
    "    corFeature=set()\n",
    "    corrMatrix=dataset.corr(method=\"spearman\")\n",
    "    for i in range(len(corrMatrix.columns)):\n",
    "        for j in range(i):\n",
    "            if (corrMatrix.iloc[i,j] > threshold):\n",
    "                colname = corrMatrix.columns[i]\n",
    "                corFeature.add(colname)\n",
    "    return corFeature\n",
    "\n",
    "corrFeature = correlation(df_fs, 0.8)\n",
    "corrFeature"
   ]
  },
  {
   "cell_type": "code",
   "execution_count": 56,
   "id": "82393137",
   "metadata": {},
   "outputs": [],
   "source": [
    "#removing the correlated features from the dataset and vewing finalised features\n",
    "# df_fs.drop(labels=corrFeature, axis=1, inplace=True)\n",
    "# df_fs.columns"
   ]
  },
  {
   "cell_type": "code",
   "execution_count": 57,
   "id": "d27d19a3",
   "metadata": {},
   "outputs": [
    {
     "name": "stdout",
     "output_type": "stream",
     "text": [
      "<class 'pandas.core.frame.DataFrame'>\n",
      "Int64Index: 191 entries, 1 to 1460\n",
      "Data columns (total 10 columns):\n",
      " #   Column                   Non-Null Count  Dtype\n",
      "---  ------                   --------------  -----\n",
      " 0   MonthlyRate              191 non-null    int64\n",
      " 1   MonthlyIncome            191 non-null    int64\n",
      " 2   DailyRate                191 non-null    int64\n",
      " 3   NumCompaniesWorked       191 non-null    int64\n",
      " 4   TotalWorkingYears        191 non-null    int64\n",
      " 5   YearsWithCurrManager     191 non-null    int64\n",
      " 6   YearsSinceLastPromotion  191 non-null    int64\n",
      " 7   YearsAtCompany           191 non-null    int64\n",
      " 8   PercentSalaryHike        191 non-null    int64\n",
      " 9   PerformanceScore         191 non-null    int64\n",
      "dtypes: int64(10)\n",
      "memory usage: 16.4 KB\n"
     ]
    }
   ],
   "source": [
    "#Loading the columns after feature selection\n",
    "df = df[['MonthlyRate', 'MonthlyIncome', 'DailyRate', 'NumCompaniesWorked',\n",
    "         'TotalWorkingYears', 'YearsWithCurrManager', 'YearsSinceLastPromotion', 'YearsAtCompany', \n",
    "         'PercentSalaryHike','PerformanceScore']]\n",
    "\n",
    "df.info()"
   ]
  },
  {
   "cell_type": "code",
   "execution_count": 58,
   "id": "47bc2452",
   "metadata": {},
   "outputs": [],
   "source": [
    "df.to_csv('Filtered_Dataset.csv')"
   ]
  },
  {
   "cell_type": "markdown",
   "id": "9a0843c8",
   "metadata": {},
   "source": [
    "### Analysing Dataset"
   ]
  },
  {
   "cell_type": "code",
   "execution_count": 59,
   "id": "55c66d37",
   "metadata": {},
   "outputs": [
    {
     "data": {
      "text/plain": [
       "<AxesSubplot:xlabel='PercentSalaryHike', ylabel='count'>"
      ]
     },
     "execution_count": 59,
     "metadata": {},
     "output_type": "execute_result"
    },
    {
     "data": {
      "image/png": "[encoded data removed]",
      "text/plain": [
       "<Figure size 1080x720 with 1 Axes>"
      ]
     },
     "metadata": {
      "needs_background": "light"
     },
     "output_type": "display_data"
    }
   ],
   "source": [
    "# Finding the relationship between PercentSalaryHike and NumCompaniesWorked\n",
    "plt.figure(figsize=(15,10))\n",
    "sns.set_style('whitegrid')\n",
    "sns.countplot(x='PercentSalaryHike',hue='NumCompaniesWorked',data=df,palette='Dark2')"
   ]
  },
  {
   "cell_type": "code",
   "execution_count": 60,
   "id": "d7bdf585",
   "metadata": {},
   "outputs": [
    {
     "data": {
      "text/plain": [
       "<AxesSubplot:xlabel='PercentSalaryHike', ylabel='count'>"
      ]
     },
     "execution_count": 60,
     "metadata": {},
     "output_type": "execute_result"
    },
    {
     "data": {
      "image/png": "[encoded data removed]",
      "text/plain": [
       "<Figure size 1440x720 with 1 Axes>"
      ]
     },
     "metadata": {},
     "output_type": "display_data"
    }
   ],
   "source": [
    "# Finding the relationship between PercentSalaryHike and TotalWorkingYears\n",
    "plt.figure(figsize=(20,10))\n",
    "sns.set_style('whitegrid')\n",
    "sns.countplot(x='PercentSalaryHike',hue='TotalWorkingYears',data=df,palette='Dark2')"
   ]
  },
  {
   "cell_type": "code",
   "execution_count": 61,
   "id": "9b5dc9e8",
   "metadata": {},
   "outputs": [
    {
     "data": {
      "text/plain": [
       "<AxesSubplot:xlabel='PercentSalaryHike', ylabel='count'>"
      ]
     },
     "execution_count": 61,
     "metadata": {},
     "output_type": "execute_result"
    },
    {
     "data": {
      "image/png": "[encoded data removed]",
      "text/plain": [
       "<Figure size 1080x720 with 1 Axes>"
      ]
     },
     "metadata": {},
     "output_type": "display_data"
    }
   ],
   "source": [
    "# Finding the relationship between PercentSalaryHike and YearsSinceLastPromotion\n",
    "plt.figure(figsize=(15,10))\n",
    "sns.set_style('whitegrid')\n",
    "sns.countplot(x='PercentSalaryHike',hue='YearsSinceLastPromotion',data=df,palette='Dark2')"
   ]
  },
  {
   "cell_type": "code",
   "execution_count": 62,
   "id": "32417ed0",
   "metadata": {},
   "outputs": [
    {
     "name": "stdout",
     "output_type": "stream",
     "text": [
      "1051\n",
      "6962\n"
     ]
    }
   ],
   "source": [
    "#Check Maximum and Minimum value in MonthlyIncome column\n",
    "print(df[\"MonthlyIncome\"].min())\n",
    "print(df[\"MonthlyIncome\"].max())"
   ]
  },
  {
   "cell_type": "code",
   "execution_count": 63,
   "id": "b16a6b3a",
   "metadata": {},
   "outputs": [
    {
     "name": "stdout",
     "output_type": "stream",
     "text": [
      "2122\n",
      "26968\n"
     ]
    }
   ],
   "source": [
    "#Check Maximum and Minimum value in MonthlyRate column\n",
    "print(df[\"MonthlyRate\"].min())\n",
    "print(df[\"MonthlyRate\"].max())"
   ]
  },
  {
   "cell_type": "code",
   "execution_count": 64,
   "id": "51cda55a",
   "metadata": {},
   "outputs": [
    {
     "name": "stdout",
     "output_type": "stream",
     "text": [
      "111\n",
      "1469\n"
     ]
    }
   ],
   "source": [
    "#Check Maximum and Minimum value in DailyRate column\n",
    "print(df[\"DailyRate\"].min())\n",
    "print(df[\"DailyRate\"].max())"
   ]
  },
  {
   "cell_type": "code",
   "execution_count": 65,
   "id": "cc297073",
   "metadata": {},
   "outputs": [
    {
     "name": "stdout",
     "output_type": "stream",
     "text": [
      "0\n",
      "2\n"
     ]
    }
   ],
   "source": [
    "#Check Maximum and Minimum value in YearsSinceLastPromotion column\n",
    "print(df[\"YearsSinceLastPromotion\"].min())\n",
    "print(df[\"YearsSinceLastPromotion\"].max())"
   ]
  },
  {
   "cell_type": "code",
   "execution_count": 66,
   "id": "65cdfbbc",
   "metadata": {},
   "outputs": [
    {
     "name": "stdout",
     "output_type": "stream",
     "text": [
      "0\n",
      "9\n"
     ]
    }
   ],
   "source": [
    "# Check Maximum and Minimum value in YearsWithCurrManager column\n",
    "print(df[\"YearsWithCurrManager\"].min())\n",
    "print(df[\"YearsWithCurrManager\"].max())"
   ]
  },
  {
   "cell_type": "code",
   "execution_count": 67,
   "id": "b5b54e8e",
   "metadata": {},
   "outputs": [
    {
     "name": "stdout",
     "output_type": "stream",
     "text": [
      "0\n",
      "18\n"
     ]
    }
   ],
   "source": [
    "#Check Maximum and Minimum value in TotalWorkingYears column\n",
    "print(df[\"TotalWorkingYears\"].min())\n",
    "print(df[\"TotalWorkingYears\"].max())"
   ]
  },
  {
   "cell_type": "code",
   "execution_count": 68,
   "id": "6dbe7fb5",
   "metadata": {},
   "outputs": [
    {
     "name": "stdout",
     "output_type": "stream",
     "text": [
      "0\n",
      "8\n"
     ]
    }
   ],
   "source": [
    "#Check Maximum and Minimum value in NumCompaniesWorked column\n",
    "print(df[\"NumCompaniesWorked\"].min())\n",
    "print(df[\"NumCompaniesWorked\"].max())"
   ]
  },
  {
   "cell_type": "code",
   "execution_count": 69,
   "id": "5fa8de66",
   "metadata": {},
   "outputs": [
    {
     "name": "stdout",
     "output_type": "stream",
     "text": [
      "11\n",
      "25\n"
     ]
    }
   ],
   "source": [
    "#Check Maximum and Minimum value in PercentSalaryHike column\n",
    "print(df[\"PercentSalaryHike\"].min())\n",
    "print(df[\"PercentSalaryHike\"].max())"
   ]
  },
  {
   "cell_type": "code",
   "execution_count": 70,
   "id": "6c7fd72c",
   "metadata": {},
   "outputs": [
    {
     "name": "stdout",
     "output_type": "stream",
     "text": [
      "30\n",
      "100\n"
     ]
    }
   ],
   "source": [
    "#Check Maximum and Minimum value in PerformanceScore column\n",
    "print(df[\"PerformanceScore\"].min())\n",
    "print(df[\"PerformanceScore\"].max())"
   ]
  },
  {
   "cell_type": "code",
   "execution_count": 71,
   "id": "28dde134",
   "metadata": {},
   "outputs": [
    {
     "name": "stdout",
     "output_type": "stream",
     "text": [
      "0\n",
      "11\n"
     ]
    }
   ],
   "source": [
    "#Check Maximum and Minimum value in PerformanceScore column\n",
    "print(df[\"YearsAtCompany\"].min())\n",
    "print(df[\"YearsAtCompany\"].max())"
   ]
  },
  {
   "cell_type": "code",
   "execution_count": null,
   "id": "088696c8",
   "metadata": {},
   "outputs": [],
   "source": []
  },
  {
   "cell_type": "markdown",
   "id": "e41bfed9",
   "metadata": {},
   "source": [
    "### Feature Creation"
   ]
  },
  {
   "cell_type": "code",
   "execution_count": 72,
   "id": "8e2c203f",
   "metadata": {},
   "outputs": [
    {
     "data": {
      "text/html": [
       "<div>\n",
       "<style scoped>\n",
       "    .dataframe tbody tr th:only-of-type {\n",
       "        vertical-align: middle;\n",
       "    }\n",
       "\n",
       "    .dataframe tbody tr th {\n",
       "        vertical-align: top;\n",
       "    }\n",
       "\n",
       "    .dataframe thead th {\n",
       "        text-align: right;\n",
       "    }\n",
       "</style>\n",
       "<table border=\"1\" class=\"dataframe\">\n",
       "  <thead>\n",
       "    <tr style=\"text-align: right;\">\n",
       "      <th></th>\n",
       "      <th>MonthlyRate</th>\n",
       "      <th>MonthlyIncome</th>\n",
       "      <th>DailyRate</th>\n",
       "      <th>NumCompaniesWorked</th>\n",
       "      <th>TotalWorkingYears</th>\n",
       "      <th>YearsWithCurrManager</th>\n",
       "      <th>YearsSinceLastPromotion</th>\n",
       "      <th>YearsAtCompany</th>\n",
       "      <th>PercentSalaryHike</th>\n",
       "      <th>PerformanceScore</th>\n",
       "      <th>MonthlyIncome_cal</th>\n",
       "    </tr>\n",
       "  </thead>\n",
       "  <tbody>\n",
       "    <tr>\n",
       "      <th>1</th>\n",
       "      <td>24907</td>\n",
       "      <td>5130</td>\n",
       "      <td>279</td>\n",
       "      <td>1</td>\n",
       "      <td>10</td>\n",
       "      <td>7</td>\n",
       "      <td>1</td>\n",
       "      <td>10</td>\n",
       "      <td>23</td>\n",
       "      <td>61</td>\n",
       "      <td>5000 &amp; above</td>\n",
       "    </tr>\n",
       "    <tr>\n",
       "      <th>16</th>\n",
       "      <td>15053</td>\n",
       "      <td>3298</td>\n",
       "      <td>334</td>\n",
       "      <td>0</td>\n",
       "      <td>7</td>\n",
       "      <td>5</td>\n",
       "      <td>0</td>\n",
       "      <td>6</td>\n",
       "      <td>12</td>\n",
       "      <td>80</td>\n",
       "      <td>2500 &amp; above</td>\n",
       "    </tr>\n",
       "    <tr>\n",
       "      <th>19</th>\n",
       "      <td>4306</td>\n",
       "      <td>3944</td>\n",
       "      <td>371</td>\n",
       "      <td>5</td>\n",
       "      <td>6</td>\n",
       "      <td>2</td>\n",
       "      <td>1</td>\n",
       "      <td>3</td>\n",
       "      <td>11</td>\n",
       "      <td>45</td>\n",
       "      <td>2500 &amp; above</td>\n",
       "    </tr>\n",
       "    <tr>\n",
       "      <th>23</th>\n",
       "      <td>19281</td>\n",
       "      <td>1232</td>\n",
       "      <td>391</td>\n",
       "      <td>1</td>\n",
       "      <td>0</td>\n",
       "      <td>0</td>\n",
       "      <td>0</td>\n",
       "      <td>0</td>\n",
       "      <td>14</td>\n",
       "      <td>96</td>\n",
       "      <td>less than 2500</td>\n",
       "    </tr>\n",
       "    <tr>\n",
       "      <th>35</th>\n",
       "      <td>21923</td>\n",
       "      <td>2645</td>\n",
       "      <td>1273</td>\n",
       "      <td>1</td>\n",
       "      <td>6</td>\n",
       "      <td>4</td>\n",
       "      <td>1</td>\n",
       "      <td>5</td>\n",
       "      <td>12</td>\n",
       "      <td>72</td>\n",
       "      <td>2500 &amp; above</td>\n",
       "    </tr>\n",
       "  </tbody>\n",
       "</table>\n",
       "</div>"
      ],
      "text/plain": [
       "    MonthlyRate  MonthlyIncome  DailyRate  NumCompaniesWorked  \\\n",
       "1         24907           5130        279                   1   \n",
       "16        15053           3298        334                   0   \n",
       "19         4306           3944        371                   5   \n",
       "23        19281           1232        391                   1   \n",
       "35        21923           2645       1273                   1   \n",
       "\n",
       "    TotalWorkingYears  YearsWithCurrManager  YearsSinceLastPromotion  \\\n",
       "1                  10                     7                        1   \n",
       "16                  7                     5                        0   \n",
       "19                  6                     2                        1   \n",
       "23                  0                     0                        0   \n",
       "35                  6                     4                        1   \n",
       "\n",
       "    YearsAtCompany  PercentSalaryHike  PerformanceScore MonthlyIncome_cal  \n",
       "1               10                 23                61      5000 & above  \n",
       "16               6                 12                80      2500 & above  \n",
       "19               3                 11                45      2500 & above  \n",
       "23               0                 14                96    less than 2500  \n",
       "35               5                 12                72      2500 & above  "
      ]
     },
     "execution_count": 72,
     "metadata": {},
     "output_type": "execute_result"
    }
   ],
   "source": [
    "#Simplifying and grouping the MonthlyIncome column\n",
    "conditions = [\n",
    "    (df['MonthlyIncome'] < 2500),\n",
    "    (df['MonthlyIncome'] >= 2500) & (df['MonthlyIncome'] < 5000),\n",
    "    (df['MonthlyIncome'] >= 5000) \n",
    "    ]\n",
    "\n",
    "values = ['less than 2500', '2500 & above', '5000 & above']\n",
    "\n",
    "#adding the simplified column to a new calculated column\n",
    "df['MonthlyIncome_cal'] = np.select(conditions, values)\n",
    "\n",
    "df.head()"
   ]
  },
  {
   "cell_type": "code",
   "execution_count": 73,
   "id": "79048823",
   "metadata": {},
   "outputs": [
    {
     "data": {
      "text/html": [
       "<div>\n",
       "<style scoped>\n",
       "    .dataframe tbody tr th:only-of-type {\n",
       "        vertical-align: middle;\n",
       "    }\n",
       "\n",
       "    .dataframe tbody tr th {\n",
       "        vertical-align: top;\n",
       "    }\n",
       "\n",
       "    .dataframe thead th {\n",
       "        text-align: right;\n",
       "    }\n",
       "</style>\n",
       "<table border=\"1\" class=\"dataframe\">\n",
       "  <thead>\n",
       "    <tr style=\"text-align: right;\">\n",
       "      <th></th>\n",
       "      <th>MonthlyRate</th>\n",
       "      <th>MonthlyIncome</th>\n",
       "      <th>DailyRate</th>\n",
       "      <th>NumCompaniesWorked</th>\n",
       "      <th>TotalWorkingYears</th>\n",
       "      <th>YearsWithCurrManager</th>\n",
       "      <th>YearsSinceLastPromotion</th>\n",
       "      <th>YearsAtCompany</th>\n",
       "      <th>PercentSalaryHike</th>\n",
       "      <th>PerformanceScore</th>\n",
       "      <th>MonthlyIncome_cal</th>\n",
       "      <th>MonthlyRate_cal</th>\n",
       "    </tr>\n",
       "  </thead>\n",
       "  <tbody>\n",
       "    <tr>\n",
       "      <th>1</th>\n",
       "      <td>24907</td>\n",
       "      <td>5130</td>\n",
       "      <td>279</td>\n",
       "      <td>1</td>\n",
       "      <td>10</td>\n",
       "      <td>7</td>\n",
       "      <td>1</td>\n",
       "      <td>10</td>\n",
       "      <td>23</td>\n",
       "      <td>61</td>\n",
       "      <td>5000 &amp; above</td>\n",
       "      <td>20000 &amp; above</td>\n",
       "    </tr>\n",
       "    <tr>\n",
       "      <th>16</th>\n",
       "      <td>15053</td>\n",
       "      <td>3298</td>\n",
       "      <td>334</td>\n",
       "      <td>0</td>\n",
       "      <td>7</td>\n",
       "      <td>5</td>\n",
       "      <td>0</td>\n",
       "      <td>6</td>\n",
       "      <td>12</td>\n",
       "      <td>80</td>\n",
       "      <td>2500 &amp; above</td>\n",
       "      <td>15000 &amp; above</td>\n",
       "    </tr>\n",
       "    <tr>\n",
       "      <th>19</th>\n",
       "      <td>4306</td>\n",
       "      <td>3944</td>\n",
       "      <td>371</td>\n",
       "      <td>5</td>\n",
       "      <td>6</td>\n",
       "      <td>2</td>\n",
       "      <td>1</td>\n",
       "      <td>3</td>\n",
       "      <td>11</td>\n",
       "      <td>45</td>\n",
       "      <td>2500 &amp; above</td>\n",
       "      <td>less than 5000</td>\n",
       "    </tr>\n",
       "    <tr>\n",
       "      <th>23</th>\n",
       "      <td>19281</td>\n",
       "      <td>1232</td>\n",
       "      <td>391</td>\n",
       "      <td>1</td>\n",
       "      <td>0</td>\n",
       "      <td>0</td>\n",
       "      <td>0</td>\n",
       "      <td>0</td>\n",
       "      <td>14</td>\n",
       "      <td>96</td>\n",
       "      <td>less than 2500</td>\n",
       "      <td>15000 &amp; above</td>\n",
       "    </tr>\n",
       "    <tr>\n",
       "      <th>35</th>\n",
       "      <td>21923</td>\n",
       "      <td>2645</td>\n",
       "      <td>1273</td>\n",
       "      <td>1</td>\n",
       "      <td>6</td>\n",
       "      <td>4</td>\n",
       "      <td>1</td>\n",
       "      <td>5</td>\n",
       "      <td>12</td>\n",
       "      <td>72</td>\n",
       "      <td>2500 &amp; above</td>\n",
       "      <td>20000 &amp; above</td>\n",
       "    </tr>\n",
       "  </tbody>\n",
       "</table>\n",
       "</div>"
      ],
      "text/plain": [
       "    MonthlyRate  MonthlyIncome  DailyRate  NumCompaniesWorked  \\\n",
       "1         24907           5130        279                   1   \n",
       "16        15053           3298        334                   0   \n",
       "19         4306           3944        371                   5   \n",
       "23        19281           1232        391                   1   \n",
       "35        21923           2645       1273                   1   \n",
       "\n",
       "    TotalWorkingYears  YearsWithCurrManager  YearsSinceLastPromotion  \\\n",
       "1                  10                     7                        1   \n",
       "16                  7                     5                        0   \n",
       "19                  6                     2                        1   \n",
       "23                  0                     0                        0   \n",
       "35                  6                     4                        1   \n",
       "\n",
       "    YearsAtCompany  PercentSalaryHike  PerformanceScore MonthlyIncome_cal  \\\n",
       "1               10                 23                61      5000 & above   \n",
       "16               6                 12                80      2500 & above   \n",
       "19               3                 11                45      2500 & above   \n",
       "23               0                 14                96    less than 2500   \n",
       "35               5                 12                72      2500 & above   \n",
       "\n",
       "   MonthlyRate_cal  \n",
       "1    20000 & above  \n",
       "16   15000 & above  \n",
       "19  less than 5000  \n",
       "23   15000 & above  \n",
       "35   20000 & above  "
      ]
     },
     "execution_count": 73,
     "metadata": {},
     "output_type": "execute_result"
    }
   ],
   "source": [
    "#Simplifying and grouping the MonthlyRate column\n",
    "\n",
    "conditions = [\n",
    "    (df['MonthlyRate'] < 5000),\n",
    "    (df['MonthlyRate'] >= 5000) & (df['MonthlyRate'] < 10000),\n",
    "    (df['MonthlyRate'] >= 10000) & (df['MonthlyRate'] < 15000),\n",
    "    (df['MonthlyRate'] >= 15000) & (df['MonthlyRate'] < 20000),\n",
    "    (df['MonthlyRate'] >= 20000) & (df['MonthlyRate'] < 25000),\n",
    "    (df['MonthlyRate'] >= 25000)\n",
    "    ]\n",
    "\n",
    "values = ['less than 5000', '5000 & above', '10000 & above', '15000 & above', '20000 & above', '25000 & above' ]\n",
    "\n",
    "#adding the simplified column to a new calculated column\n",
    "df['MonthlyRate_cal'] = np.select(conditions, values)\n",
    "\n",
    "df.head()"
   ]
  },
  {
   "cell_type": "code",
   "execution_count": 74,
   "id": "f5ba2012",
   "metadata": {},
   "outputs": [
    {
     "data": {
      "text/html": [
       "<div>\n",
       "<style scoped>\n",
       "    .dataframe tbody tr th:only-of-type {\n",
       "        vertical-align: middle;\n",
       "    }\n",
       "\n",
       "    .dataframe tbody tr th {\n",
       "        vertical-align: top;\n",
       "    }\n",
       "\n",
       "    .dataframe thead th {\n",
       "        text-align: right;\n",
       "    }\n",
       "</style>\n",
       "<table border=\"1\" class=\"dataframe\">\n",
       "  <thead>\n",
       "    <tr style=\"text-align: right;\">\n",
       "      <th></th>\n",
       "      <th>MonthlyRate</th>\n",
       "      <th>MonthlyIncome</th>\n",
       "      <th>DailyRate</th>\n",
       "      <th>NumCompaniesWorked</th>\n",
       "      <th>TotalWorkingYears</th>\n",
       "      <th>YearsWithCurrManager</th>\n",
       "      <th>YearsSinceLastPromotion</th>\n",
       "      <th>YearsAtCompany</th>\n",
       "      <th>PercentSalaryHike</th>\n",
       "      <th>PerformanceScore</th>\n",
       "      <th>MonthlyIncome_cal</th>\n",
       "      <th>MonthlyRate_cal</th>\n",
       "      <th>DailyRate_cal</th>\n",
       "    </tr>\n",
       "  </thead>\n",
       "  <tbody>\n",
       "    <tr>\n",
       "      <th>1</th>\n",
       "      <td>24907</td>\n",
       "      <td>5130</td>\n",
       "      <td>279</td>\n",
       "      <td>1</td>\n",
       "      <td>10</td>\n",
       "      <td>7</td>\n",
       "      <td>1</td>\n",
       "      <td>10</td>\n",
       "      <td>23</td>\n",
       "      <td>61</td>\n",
       "      <td>5000 &amp; above</td>\n",
       "      <td>20000 &amp; above</td>\n",
       "      <td>250 &amp; above</td>\n",
       "    </tr>\n",
       "    <tr>\n",
       "      <th>16</th>\n",
       "      <td>15053</td>\n",
       "      <td>3298</td>\n",
       "      <td>334</td>\n",
       "      <td>0</td>\n",
       "      <td>7</td>\n",
       "      <td>5</td>\n",
       "      <td>0</td>\n",
       "      <td>6</td>\n",
       "      <td>12</td>\n",
       "      <td>80</td>\n",
       "      <td>2500 &amp; above</td>\n",
       "      <td>15000 &amp; above</td>\n",
       "      <td>250 &amp; above</td>\n",
       "    </tr>\n",
       "    <tr>\n",
       "      <th>19</th>\n",
       "      <td>4306</td>\n",
       "      <td>3944</td>\n",
       "      <td>371</td>\n",
       "      <td>5</td>\n",
       "      <td>6</td>\n",
       "      <td>2</td>\n",
       "      <td>1</td>\n",
       "      <td>3</td>\n",
       "      <td>11</td>\n",
       "      <td>45</td>\n",
       "      <td>2500 &amp; above</td>\n",
       "      <td>less than 5000</td>\n",
       "      <td>250 &amp; above</td>\n",
       "    </tr>\n",
       "    <tr>\n",
       "      <th>23</th>\n",
       "      <td>19281</td>\n",
       "      <td>1232</td>\n",
       "      <td>391</td>\n",
       "      <td>1</td>\n",
       "      <td>0</td>\n",
       "      <td>0</td>\n",
       "      <td>0</td>\n",
       "      <td>0</td>\n",
       "      <td>14</td>\n",
       "      <td>96</td>\n",
       "      <td>less than 2500</td>\n",
       "      <td>15000 &amp; above</td>\n",
       "      <td>250 &amp; above</td>\n",
       "    </tr>\n",
       "    <tr>\n",
       "      <th>35</th>\n",
       "      <td>21923</td>\n",
       "      <td>2645</td>\n",
       "      <td>1273</td>\n",
       "      <td>1</td>\n",
       "      <td>6</td>\n",
       "      <td>4</td>\n",
       "      <td>1</td>\n",
       "      <td>5</td>\n",
       "      <td>12</td>\n",
       "      <td>72</td>\n",
       "      <td>2500 &amp; above</td>\n",
       "      <td>20000 &amp; above</td>\n",
       "      <td>1250 &amp; above</td>\n",
       "    </tr>\n",
       "  </tbody>\n",
       "</table>\n",
       "</div>"
      ],
      "text/plain": [
       "    MonthlyRate  MonthlyIncome  DailyRate  NumCompaniesWorked  \\\n",
       "1         24907           5130        279                   1   \n",
       "16        15053           3298        334                   0   \n",
       "19         4306           3944        371                   5   \n",
       "23        19281           1232        391                   1   \n",
       "35        21923           2645       1273                   1   \n",
       "\n",
       "    TotalWorkingYears  YearsWithCurrManager  YearsSinceLastPromotion  \\\n",
       "1                  10                     7                        1   \n",
       "16                  7                     5                        0   \n",
       "19                  6                     2                        1   \n",
       "23                  0                     0                        0   \n",
       "35                  6                     4                        1   \n",
       "\n",
       "    YearsAtCompany  PercentSalaryHike  PerformanceScore MonthlyIncome_cal  \\\n",
       "1               10                 23                61      5000 & above   \n",
       "16               6                 12                80      2500 & above   \n",
       "19               3                 11                45      2500 & above   \n",
       "23               0                 14                96    less than 2500   \n",
       "35               5                 12                72      2500 & above   \n",
       "\n",
       "   MonthlyRate_cal DailyRate_cal  \n",
       "1    20000 & above   250 & above  \n",
       "16   15000 & above   250 & above  \n",
       "19  less than 5000   250 & above  \n",
       "23   15000 & above   250 & above  \n",
       "35   20000 & above  1250 & above  "
      ]
     },
     "execution_count": 74,
     "metadata": {},
     "output_type": "execute_result"
    }
   ],
   "source": [
    "#Simplifying and grouping the DailyRate column\n",
    "\n",
    "conditions = [\n",
    "    (df['DailyRate'] < 250),\n",
    "    (df['DailyRate'] >= 250) & (df['DailyRate'] < 500),\n",
    "    (df['DailyRate'] >= 500) & (df['DailyRate'] < 750),\n",
    "    (df['DailyRate'] >= 750) & (df['DailyRate'] < 1000),\n",
    "    (df['DailyRate'] >= 1000) & (df['DailyRate'] < 1250),\n",
    "    (df['DailyRate'] >= 1250) \n",
    "    ]\n",
    "\n",
    "values = ['less than 250', '250 & above', '500 & above', '750 & above', '1000 & above', '1250 & above' ]\n",
    "\n",
    "#adding the simplified column to a new calculated column\n",
    "df['DailyRate_cal'] = np.select(conditions, values)\n",
    "\n",
    "df.head()"
   ]
  },
  {
   "cell_type": "code",
   "execution_count": 75,
   "id": "0987ace3",
   "metadata": {},
   "outputs": [
    {
     "data": {
      "text/html": [
       "<div>\n",
       "<style scoped>\n",
       "    .dataframe tbody tr th:only-of-type {\n",
       "        vertical-align: middle;\n",
       "    }\n",
       "\n",
       "    .dataframe tbody tr th {\n",
       "        vertical-align: top;\n",
       "    }\n",
       "\n",
       "    .dataframe thead th {\n",
       "        text-align: right;\n",
       "    }\n",
       "</style>\n",
       "<table border=\"1\" class=\"dataframe\">\n",
       "  <thead>\n",
       "    <tr style=\"text-align: right;\">\n",
       "      <th></th>\n",
       "      <th>MonthlyRate</th>\n",
       "      <th>MonthlyIncome</th>\n",
       "      <th>DailyRate</th>\n",
       "      <th>NumCompaniesWorked</th>\n",
       "      <th>TotalWorkingYears</th>\n",
       "      <th>YearsWithCurrManager</th>\n",
       "      <th>YearsSinceLastPromotion</th>\n",
       "      <th>YearsAtCompany</th>\n",
       "      <th>PercentSalaryHike</th>\n",
       "      <th>PerformanceScore</th>\n",
       "      <th>MonthlyIncome_cal</th>\n",
       "      <th>MonthlyRate_cal</th>\n",
       "      <th>DailyRate_cal</th>\n",
       "      <th>YearsAtCompany_cal</th>\n",
       "    </tr>\n",
       "  </thead>\n",
       "  <tbody>\n",
       "    <tr>\n",
       "      <th>1</th>\n",
       "      <td>24907</td>\n",
       "      <td>5130</td>\n",
       "      <td>279</td>\n",
       "      <td>1</td>\n",
       "      <td>10</td>\n",
       "      <td>7</td>\n",
       "      <td>1</td>\n",
       "      <td>10</td>\n",
       "      <td>23</td>\n",
       "      <td>61</td>\n",
       "      <td>5000 &amp; above</td>\n",
       "      <td>20000 &amp; above</td>\n",
       "      <td>250 &amp; above</td>\n",
       "      <td>More than 9 years</td>\n",
       "    </tr>\n",
       "    <tr>\n",
       "      <th>16</th>\n",
       "      <td>15053</td>\n",
       "      <td>3298</td>\n",
       "      <td>334</td>\n",
       "      <td>0</td>\n",
       "      <td>7</td>\n",
       "      <td>5</td>\n",
       "      <td>0</td>\n",
       "      <td>6</td>\n",
       "      <td>12</td>\n",
       "      <td>80</td>\n",
       "      <td>2500 &amp; above</td>\n",
       "      <td>15000 &amp; above</td>\n",
       "      <td>250 &amp; above</td>\n",
       "      <td>More than 6 years</td>\n",
       "    </tr>\n",
       "    <tr>\n",
       "      <th>19</th>\n",
       "      <td>4306</td>\n",
       "      <td>3944</td>\n",
       "      <td>371</td>\n",
       "      <td>5</td>\n",
       "      <td>6</td>\n",
       "      <td>2</td>\n",
       "      <td>1</td>\n",
       "      <td>3</td>\n",
       "      <td>11</td>\n",
       "      <td>45</td>\n",
       "      <td>2500 &amp; above</td>\n",
       "      <td>less than 5000</td>\n",
       "      <td>250 &amp; above</td>\n",
       "      <td>More than 3 years</td>\n",
       "    </tr>\n",
       "    <tr>\n",
       "      <th>23</th>\n",
       "      <td>19281</td>\n",
       "      <td>1232</td>\n",
       "      <td>391</td>\n",
       "      <td>1</td>\n",
       "      <td>0</td>\n",
       "      <td>0</td>\n",
       "      <td>0</td>\n",
       "      <td>0</td>\n",
       "      <td>14</td>\n",
       "      <td>96</td>\n",
       "      <td>less than 2500</td>\n",
       "      <td>15000 &amp; above</td>\n",
       "      <td>250 &amp; above</td>\n",
       "      <td>less than 3 years</td>\n",
       "    </tr>\n",
       "    <tr>\n",
       "      <th>35</th>\n",
       "      <td>21923</td>\n",
       "      <td>2645</td>\n",
       "      <td>1273</td>\n",
       "      <td>1</td>\n",
       "      <td>6</td>\n",
       "      <td>4</td>\n",
       "      <td>1</td>\n",
       "      <td>5</td>\n",
       "      <td>12</td>\n",
       "      <td>72</td>\n",
       "      <td>2500 &amp; above</td>\n",
       "      <td>20000 &amp; above</td>\n",
       "      <td>1250 &amp; above</td>\n",
       "      <td>More than 3 years</td>\n",
       "    </tr>\n",
       "  </tbody>\n",
       "</table>\n",
       "</div>"
      ],
      "text/plain": [
       "    MonthlyRate  MonthlyIncome  DailyRate  NumCompaniesWorked  \\\n",
       "1         24907           5130        279                   1   \n",
       "16        15053           3298        334                   0   \n",
       "19         4306           3944        371                   5   \n",
       "23        19281           1232        391                   1   \n",
       "35        21923           2645       1273                   1   \n",
       "\n",
       "    TotalWorkingYears  YearsWithCurrManager  YearsSinceLastPromotion  \\\n",
       "1                  10                     7                        1   \n",
       "16                  7                     5                        0   \n",
       "19                  6                     2                        1   \n",
       "23                  0                     0                        0   \n",
       "35                  6                     4                        1   \n",
       "\n",
       "    YearsAtCompany  PercentSalaryHike  PerformanceScore MonthlyIncome_cal  \\\n",
       "1               10                 23                61      5000 & above   \n",
       "16               6                 12                80      2500 & above   \n",
       "19               3                 11                45      2500 & above   \n",
       "23               0                 14                96    less than 2500   \n",
       "35               5                 12                72      2500 & above   \n",
       "\n",
       "   MonthlyRate_cal DailyRate_cal YearsAtCompany_cal  \n",
       "1    20000 & above   250 & above  More than 9 years  \n",
       "16   15000 & above   250 & above  More than 6 years  \n",
       "19  less than 5000   250 & above  More than 3 years  \n",
       "23   15000 & above   250 & above  less than 3 years  \n",
       "35   20000 & above  1250 & above  More than 3 years  "
      ]
     },
     "execution_count": 75,
     "metadata": {},
     "output_type": "execute_result"
    }
   ],
   "source": [
    "#Simplifying and grouping the YearsAtCompany column\n",
    "\n",
    "conditions = [\n",
    "    (df['YearsAtCompany'] < 3),\n",
    "    (df['YearsAtCompany'] >= 3) & (df['YearsAtCompany'] < 6),\n",
    "    (df['YearsAtCompany'] >= 6) & (df['YearsAtCompany'] < 9),\n",
    "    (df['YearsAtCompany'] >= 9) & (df['YearsAtCompany'] < 12),\n",
    "    ]\n",
    "\n",
    "values = ['less than 3 years', 'More than 3 years', 'More than 6 years', 'More than 9 years'] \n",
    "\n",
    "#adding the simplified column to a new calculated column\n",
    "df['YearsAtCompany_cal'] = np.select(conditions, values)\n",
    "\n",
    "df.head()"
   ]
  },
  {
   "cell_type": "code",
   "execution_count": null,
   "id": "d9eb2591",
   "metadata": {},
   "outputs": [],
   "source": []
  },
  {
   "cell_type": "code",
   "execution_count": 76,
   "id": "68cec6fa",
   "metadata": {},
   "outputs": [
    {
     "data": {
      "text/html": [
       "<div>\n",
       "<style scoped>\n",
       "    .dataframe tbody tr th:only-of-type {\n",
       "        vertical-align: middle;\n",
       "    }\n",
       "\n",
       "    .dataframe tbody tr th {\n",
       "        vertical-align: top;\n",
       "    }\n",
       "\n",
       "    .dataframe thead th {\n",
       "        text-align: right;\n",
       "    }\n",
       "</style>\n",
       "<table border=\"1\" class=\"dataframe\">\n",
       "  <thead>\n",
       "    <tr style=\"text-align: right;\">\n",
       "      <th></th>\n",
       "      <th>MonthlyRate</th>\n",
       "      <th>MonthlyIncome</th>\n",
       "      <th>DailyRate</th>\n",
       "      <th>NumCompaniesWorked</th>\n",
       "      <th>TotalWorkingYears</th>\n",
       "      <th>YearsWithCurrManager</th>\n",
       "      <th>YearsSinceLastPromotion</th>\n",
       "      <th>YearsAtCompany</th>\n",
       "      <th>PercentSalaryHike</th>\n",
       "      <th>PerformanceScore</th>\n",
       "      <th>MonthlyIncome_cal</th>\n",
       "      <th>MonthlyRate_cal</th>\n",
       "      <th>DailyRate_cal</th>\n",
       "      <th>YearsAtCompany_cal</th>\n",
       "      <th>TotalWorkingYears_cal</th>\n",
       "    </tr>\n",
       "  </thead>\n",
       "  <tbody>\n",
       "    <tr>\n",
       "      <th>1</th>\n",
       "      <td>24907</td>\n",
       "      <td>5130</td>\n",
       "      <td>279</td>\n",
       "      <td>1</td>\n",
       "      <td>10</td>\n",
       "      <td>7</td>\n",
       "      <td>1</td>\n",
       "      <td>10</td>\n",
       "      <td>23</td>\n",
       "      <td>61</td>\n",
       "      <td>5000 &amp; above</td>\n",
       "      <td>20000 &amp; above</td>\n",
       "      <td>250 &amp; above</td>\n",
       "      <td>More than 9 years</td>\n",
       "      <td>More than 9 years</td>\n",
       "    </tr>\n",
       "    <tr>\n",
       "      <th>16</th>\n",
       "      <td>15053</td>\n",
       "      <td>3298</td>\n",
       "      <td>334</td>\n",
       "      <td>0</td>\n",
       "      <td>7</td>\n",
       "      <td>5</td>\n",
       "      <td>0</td>\n",
       "      <td>6</td>\n",
       "      <td>12</td>\n",
       "      <td>80</td>\n",
       "      <td>2500 &amp; above</td>\n",
       "      <td>15000 &amp; above</td>\n",
       "      <td>250 &amp; above</td>\n",
       "      <td>More than 6 years</td>\n",
       "      <td>More than 6 years</td>\n",
       "    </tr>\n",
       "    <tr>\n",
       "      <th>19</th>\n",
       "      <td>4306</td>\n",
       "      <td>3944</td>\n",
       "      <td>371</td>\n",
       "      <td>5</td>\n",
       "      <td>6</td>\n",
       "      <td>2</td>\n",
       "      <td>1</td>\n",
       "      <td>3</td>\n",
       "      <td>11</td>\n",
       "      <td>45</td>\n",
       "      <td>2500 &amp; above</td>\n",
       "      <td>less than 5000</td>\n",
       "      <td>250 &amp; above</td>\n",
       "      <td>More than 3 years</td>\n",
       "      <td>More than 6 years</td>\n",
       "    </tr>\n",
       "    <tr>\n",
       "      <th>23</th>\n",
       "      <td>19281</td>\n",
       "      <td>1232</td>\n",
       "      <td>391</td>\n",
       "      <td>1</td>\n",
       "      <td>0</td>\n",
       "      <td>0</td>\n",
       "      <td>0</td>\n",
       "      <td>0</td>\n",
       "      <td>14</td>\n",
       "      <td>96</td>\n",
       "      <td>less than 2500</td>\n",
       "      <td>15000 &amp; above</td>\n",
       "      <td>250 &amp; above</td>\n",
       "      <td>less than 3 years</td>\n",
       "      <td>less than 3 years</td>\n",
       "    </tr>\n",
       "    <tr>\n",
       "      <th>35</th>\n",
       "      <td>21923</td>\n",
       "      <td>2645</td>\n",
       "      <td>1273</td>\n",
       "      <td>1</td>\n",
       "      <td>6</td>\n",
       "      <td>4</td>\n",
       "      <td>1</td>\n",
       "      <td>5</td>\n",
       "      <td>12</td>\n",
       "      <td>72</td>\n",
       "      <td>2500 &amp; above</td>\n",
       "      <td>20000 &amp; above</td>\n",
       "      <td>1250 &amp; above</td>\n",
       "      <td>More than 3 years</td>\n",
       "      <td>More than 6 years</td>\n",
       "    </tr>\n",
       "  </tbody>\n",
       "</table>\n",
       "</div>"
      ],
      "text/plain": [
       "    MonthlyRate  MonthlyIncome  DailyRate  NumCompaniesWorked  \\\n",
       "1         24907           5130        279                   1   \n",
       "16        15053           3298        334                   0   \n",
       "19         4306           3944        371                   5   \n",
       "23        19281           1232        391                   1   \n",
       "35        21923           2645       1273                   1   \n",
       "\n",
       "    TotalWorkingYears  YearsWithCurrManager  YearsSinceLastPromotion  \\\n",
       "1                  10                     7                        1   \n",
       "16                  7                     5                        0   \n",
       "19                  6                     2                        1   \n",
       "23                  0                     0                        0   \n",
       "35                  6                     4                        1   \n",
       "\n",
       "    YearsAtCompany  PercentSalaryHike  PerformanceScore MonthlyIncome_cal  \\\n",
       "1               10                 23                61      5000 & above   \n",
       "16               6                 12                80      2500 & above   \n",
       "19               3                 11                45      2500 & above   \n",
       "23               0                 14                96    less than 2500   \n",
       "35               5                 12                72      2500 & above   \n",
       "\n",
       "   MonthlyRate_cal DailyRate_cal YearsAtCompany_cal TotalWorkingYears_cal  \n",
       "1    20000 & above   250 & above  More than 9 years     More than 9 years  \n",
       "16   15000 & above   250 & above  More than 6 years     More than 6 years  \n",
       "19  less than 5000   250 & above  More than 3 years     More than 6 years  \n",
       "23   15000 & above   250 & above  less than 3 years     less than 3 years  \n",
       "35   20000 & above  1250 & above  More than 3 years     More than 6 years  "
      ]
     },
     "execution_count": 76,
     "metadata": {},
     "output_type": "execute_result"
    }
   ],
   "source": [
    "#Simplifying and grouping the TotalWorkingYears column\n",
    "\n",
    "conditions = [\n",
    "    (df['TotalWorkingYears'] < 3),\n",
    "    (df['TotalWorkingYears'] >= 3) & (df['TotalWorkingYears'] < 6),\n",
    "    (df['TotalWorkingYears'] >= 6) & (df['TotalWorkingYears'] < 9),\n",
    "    (df['TotalWorkingYears'] >= 9) & (df['TotalWorkingYears'] < 12),\n",
    "    (df['TotalWorkingYears'] >= 12) & (df['TotalWorkingYears'] < 15),\n",
    "    (df['TotalWorkingYears'] >= 15) \n",
    "    ]\n",
    "\n",
    "values = ['less than 3 years', 'More than 3 years', 'More than 6 years', 'More than 9 years', 'More than 12 years', \n",
    "          'More than 15 years']\n",
    "\n",
    "#adding the simplified column to a new calculated column\n",
    "df['TotalWorkingYears_cal'] = np.select(conditions, values)\n",
    "df.head()"
   ]
  },
  {
   "cell_type": "code",
   "execution_count": 77,
   "id": "df28578a",
   "metadata": {},
   "outputs": [
    {
     "data": {
      "text/html": [
       "<div>\n",
       "<style scoped>\n",
       "    .dataframe tbody tr th:only-of-type {\n",
       "        vertical-align: middle;\n",
       "    }\n",
       "\n",
       "    .dataframe tbody tr th {\n",
       "        vertical-align: top;\n",
       "    }\n",
       "\n",
       "    .dataframe thead th {\n",
       "        text-align: right;\n",
       "    }\n",
       "</style>\n",
       "<table border=\"1\" class=\"dataframe\">\n",
       "  <thead>\n",
       "    <tr style=\"text-align: right;\">\n",
       "      <th></th>\n",
       "      <th>MonthlyRate</th>\n",
       "      <th>MonthlyIncome</th>\n",
       "      <th>DailyRate</th>\n",
       "      <th>NumCompaniesWorked</th>\n",
       "      <th>TotalWorkingYears</th>\n",
       "      <th>YearsWithCurrManager</th>\n",
       "      <th>YearsSinceLastPromotion</th>\n",
       "      <th>YearsAtCompany</th>\n",
       "      <th>PercentSalaryHike</th>\n",
       "      <th>PerformanceScore</th>\n",
       "      <th>MonthlyIncome_cal</th>\n",
       "      <th>MonthlyRate_cal</th>\n",
       "      <th>DailyRate_cal</th>\n",
       "      <th>YearsAtCompany_cal</th>\n",
       "      <th>TotalWorkingYears_cal</th>\n",
       "      <th>YearsSinceLastPromotion_cal</th>\n",
       "    </tr>\n",
       "  </thead>\n",
       "  <tbody>\n",
       "    <tr>\n",
       "      <th>1</th>\n",
       "      <td>24907</td>\n",
       "      <td>5130</td>\n",
       "      <td>279</td>\n",
       "      <td>1</td>\n",
       "      <td>10</td>\n",
       "      <td>7</td>\n",
       "      <td>1</td>\n",
       "      <td>10</td>\n",
       "      <td>23</td>\n",
       "      <td>61</td>\n",
       "      <td>5000 &amp; above</td>\n",
       "      <td>20000 &amp; above</td>\n",
       "      <td>250 &amp; above</td>\n",
       "      <td>More than 9 years</td>\n",
       "      <td>More than 9 years</td>\n",
       "      <td>1 year</td>\n",
       "    </tr>\n",
       "    <tr>\n",
       "      <th>16</th>\n",
       "      <td>15053</td>\n",
       "      <td>3298</td>\n",
       "      <td>334</td>\n",
       "      <td>0</td>\n",
       "      <td>7</td>\n",
       "      <td>5</td>\n",
       "      <td>0</td>\n",
       "      <td>6</td>\n",
       "      <td>12</td>\n",
       "      <td>80</td>\n",
       "      <td>2500 &amp; above</td>\n",
       "      <td>15000 &amp; above</td>\n",
       "      <td>250 &amp; above</td>\n",
       "      <td>More than 6 years</td>\n",
       "      <td>More than 6 years</td>\n",
       "      <td>0 years</td>\n",
       "    </tr>\n",
       "    <tr>\n",
       "      <th>19</th>\n",
       "      <td>4306</td>\n",
       "      <td>3944</td>\n",
       "      <td>371</td>\n",
       "      <td>5</td>\n",
       "      <td>6</td>\n",
       "      <td>2</td>\n",
       "      <td>1</td>\n",
       "      <td>3</td>\n",
       "      <td>11</td>\n",
       "      <td>45</td>\n",
       "      <td>2500 &amp; above</td>\n",
       "      <td>less than 5000</td>\n",
       "      <td>250 &amp; above</td>\n",
       "      <td>More than 3 years</td>\n",
       "      <td>More than 6 years</td>\n",
       "      <td>1 year</td>\n",
       "    </tr>\n",
       "    <tr>\n",
       "      <th>23</th>\n",
       "      <td>19281</td>\n",
       "      <td>1232</td>\n",
       "      <td>391</td>\n",
       "      <td>1</td>\n",
       "      <td>0</td>\n",
       "      <td>0</td>\n",
       "      <td>0</td>\n",
       "      <td>0</td>\n",
       "      <td>14</td>\n",
       "      <td>96</td>\n",
       "      <td>less than 2500</td>\n",
       "      <td>15000 &amp; above</td>\n",
       "      <td>250 &amp; above</td>\n",
       "      <td>less than 3 years</td>\n",
       "      <td>less than 3 years</td>\n",
       "      <td>0 years</td>\n",
       "    </tr>\n",
       "    <tr>\n",
       "      <th>35</th>\n",
       "      <td>21923</td>\n",
       "      <td>2645</td>\n",
       "      <td>1273</td>\n",
       "      <td>1</td>\n",
       "      <td>6</td>\n",
       "      <td>4</td>\n",
       "      <td>1</td>\n",
       "      <td>5</td>\n",
       "      <td>12</td>\n",
       "      <td>72</td>\n",
       "      <td>2500 &amp; above</td>\n",
       "      <td>20000 &amp; above</td>\n",
       "      <td>1250 &amp; above</td>\n",
       "      <td>More than 3 years</td>\n",
       "      <td>More than 6 years</td>\n",
       "      <td>1 year</td>\n",
       "    </tr>\n",
       "  </tbody>\n",
       "</table>\n",
       "</div>"
      ],
      "text/plain": [
       "    MonthlyRate  MonthlyIncome  DailyRate  NumCompaniesWorked  \\\n",
       "1         24907           5130        279                   1   \n",
       "16        15053           3298        334                   0   \n",
       "19         4306           3944        371                   5   \n",
       "23        19281           1232        391                   1   \n",
       "35        21923           2645       1273                   1   \n",
       "\n",
       "    TotalWorkingYears  YearsWithCurrManager  YearsSinceLastPromotion  \\\n",
       "1                  10                     7                        1   \n",
       "16                  7                     5                        0   \n",
       "19                  6                     2                        1   \n",
       "23                  0                     0                        0   \n",
       "35                  6                     4                        1   \n",
       "\n",
       "    YearsAtCompany  PercentSalaryHike  PerformanceScore MonthlyIncome_cal  \\\n",
       "1               10                 23                61      5000 & above   \n",
       "16               6                 12                80      2500 & above   \n",
       "19               3                 11                45      2500 & above   \n",
       "23               0                 14                96    less than 2500   \n",
       "35               5                 12                72      2500 & above   \n",
       "\n",
       "   MonthlyRate_cal DailyRate_cal YearsAtCompany_cal TotalWorkingYears_cal  \\\n",
       "1    20000 & above   250 & above  More than 9 years     More than 9 years   \n",
       "16   15000 & above   250 & above  More than 6 years     More than 6 years   \n",
       "19  less than 5000   250 & above  More than 3 years     More than 6 years   \n",
       "23   15000 & above   250 & above  less than 3 years     less than 3 years   \n",
       "35   20000 & above  1250 & above  More than 3 years     More than 6 years   \n",
       "\n",
       "   YearsSinceLastPromotion_cal  \n",
       "1                       1 year  \n",
       "16                     0 years  \n",
       "19                      1 year  \n",
       "23                     0 years  \n",
       "35                      1 year  "
      ]
     },
     "execution_count": 77,
     "metadata": {},
     "output_type": "execute_result"
    }
   ],
   "source": [
    "#Simplifying and grouping the YearsSinceLastPromotion column\n",
    "\n",
    "conditions = [\n",
    "    (df['YearsSinceLastPromotion'] == 0),\n",
    "    (df['YearsSinceLastPromotion'] == 1), \n",
    "    (df['YearsSinceLastPromotion'] == 2),\n",
    "    ]\n",
    "\n",
    "values = ['0 years', '1 year', '2 years' ]\n",
    "\n",
    "#adding the simplified column to a new calculated column\n",
    "df['YearsSinceLastPromotion_cal'] = np.select(conditions, values)\n",
    "df.head()"
   ]
  },
  {
   "cell_type": "code",
   "execution_count": 78,
   "id": "fd410898",
   "metadata": {},
   "outputs": [
    {
     "data": {
      "text/html": [
       "<div>\n",
       "<style scoped>\n",
       "    .dataframe tbody tr th:only-of-type {\n",
       "        vertical-align: middle;\n",
       "    }\n",
       "\n",
       "    .dataframe tbody tr th {\n",
       "        vertical-align: top;\n",
       "    }\n",
       "\n",
       "    .dataframe thead th {\n",
       "        text-align: right;\n",
       "    }\n",
       "</style>\n",
       "<table border=\"1\" class=\"dataframe\">\n",
       "  <thead>\n",
       "    <tr style=\"text-align: right;\">\n",
       "      <th></th>\n",
       "      <th>MonthlyRate</th>\n",
       "      <th>MonthlyIncome</th>\n",
       "      <th>DailyRate</th>\n",
       "      <th>NumCompaniesWorked</th>\n",
       "      <th>TotalWorkingYears</th>\n",
       "      <th>YearsWithCurrManager</th>\n",
       "      <th>YearsSinceLastPromotion</th>\n",
       "      <th>YearsAtCompany</th>\n",
       "      <th>PercentSalaryHike</th>\n",
       "      <th>PerformanceScore</th>\n",
       "      <th>MonthlyIncome_cal</th>\n",
       "      <th>MonthlyRate_cal</th>\n",
       "      <th>DailyRate_cal</th>\n",
       "      <th>YearsAtCompany_cal</th>\n",
       "      <th>TotalWorkingYears_cal</th>\n",
       "      <th>YearsSinceLastPromotion_cal</th>\n",
       "      <th>YearsWithCurrManager_cal</th>\n",
       "    </tr>\n",
       "  </thead>\n",
       "  <tbody>\n",
       "    <tr>\n",
       "      <th>1</th>\n",
       "      <td>24907</td>\n",
       "      <td>5130</td>\n",
       "      <td>279</td>\n",
       "      <td>1</td>\n",
       "      <td>10</td>\n",
       "      <td>7</td>\n",
       "      <td>1</td>\n",
       "      <td>10</td>\n",
       "      <td>23</td>\n",
       "      <td>61</td>\n",
       "      <td>5000 &amp; above</td>\n",
       "      <td>20000 &amp; above</td>\n",
       "      <td>250 &amp; above</td>\n",
       "      <td>More than 9 years</td>\n",
       "      <td>More than 9 years</td>\n",
       "      <td>1 year</td>\n",
       "      <td>More than 6 years</td>\n",
       "    </tr>\n",
       "    <tr>\n",
       "      <th>16</th>\n",
       "      <td>15053</td>\n",
       "      <td>3298</td>\n",
       "      <td>334</td>\n",
       "      <td>0</td>\n",
       "      <td>7</td>\n",
       "      <td>5</td>\n",
       "      <td>0</td>\n",
       "      <td>6</td>\n",
       "      <td>12</td>\n",
       "      <td>80</td>\n",
       "      <td>2500 &amp; above</td>\n",
       "      <td>15000 &amp; above</td>\n",
       "      <td>250 &amp; above</td>\n",
       "      <td>More than 6 years</td>\n",
       "      <td>More than 6 years</td>\n",
       "      <td>0 years</td>\n",
       "      <td>More than 3 years</td>\n",
       "    </tr>\n",
       "    <tr>\n",
       "      <th>19</th>\n",
       "      <td>4306</td>\n",
       "      <td>3944</td>\n",
       "      <td>371</td>\n",
       "      <td>5</td>\n",
       "      <td>6</td>\n",
       "      <td>2</td>\n",
       "      <td>1</td>\n",
       "      <td>3</td>\n",
       "      <td>11</td>\n",
       "      <td>45</td>\n",
       "      <td>2500 &amp; above</td>\n",
       "      <td>less than 5000</td>\n",
       "      <td>250 &amp; above</td>\n",
       "      <td>More than 3 years</td>\n",
       "      <td>More than 6 years</td>\n",
       "      <td>1 year</td>\n",
       "      <td>less than 3 years</td>\n",
       "    </tr>\n",
       "    <tr>\n",
       "      <th>23</th>\n",
       "      <td>19281</td>\n",
       "      <td>1232</td>\n",
       "      <td>391</td>\n",
       "      <td>1</td>\n",
       "      <td>0</td>\n",
       "      <td>0</td>\n",
       "      <td>0</td>\n",
       "      <td>0</td>\n",
       "      <td>14</td>\n",
       "      <td>96</td>\n",
       "      <td>less than 2500</td>\n",
       "      <td>15000 &amp; above</td>\n",
       "      <td>250 &amp; above</td>\n",
       "      <td>less than 3 years</td>\n",
       "      <td>less than 3 years</td>\n",
       "      <td>0 years</td>\n",
       "      <td>less than 3 years</td>\n",
       "    </tr>\n",
       "    <tr>\n",
       "      <th>35</th>\n",
       "      <td>21923</td>\n",
       "      <td>2645</td>\n",
       "      <td>1273</td>\n",
       "      <td>1</td>\n",
       "      <td>6</td>\n",
       "      <td>4</td>\n",
       "      <td>1</td>\n",
       "      <td>5</td>\n",
       "      <td>12</td>\n",
       "      <td>72</td>\n",
       "      <td>2500 &amp; above</td>\n",
       "      <td>20000 &amp; above</td>\n",
       "      <td>1250 &amp; above</td>\n",
       "      <td>More than 3 years</td>\n",
       "      <td>More than 6 years</td>\n",
       "      <td>1 year</td>\n",
       "      <td>More than 3 years</td>\n",
       "    </tr>\n",
       "  </tbody>\n",
       "</table>\n",
       "</div>"
      ],
      "text/plain": [
       "    MonthlyRate  MonthlyIncome  DailyRate  NumCompaniesWorked  \\\n",
       "1         24907           5130        279                   1   \n",
       "16        15053           3298        334                   0   \n",
       "19         4306           3944        371                   5   \n",
       "23        19281           1232        391                   1   \n",
       "35        21923           2645       1273                   1   \n",
       "\n",
       "    TotalWorkingYears  YearsWithCurrManager  YearsSinceLastPromotion  \\\n",
       "1                  10                     7                        1   \n",
       "16                  7                     5                        0   \n",
       "19                  6                     2                        1   \n",
       "23                  0                     0                        0   \n",
       "35                  6                     4                        1   \n",
       "\n",
       "    YearsAtCompany  PercentSalaryHike  PerformanceScore MonthlyIncome_cal  \\\n",
       "1               10                 23                61      5000 & above   \n",
       "16               6                 12                80      2500 & above   \n",
       "19               3                 11                45      2500 & above   \n",
       "23               0                 14                96    less than 2500   \n",
       "35               5                 12                72      2500 & above   \n",
       "\n",
       "   MonthlyRate_cal DailyRate_cal YearsAtCompany_cal TotalWorkingYears_cal  \\\n",
       "1    20000 & above   250 & above  More than 9 years     More than 9 years   \n",
       "16   15000 & above   250 & above  More than 6 years     More than 6 years   \n",
       "19  less than 5000   250 & above  More than 3 years     More than 6 years   \n",
       "23   15000 & above   250 & above  less than 3 years     less than 3 years   \n",
       "35   20000 & above  1250 & above  More than 3 years     More than 6 years   \n",
       "\n",
       "   YearsSinceLastPromotion_cal YearsWithCurrManager_cal  \n",
       "1                       1 year        More than 6 years  \n",
       "16                     0 years        More than 3 years  \n",
       "19                      1 year        less than 3 years  \n",
       "23                     0 years        less than 3 years  \n",
       "35                      1 year        More than 3 years  "
      ]
     },
     "execution_count": 78,
     "metadata": {},
     "output_type": "execute_result"
    }
   ],
   "source": [
    "conditions = [\n",
    "    (df['YearsWithCurrManager'] < 3),\n",
    "    (df['YearsWithCurrManager'] >= 3) & (df['YearsWithCurrManager'] < 6),\n",
    "    (df['YearsWithCurrManager'] >= 6) & (df['YearsWithCurrManager'] < 9)\n",
    "    ]\n",
    "\n",
    "values = ['less than 3 years', 'More than 3 years', 'More than 6 years']\n",
    "\n",
    "#adding the simplified column to a new calculated column\n",
    "df['YearsWithCurrManager_cal'] = np.select(conditions, values)\n",
    "df.head()\n"
   ]
  },
  {
   "cell_type": "code",
   "execution_count": 79,
   "id": "3a7e4a5e",
   "metadata": {},
   "outputs": [
    {
     "data": {
      "text/html": [
       "<div>\n",
       "<style scoped>\n",
       "    .dataframe tbody tr th:only-of-type {\n",
       "        vertical-align: middle;\n",
       "    }\n",
       "\n",
       "    .dataframe tbody tr th {\n",
       "        vertical-align: top;\n",
       "    }\n",
       "\n",
       "    .dataframe thead th {\n",
       "        text-align: right;\n",
       "    }\n",
       "</style>\n",
       "<table border=\"1\" class=\"dataframe\">\n",
       "  <thead>\n",
       "    <tr style=\"text-align: right;\">\n",
       "      <th></th>\n",
       "      <th>MonthlyRate</th>\n",
       "      <th>MonthlyIncome</th>\n",
       "      <th>DailyRate</th>\n",
       "      <th>NumCompaniesWorked</th>\n",
       "      <th>TotalWorkingYears</th>\n",
       "      <th>YearsWithCurrManager</th>\n",
       "      <th>YearsSinceLastPromotion</th>\n",
       "      <th>YearsAtCompany</th>\n",
       "      <th>PercentSalaryHike</th>\n",
       "      <th>PerformanceScore</th>\n",
       "      <th>MonthlyIncome_cal</th>\n",
       "      <th>MonthlyRate_cal</th>\n",
       "      <th>DailyRate_cal</th>\n",
       "      <th>YearsAtCompany_cal</th>\n",
       "      <th>TotalWorkingYears_cal</th>\n",
       "      <th>YearsSinceLastPromotion_cal</th>\n",
       "      <th>YearsWithCurrManager_cal</th>\n",
       "      <th>NumCompaniesWorked_cal</th>\n",
       "    </tr>\n",
       "  </thead>\n",
       "  <tbody>\n",
       "    <tr>\n",
       "      <th>1</th>\n",
       "      <td>24907</td>\n",
       "      <td>5130</td>\n",
       "      <td>279</td>\n",
       "      <td>1</td>\n",
       "      <td>10</td>\n",
       "      <td>7</td>\n",
       "      <td>1</td>\n",
       "      <td>10</td>\n",
       "      <td>23</td>\n",
       "      <td>61</td>\n",
       "      <td>5000 &amp; above</td>\n",
       "      <td>20000 &amp; above</td>\n",
       "      <td>250 &amp; above</td>\n",
       "      <td>More than 9 years</td>\n",
       "      <td>More than 9 years</td>\n",
       "      <td>1 year</td>\n",
       "      <td>More than 6 years</td>\n",
       "      <td>less than 2</td>\n",
       "    </tr>\n",
       "    <tr>\n",
       "      <th>16</th>\n",
       "      <td>15053</td>\n",
       "      <td>3298</td>\n",
       "      <td>334</td>\n",
       "      <td>0</td>\n",
       "      <td>7</td>\n",
       "      <td>5</td>\n",
       "      <td>0</td>\n",
       "      <td>6</td>\n",
       "      <td>12</td>\n",
       "      <td>80</td>\n",
       "      <td>2500 &amp; above</td>\n",
       "      <td>15000 &amp; above</td>\n",
       "      <td>250 &amp; above</td>\n",
       "      <td>More than 6 years</td>\n",
       "      <td>More than 6 years</td>\n",
       "      <td>0 years</td>\n",
       "      <td>More than 3 years</td>\n",
       "      <td>less than 2</td>\n",
       "    </tr>\n",
       "    <tr>\n",
       "      <th>19</th>\n",
       "      <td>4306</td>\n",
       "      <td>3944</td>\n",
       "      <td>371</td>\n",
       "      <td>5</td>\n",
       "      <td>6</td>\n",
       "      <td>2</td>\n",
       "      <td>1</td>\n",
       "      <td>3</td>\n",
       "      <td>11</td>\n",
       "      <td>45</td>\n",
       "      <td>2500 &amp; above</td>\n",
       "      <td>less than 5000</td>\n",
       "      <td>250 &amp; above</td>\n",
       "      <td>More than 3 years</td>\n",
       "      <td>More than 6 years</td>\n",
       "      <td>1 year</td>\n",
       "      <td>less than 3 years</td>\n",
       "      <td>less than 6</td>\n",
       "    </tr>\n",
       "    <tr>\n",
       "      <th>23</th>\n",
       "      <td>19281</td>\n",
       "      <td>1232</td>\n",
       "      <td>391</td>\n",
       "      <td>1</td>\n",
       "      <td>0</td>\n",
       "      <td>0</td>\n",
       "      <td>0</td>\n",
       "      <td>0</td>\n",
       "      <td>14</td>\n",
       "      <td>96</td>\n",
       "      <td>less than 2500</td>\n",
       "      <td>15000 &amp; above</td>\n",
       "      <td>250 &amp; above</td>\n",
       "      <td>less than 3 years</td>\n",
       "      <td>less than 3 years</td>\n",
       "      <td>0 years</td>\n",
       "      <td>less than 3 years</td>\n",
       "      <td>less than 2</td>\n",
       "    </tr>\n",
       "    <tr>\n",
       "      <th>35</th>\n",
       "      <td>21923</td>\n",
       "      <td>2645</td>\n",
       "      <td>1273</td>\n",
       "      <td>1</td>\n",
       "      <td>6</td>\n",
       "      <td>4</td>\n",
       "      <td>1</td>\n",
       "      <td>5</td>\n",
       "      <td>12</td>\n",
       "      <td>72</td>\n",
       "      <td>2500 &amp; above</td>\n",
       "      <td>20000 &amp; above</td>\n",
       "      <td>1250 &amp; above</td>\n",
       "      <td>More than 3 years</td>\n",
       "      <td>More than 6 years</td>\n",
       "      <td>1 year</td>\n",
       "      <td>More than 3 years</td>\n",
       "      <td>less than 2</td>\n",
       "    </tr>\n",
       "  </tbody>\n",
       "</table>\n",
       "</div>"
      ],
      "text/plain": [
       "    MonthlyRate  MonthlyIncome  DailyRate  NumCompaniesWorked  \\\n",
       "1         24907           5130        279                   1   \n",
       "16        15053           3298        334                   0   \n",
       "19         4306           3944        371                   5   \n",
       "23        19281           1232        391                   1   \n",
       "35        21923           2645       1273                   1   \n",
       "\n",
       "    TotalWorkingYears  YearsWithCurrManager  YearsSinceLastPromotion  \\\n",
       "1                  10                     7                        1   \n",
       "16                  7                     5                        0   \n",
       "19                  6                     2                        1   \n",
       "23                  0                     0                        0   \n",
       "35                  6                     4                        1   \n",
       "\n",
       "    YearsAtCompany  PercentSalaryHike  PerformanceScore MonthlyIncome_cal  \\\n",
       "1               10                 23                61      5000 & above   \n",
       "16               6                 12                80      2500 & above   \n",
       "19               3                 11                45      2500 & above   \n",
       "23               0                 14                96    less than 2500   \n",
       "35               5                 12                72      2500 & above   \n",
       "\n",
       "   MonthlyRate_cal DailyRate_cal YearsAtCompany_cal TotalWorkingYears_cal  \\\n",
       "1    20000 & above   250 & above  More than 9 years     More than 9 years   \n",
       "16   15000 & above   250 & above  More than 6 years     More than 6 years   \n",
       "19  less than 5000   250 & above  More than 3 years     More than 6 years   \n",
       "23   15000 & above   250 & above  less than 3 years     less than 3 years   \n",
       "35   20000 & above  1250 & above  More than 3 years     More than 6 years   \n",
       "\n",
       "   YearsSinceLastPromotion_cal YearsWithCurrManager_cal NumCompaniesWorked_cal  \n",
       "1                       1 year        More than 6 years            less than 2  \n",
       "16                     0 years        More than 3 years            less than 2  \n",
       "19                      1 year        less than 3 years            less than 6  \n",
       "23                     0 years        less than 3 years            less than 2  \n",
       "35                      1 year        More than 3 years            less than 2  "
      ]
     },
     "execution_count": 79,
     "metadata": {},
     "output_type": "execute_result"
    }
   ],
   "source": [
    "# #Simplifying and grouping the NumCompaniesWorked column\n",
    "\n",
    "conditions = [\n",
    "    (df['NumCompaniesWorked'] < 2),\n",
    "    (df['NumCompaniesWorked'] >= 2) & (df['NumCompaniesWorked'] < 4),\n",
    "    (df['NumCompaniesWorked'] >= 4) & (df['NumCompaniesWorked'] < 6),\n",
    "    (df['NumCompaniesWorked'] >= 6) & (df['NumCompaniesWorked'] < 8),\n",
    "    ]\n",
    "\n",
    "values = ['less than 2', 'less than 4','less than 6', 'less than 8']\n",
    "\n",
    "#adding the simplified column to a new calculated column\n",
    "df['NumCompaniesWorked_cal'] = np.select(conditions, values)\n",
    "df.head()"
   ]
  },
  {
   "cell_type": "code",
   "execution_count": null,
   "id": "7d9757b7",
   "metadata": {},
   "outputs": [],
   "source": []
  },
  {
   "cell_type": "code",
   "execution_count": null,
   "id": "50394426",
   "metadata": {},
   "outputs": [],
   "source": []
  },
  {
   "cell_type": "code",
   "execution_count": 80,
   "id": "e97f1e00",
   "metadata": {},
   "outputs": [],
   "source": [
    "dfExport = df.copy()"
   ]
  },
  {
   "cell_type": "code",
   "execution_count": 81,
   "id": "5c82467b",
   "metadata": {},
   "outputs": [
    {
     "name": "stdout",
     "output_type": "stream",
     "text": [
      "<class 'pandas.core.frame.DataFrame'>\n",
      "Int64Index: 191 entries, 1 to 1460\n",
      "Data columns (total 18 columns):\n",
      " #   Column                       Non-Null Count  Dtype \n",
      "---  ------                       --------------  ----- \n",
      " 0   MonthlyRate                  191 non-null    int64 \n",
      " 1   MonthlyIncome                191 non-null    int64 \n",
      " 2   DailyRate                    191 non-null    int64 \n",
      " 3   NumCompaniesWorked           191 non-null    int64 \n",
      " 4   TotalWorkingYears            191 non-null    int64 \n",
      " 5   YearsWithCurrManager         191 non-null    int64 \n",
      " 6   YearsSinceLastPromotion      191 non-null    int64 \n",
      " 7   YearsAtCompany               191 non-null    int64 \n",
      " 8   PercentSalaryHike            191 non-null    int64 \n",
      " 9   PerformanceScore             191 non-null    int64 \n",
      " 10  MonthlyIncome_cal            191 non-null    object\n",
      " 11  MonthlyRate_cal              191 non-null    object\n",
      " 12  DailyRate_cal                191 non-null    object\n",
      " 13  YearsAtCompany_cal           191 non-null    object\n",
      " 14  TotalWorkingYears_cal        191 non-null    object\n",
      " 15  YearsSinceLastPromotion_cal  191 non-null    object\n",
      " 16  YearsWithCurrManager_cal     191 non-null    object\n",
      " 17  NumCompaniesWorked_cal       191 non-null    object\n",
      "dtypes: int64(10), object(8)\n",
      "memory usage: 32.4+ KB\n"
     ]
    }
   ],
   "source": [
    "# Checking newly created column datatypes\n",
    "df.info()"
   ]
  },
  {
   "cell_type": "code",
   "execution_count": null,
   "id": "b32b01c2",
   "metadata": {},
   "outputs": [],
   "source": []
  },
  {
   "cell_type": "code",
   "execution_count": null,
   "id": "28a38dbe",
   "metadata": {},
   "outputs": [],
   "source": []
  },
  {
   "cell_type": "code",
   "execution_count": 82,
   "id": "b0985bbd",
   "metadata": {},
   "outputs": [],
   "source": [
    "#creating encoded labels and fit transforming them\n",
    "lblMonthlyIncome = LabelEncoder()\n",
    "df['MonthlyIncome_cal'] = lblMonthlyIncome.fit_transform(df['MonthlyIncome_cal'])\n",
    "\n",
    "lblMonthlyRate = LabelEncoder()\n",
    "df['MonthlyRate_cal'] = lblMonthlyRate.fit_transform(df['MonthlyRate_cal'])\n",
    "\n",
    "lblDailyRate = LabelEncoder()\n",
    "df['DailyRate_cal'] = lblDailyRate.fit_transform(df['DailyRate_cal'])\n",
    "\n",
    "lblTotWorkYear = LabelEncoder()\n",
    "df['TotalWorkingYears_cal'] = lblTotWorkYear.fit_transform(df['TotalWorkingYears_cal'])\n",
    "\n",
    "lblYearsSinceLastPromotion = LabelEncoder()\n",
    "df['YearsSinceLastPromotion_cal'] = lblYearsSinceLastPromotion.fit_transform(df['YearsSinceLastPromotion_cal'])\n",
    "\n",
    "lblYearsWithCurrManager = LabelEncoder()\n",
    "df['YearsWithCurrManager_cal'] = lblYearsWithCurrManager.fit_transform(df['YearsWithCurrManager_cal'])\n",
    "\n",
    "lblNumCompaniesWorked = LabelEncoder()\n",
    "df['NumCompaniesWorked_cal'] = lblNumCompaniesWorked.fit_transform(df['NumCompaniesWorked_cal'])\n",
    "\n",
    "lblYearsAtCompany = LabelEncoder()\n",
    "df['YearsAtCompany_cal'] = lblYearsAtCompany.fit_transform(df['YearsAtCompany_cal'])\n",
    "\n",
    "# lblYearsInCurrentRole = LabelEncoder()\n",
    "# df['YearsInCurrentRole_cal'] = lblYearsInCurrentRole.fit_transform(df['YearsInCurrentRole_cal'])\n"
   ]
  },
  {
   "cell_type": "code",
   "execution_count": 83,
   "id": "0e8102f1",
   "metadata": {},
   "outputs": [
    {
     "name": "stdout",
     "output_type": "stream",
     "text": [
      "<class 'pandas.core.frame.DataFrame'>\n",
      "Int64Index: 191 entries, 1 to 1460\n",
      "Data columns (total 18 columns):\n",
      " #   Column                       Non-Null Count  Dtype\n",
      "---  ------                       --------------  -----\n",
      " 0   MonthlyRate                  191 non-null    int64\n",
      " 1   MonthlyIncome                191 non-null    int64\n",
      " 2   DailyRate                    191 non-null    int64\n",
      " 3   NumCompaniesWorked           191 non-null    int64\n",
      " 4   TotalWorkingYears            191 non-null    int64\n",
      " 5   YearsWithCurrManager         191 non-null    int64\n",
      " 6   YearsSinceLastPromotion      191 non-null    int64\n",
      " 7   YearsAtCompany               191 non-null    int64\n",
      " 8   PercentSalaryHike            191 non-null    int64\n",
      " 9   PerformanceScore             191 non-null    int64\n",
      " 10  MonthlyIncome_cal            191 non-null    int32\n",
      " 11  MonthlyRate_cal              191 non-null    int32\n",
      " 12  DailyRate_cal                191 non-null    int32\n",
      " 13  YearsAtCompany_cal           191 non-null    int32\n",
      " 14  TotalWorkingYears_cal        191 non-null    int32\n",
      " 15  YearsSinceLastPromotion_cal  191 non-null    int32\n",
      " 16  YearsWithCurrManager_cal     191 non-null    int32\n",
      " 17  NumCompaniesWorked_cal       191 non-null    int32\n",
      "dtypes: int32(8), int64(10)\n",
      "memory usage: 26.5 KB\n"
     ]
    }
   ],
   "source": [
    "df.info()"
   ]
  },
  {
   "cell_type": "code",
   "execution_count": 84,
   "id": "3945af0e",
   "metadata": {
    "scrolled": false
   },
   "outputs": [
    {
     "data": {
      "text/html": [
       "<div>\n",
       "<style scoped>\n",
       "    .dataframe tbody tr th:only-of-type {\n",
       "        vertical-align: middle;\n",
       "    }\n",
       "\n",
       "    .dataframe tbody tr th {\n",
       "        vertical-align: top;\n",
       "    }\n",
       "\n",
       "    .dataframe thead th {\n",
       "        text-align: right;\n",
       "    }\n",
       "</style>\n",
       "<table border=\"1\" class=\"dataframe\">\n",
       "  <thead>\n",
       "    <tr style=\"text-align: right;\">\n",
       "      <th></th>\n",
       "      <th>MonthlyRate</th>\n",
       "      <th>MonthlyIncome</th>\n",
       "      <th>DailyRate</th>\n",
       "      <th>NumCompaniesWorked</th>\n",
       "      <th>TotalWorkingYears</th>\n",
       "      <th>YearsWithCurrManager</th>\n",
       "      <th>YearsSinceLastPromotion</th>\n",
       "      <th>YearsAtCompany</th>\n",
       "      <th>PercentSalaryHike</th>\n",
       "      <th>PerformanceScore</th>\n",
       "      <th>MonthlyIncome_cal</th>\n",
       "      <th>MonthlyRate_cal</th>\n",
       "      <th>DailyRate_cal</th>\n",
       "      <th>YearsAtCompany_cal</th>\n",
       "      <th>TotalWorkingYears_cal</th>\n",
       "      <th>YearsSinceLastPromotion_cal</th>\n",
       "      <th>YearsWithCurrManager_cal</th>\n",
       "      <th>NumCompaniesWorked_cal</th>\n",
       "    </tr>\n",
       "  </thead>\n",
       "  <tbody>\n",
       "    <tr>\n",
       "      <th>1</th>\n",
       "      <td>24907</td>\n",
       "      <td>5130</td>\n",
       "      <td>279</td>\n",
       "      <td>1</td>\n",
       "      <td>10</td>\n",
       "      <td>7</td>\n",
       "      <td>1</td>\n",
       "      <td>10</td>\n",
       "      <td>23</td>\n",
       "      <td>61</td>\n",
       "      <td>1</td>\n",
       "      <td>2</td>\n",
       "      <td>2</td>\n",
       "      <td>2</td>\n",
       "      <td>4</td>\n",
       "      <td>1</td>\n",
       "      <td>2</td>\n",
       "      <td>1</td>\n",
       "    </tr>\n",
       "    <tr>\n",
       "      <th>16</th>\n",
       "      <td>15053</td>\n",
       "      <td>3298</td>\n",
       "      <td>334</td>\n",
       "      <td>0</td>\n",
       "      <td>7</td>\n",
       "      <td>5</td>\n",
       "      <td>0</td>\n",
       "      <td>6</td>\n",
       "      <td>12</td>\n",
       "      <td>80</td>\n",
       "      <td>0</td>\n",
       "      <td>1</td>\n",
       "      <td>2</td>\n",
       "      <td>1</td>\n",
       "      <td>3</td>\n",
       "      <td>0</td>\n",
       "      <td>1</td>\n",
       "      <td>1</td>\n",
       "    </tr>\n",
       "    <tr>\n",
       "      <th>19</th>\n",
       "      <td>4306</td>\n",
       "      <td>3944</td>\n",
       "      <td>371</td>\n",
       "      <td>5</td>\n",
       "      <td>6</td>\n",
       "      <td>2</td>\n",
       "      <td>1</td>\n",
       "      <td>3</td>\n",
       "      <td>11</td>\n",
       "      <td>45</td>\n",
       "      <td>0</td>\n",
       "      <td>5</td>\n",
       "      <td>2</td>\n",
       "      <td>0</td>\n",
       "      <td>3</td>\n",
       "      <td>1</td>\n",
       "      <td>3</td>\n",
       "      <td>3</td>\n",
       "    </tr>\n",
       "    <tr>\n",
       "      <th>23</th>\n",
       "      <td>19281</td>\n",
       "      <td>1232</td>\n",
       "      <td>391</td>\n",
       "      <td>1</td>\n",
       "      <td>0</td>\n",
       "      <td>0</td>\n",
       "      <td>0</td>\n",
       "      <td>0</td>\n",
       "      <td>14</td>\n",
       "      <td>96</td>\n",
       "      <td>2</td>\n",
       "      <td>1</td>\n",
       "      <td>2</td>\n",
       "      <td>3</td>\n",
       "      <td>5</td>\n",
       "      <td>0</td>\n",
       "      <td>3</td>\n",
       "      <td>1</td>\n",
       "    </tr>\n",
       "    <tr>\n",
       "      <th>35</th>\n",
       "      <td>21923</td>\n",
       "      <td>2645</td>\n",
       "      <td>1273</td>\n",
       "      <td>1</td>\n",
       "      <td>6</td>\n",
       "      <td>4</td>\n",
       "      <td>1</td>\n",
       "      <td>5</td>\n",
       "      <td>12</td>\n",
       "      <td>72</td>\n",
       "      <td>0</td>\n",
       "      <td>2</td>\n",
       "      <td>1</td>\n",
       "      <td>0</td>\n",
       "      <td>3</td>\n",
       "      <td>1</td>\n",
       "      <td>1</td>\n",
       "      <td>1</td>\n",
       "    </tr>\n",
       "    <tr>\n",
       "      <th>...</th>\n",
       "      <td>...</td>\n",
       "      <td>...</td>\n",
       "      <td>...</td>\n",
       "      <td>...</td>\n",
       "      <td>...</td>\n",
       "      <td>...</td>\n",
       "      <td>...</td>\n",
       "      <td>...</td>\n",
       "      <td>...</td>\n",
       "      <td>...</td>\n",
       "      <td>...</td>\n",
       "      <td>...</td>\n",
       "      <td>...</td>\n",
       "      <td>...</td>\n",
       "      <td>...</td>\n",
       "      <td>...</td>\n",
       "      <td>...</td>\n",
       "      <td>...</td>\n",
       "    </tr>\n",
       "    <tr>\n",
       "      <th>1435</th>\n",
       "      <td>13422</td>\n",
       "      <td>2436</td>\n",
       "      <td>1037</td>\n",
       "      <td>6</td>\n",
       "      <td>6</td>\n",
       "      <td>2</td>\n",
       "      <td>1</td>\n",
       "      <td>4</td>\n",
       "      <td>12</td>\n",
       "      <td>42</td>\n",
       "      <td>2</td>\n",
       "      <td>0</td>\n",
       "      <td>0</td>\n",
       "      <td>0</td>\n",
       "      <td>3</td>\n",
       "      <td>1</td>\n",
       "      <td>3</td>\n",
       "      <td>4</td>\n",
       "    </tr>\n",
       "    <tr>\n",
       "      <th>1449</th>\n",
       "      <td>11288</td>\n",
       "      <td>2439</td>\n",
       "      <td>529</td>\n",
       "      <td>1</td>\n",
       "      <td>4</td>\n",
       "      <td>2</td>\n",
       "      <td>1</td>\n",
       "      <td>4</td>\n",
       "      <td>14</td>\n",
       "      <td>78</td>\n",
       "      <td>2</td>\n",
       "      <td>0</td>\n",
       "      <td>3</td>\n",
       "      <td>0</td>\n",
       "      <td>2</td>\n",
       "      <td>1</td>\n",
       "      <td>3</td>\n",
       "      <td>1</td>\n",
       "    </tr>\n",
       "    <tr>\n",
       "      <th>1455</th>\n",
       "      <td>2725</td>\n",
       "      <td>2809</td>\n",
       "      <td>1322</td>\n",
       "      <td>2</td>\n",
       "      <td>8</td>\n",
       "      <td>2</td>\n",
       "      <td>2</td>\n",
       "      <td>2</td>\n",
       "      <td>14</td>\n",
       "      <td>52</td>\n",
       "      <td>0</td>\n",
       "      <td>5</td>\n",
       "      <td>1</td>\n",
       "      <td>3</td>\n",
       "      <td>3</td>\n",
       "      <td>2</td>\n",
       "      <td>3</td>\n",
       "      <td>2</td>\n",
       "    </tr>\n",
       "    <tr>\n",
       "      <th>1458</th>\n",
       "      <td>8952</td>\n",
       "      <td>2977</td>\n",
       "      <td>287</td>\n",
       "      <td>1</td>\n",
       "      <td>4</td>\n",
       "      <td>1</td>\n",
       "      <td>1</td>\n",
       "      <td>4</td>\n",
       "      <td>12</td>\n",
       "      <td>62</td>\n",
       "      <td>0</td>\n",
       "      <td>4</td>\n",
       "      <td>2</td>\n",
       "      <td>0</td>\n",
       "      <td>2</td>\n",
       "      <td>1</td>\n",
       "      <td>3</td>\n",
       "      <td>1</td>\n",
       "    </tr>\n",
       "    <tr>\n",
       "      <th>1460</th>\n",
       "      <td>8489</td>\n",
       "      <td>3785</td>\n",
       "      <td>468</td>\n",
       "      <td>1</td>\n",
       "      <td>5</td>\n",
       "      <td>4</td>\n",
       "      <td>0</td>\n",
       "      <td>5</td>\n",
       "      <td>14</td>\n",
       "      <td>73</td>\n",
       "      <td>0</td>\n",
       "      <td>4</td>\n",
       "      <td>2</td>\n",
       "      <td>0</td>\n",
       "      <td>2</td>\n",
       "      <td>0</td>\n",
       "      <td>1</td>\n",
       "      <td>1</td>\n",
       "    </tr>\n",
       "  </tbody>\n",
       "</table>\n",
       "<p>191 rows × 18 columns</p>\n",
       "</div>"
      ],
      "text/plain": [
       "      MonthlyRate  MonthlyIncome  DailyRate  NumCompaniesWorked  \\\n",
       "1           24907           5130        279                   1   \n",
       "16          15053           3298        334                   0   \n",
       "19           4306           3944        371                   5   \n",
       "23          19281           1232        391                   1   \n",
       "35          21923           2645       1273                   1   \n",
       "...           ...            ...        ...                 ...   \n",
       "1435        13422           2436       1037                   6   \n",
       "1449        11288           2439        529                   1   \n",
       "1455         2725           2809       1322                   2   \n",
       "1458         8952           2977        287                   1   \n",
       "1460         8489           3785        468                   1   \n",
       "\n",
       "      TotalWorkingYears  YearsWithCurrManager  YearsSinceLastPromotion  \\\n",
       "1                    10                     7                        1   \n",
       "16                    7                     5                        0   \n",
       "19                    6                     2                        1   \n",
       "23                    0                     0                        0   \n",
       "35                    6                     4                        1   \n",
       "...                 ...                   ...                      ...   \n",
       "1435                  6                     2                        1   \n",
       "1449                  4                     2                        1   \n",
       "1455                  8                     2                        2   \n",
       "1458                  4                     1                        1   \n",
       "1460                  5                     4                        0   \n",
       "\n",
       "      YearsAtCompany  PercentSalaryHike  PerformanceScore  MonthlyIncome_cal  \\\n",
       "1                 10                 23                61                  1   \n",
       "16                 6                 12                80                  0   \n",
       "19                 3                 11                45                  0   \n",
       "23                 0                 14                96                  2   \n",
       "35                 5                 12                72                  0   \n",
       "...              ...                ...               ...                ...   \n",
       "1435               4                 12                42                  2   \n",
       "1449               4                 14                78                  2   \n",
       "1455               2                 14                52                  0   \n",
       "1458               4                 12                62                  0   \n",
       "1460               5                 14                73                  0   \n",
       "\n",
       "      MonthlyRate_cal  DailyRate_cal  YearsAtCompany_cal  \\\n",
       "1                   2              2                   2   \n",
       "16                  1              2                   1   \n",
       "19                  5              2                   0   \n",
       "23                  1              2                   3   \n",
       "35                  2              1                   0   \n",
       "...               ...            ...                 ...   \n",
       "1435                0              0                   0   \n",
       "1449                0              3                   0   \n",
       "1455                5              1                   3   \n",
       "1458                4              2                   0   \n",
       "1460                4              2                   0   \n",
       "\n",
       "      TotalWorkingYears_cal  YearsSinceLastPromotion_cal  \\\n",
       "1                         4                            1   \n",
       "16                        3                            0   \n",
       "19                        3                            1   \n",
       "23                        5                            0   \n",
       "35                        3                            1   \n",
       "...                     ...                          ...   \n",
       "1435                      3                            1   \n",
       "1449                      2                            1   \n",
       "1455                      3                            2   \n",
       "1458                      2                            1   \n",
       "1460                      2                            0   \n",
       "\n",
       "      YearsWithCurrManager_cal  NumCompaniesWorked_cal  \n",
       "1                            2                       1  \n",
       "16                           1                       1  \n",
       "19                           3                       3  \n",
       "23                           3                       1  \n",
       "35                           1                       1  \n",
       "...                        ...                     ...  \n",
       "1435                         3                       4  \n",
       "1449                         3                       1  \n",
       "1455                         3                       2  \n",
       "1458                         3                       1  \n",
       "1460                         1                       1  \n",
       "\n",
       "[191 rows x 18 columns]"
      ]
     },
     "execution_count": 84,
     "metadata": {},
     "output_type": "execute_result"
    }
   ],
   "source": [
    "df"
   ]
  },
  {
   "cell_type": "code",
   "execution_count": 85,
   "id": "85003948",
   "metadata": {},
   "outputs": [],
   "source": [
    "#converting the int32 columns to int64\n",
    "d = dict.fromkeys(df.select_dtypes(np.int32).columns, np.int64)\n",
    "df = df.astype(d)"
   ]
  },
  {
   "cell_type": "code",
   "execution_count": 86,
   "id": "f924d6e4",
   "metadata": {},
   "outputs": [],
   "source": [
    "# copying dataframe\n",
    "df_cpy = df.copy()"
   ]
  },
  {
   "cell_type": "code",
   "execution_count": 87,
   "id": "d3bcc062",
   "metadata": {},
   "outputs": [],
   "source": [
    "#having only the calculated columns in the dataset and assigning the target value to y\n",
    "# x = df_cpy.drop([\"PercentSalaryHike\", \"PerformanceScore\", \"MonthlyIncome\", \"MonthlyRate\", \"DailyRate\", \"YearsSinceLastPromotion\", \"YearsAtCompany\", \"TotalWorkingYears\", \"NumCompaniesWorked\"], axis=1)\n",
    "# y_psh = df_cpy[\"PercentSalaryHike\"]\n",
    "x = df_cpy.drop([\"PercentSalaryHike\", \"PerformanceScore\", \"MonthlyRate\", \"MonthlyIncome\", \"DailyRate\", \"YearsSinceLastPromotion\", \"NumCompaniesWorked\", \"TotalWorkingYears\", \"YearsWithCurrManager\", \"YearsAtCompany\"], axis=1)\n",
    "y_psh = df_cpy[\"PercentSalaryHike\"]"
   ]
  },
  {
   "cell_type": "code",
   "execution_count": null,
   "id": "951a90fb",
   "metadata": {},
   "outputs": [],
   "source": []
  },
  {
   "cell_type": "code",
   "execution_count": null,
   "id": "25fb978d",
   "metadata": {},
   "outputs": [],
   "source": []
  },
  {
   "cell_type": "markdown",
   "id": "101ded55",
   "metadata": {},
   "source": [
    "### Model Training "
   ]
  },
  {
   "cell_type": "markdown",
   "id": "014af8ce",
   "metadata": {},
   "source": [
    "#### DecisionTreeClassifier - PercentSalaryHike"
   ]
  },
  {
   "cell_type": "code",
   "execution_count": 88,
   "id": "dbe1563e",
   "metadata": {},
   "outputs": [
    {
     "data": {
      "text/plain": [
       "GridSearchCV(cv=10, estimator=DecisionTreeClassifier(random_state=42),\n",
       "             param_grid=[{'criterion': ['gini'],\n",
       "                          'min_samples_split': [2, 3, 4, 5]},\n",
       "                         {'criterion': ['entropy'],\n",
       "                          'min_samples_split': [2, 3, 4, 5]}],\n",
       "             scoring='accuracy')"
      ]
     },
     "execution_count": 88,
     "metadata": {},
     "output_type": "execute_result"
    }
   ],
   "source": [
    "# Training the model using Decision Tree Classifier\n",
    "x_train, x_test, y_train, y_test = train_test_split(x,y_psh,test_size=0.2,random_state=0)\n",
    "dtc=DecisionTreeClassifier(random_state=42,splitter='best')\n",
    "parameters=[{'min_samples_split':[2,3,4,5],'criterion':['gini']},{'min_samples_split':[2,3,4,5],'criterion':['entropy']}]\n",
    "\n",
    "dtc_model=GridSearchCV(estimator=dtc, param_grid=parameters, scoring='accuracy',cv=10)\n",
    "dtc_model.fit(x_train,y_train)"
   ]
  },
  {
   "cell_type": "code",
   "execution_count": 89,
   "id": "cea8e2b8",
   "metadata": {},
   "outputs": [
    {
     "data": {
      "text/plain": [
       "{'criterion': 'gini', 'min_samples_split': 4}"
      ]
     },
     "execution_count": 89,
     "metadata": {},
     "output_type": "execute_result"
    }
   ],
   "source": [
    "#finding best parameters\n",
    "dtc_model.best_params_"
   ]
  },
  {
   "cell_type": "code",
   "execution_count": 90,
   "id": "ef90f815",
   "metadata": {},
   "outputs": [],
   "source": [
    "# Predicting the decision tree classifier model\n",
    "y_predict_dtc = dtc_model.predict(x_train)\n",
    "y_predict_dtc_test = dtc_model.predict(x_test)"
   ]
  },
  {
   "cell_type": "code",
   "execution_count": 91,
   "id": "b6d0f18e",
   "metadata": {},
   "outputs": [
    {
     "name": "stdout",
     "output_type": "stream",
     "text": [
      "0.7236842105263158\n",
      "0.1282051282051282\n",
      "              precision    recall  f1-score   support\n",
      "\n",
      "          11       0.00      0.00      0.00         1\n",
      "          12       0.22      0.67      0.33         3\n",
      "          13       0.00      0.00      0.00         8\n",
      "          14       1.00      0.25      0.40         4\n",
      "          15       0.00      0.00      0.00         1\n",
      "          16       0.00      0.00      0.00         3\n",
      "          17       0.50      0.33      0.40         6\n",
      "          18       0.00      0.00      0.00         4\n",
      "          19       0.00      0.00      0.00         2\n",
      "          20       0.00      0.00      0.00         2\n",
      "          21       0.00      0.00      0.00         1\n",
      "          22       0.00      0.00      0.00         1\n",
      "          23       0.00      0.00      0.00         2\n",
      "          24       0.00      0.00      0.00         0\n",
      "          25       0.00      0.00      0.00         1\n",
      "\n",
      "    accuracy                           0.13        39\n",
      "   macro avg       0.11      0.08      0.08        39\n",
      "weighted avg       0.20      0.13      0.13        39\n",
      "\n"
     ]
    }
   ],
   "source": [
    "# Finding the accuracy and classification report\n",
    "print(accuracy_score(y_train,y_predict_dtc))\n",
    "print(accuracy_score(y_test,y_predict_dtc_test))\n",
    "print(classification_report(y_test,y_predict_dtc_test))"
   ]
  },
  {
   "cell_type": "markdown",
   "id": "3dc117e7",
   "metadata": {},
   "source": [
    "#### Naive Bayes -  PercentSalaryHike"
   ]
  },
  {
   "cell_type": "code",
   "execution_count": 92,
   "id": "5ff24cd7",
   "metadata": {},
   "outputs": [
    {
     "data": {
      "text/plain": [
       "BernoulliNB()"
      ]
     },
     "execution_count": 92,
     "metadata": {},
     "output_type": "execute_result"
    }
   ],
   "source": [
    "# Training the model using Naive Bayes \n",
    "x_train, x_test, y_train, y_test = train_test_split(x,y_psh,test_size=0.2,random_state=1)\n",
    "model_nb = BernoulliNB()\n",
    "model_nb.fit(x_train,y_train)"
   ]
  },
  {
   "cell_type": "code",
   "execution_count": 93,
   "id": "3dae04dc",
   "metadata": {},
   "outputs": [],
   "source": [
    "#Making predictions using nb\n",
    "y_predict_nb = model_nb.predict(x_train)\n",
    "y_predict_nb_test = model_nb.predict(x_test)"
   ]
  },
  {
   "cell_type": "code",
   "execution_count": 94,
   "id": "a527ce17",
   "metadata": {},
   "outputs": [
    {
     "name": "stdout",
     "output_type": "stream",
     "text": [
      "0.2565789473684211\n",
      "0.2564102564102564\n",
      "              precision    recall  f1-score   support\n",
      "\n",
      "          11       0.27      0.21      0.24        14\n",
      "          12       0.25      0.26      0.26        19\n",
      "          13       0.20      0.67      0.30        24\n",
      "          14       0.28      0.39      0.33        23\n",
      "          15       1.00      0.17      0.29         6\n",
      "          16       0.50      0.08      0.14        12\n",
      "          17       0.67      0.13      0.22        15\n",
      "          18       1.00      0.09      0.17        11\n",
      "          19       1.00      0.17      0.29         6\n",
      "          20       0.00      0.00      0.00         6\n",
      "          21       0.00      0.00      0.00         5\n",
      "          22       0.00      0.00      0.00         4\n",
      "          23       0.00      0.00      0.00         4\n",
      "          24       0.00      0.00      0.00         2\n",
      "          25       0.00      0.00      0.00         1\n",
      "\n",
      "    accuracy                           0.26       152\n",
      "   macro avg       0.34      0.15      0.15       152\n",
      "weighted avg       0.39      0.26      0.22       152\n",
      "\n"
     ]
    }
   ],
   "source": [
    "#Calculate accracy of the model and precision, recall, f1 score, support values\n",
    "print(accuracy_score(y_train,y_predict_nb))\n",
    "print(accuracy_score(y_test,y_predict_nb_test))\n",
    "\n",
    "print(classification_report(y_train,y_predict_nb))"
   ]
  },
  {
   "cell_type": "markdown",
   "id": "b3d03a60",
   "metadata": {},
   "source": [
    "#### KNN : K-Nearest Neighbor - PercentSalaryHike"
   ]
  },
  {
   "cell_type": "code",
   "execution_count": 95,
   "id": "364cd5cf",
   "metadata": {},
   "outputs": [
    {
     "data": {
      "text/plain": [
       "KNeighborsClassifier(metric='euclidean', n_neighbors=10)"
      ]
     },
     "execution_count": 95,
     "metadata": {},
     "output_type": "execute_result"
    }
   ],
   "source": [
    "# Training model using KNN\n",
    "x_train, x_test, y_train, y_test = train_test_split(x,y_psh,test_size=0.33,random_state=0)\n",
    "knn_model = KNeighborsClassifier(n_neighbors=10,metric='euclidean') \n",
    "knn_model.fit(x_train,y_train)"
   ]
  },
  {
   "cell_type": "code",
   "execution_count": 96,
   "id": "407b8697",
   "metadata": {},
   "outputs": [],
   "source": [
    "# Make predictions\n",
    "y_predict_knn = knn_model.predict(x_train)\n",
    "y_predict_knn_test = knn_model.predict(x_test)"
   ]
  },
  {
   "cell_type": "code",
   "execution_count": 97,
   "id": "b0211c7f",
   "metadata": {},
   "outputs": [
    {
     "name": "stdout",
     "output_type": "stream",
     "text": [
      "0.28346456692913385\n",
      "0.09375\n",
      "              precision    recall  f1-score   support\n",
      "\n",
      "          11       0.25      0.62      0.36        13\n",
      "          12       0.26      0.50      0.34        16\n",
      "          13       0.33      0.64      0.44        22\n",
      "          14       0.08      0.05      0.06        21\n",
      "          15       0.00      0.00      0.00         7\n",
      "          16       0.00      0.00      0.00         9\n",
      "          17       0.25      0.12      0.17         8\n",
      "          18       0.80      0.44      0.57         9\n",
      "          19       0.00      0.00      0.00         4\n",
      "          20       0.00      0.00      0.00         5\n",
      "          21       0.00      0.00      0.00         3\n",
      "          22       0.00      0.00      0.00         5\n",
      "          23       0.00      0.00      0.00         2\n",
      "          24       0.00      0.00      0.00         2\n",
      "          25       0.00      0.00      0.00         1\n",
      "\n",
      "    accuracy                           0.28       127\n",
      "   macro avg       0.13      0.16      0.13       127\n",
      "weighted avg       0.20      0.28      0.22       127\n",
      "\n"
     ]
    }
   ],
   "source": [
    "#Calculate accracy of the model and precision, recall, f1 score, support values\n",
    "print(accuracy_score(y_train,y_predict_knn))\n",
    "print(accuracy_score(y_test,y_predict_knn_test))\n",
    "\n",
    "print(classification_report(y_train,y_predict_knn))"
   ]
  },
  {
   "cell_type": "markdown",
   "id": "2004afb2",
   "metadata": {},
   "source": [
    "#### Support Vector Machine - PercentSalaryHike"
   ]
  },
  {
   "cell_type": "code",
   "execution_count": 98,
   "id": "24cd0da2",
   "metadata": {},
   "outputs": [],
   "source": [
    "# Training using SVC\n",
    "x_train, x_test, y_train, y_test = train_test_split(x,y_psh,test_size=0.2,random_state=0)\n",
    "rbf_svc = SVC(kernel='rbf', C=100, random_state=10).fit(x_train,y_train)"
   ]
  },
  {
   "cell_type": "code",
   "execution_count": 99,
   "id": "349d5c3f",
   "metadata": {},
   "outputs": [],
   "source": [
    "#Make predictions\n",
    "y_predict_svm = rbf_svc.predict(x_train)\n",
    "y_predict_svm_test = rbf_svc.predict(x_test)"
   ]
  },
  {
   "cell_type": "code",
   "execution_count": 100,
   "id": "3f6d4837",
   "metadata": {},
   "outputs": [
    {
     "name": "stdout",
     "output_type": "stream",
     "text": [
      "0.9802631578947368\n",
      "0.05128205128205128\n",
      "              precision    recall  f1-score   support\n",
      "\n",
      "          11       0.85      1.00      0.92        17\n",
      "          12       1.00      0.95      0.98        22\n",
      "          13       1.00      1.00      1.00        25\n",
      "          14       1.00      0.95      0.98        22\n",
      "          15       1.00      1.00      1.00         7\n",
      "          16       1.00      1.00      1.00        13\n",
      "          17       1.00      1.00      1.00         9\n",
      "          18       1.00      1.00      1.00        10\n",
      "          19       1.00      1.00      1.00         5\n",
      "          20       1.00      1.00      1.00         6\n",
      "          21       1.00      1.00      1.00         4\n",
      "          22       1.00      0.83      0.91         6\n",
      "          23       1.00      1.00      1.00         2\n",
      "          24       1.00      1.00      1.00         2\n",
      "          25       1.00      1.00      1.00         2\n",
      "\n",
      "    accuracy                           0.98       152\n",
      "   macro avg       0.99      0.98      0.99       152\n",
      "weighted avg       0.98      0.98      0.98       152\n",
      "\n"
     ]
    }
   ],
   "source": [
    "#Calculate accracy of the model and precision, recall, f1 score, support values\n",
    "print(accuracy_score(y_train,y_predict_svm))\n",
    "print(accuracy_score(y_test,y_predict_svm_test))\n",
    "print(classification_report(y_train,y_predict_svm))"
   ]
  },
  {
   "cell_type": "markdown",
   "id": "4fe8e718",
   "metadata": {},
   "source": [
    "#### Decision Tree Regressor - PercentSalaryHike"
   ]
  },
  {
   "cell_type": "code",
   "execution_count": 101,
   "id": "cd210f9d",
   "metadata": {},
   "outputs": [
    {
     "data": {
      "text/plain": [
       "DecisionTreeRegressor(random_state=0)"
      ]
     },
     "execution_count": 101,
     "metadata": {},
     "output_type": "execute_result"
    }
   ],
   "source": [
    "# splitting the dataset and the target into train and test data.\n",
    "# x - dataset; y_psh - Target column (Performance Salary Hike)\n",
    "x_train, x_test, y_train, y_test = train_test_split(x,y_psh,test_size=0.3,random_state=0,shuffle=True,)\n",
    "decsRegressor = DecisionTreeRegressor(random_state=0)\n",
    "decsRegressor.fit(x_train, y_train)\n",
    "\n",
    "decsRegressor_Test = DecisionTreeRegressor(random_state=0)\n",
    "decsRegressor_Test.fit(x_test, y_test)"
   ]
  },
  {
   "cell_type": "code",
   "execution_count": 102,
   "id": "b1c88f51",
   "metadata": {},
   "outputs": [
    {
     "name": "stdout",
     "output_type": "stream",
     "text": [
      "0.9589350579614012\n",
      "0.9766088245552843\n"
     ]
    }
   ],
   "source": [
    "#Checking the score of model containing training dataset\n",
    "print(decsRegressor.score(x_train,y_train))\n",
    "\n",
    "print(decsRegressor_Test.score(x_test,y_test))"
   ]
  },
  {
   "cell_type": "code",
   "execution_count": 103,
   "id": "1d7f71b3",
   "metadata": {
    "scrolled": true
   },
   "outputs": [
    {
     "data": {
      "text/plain": [
       "array([16.        , 16.        , 12.        , 14.        , 22.        ,\n",
       "       11.        , 15.        , 11.        , 14.        , 16.        ,\n",
       "       13.        , 14.        , 14.        , 18.        , 13.        ,\n",
       "       21.        , 14.        , 16.        , 13.        , 11.        ,\n",
       "       11.        , 12.        , 14.        , 11.        , 18.        ,\n",
       "       14.        , 18.        , 19.        , 16.        , 14.        ,\n",
       "       11.        , 13.        , 18.        , 12.        , 12.        ,\n",
       "       23.        , 14.        , 17.        , 20.        , 22.        ,\n",
       "       19.        , 18.        , 18.        , 12.        , 14.        ,\n",
       "       15.        , 14.        , 15.        , 14.        , 11.5       ,\n",
       "       24.        , 12.        , 13.        , 11.5       , 13.        ,\n",
       "       13.        , 11.        , 15.66666667, 12.        , 12.        ,\n",
       "       13.        , 16.        , 16.        , 12.        , 13.        ,\n",
       "       20.        , 11.        , 16.        , 13.        , 25.        ,\n",
       "       13.        , 17.        , 14.        , 13.        , 12.        ,\n",
       "       17.        , 16.        , 21.        , 12.        , 12.        ,\n",
       "       15.66666667, 13.        , 13.        , 17.        , 14.        ,\n",
       "       14.        , 14.        , 16.        , 12.        , 12.        ,\n",
       "       12.        , 20.        , 17.        , 23.        , 14.        ,\n",
       "       13.        , 16.        , 13.        , 11.        , 15.        ,\n",
       "       14.        , 18.        , 11.        , 14.        , 15.        ,\n",
       "       19.        , 13.        , 14.        , 15.        , 17.        ,\n",
       "       13.        , 13.        , 24.        , 20.        , 15.        ,\n",
       "       15.66666667, 11.        , 13.        , 22.        , 13.        ,\n",
       "       22.        , 20.        , 18.        , 17.        , 19.        ,\n",
       "       21.        , 18.        , 17.        , 22.        , 13.        ,\n",
       "       11.        , 12.        , 14.        ])"
      ]
     },
     "execution_count": 103,
     "metadata": {},
     "output_type": "execute_result"
    }
   ],
   "source": [
    "#gettting predictions according to the trained model\n",
    "y_predict = decsRegressor.predict(x_train)\n",
    "y_predict"
   ]
  },
  {
   "cell_type": "code",
   "execution_count": 104,
   "id": "30701564",
   "metadata": {},
   "outputs": [
    {
     "data": {
      "text/plain": [
       "array([13. , 18. , 14. , 18. , 11. , 20. , 14. , 18. , 13. , 23. , 21. ,\n",
       "       17. , 16. , 25. , 19. , 17. , 17. , 20. , 12.5, 13. , 13. , 16. ,\n",
       "       12. , 17. , 22. , 13. , 17. , 13. , 14. , 12. , 12.5, 13. , 18. ,\n",
       "       23. , 17. , 16. , 19. , 14. , 18. , 17. , 13. , 19. , 11. , 12. ,\n",
       "       11. , 25. , 12. , 13. , 12. , 12. , 18. , 16. , 20. , 18. , 11. ,\n",
       "       16. , 12. , 13. ])"
      ]
     },
     "execution_count": 104,
     "metadata": {},
     "output_type": "execute_result"
    }
   ],
   "source": [
    "#gettting predictions according to the test model\n",
    "y_predict_test = decsRegressor_Test.predict(x_test)\n",
    "y_predict_test"
   ]
  },
  {
   "cell_type": "code",
   "execution_count": 105,
   "id": "295c55b3",
   "metadata": {},
   "outputs": [
    {
     "name": "stdout",
     "output_type": "stream",
     "text": [
      "191\n"
     ]
    }
   ],
   "source": [
    "#Make Predictions for both trained and test data\n",
    "predictions = decsRegressor.predict(x)\n",
    "print(len(predictions))\n",
    "dfExport[\"Prediction_PercentSalaryHike\"] = predictions"
   ]
  },
  {
   "cell_type": "code",
   "execution_count": 106,
   "id": "c4e79ba8",
   "metadata": {},
   "outputs": [
    {
     "name": "stdout",
     "output_type": "stream",
     "text": [
      "11.0\n",
      "25.0\n"
     ]
    }
   ],
   "source": [
    "#Check Maximum and Minimum value in PerformanceScore column\n",
    "print(dfExport[\"Prediction_PercentSalaryHike\"].min())\n",
    "print(dfExport[\"Prediction_PercentSalaryHike\"].max())"
   ]
  },
  {
   "cell_type": "code",
   "execution_count": 107,
   "id": "e7ff5f5d",
   "metadata": {},
   "outputs": [
    {
     "data": {
      "text/html": [
       "<div>\n",
       "<style scoped>\n",
       "    .dataframe tbody tr th:only-of-type {\n",
       "        vertical-align: middle;\n",
       "    }\n",
       "\n",
       "    .dataframe tbody tr th {\n",
       "        vertical-align: top;\n",
       "    }\n",
       "\n",
       "    .dataframe thead th {\n",
       "        text-align: right;\n",
       "    }\n",
       "</style>\n",
       "<table border=\"1\" class=\"dataframe\">\n",
       "  <thead>\n",
       "    <tr style=\"text-align: right;\">\n",
       "      <th></th>\n",
       "      <th>MonthlyRate</th>\n",
       "      <th>MonthlyIncome</th>\n",
       "      <th>DailyRate</th>\n",
       "      <th>NumCompaniesWorked</th>\n",
       "      <th>TotalWorkingYears</th>\n",
       "      <th>YearsWithCurrManager</th>\n",
       "      <th>YearsSinceLastPromotion</th>\n",
       "      <th>YearsAtCompany</th>\n",
       "      <th>PercentSalaryHike</th>\n",
       "      <th>PerformanceScore</th>\n",
       "      <th>MonthlyIncome_cal</th>\n",
       "      <th>MonthlyRate_cal</th>\n",
       "      <th>DailyRate_cal</th>\n",
       "      <th>YearsAtCompany_cal</th>\n",
       "      <th>TotalWorkingYears_cal</th>\n",
       "      <th>YearsSinceLastPromotion_cal</th>\n",
       "      <th>YearsWithCurrManager_cal</th>\n",
       "      <th>NumCompaniesWorked_cal</th>\n",
       "      <th>Prediction_PercentSalaryHike</th>\n",
       "      <th>Prediction_PercentSalaryHike_cal</th>\n",
       "    </tr>\n",
       "  </thead>\n",
       "  <tbody>\n",
       "    <tr>\n",
       "      <th>1</th>\n",
       "      <td>24907</td>\n",
       "      <td>5130</td>\n",
       "      <td>279</td>\n",
       "      <td>1</td>\n",
       "      <td>10</td>\n",
       "      <td>7</td>\n",
       "      <td>1</td>\n",
       "      <td>10</td>\n",
       "      <td>23</td>\n",
       "      <td>61</td>\n",
       "      <td>5000 &amp; above</td>\n",
       "      <td>20000 &amp; above</td>\n",
       "      <td>250 &amp; above</td>\n",
       "      <td>More than 9 years</td>\n",
       "      <td>More than 9 years</td>\n",
       "      <td>1 year</td>\n",
       "      <td>More than 6 years</td>\n",
       "      <td>less than 2</td>\n",
       "      <td>23.000000</td>\n",
       "      <td>&gt;22</td>\n",
       "    </tr>\n",
       "    <tr>\n",
       "      <th>16</th>\n",
       "      <td>15053</td>\n",
       "      <td>3298</td>\n",
       "      <td>334</td>\n",
       "      <td>0</td>\n",
       "      <td>7</td>\n",
       "      <td>5</td>\n",
       "      <td>0</td>\n",
       "      <td>6</td>\n",
       "      <td>12</td>\n",
       "      <td>80</td>\n",
       "      <td>2500 &amp; above</td>\n",
       "      <td>15000 &amp; above</td>\n",
       "      <td>250 &amp; above</td>\n",
       "      <td>More than 6 years</td>\n",
       "      <td>More than 6 years</td>\n",
       "      <td>0 years</td>\n",
       "      <td>More than 3 years</td>\n",
       "      <td>less than 2</td>\n",
       "      <td>12.000000</td>\n",
       "      <td>&lt;13</td>\n",
       "    </tr>\n",
       "    <tr>\n",
       "      <th>19</th>\n",
       "      <td>4306</td>\n",
       "      <td>3944</td>\n",
       "      <td>371</td>\n",
       "      <td>5</td>\n",
       "      <td>6</td>\n",
       "      <td>2</td>\n",
       "      <td>1</td>\n",
       "      <td>3</td>\n",
       "      <td>11</td>\n",
       "      <td>45</td>\n",
       "      <td>2500 &amp; above</td>\n",
       "      <td>less than 5000</td>\n",
       "      <td>250 &amp; above</td>\n",
       "      <td>More than 3 years</td>\n",
       "      <td>More than 6 years</td>\n",
       "      <td>1 year</td>\n",
       "      <td>less than 3 years</td>\n",
       "      <td>less than 6</td>\n",
       "      <td>11.000000</td>\n",
       "      <td>&lt;13</td>\n",
       "    </tr>\n",
       "    <tr>\n",
       "      <th>23</th>\n",
       "      <td>19281</td>\n",
       "      <td>1232</td>\n",
       "      <td>391</td>\n",
       "      <td>1</td>\n",
       "      <td>0</td>\n",
       "      <td>0</td>\n",
       "      <td>0</td>\n",
       "      <td>0</td>\n",
       "      <td>14</td>\n",
       "      <td>96</td>\n",
       "      <td>less than 2500</td>\n",
       "      <td>15000 &amp; above</td>\n",
       "      <td>250 &amp; above</td>\n",
       "      <td>less than 3 years</td>\n",
       "      <td>less than 3 years</td>\n",
       "      <td>0 years</td>\n",
       "      <td>less than 3 years</td>\n",
       "      <td>less than 2</td>\n",
       "      <td>15.666667</td>\n",
       "      <td>15-17</td>\n",
       "    </tr>\n",
       "    <tr>\n",
       "      <th>35</th>\n",
       "      <td>21923</td>\n",
       "      <td>2645</td>\n",
       "      <td>1273</td>\n",
       "      <td>1</td>\n",
       "      <td>6</td>\n",
       "      <td>4</td>\n",
       "      <td>1</td>\n",
       "      <td>5</td>\n",
       "      <td>12</td>\n",
       "      <td>72</td>\n",
       "      <td>2500 &amp; above</td>\n",
       "      <td>20000 &amp; above</td>\n",
       "      <td>1250 &amp; above</td>\n",
       "      <td>More than 3 years</td>\n",
       "      <td>More than 6 years</td>\n",
       "      <td>1 year</td>\n",
       "      <td>More than 3 years</td>\n",
       "      <td>less than 2</td>\n",
       "      <td>17.000000</td>\n",
       "      <td>17-20</td>\n",
       "    </tr>\n",
       "  </tbody>\n",
       "</table>\n",
       "</div>"
      ],
      "text/plain": [
       "    MonthlyRate  MonthlyIncome  DailyRate  NumCompaniesWorked  \\\n",
       "1         24907           5130        279                   1   \n",
       "16        15053           3298        334                   0   \n",
       "19         4306           3944        371                   5   \n",
       "23        19281           1232        391                   1   \n",
       "35        21923           2645       1273                   1   \n",
       "\n",
       "    TotalWorkingYears  YearsWithCurrManager  YearsSinceLastPromotion  \\\n",
       "1                  10                     7                        1   \n",
       "16                  7                     5                        0   \n",
       "19                  6                     2                        1   \n",
       "23                  0                     0                        0   \n",
       "35                  6                     4                        1   \n",
       "\n",
       "    YearsAtCompany  PercentSalaryHike  PerformanceScore MonthlyIncome_cal  \\\n",
       "1               10                 23                61      5000 & above   \n",
       "16               6                 12                80      2500 & above   \n",
       "19               3                 11                45      2500 & above   \n",
       "23               0                 14                96    less than 2500   \n",
       "35               5                 12                72      2500 & above   \n",
       "\n",
       "   MonthlyRate_cal DailyRate_cal YearsAtCompany_cal TotalWorkingYears_cal  \\\n",
       "1    20000 & above   250 & above  More than 9 years     More than 9 years   \n",
       "16   15000 & above   250 & above  More than 6 years     More than 6 years   \n",
       "19  less than 5000   250 & above  More than 3 years     More than 6 years   \n",
       "23   15000 & above   250 & above  less than 3 years     less than 3 years   \n",
       "35   20000 & above  1250 & above  More than 3 years     More than 6 years   \n",
       "\n",
       "   YearsSinceLastPromotion_cal YearsWithCurrManager_cal  \\\n",
       "1                       1 year        More than 6 years   \n",
       "16                     0 years        More than 3 years   \n",
       "19                      1 year        less than 3 years   \n",
       "23                     0 years        less than 3 years   \n",
       "35                      1 year        More than 3 years   \n",
       "\n",
       "   NumCompaniesWorked_cal  Prediction_PercentSalaryHike  \\\n",
       "1             less than 2                     23.000000   \n",
       "16            less than 2                     12.000000   \n",
       "19            less than 6                     11.000000   \n",
       "23            less than 2                     15.666667   \n",
       "35            less than 2                     17.000000   \n",
       "\n",
       "   Prediction_PercentSalaryHike_cal  \n",
       "1                               >22  \n",
       "16                              <13  \n",
       "19                              <13  \n",
       "23                            15-17  \n",
       "35                            17-20  "
      ]
     },
     "execution_count": 107,
     "metadata": {},
     "output_type": "execute_result"
    }
   ],
   "source": [
    "#Simplifying and grouping the Prediction_PercentSalaryHike column\n",
    "conditions = [\n",
    "    (dfExport['Prediction_PercentSalaryHike'] < 13),\n",
    "    (dfExport['Prediction_PercentSalaryHike'] >= 13) & (dfExport['Prediction_PercentSalaryHike'] < 15),\n",
    "    (dfExport['Prediction_PercentSalaryHike'] >= 15) & (dfExport['Prediction_PercentSalaryHike'] < 17),\n",
    "    (dfExport['Prediction_PercentSalaryHike'] >= 17) & (dfExport['Prediction_PercentSalaryHike'] < 20),\n",
    "    (dfExport['Prediction_PercentSalaryHike'] >= 20) & (dfExport['Prediction_PercentSalaryHike'] < 22),\n",
    "    (dfExport['Prediction_PercentSalaryHike'] >= 22) \n",
    "    ]\n",
    "\n",
    "values = ['<13', '13-15', '15-17', '17-20', '20-22', '>22']\n",
    "\n",
    "#adding the simplified column to a new calculated column\n",
    "dfExport['Prediction_PercentSalaryHike_cal'] = np.select(conditions, values)\n",
    "dfExport.head()"
   ]
  },
  {
   "cell_type": "code",
   "execution_count": 108,
   "id": "40d12ab4",
   "metadata": {},
   "outputs": [
    {
     "name": "stdout",
     "output_type": "stream",
     "text": [
      "0.9589350579614012\n",
      "0.9766088245552843\n"
     ]
    }
   ],
   "source": [
    "# Calculate R Squared score.\n",
    "# The more the score is near 1, the best the model is\n",
    "r2score_Train = r2_score(y_train, y_predict)\n",
    "print(r2score_Train)\n",
    "\n",
    "r2score_Test= r2_score(y_test, y_predict_test)\n",
    "print(r2score_Test)"
   ]
  },
  {
   "cell_type": "code",
   "execution_count": 109,
   "id": "93bd2a5c",
   "metadata": {},
   "outputs": [],
   "source": [
    "#Function to calculate the regression model's results\n",
    "import sklearn.metrics as metrics\n",
    "def regression_results(y_true, y_pred):\n",
    "\n",
    "    r2=metrics.r2_score(y_true, y_pred)\n",
    "    mae=metrics.mean_absolute_error(y_true, y_pred) \n",
    "    mse=metrics.mean_squared_error(y_true, y_pred) \n",
    "    msle=metrics.mean_squared_log_error(y_true, y_pred)\n",
    "\n",
    "    print('R Squared score: ', round(r2,4)) # a value closer to 1 is better  \n",
    "    print('Mean Absolute Error: ', round(mae,4))\n",
    "    print('Mean Squared Error: ', round(mse,4)) #lower value is better 0 is perfect\n",
    "    print('Mean Squared Log Error: ', round(msle,4))\n",
    "    "
   ]
  },
  {
   "cell_type": "code",
   "execution_count": 110,
   "id": "7e1af9ad",
   "metadata": {},
   "outputs": [
    {
     "name": "stdout",
     "output_type": "stream",
     "text": [
      "Training Dataset Results:\n",
      "-------------------------\n",
      "R Squared score:  0.9589\n",
      "Mean Absolute Error:  0.1028\n",
      "Mean Squared Error:  0.49\n",
      "Mean Squared Log Error:  0.0017\n",
      " \n",
      "Testing Dataset Results:\n",
      "------------------------\n",
      "R Squared score:  0.9766\n",
      "Mean Absolute Error:  0.1207\n",
      "Mean Squared Error:  0.319\n",
      "Mean Squared Log Error:  0.0009\n"
     ]
    }
   ],
   "source": [
    "# Printing the statistical measure of the predictions \n",
    "print(\"Training Dataset Results:\")\n",
    "print(\"-------------------------\")\n",
    "regression_results(y_train, y_predict)\n",
    "print(\" \")\n",
    "print(\"Testing Dataset Results:\")\n",
    "print(\"------------------------\")\n",
    "regression_results(y_test, y_predict_test)"
   ]
  },
  {
   "cell_type": "code",
   "execution_count": 111,
   "id": "b69d5be7",
   "metadata": {},
   "outputs": [
    {
     "name": "stdout",
     "output_type": "stream",
     "text": [
      "<class 'pandas.core.frame.DataFrame'>\n",
      "Int64Index: 191 entries, 1 to 1460\n",
      "Data columns (total 8 columns):\n",
      " #   Column                       Non-Null Count  Dtype\n",
      "---  ------                       --------------  -----\n",
      " 0   MonthlyIncome_cal            191 non-null    int64\n",
      " 1   MonthlyRate_cal              191 non-null    int64\n",
      " 2   DailyRate_cal                191 non-null    int64\n",
      " 3   YearsAtCompany_cal           191 non-null    int64\n",
      " 4   TotalWorkingYears_cal        191 non-null    int64\n",
      " 5   YearsSinceLastPromotion_cal  191 non-null    int64\n",
      " 6   YearsWithCurrManager_cal     191 non-null    int64\n",
      " 7   NumCompaniesWorked_cal       191 non-null    int64\n",
      "dtypes: int64(8)\n",
      "memory usage: 17.5 KB\n"
     ]
    }
   ],
   "source": [
    "x.info()\n"
   ]
  },
  {
   "cell_type": "code",
   "execution_count": null,
   "id": "450c4dfc",
   "metadata": {},
   "outputs": [],
   "source": []
  },
  {
   "cell_type": "code",
   "execution_count": 112,
   "id": "354e9d4b",
   "metadata": {},
   "outputs": [
    {
     "data": {
      "text/plain": [
       "array(['0 years', '1 year', '2 years'], dtype=object)"
      ]
     },
     "execution_count": 112,
     "metadata": {},
     "output_type": "execute_result"
    }
   ],
   "source": [
    "lblYearsSinceLastPromotion.classes_"
   ]
  },
  {
   "cell_type": "code",
   "execution_count": 113,
   "id": "c5fa0a18",
   "metadata": {},
   "outputs": [
    {
     "data": {
      "text/plain": [
       "array([['2500 & above', '5000 & above', '250 & above',\n",
       "        'More than 6 years', 'More than 6 years', '2 years',\n",
       "        'less than 3 years', 'less than 4']], dtype='<U17')"
      ]
     },
     "execution_count": 113,
     "metadata": {},
     "output_type": "execute_result"
    }
   ],
   "source": [
    "# Creating a numpy array passing the input parameters\n",
    "x = np.array([[\"2500 & above\", \"5000 & above\", \"250 & above\", \"More than 6 years\", \n",
    "               \"More than 6 years\", \"2 years\", \"less than 3 years\", \"less than 4\" ]])\n",
    "x\n"
   ]
  },
  {
   "cell_type": "code",
   "execution_count": 114,
   "id": "104c2154",
   "metadata": {},
   "outputs": [
    {
     "data": {
      "text/plain": [
       "array(['0 years', '1 year', '2 years'], dtype=object)"
      ]
     },
     "execution_count": 114,
     "metadata": {},
     "output_type": "execute_result"
    }
   ],
   "source": [
    "lblYearsSinceLastPromotion.classes_"
   ]
  },
  {
   "cell_type": "code",
   "execution_count": 115,
   "id": "5efb13b8",
   "metadata": {},
   "outputs": [
    {
     "data": {
      "text/plain": [
       "array([[0., 4., 2., 1., 3., 2., 3., 2.]])"
      ]
     },
     "execution_count": 115,
     "metadata": {},
     "output_type": "execute_result"
    }
   ],
   "source": [
    "# Transforming the input parameters using the lable encorders\n",
    "x[:, 0] = lblMonthlyIncome.transform(x[:, 0])\n",
    "x[:, 1] = lblMonthlyRate.transform(x[:, 1])\n",
    "x[:, 2] = lblDailyRate.transform(x[:, 2])\n",
    "x[:, 3] = lblYearsAtCompany.transform(x[:, 3])\n",
    "x[:, 4] = lblTotWorkYear.transform(x[:, 4])\n",
    "x[:, 5] = lblYearsSinceLastPromotion.transform(x[:, 5])\n",
    "x[:, 6] = lblYearsWithCurrManager.transform(x[:, 6])\n",
    "x[:, 7] = lblNumCompaniesWorked.transform(x[:, 7])\n",
    "\n",
    "x =  x.astype(float)\n",
    "x"
   ]
  },
  {
   "cell_type": "code",
   "execution_count": null,
   "id": "8813ae41",
   "metadata": {},
   "outputs": [],
   "source": []
  },
  {
   "cell_type": "code",
   "execution_count": 116,
   "id": "114b83f3",
   "metadata": {},
   "outputs": [],
   "source": [
    "# Saving regressor model and the label encorders to the pickle file\n",
    "# Creates a new file called EEP_MLScript_PercentSalaryHike.pkl\n",
    "import pickle\n",
    "\n",
    "data = {\"model\":decsRegressor, \"lblMonthlyIncome\": lblMonthlyIncome, \"lblMonthlyRate\": lblMonthlyRate, \n",
    "        \"lblDailyRate\": lblDailyRate, \"lblYearsAtCompany\": lblYearsAtCompany, \"lblTotWorkYear\": lblTotWorkYear, \n",
    "        \"lblYearsSinceLastPromotion\": lblYearsSinceLastPromotion, \"lblYearsWithCurrManager\": lblYearsWithCurrManager, \n",
    "        \"lblNumCompaniesWorked\": lblNumCompaniesWorked} \n",
    "with open('EEP_MLScript_PercentSalaryHike.pkl', 'wb') as file:\n",
    "    pickle.dump(data, file)"
   ]
  },
  {
   "cell_type": "code",
   "execution_count": 117,
   "id": "277aa2f8",
   "metadata": {},
   "outputs": [
    {
     "data": {
      "text/plain": [
       "array([11.])"
      ]
     },
     "execution_count": 117,
     "metadata": {},
     "output_type": "execute_result"
    }
   ],
   "source": [
    "# Reading the pickle file and finding predictions to make sure it returns the same predicted value as before\n",
    "with open('EEP_MLScript_PercentSalaryHike.pkl', 'rb') as file:\n",
    "    data = pickle.load(file)\n",
    "    \n",
    "regressor_loaded = data[\"model\"]\n",
    "lblMonthlyIncome = data[\"lblMonthlyIncome\"]\n",
    "lblMonthlyRate = data[\"lblMonthlyRate\"]\n",
    "lblDailyRate = data[\"lblDailyRate\"]\n",
    "lblYearsAtCompany = data[\"lblYearsAtCompany\"]\n",
    "lblTotWorkYear = data[\"lblTotWorkYear\"]\n",
    "lblYearsSinceLastPromotion = data[\"lblYearsSinceLastPromotion\"]\n",
    "lblYearsWithCurrManager = data[\"lblYearsWithCurrManager\"]\n",
    "lblNumCompaniesWorked = data[\"lblNumCompaniesWorked\"]\n",
    "\n",
    "y_pred = regressor_loaded.predict(x)\n",
    "y_pred"
   ]
  },
  {
   "cell_type": "code",
   "execution_count": 118,
   "id": "f781d3a5",
   "metadata": {},
   "outputs": [
    {
     "data": {
      "text/html": [
       "<div>\n",
       "<style scoped>\n",
       "    .dataframe tbody tr th:only-of-type {\n",
       "        vertical-align: middle;\n",
       "    }\n",
       "\n",
       "    .dataframe tbody tr th {\n",
       "        vertical-align: top;\n",
       "    }\n",
       "\n",
       "    .dataframe thead th {\n",
       "        text-align: right;\n",
       "    }\n",
       "</style>\n",
       "<table border=\"1\" class=\"dataframe\">\n",
       "  <thead>\n",
       "    <tr style=\"text-align: right;\">\n",
       "      <th></th>\n",
       "      <th>MonthlyRate</th>\n",
       "      <th>MonthlyIncome</th>\n",
       "      <th>DailyRate</th>\n",
       "      <th>NumCompaniesWorked</th>\n",
       "      <th>TotalWorkingYears</th>\n",
       "      <th>YearsWithCurrManager</th>\n",
       "      <th>YearsSinceLastPromotion</th>\n",
       "      <th>YearsAtCompany</th>\n",
       "      <th>PercentSalaryHike</th>\n",
       "      <th>PerformanceScore</th>\n",
       "      <th>MonthlyIncome_cal</th>\n",
       "      <th>MonthlyRate_cal</th>\n",
       "      <th>DailyRate_cal</th>\n",
       "      <th>YearsAtCompany_cal</th>\n",
       "      <th>TotalWorkingYears_cal</th>\n",
       "      <th>YearsSinceLastPromotion_cal</th>\n",
       "      <th>YearsWithCurrManager_cal</th>\n",
       "      <th>NumCompaniesWorked_cal</th>\n",
       "    </tr>\n",
       "  </thead>\n",
       "  <tbody>\n",
       "    <tr>\n",
       "      <th>1</th>\n",
       "      <td>24907</td>\n",
       "      <td>5130</td>\n",
       "      <td>279</td>\n",
       "      <td>1</td>\n",
       "      <td>10</td>\n",
       "      <td>7</td>\n",
       "      <td>1</td>\n",
       "      <td>10</td>\n",
       "      <td>23</td>\n",
       "      <td>61</td>\n",
       "      <td>1</td>\n",
       "      <td>2</td>\n",
       "      <td>2</td>\n",
       "      <td>2</td>\n",
       "      <td>4</td>\n",
       "      <td>1</td>\n",
       "      <td>2</td>\n",
       "      <td>1</td>\n",
       "    </tr>\n",
       "    <tr>\n",
       "      <th>16</th>\n",
       "      <td>15053</td>\n",
       "      <td>3298</td>\n",
       "      <td>334</td>\n",
       "      <td>0</td>\n",
       "      <td>7</td>\n",
       "      <td>5</td>\n",
       "      <td>0</td>\n",
       "      <td>6</td>\n",
       "      <td>12</td>\n",
       "      <td>80</td>\n",
       "      <td>0</td>\n",
       "      <td>1</td>\n",
       "      <td>2</td>\n",
       "      <td>1</td>\n",
       "      <td>3</td>\n",
       "      <td>0</td>\n",
       "      <td>1</td>\n",
       "      <td>1</td>\n",
       "    </tr>\n",
       "    <tr>\n",
       "      <th>19</th>\n",
       "      <td>4306</td>\n",
       "      <td>3944</td>\n",
       "      <td>371</td>\n",
       "      <td>5</td>\n",
       "      <td>6</td>\n",
       "      <td>2</td>\n",
       "      <td>1</td>\n",
       "      <td>3</td>\n",
       "      <td>11</td>\n",
       "      <td>45</td>\n",
       "      <td>0</td>\n",
       "      <td>5</td>\n",
       "      <td>2</td>\n",
       "      <td>0</td>\n",
       "      <td>3</td>\n",
       "      <td>1</td>\n",
       "      <td>3</td>\n",
       "      <td>3</td>\n",
       "    </tr>\n",
       "    <tr>\n",
       "      <th>23</th>\n",
       "      <td>19281</td>\n",
       "      <td>1232</td>\n",
       "      <td>391</td>\n",
       "      <td>1</td>\n",
       "      <td>0</td>\n",
       "      <td>0</td>\n",
       "      <td>0</td>\n",
       "      <td>0</td>\n",
       "      <td>14</td>\n",
       "      <td>96</td>\n",
       "      <td>2</td>\n",
       "      <td>1</td>\n",
       "      <td>2</td>\n",
       "      <td>3</td>\n",
       "      <td>5</td>\n",
       "      <td>0</td>\n",
       "      <td>3</td>\n",
       "      <td>1</td>\n",
       "    </tr>\n",
       "    <tr>\n",
       "      <th>35</th>\n",
       "      <td>21923</td>\n",
       "      <td>2645</td>\n",
       "      <td>1273</td>\n",
       "      <td>1</td>\n",
       "      <td>6</td>\n",
       "      <td>4</td>\n",
       "      <td>1</td>\n",
       "      <td>5</td>\n",
       "      <td>12</td>\n",
       "      <td>72</td>\n",
       "      <td>0</td>\n",
       "      <td>2</td>\n",
       "      <td>1</td>\n",
       "      <td>0</td>\n",
       "      <td>3</td>\n",
       "      <td>1</td>\n",
       "      <td>1</td>\n",
       "      <td>1</td>\n",
       "    </tr>\n",
       "    <tr>\n",
       "      <th>...</th>\n",
       "      <td>...</td>\n",
       "      <td>...</td>\n",
       "      <td>...</td>\n",
       "      <td>...</td>\n",
       "      <td>...</td>\n",
       "      <td>...</td>\n",
       "      <td>...</td>\n",
       "      <td>...</td>\n",
       "      <td>...</td>\n",
       "      <td>...</td>\n",
       "      <td>...</td>\n",
       "      <td>...</td>\n",
       "      <td>...</td>\n",
       "      <td>...</td>\n",
       "      <td>...</td>\n",
       "      <td>...</td>\n",
       "      <td>...</td>\n",
       "      <td>...</td>\n",
       "    </tr>\n",
       "    <tr>\n",
       "      <th>1435</th>\n",
       "      <td>13422</td>\n",
       "      <td>2436</td>\n",
       "      <td>1037</td>\n",
       "      <td>6</td>\n",
       "      <td>6</td>\n",
       "      <td>2</td>\n",
       "      <td>1</td>\n",
       "      <td>4</td>\n",
       "      <td>12</td>\n",
       "      <td>42</td>\n",
       "      <td>2</td>\n",
       "      <td>0</td>\n",
       "      <td>0</td>\n",
       "      <td>0</td>\n",
       "      <td>3</td>\n",
       "      <td>1</td>\n",
       "      <td>3</td>\n",
       "      <td>4</td>\n",
       "    </tr>\n",
       "    <tr>\n",
       "      <th>1449</th>\n",
       "      <td>11288</td>\n",
       "      <td>2439</td>\n",
       "      <td>529</td>\n",
       "      <td>1</td>\n",
       "      <td>4</td>\n",
       "      <td>2</td>\n",
       "      <td>1</td>\n",
       "      <td>4</td>\n",
       "      <td>14</td>\n",
       "      <td>78</td>\n",
       "      <td>2</td>\n",
       "      <td>0</td>\n",
       "      <td>3</td>\n",
       "      <td>0</td>\n",
       "      <td>2</td>\n",
       "      <td>1</td>\n",
       "      <td>3</td>\n",
       "      <td>1</td>\n",
       "    </tr>\n",
       "    <tr>\n",
       "      <th>1455</th>\n",
       "      <td>2725</td>\n",
       "      <td>2809</td>\n",
       "      <td>1322</td>\n",
       "      <td>2</td>\n",
       "      <td>8</td>\n",
       "      <td>2</td>\n",
       "      <td>2</td>\n",
       "      <td>2</td>\n",
       "      <td>14</td>\n",
       "      <td>52</td>\n",
       "      <td>0</td>\n",
       "      <td>5</td>\n",
       "      <td>1</td>\n",
       "      <td>3</td>\n",
       "      <td>3</td>\n",
       "      <td>2</td>\n",
       "      <td>3</td>\n",
       "      <td>2</td>\n",
       "    </tr>\n",
       "    <tr>\n",
       "      <th>1458</th>\n",
       "      <td>8952</td>\n",
       "      <td>2977</td>\n",
       "      <td>287</td>\n",
       "      <td>1</td>\n",
       "      <td>4</td>\n",
       "      <td>1</td>\n",
       "      <td>1</td>\n",
       "      <td>4</td>\n",
       "      <td>12</td>\n",
       "      <td>62</td>\n",
       "      <td>0</td>\n",
       "      <td>4</td>\n",
       "      <td>2</td>\n",
       "      <td>0</td>\n",
       "      <td>2</td>\n",
       "      <td>1</td>\n",
       "      <td>3</td>\n",
       "      <td>1</td>\n",
       "    </tr>\n",
       "    <tr>\n",
       "      <th>1460</th>\n",
       "      <td>8489</td>\n",
       "      <td>3785</td>\n",
       "      <td>468</td>\n",
       "      <td>1</td>\n",
       "      <td>5</td>\n",
       "      <td>4</td>\n",
       "      <td>0</td>\n",
       "      <td>5</td>\n",
       "      <td>14</td>\n",
       "      <td>73</td>\n",
       "      <td>0</td>\n",
       "      <td>4</td>\n",
       "      <td>2</td>\n",
       "      <td>0</td>\n",
       "      <td>2</td>\n",
       "      <td>0</td>\n",
       "      <td>1</td>\n",
       "      <td>1</td>\n",
       "    </tr>\n",
       "  </tbody>\n",
       "</table>\n",
       "<p>191 rows × 18 columns</p>\n",
       "</div>"
      ],
      "text/plain": [
       "      MonthlyRate  MonthlyIncome  DailyRate  NumCompaniesWorked  \\\n",
       "1           24907           5130        279                   1   \n",
       "16          15053           3298        334                   0   \n",
       "19           4306           3944        371                   5   \n",
       "23          19281           1232        391                   1   \n",
       "35          21923           2645       1273                   1   \n",
       "...           ...            ...        ...                 ...   \n",
       "1435        13422           2436       1037                   6   \n",
       "1449        11288           2439        529                   1   \n",
       "1455         2725           2809       1322                   2   \n",
       "1458         8952           2977        287                   1   \n",
       "1460         8489           3785        468                   1   \n",
       "\n",
       "      TotalWorkingYears  YearsWithCurrManager  YearsSinceLastPromotion  \\\n",
       "1                    10                     7                        1   \n",
       "16                    7                     5                        0   \n",
       "19                    6                     2                        1   \n",
       "23                    0                     0                        0   \n",
       "35                    6                     4                        1   \n",
       "...                 ...                   ...                      ...   \n",
       "1435                  6                     2                        1   \n",
       "1449                  4                     2                        1   \n",
       "1455                  8                     2                        2   \n",
       "1458                  4                     1                        1   \n",
       "1460                  5                     4                        0   \n",
       "\n",
       "      YearsAtCompany  PercentSalaryHike  PerformanceScore  MonthlyIncome_cal  \\\n",
       "1                 10                 23                61                  1   \n",
       "16                 6                 12                80                  0   \n",
       "19                 3                 11                45                  0   \n",
       "23                 0                 14                96                  2   \n",
       "35                 5                 12                72                  0   \n",
       "...              ...                ...               ...                ...   \n",
       "1435               4                 12                42                  2   \n",
       "1449               4                 14                78                  2   \n",
       "1455               2                 14                52                  0   \n",
       "1458               4                 12                62                  0   \n",
       "1460               5                 14                73                  0   \n",
       "\n",
       "      MonthlyRate_cal  DailyRate_cal  YearsAtCompany_cal  \\\n",
       "1                   2              2                   2   \n",
       "16                  1              2                   1   \n",
       "19                  5              2                   0   \n",
       "23                  1              2                   3   \n",
       "35                  2              1                   0   \n",
       "...               ...            ...                 ...   \n",
       "1435                0              0                   0   \n",
       "1449                0              3                   0   \n",
       "1455                5              1                   3   \n",
       "1458                4              2                   0   \n",
       "1460                4              2                   0   \n",
       "\n",
       "      TotalWorkingYears_cal  YearsSinceLastPromotion_cal  \\\n",
       "1                         4                            1   \n",
       "16                        3                            0   \n",
       "19                        3                            1   \n",
       "23                        5                            0   \n",
       "35                        3                            1   \n",
       "...                     ...                          ...   \n",
       "1435                      3                            1   \n",
       "1449                      2                            1   \n",
       "1455                      3                            2   \n",
       "1458                      2                            1   \n",
       "1460                      2                            0   \n",
       "\n",
       "      YearsWithCurrManager_cal  NumCompaniesWorked_cal  \n",
       "1                            2                       1  \n",
       "16                           1                       1  \n",
       "19                           3                       3  \n",
       "23                           3                       1  \n",
       "35                           1                       1  \n",
       "...                        ...                     ...  \n",
       "1435                         3                       4  \n",
       "1449                         3                       1  \n",
       "1455                         3                       2  \n",
       "1458                         3                       1  \n",
       "1460                         1                       1  \n",
       "\n",
       "[191 rows x 18 columns]"
      ]
     },
     "execution_count": 118,
     "metadata": {},
     "output_type": "execute_result"
    }
   ],
   "source": [
    "# copying dataset to a new dataframe\n",
    "df_cpy2 = df.copy()\n",
    "df_cpy2"
   ]
  },
  {
   "cell_type": "code",
   "execution_count": 119,
   "id": "e203feb1",
   "metadata": {},
   "outputs": [],
   "source": [
    "# defining x and y cordinates for prediction\n",
    "# x- predicting features y- target variable\n",
    "x = df_cpy2.drop([\"PercentSalaryHike\", \"PerformanceScore\", \"MonthlyRate\", \"MonthlyIncome\", \"DailyRate\", \"YearsSinceLastPromotion\", \"NumCompaniesWorked\", \"TotalWorkingYears\", \"YearsWithCurrManager\",\"YearsAtCompany\"], axis=1)\n",
    "y_psc = df_cpy2[\"PerformanceScore\"]"
   ]
  },
  {
   "cell_type": "markdown",
   "id": "89e85340",
   "metadata": {},
   "source": [
    "#### DecisionTreeClassifier - PerformanceScore"
   ]
  },
  {
   "cell_type": "code",
   "execution_count": 120,
   "id": "5c72f91a",
   "metadata": {},
   "outputs": [
    {
     "data": {
      "text/plain": [
       "GridSearchCV(cv=5, estimator=DecisionTreeClassifier(random_state=42),\n",
       "             param_grid=[{'criterion': ['gini'],\n",
       "                          'min_samples_split': [2, 3, 4, 5]},\n",
       "                         {'criterion': ['entropy'],\n",
       "                          'min_samples_split': [2, 3, 4, 5]}],\n",
       "             scoring='accuracy')"
      ]
     },
     "execution_count": 120,
     "metadata": {},
     "output_type": "execute_result"
    }
   ],
   "source": [
    "#Model Traiining using DT Classifier\n",
    "x_train, x_test, y_train, y_test = train_test_split(x,y_psc,test_size=0.33,random_state=0)\n",
    "dtc=DecisionTreeClassifier(random_state=42,splitter='best')\n",
    "parameters=[{'min_samples_split':[2,3,4,5],'criterion':['gini']},{'min_samples_split':[2,3,4,5],'criterion':['entropy']}]\n",
    "\n",
    "dtc_model=GridSearchCV(estimator=dtc, param_grid=parameters, scoring='accuracy',cv=5)\n",
    "dtc_model.fit(x_train,y_train)"
   ]
  },
  {
   "cell_type": "code",
   "execution_count": 121,
   "id": "05a272ee",
   "metadata": {},
   "outputs": [
    {
     "data": {
      "text/plain": [
       "{'criterion': 'entropy', 'min_samples_split': 3}"
      ]
     },
     "execution_count": 121,
     "metadata": {},
     "output_type": "execute_result"
    }
   ],
   "source": [
    "# Finding the best parameters for the model\n",
    "dtc_model.best_params_"
   ]
  },
  {
   "cell_type": "code",
   "execution_count": 122,
   "id": "d4b82bdd",
   "metadata": {},
   "outputs": [],
   "source": [
    "# Making Predictions \n",
    "y_predict_dtree = dtc_model.predict(x_train)\n",
    "y_predict_dtree_test = dtc_model.predict(x_test)"
   ]
  },
  {
   "cell_type": "code",
   "execution_count": 123,
   "id": "63830623",
   "metadata": {},
   "outputs": [
    {
     "name": "stdout",
     "output_type": "stream",
     "text": [
      "0.6850393700787402\n",
      "0.015625\n",
      "              precision    recall  f1-score   support\n",
      "\n",
      "          30       0.50      1.00      0.67         1\n",
      "          32       0.50      1.00      0.67         2\n",
      "          33       0.67      1.00      0.80         2\n",
      "          35       0.75      1.00      0.86         3\n",
      "          36       1.00      1.00      1.00         1\n",
      "          37       0.50      1.00      0.67         1\n",
      "          38       0.50      1.00      0.67         1\n",
      "          39       0.50      1.00      0.67         1\n",
      "          40       1.00      0.50      0.67         2\n",
      "          41       0.00      0.00      0.00         1\n",
      "          43       0.50      1.00      0.67         3\n",
      "          44       1.00      1.00      1.00         1\n",
      "          45       0.50      1.00      0.67         3\n",
      "          47       0.50      1.00      0.67         2\n",
      "          48       1.00      1.00      1.00         4\n",
      "          49       0.50      1.00      0.67         1\n",
      "          50       0.00      0.00      0.00         1\n",
      "          51       1.00      1.00      1.00         1\n",
      "          52       0.67      1.00      0.80         2\n",
      "          53       0.50      1.00      0.67         2\n",
      "          54       0.50      0.50      0.50         2\n",
      "          55       1.00      1.00      1.00         1\n",
      "          56       1.00      1.00      1.00         1\n",
      "          57       0.60      1.00      0.75         3\n",
      "          58       0.00      0.00      0.00         1\n",
      "          59       0.00      0.00      0.00         1\n",
      "          60       1.00      1.00      1.00         2\n",
      "          61       1.00      1.00      1.00         2\n",
      "          62       0.50      1.00      0.67         2\n",
      "          63       0.50      1.00      0.67         3\n",
      "          64       0.67      1.00      0.80         2\n",
      "          65       1.00      1.00      1.00         3\n",
      "          66       0.60      0.60      0.60         5\n",
      "          67       1.00      0.50      0.67         4\n",
      "          68       0.67      1.00      0.80         2\n",
      "          69       1.00      0.50      0.67         2\n",
      "          70       0.50      1.00      0.67         1\n",
      "          71       0.50      1.00      0.67         1\n",
      "          72       1.00      0.50      0.67         2\n",
      "          73       0.00      0.00      0.00         1\n",
      "          74       0.00      0.00      0.00         1\n",
      "          75       0.00      0.00      0.00         1\n",
      "          76       0.67      0.67      0.67         3\n",
      "          77       0.50      1.00      0.67         1\n",
      "          78       1.00      0.50      0.67         2\n",
      "          79       0.50      0.25      0.33         4\n",
      "          80       0.00      0.00      0.00         3\n",
      "          81       0.50      1.00      0.67         1\n",
      "          82       1.00      1.00      1.00         2\n",
      "          83       1.00      0.50      0.67         2\n",
      "          85       1.00      0.50      0.67         2\n",
      "          86       0.67      1.00      0.80         2\n",
      "          87       0.50      1.00      0.67         1\n",
      "          88       0.00      0.00      0.00         1\n",
      "          89       0.00      0.00      0.00         1\n",
      "          90       1.00      0.60      0.75         5\n",
      "          91       1.00      1.00      1.00         4\n",
      "          92       1.00      0.67      0.80         3\n",
      "          93       0.00      0.00      0.00         1\n",
      "          95       1.00      0.33      0.50         3\n",
      "          96       0.00      0.00      0.00         3\n",
      "          97       0.00      0.00      0.00         3\n",
      "          99       1.00      1.00      1.00         1\n",
      "         100       0.00      0.00      0.00         1\n",
      "\n",
      "    accuracy                           0.69       127\n",
      "   macro avg       0.59      0.67      0.59       127\n",
      "weighted avg       0.65      0.69      0.63       127\n",
      "\n"
     ]
    }
   ],
   "source": [
    "# Get accuracy core and  precision, recall, f1-score, support values\n",
    "print(accuracy_score(y_train,y_predict_dtree))\n",
    "print(accuracy_score(y_test,y_predict_dtree_test))\n",
    "print(classification_report(y_train,y_predict_dtree))"
   ]
  },
  {
   "cell_type": "markdown",
   "id": "f14f9314",
   "metadata": {},
   "source": [
    "#### Naive Bayes - PerformanceScore"
   ]
  },
  {
   "cell_type": "code",
   "execution_count": 124,
   "id": "4a94623a",
   "metadata": {},
   "outputs": [
    {
     "data": {
      "text/plain": [
       "BernoulliNB()"
      ]
     },
     "execution_count": 124,
     "metadata": {},
     "output_type": "execute_result"
    }
   ],
   "source": [
    "# Model training using NB\n",
    "x_train, x_test, y_train, y_test = train_test_split(x,y_psc,test_size=0.2,random_state=0)\n",
    "model_nb = BernoulliNB()\n",
    "model_nb.fit(x_train,y_train)"
   ]
  },
  {
   "cell_type": "code",
   "execution_count": 125,
   "id": "d96a78e9",
   "metadata": {},
   "outputs": [],
   "source": [
    "# Performing Predictions\n",
    "y_predict_nb = model_nb.predict(x_train)\n",
    "y_predict_nb_test = model_nb.predict(x_test)"
   ]
  },
  {
   "cell_type": "code",
   "execution_count": 126,
   "id": "a637ebb4",
   "metadata": {},
   "outputs": [
    {
     "name": "stdout",
     "output_type": "stream",
     "text": [
      "0.13157894736842105\n",
      "0.02564102564102564\n",
      "              precision    recall  f1-score   support\n",
      "\n",
      "          30       0.00      0.00      0.00         1\n",
      "          32       0.00      0.00      0.00         2\n",
      "          33       0.00      0.00      0.00         2\n",
      "          35       0.33      0.33      0.33         3\n",
      "          36       0.00      0.00      0.00         3\n",
      "          37       0.00      0.00      0.00         1\n",
      "          38       0.00      0.00      0.00         1\n",
      "          39       0.00      0.00      0.00         1\n",
      "          40       0.00      0.00      0.00         2\n",
      "          41       0.00      0.00      0.00         2\n",
      "          42       0.00      0.00      0.00         3\n",
      "          43       0.00      0.00      0.00         3\n",
      "          44       0.00      0.00      0.00         1\n",
      "          45       0.00      0.00      0.00         3\n",
      "          46       0.00      0.00      0.00         1\n",
      "          47       0.00      0.00      0.00         2\n",
      "          48       0.11      0.25      0.15         4\n",
      "          49       0.00      0.00      0.00         1\n",
      "          50       0.00      0.00      0.00         1\n",
      "          51       0.00      0.00      0.00         1\n",
      "          52       0.00      0.00      0.00         2\n",
      "          53       0.00      0.00      0.00         3\n",
      "          54       0.00      0.00      0.00         3\n",
      "          55       0.00      0.00      0.00         1\n",
      "          56       0.00      0.00      0.00         2\n",
      "          57       0.00      0.00      0.00         3\n",
      "          58       0.00      0.00      0.00         1\n",
      "          59       0.00      0.00      0.00         1\n",
      "          60       0.00      0.00      0.00         2\n",
      "          61       0.00      0.00      0.00         2\n",
      "          62       0.00      0.00      0.00         2\n",
      "          63       1.00      0.33      0.50         3\n",
      "          64       1.00      0.67      0.80         3\n",
      "          65       0.33      0.33      0.33         3\n",
      "          66       0.08      0.33      0.12         6\n",
      "          67       0.00      0.00      0.00         4\n",
      "          68       0.33      0.50      0.40         2\n",
      "          69       0.00      0.00      0.00         2\n",
      "          70       0.00      0.00      0.00         1\n",
      "          71       0.00      0.00      0.00         1\n",
      "          72       0.07      0.33      0.12         3\n",
      "          73       0.00      0.00      0.00         1\n",
      "          74       0.50      0.33      0.40         3\n",
      "          75       0.00      0.00      0.00         2\n",
      "          76       0.00      0.00      0.00         4\n",
      "          77       0.00      0.00      0.00         1\n",
      "          78       0.00      0.00      0.00         4\n",
      "          79       0.00      0.00      0.00         4\n",
      "          80       0.00      0.00      0.00         3\n",
      "          81       0.00      0.00      0.00         1\n",
      "          82       1.00      0.50      0.67         2\n",
      "          83       0.08      0.50      0.14         4\n",
      "          85       0.00      0.00      0.00         2\n",
      "          86       0.00      0.00      0.00         2\n",
      "          87       0.20      0.50      0.29         2\n",
      "          88       0.00      0.00      0.00         1\n",
      "          89       0.00      0.00      0.00         2\n",
      "          90       0.16      0.60      0.25         5\n",
      "          91       0.00      0.00      0.00         4\n",
      "          92       0.08      0.33      0.13         3\n",
      "          93       0.00      0.00      0.00         1\n",
      "          94       0.00      0.00      0.00         1\n",
      "          95       0.00      0.00      0.00         3\n",
      "          96       0.50      0.33      0.40         3\n",
      "          97       0.00      0.00      0.00         3\n",
      "          99       0.00      0.00      0.00         1\n",
      "         100       0.00      0.00      0.00         2\n",
      "\n",
      "    accuracy                           0.13       152\n",
      "   macro avg       0.09      0.09      0.08       152\n",
      "weighted avg       0.11      0.13      0.10       152\n",
      "\n"
     ]
    }
   ],
   "source": [
    "#Get accuracy core and  precision, recall, f1-score, support values\n",
    "print(accuracy_score(y_train,y_predict_nb))\n",
    "print(accuracy_score(y_test,y_predict_nb_test))\n",
    "print(classification_report(y_train,y_predict_nb))"
   ]
  },
  {
   "cell_type": "markdown",
   "id": "99471256",
   "metadata": {},
   "source": [
    "#### KNN : K-Nearest Neighbor - PerformanceScore"
   ]
  },
  {
   "cell_type": "code",
   "execution_count": 127,
   "id": "2f22d461",
   "metadata": {},
   "outputs": [
    {
     "data": {
      "text/plain": [
       "KNeighborsClassifier(metric='euclidean', n_neighbors=10)"
      ]
     },
     "execution_count": 127,
     "metadata": {},
     "output_type": "execute_result"
    }
   ],
   "source": [
    "# Model training using KNN\n",
    "x_train, x_test, y_train, y_test = train_test_split(x,y_psc,test_size=0.3,random_state=0)\n",
    "model_knn = KNeighborsClassifier(n_neighbors=10,metric='euclidean') # Maximum accuracy for n=10\n",
    "model_knn.fit(x_train,y_train)"
   ]
  },
  {
   "cell_type": "code",
   "execution_count": 128,
   "id": "9c2aa3f4",
   "metadata": {},
   "outputs": [],
   "source": [
    "# Make predictions\n",
    "y_predict_knn = model_knn.predict(x_train)\n",
    "y_predict_knn_test = model_knn.predict(x_test)"
   ]
  },
  {
   "cell_type": "code",
   "execution_count": 129,
   "id": "e9a9e6aa",
   "metadata": {},
   "outputs": [
    {
     "name": "stdout",
     "output_type": "stream",
     "text": [
      "0.16541353383458646\n",
      "0.034482758620689655\n",
      "              precision    recall  f1-score   support\n",
      "\n",
      "          30       0.00      0.00      0.00         1\n",
      "          32       0.10      1.00      0.18         2\n",
      "          33       0.20      1.00      0.33         2\n",
      "          35       0.15      0.67      0.25         3\n",
      "          36       0.07      0.33      0.12         3\n",
      "          37       0.00      0.00      0.00         1\n",
      "          38       1.00      1.00      1.00         1\n",
      "          39       0.00      0.00      0.00         1\n",
      "          40       0.20      0.50      0.29         2\n",
      "          41       0.00      0.00      0.00         1\n",
      "          42       0.00      0.00      0.00         1\n",
      "          43       0.00      0.00      0.00         3\n",
      "          44       0.00      0.00      0.00         1\n",
      "          45       0.00      0.00      0.00         3\n",
      "          47       0.33      0.50      0.40         2\n",
      "          48       0.17      0.25      0.20         4\n",
      "          49       0.00      0.00      0.00         1\n",
      "          50       0.00      0.00      0.00         1\n",
      "          51       0.00      0.00      0.00         1\n",
      "          52       1.00      0.50      0.67         2\n",
      "          53       0.00      0.00      0.00         2\n",
      "          54       0.00      0.00      0.00         2\n",
      "          55       0.00      0.00      0.00         1\n",
      "          56       0.00      0.00      0.00         1\n",
      "          57       0.00      0.00      0.00         3\n",
      "          58       0.00      0.00      0.00         1\n",
      "          59       0.00      0.00      0.00         1\n",
      "          60       0.00      0.00      0.00         2\n",
      "          61       0.67      1.00      0.80         2\n",
      "          62       0.00      0.00      0.00         2\n",
      "          63       0.00      0.00      0.00         3\n",
      "          64       0.00      0.00      0.00         2\n",
      "          65       0.50      0.67      0.57         3\n",
      "          66       0.00      0.00      0.00         5\n",
      "          67       0.00      0.00      0.00         4\n",
      "          68       0.00      0.00      0.00         2\n",
      "          69       0.00      0.00      0.00         2\n",
      "          70       0.00      0.00      0.00         1\n",
      "          71       0.00      0.00      0.00         1\n",
      "          72       0.00      0.00      0.00         2\n",
      "          73       0.00      0.00      0.00         1\n",
      "          74       0.00      0.00      0.00         2\n",
      "          75       0.00      0.00      0.00         1\n",
      "          76       0.00      0.00      0.00         3\n",
      "          77       0.00      0.00      0.00         1\n",
      "          78       0.00      0.00      0.00         3\n",
      "          79       0.33      0.25      0.29         4\n",
      "          80       0.00      0.00      0.00         3\n",
      "          81       0.00      0.00      0.00         1\n",
      "          82       0.00      0.00      0.00         2\n",
      "          83       0.25      0.67      0.36         3\n",
      "          85       0.00      0.00      0.00         2\n",
      "          86       0.00      0.00      0.00         2\n",
      "          87       0.00      0.00      0.00         1\n",
      "          88       0.00      0.00      0.00         1\n",
      "          89       0.00      0.00      0.00         1\n",
      "          90       0.00      0.00      0.00         5\n",
      "          91       0.50      0.50      0.50         4\n",
      "          92       0.33      0.33      0.33         3\n",
      "          93       0.00      0.00      0.00         1\n",
      "          95       0.00      0.00      0.00         3\n",
      "          96       0.00      0.00      0.00         3\n",
      "          97       0.00      0.00      0.00         3\n",
      "          99       0.00      0.00      0.00         1\n",
      "         100       0.00      0.00      0.00         1\n",
      "\n",
      "    accuracy                           0.17       133\n",
      "   macro avg       0.09      0.14      0.10       133\n",
      "weighted avg       0.10      0.17      0.11       133\n",
      "\n"
     ]
    }
   ],
   "source": [
    "# Get accuracy core and  precision, recall, f1-score, support values\n",
    "print(accuracy_score(y_train,y_predict_knn))\n",
    "print(accuracy_score(y_test,y_predict_knn_test))\n",
    "print(classification_report(y_train,y_predict_knn))"
   ]
  },
  {
   "cell_type": "markdown",
   "id": "2b0a2e68",
   "metadata": {},
   "source": [
    "#### Support Vector Machine - PerformanceScore"
   ]
  },
  {
   "cell_type": "code",
   "execution_count": 130,
   "id": "43126a32",
   "metadata": {},
   "outputs": [],
   "source": [
    "# Model Training using SVC\n",
    "x_train, x_test, y_train, y_test = train_test_split(x,y_psc,test_size=0.3,random_state=0)\n",
    "svc_model = SVC(kernel='rbf', C=100, random_state=10).fit(x_train,y_train)"
   ]
  },
  {
   "cell_type": "code",
   "execution_count": 131,
   "id": "94fc0800",
   "metadata": {},
   "outputs": [],
   "source": [
    "# Making Predictions\n",
    "y_predict_svm = svc_model.predict(x_train)\n",
    "y_predict_svm_test = svc_model.predict(x_test)"
   ]
  },
  {
   "cell_type": "code",
   "execution_count": 132,
   "id": "0b199062",
   "metadata": {},
   "outputs": [
    {
     "name": "stdout",
     "output_type": "stream",
     "text": [
      "0.9699248120300752\n",
      "0.034482758620689655\n",
      "              precision    recall  f1-score   support\n",
      "\n",
      "          30       1.00      1.00      1.00         1\n",
      "          32       1.00      1.00      1.00         2\n",
      "          33       1.00      1.00      1.00         2\n",
      "          35       1.00      1.00      1.00         3\n",
      "          36       1.00      1.00      1.00         3\n",
      "          37       1.00      1.00      1.00         1\n",
      "          38       1.00      1.00      1.00         1\n",
      "          39       1.00      1.00      1.00         1\n",
      "          40       1.00      1.00      1.00         2\n",
      "          41       1.00      1.00      1.00         1\n",
      "          42       1.00      1.00      1.00         1\n",
      "          43       1.00      1.00      1.00         3\n",
      "          44       1.00      1.00      1.00         1\n",
      "          45       1.00      1.00      1.00         3\n",
      "          47       1.00      0.50      0.67         2\n",
      "          48       1.00      1.00      1.00         4\n",
      "          49       1.00      1.00      1.00         1\n",
      "          50       0.00      0.00      0.00         1\n",
      "          51       1.00      1.00      1.00         1\n",
      "          52       1.00      1.00      1.00         2\n",
      "          53       1.00      1.00      1.00         2\n",
      "          54       1.00      1.00      1.00         2\n",
      "          55       1.00      1.00      1.00         1\n",
      "          56       1.00      1.00      1.00         1\n",
      "          57       1.00      1.00      1.00         3\n",
      "          58       1.00      1.00      1.00         1\n",
      "          59       1.00      1.00      1.00         1\n",
      "          60       1.00      1.00      1.00         2\n",
      "          61       1.00      1.00      1.00         2\n",
      "          62       1.00      1.00      1.00         2\n",
      "          63       0.75      1.00      0.86         3\n",
      "          64       1.00      1.00      1.00         2\n",
      "          65       1.00      1.00      1.00         3\n",
      "          66       1.00      1.00      1.00         5\n",
      "          67       1.00      1.00      1.00         4\n",
      "          68       1.00      1.00      1.00         2\n",
      "          69       1.00      1.00      1.00         2\n",
      "          70       0.00      0.00      0.00         1\n",
      "          71       1.00      1.00      1.00         1\n",
      "          72       1.00      1.00      1.00         2\n",
      "          73       1.00      1.00      1.00         1\n",
      "          74       1.00      1.00      1.00         2\n",
      "          75       1.00      1.00      1.00         1\n",
      "          76       1.00      1.00      1.00         3\n",
      "          77       1.00      1.00      1.00         1\n",
      "          78       1.00      1.00      1.00         3\n",
      "          79       1.00      1.00      1.00         4\n",
      "          80       1.00      1.00      1.00         3\n",
      "          81       1.00      1.00      1.00         1\n",
      "          82       1.00      1.00      1.00         2\n",
      "          83       1.00      0.67      0.80         3\n",
      "          85       1.00      1.00      1.00         2\n",
      "          86       1.00      1.00      1.00         2\n",
      "          87       1.00      1.00      1.00         1\n",
      "          88       0.50      1.00      0.67         1\n",
      "          89       1.00      1.00      1.00         1\n",
      "          90       1.00      1.00      1.00         5\n",
      "          91       1.00      1.00      1.00         4\n",
      "          92       1.00      1.00      1.00         3\n",
      "          93       1.00      1.00      1.00         1\n",
      "          95       1.00      1.00      1.00         3\n",
      "          96       0.60      1.00      0.75         3\n",
      "          97       1.00      1.00      1.00         3\n",
      "          99       1.00      1.00      1.00         1\n",
      "         100       1.00      1.00      1.00         1\n",
      "\n",
      "    accuracy                           0.97       133\n",
      "   macro avg       0.95      0.96      0.95       133\n",
      "weighted avg       0.97      0.97      0.96       133\n",
      "\n"
     ]
    }
   ],
   "source": [
    "# Get accuracy core and  precision, recall, f1-score, support values\n",
    "print(accuracy_score(y_train,y_predict_svm))\n",
    "print(accuracy_score(y_test,y_predict_svm_test))\n",
    "print(classification_report(y_train,y_predict_svm))"
   ]
  },
  {
   "cell_type": "markdown",
   "id": "282780cf",
   "metadata": {},
   "source": [
    "#### Decision Tree Regressor - PerformanceScore"
   ]
  },
  {
   "cell_type": "code",
   "execution_count": 133,
   "id": "b68f2ae7",
   "metadata": {},
   "outputs": [],
   "source": [
    "# training_data = df_cpy2.sample(frac=0.7, random_state=25)\n",
    "# testing_data = df_cpy2.drop(training_data.index)\n",
    "\n",
    "# print(f\"No. of training examples: {training_data.shape[0]}\")\n",
    "# print(f\"No. of testing examples: {testing_data.shape[0]}\")\n"
   ]
  },
  {
   "cell_type": "code",
   "execution_count": 134,
   "id": "445fd31e",
   "metadata": {},
   "outputs": [],
   "source": [
    "# x_train_psc = training_data.drop([\"PercentSalaryHike\", \"PerformanceScore\", \"MonthlyIncome\", \"MonthlyRate\", \"DailyRate\", \"YearsSinceLastPromotion\", \"YearsAtCompany\", \"TotalWorkingYears\", \"NumCompaniesWorked\" ], axis=1)\n",
    "# y_train_psc = training_data[\"PerformanceScore\"]\n",
    "\n",
    "# x_test_psc = testing_data.drop([\"PercentSalaryHike\", \"PerformanceScore\", \"MonthlyIncome\", \"MonthlyRate\", \"DailyRate\", \"YearsSinceLastPromotion\", \"YearsAtCompany\", \"TotalWorkingYears\", \"NumCompaniesWorked\" ], axis=1)\n",
    "# y_test_psc = testing_data[\"PerformanceScore\"]"
   ]
  },
  {
   "cell_type": "code",
   "execution_count": 135,
   "id": "b1ac5174",
   "metadata": {},
   "outputs": [],
   "source": [
    "# from sklearn.preprocessing import MinMaxScaler\n",
    "# scaler = MinMaxScaler()\n",
    "# scaled_x_train_psc = scaler.fit_transform(x_train_psc)\n",
    "# scaled_x_test_psc = scaler.fit_transform(x_test_psc)"
   ]
  },
  {
   "cell_type": "code",
   "execution_count": 136,
   "id": "ad4e52bc",
   "metadata": {},
   "outputs": [
    {
     "data": {
      "text/plain": [
       "DecisionTreeRegressor(random_state=0)"
      ]
     },
     "execution_count": 136,
     "metadata": {},
     "output_type": "execute_result"
    }
   ],
   "source": [
    "# split data into training and testing datasets\n",
    "# y_psc- target column (Performance Score)\n",
    "x_train_psc, x_test_psc, y_train_psc, y_test_psc = train_test_split(x,y_psc,test_size=0.2,random_state=0)\n",
    "decsRegressor = DecisionTreeRegressor(random_state=0)\n",
    "decsRegressor.fit(x_train_psc, y_train_psc)\n",
    "\n",
    "decsRegressor_Test = DecisionTreeRegressor(random_state=0)\n",
    "decsRegressor_Test.fit(x_test_psc, y_test_psc)"
   ]
  },
  {
   "cell_type": "code",
   "execution_count": 137,
   "id": "741b7292",
   "metadata": {},
   "outputs": [
    {
     "name": "stdout",
     "output_type": "stream",
     "text": [
      "0.9665441385116843\n",
      "0.9804782271342329\n"
     ]
    }
   ],
   "source": [
    "# Checking the score of model containing training dataset\n",
    "print(decsRegressor.score(x_train_psc,y_train_psc))\n",
    "print(decsRegressor_Test.score(x_test_psc,y_test_psc))"
   ]
  },
  {
   "cell_type": "code",
   "execution_count": null,
   "id": "a6e9b67e",
   "metadata": {},
   "outputs": [],
   "source": []
  },
  {
   "cell_type": "code",
   "execution_count": 138,
   "id": "01ff87fe",
   "metadata": {},
   "outputs": [
    {
     "data": {
      "text/plain": [
       "array([ 87.        ,  74.        ,  76.        , 100.        ,\n",
       "        46.        ,  41.        ,  54.        ,  56.        ,\n",
       "        72.        ,  42.        ,  66.        ,  64.        ,\n",
       "        78.        ,  75.        ,  89.        ,  53.        ,\n",
       "        42.        ,  94.        ,  83.        ,  74.        ,\n",
       "        36.        ,  36.        ,  83.        ,  78.        ,\n",
       "        42.        ,  54.        ,  57.        ,  68.        ,\n",
       "       100.        ,  66.        ,  79.        ,  90.        ,\n",
       "        65.        ,  55.        ,  66.        ,  78.        ,\n",
       "        44.        ,  73.        ,  45.        ,  89.        ,\n",
       "        67.        ,  61.        ,  96.        ,  30.        ,\n",
       "        35.        ,  79.        ,  48.        ,  33.        ,\n",
       "        66.        ,  82.        ,  59.        ,  97.        ,\n",
       "        63.        ,  85.        ,  61.        ,  39.        ,\n",
       "        66.        ,  69.        ,  90.        ,  60.        ,\n",
       "        76.        ,  32.        ,  86.        ,  35.        ,\n",
       "        45.        ,  62.        ,  79.        ,  49.        ,\n",
       "        79.        ,  80.        ,  72.        ,  40.        ,\n",
       "        79.        ,  64.        ,  43.        ,  86.        ,\n",
       "        64.33333333,  62.        ,  33.        ,  79.        ,\n",
       "        58.        ,  72.        ,  91.        ,  48.        ,\n",
       "        53.        ,  64.        ,  78.        ,  91.        ,\n",
       "        96.        ,  52.        ,  51.        ,  65.        ,\n",
       "        71.        ,  57.        ,  40.        ,  60.        ,\n",
       "        69.        ,  92.        ,  80.        ,  64.33333333,\n",
       "        45.        ,  82.        ,  67.        ,  91.        ,\n",
       "        73.        ,  75.        ,  36.        ,  74.        ,\n",
       "        83.        ,  48.        ,  92.        ,  43.        ,\n",
       "        95.        ,  38.        ,  32.        ,  99.        ,\n",
       "        56.        ,  87.        ,  68.        ,  37.        ,\n",
       "        91.        ,  67.        ,  85.        ,  95.        ,\n",
       "        63.        ,  65.        ,  95.        ,  97.        ,\n",
       "        35.        ,  52.        ,  92.        ,  81.        ,\n",
       "        43.        ,  90.        ,  64.33333333,  67.        ,\n",
       "        90.        ,  76.        ,  73.        ,  90.        ,\n",
       "        97.        ,  77.        ,  80.        ,  48.        ,\n",
       "        47.        ,  57.        ,  66.        ,  93.        ,\n",
       "        54.        ,  76.        ,  53.        ,  41.        ])"
      ]
     },
     "execution_count": 138,
     "metadata": {},
     "output_type": "execute_result"
    }
   ],
   "source": [
    "# prediction using the trained model\n",
    "\n",
    "y_predict_psc = decsRegressor.predict(x_train_psc)\n",
    "y_predict_psc\n"
   ]
  },
  {
   "cell_type": "code",
   "execution_count": 139,
   "id": "d2ff6077",
   "metadata": {},
   "outputs": [
    {
     "data": {
      "text/plain": [
       "array([ 92. ,  41. ,  97. ,  73. ,  84. ,  86. ,  84. ,  40. ,  35. ,\n",
       "        76. ,  73. ,  89. ,  62. ,  67. ,  83. ,  86. ,  70. ,  71. ,\n",
       "        60.5,  64. ,  43. ,  45. ,  90. ,  35. ,  73. ,  87. ,  43. ,\n",
       "        83. ,  52. ,  65. ,  60.5,  96. ,  53. ,  94. , 100. ,  51. ,\n",
       "        71. ,  72. ,  69. ])"
      ]
     },
     "execution_count": 139,
     "metadata": {},
     "output_type": "execute_result"
    }
   ],
   "source": [
    "# Prediction using Test dataset\n",
    "y_predict_psc_test = decsRegressor_Test.predict(x_test_psc)\n",
    "y_predict_psc_test"
   ]
  },
  {
   "cell_type": "code",
   "execution_count": 140,
   "id": "61ac9d39",
   "metadata": {},
   "outputs": [
    {
     "name": "stdout",
     "output_type": "stream",
     "text": [
      "191\n"
     ]
    }
   ],
   "source": [
    "# Get predictions for the whole dataset\n",
    "predictions = decsRegressor.predict(x)\n",
    "print(len(predictions))\n",
    "dfExport[\"Prediction_PerformanceScore\"] = predictions"
   ]
  },
  {
   "cell_type": "code",
   "execution_count": 141,
   "id": "c577bbbb",
   "metadata": {},
   "outputs": [
    {
     "name": "stdout",
     "output_type": "stream",
     "text": [
      "30.0\n",
      "100.0\n"
     ]
    }
   ],
   "source": [
    "print(dfExport[\"Prediction_PerformanceScore\"].min())\n",
    "print(dfExport[\"Prediction_PerformanceScore\"].max())"
   ]
  },
  {
   "cell_type": "code",
   "execution_count": 142,
   "id": "06230581",
   "metadata": {},
   "outputs": [
    {
     "data": {
      "text/html": [
       "<div>\n",
       "<style scoped>\n",
       "    .dataframe tbody tr th:only-of-type {\n",
       "        vertical-align: middle;\n",
       "    }\n",
       "\n",
       "    .dataframe tbody tr th {\n",
       "        vertical-align: top;\n",
       "    }\n",
       "\n",
       "    .dataframe thead th {\n",
       "        text-align: right;\n",
       "    }\n",
       "</style>\n",
       "<table border=\"1\" class=\"dataframe\">\n",
       "  <thead>\n",
       "    <tr style=\"text-align: right;\">\n",
       "      <th></th>\n",
       "      <th>MonthlyRate</th>\n",
       "      <th>MonthlyIncome</th>\n",
       "      <th>DailyRate</th>\n",
       "      <th>NumCompaniesWorked</th>\n",
       "      <th>TotalWorkingYears</th>\n",
       "      <th>YearsWithCurrManager</th>\n",
       "      <th>YearsSinceLastPromotion</th>\n",
       "      <th>YearsAtCompany</th>\n",
       "      <th>PercentSalaryHike</th>\n",
       "      <th>PerformanceScore</th>\n",
       "      <th>...</th>\n",
       "      <th>DailyRate_cal</th>\n",
       "      <th>YearsAtCompany_cal</th>\n",
       "      <th>TotalWorkingYears_cal</th>\n",
       "      <th>YearsSinceLastPromotion_cal</th>\n",
       "      <th>YearsWithCurrManager_cal</th>\n",
       "      <th>NumCompaniesWorked_cal</th>\n",
       "      <th>Prediction_PercentSalaryHike</th>\n",
       "      <th>Prediction_PercentSalaryHike_cal</th>\n",
       "      <th>Prediction_PerformanceScore</th>\n",
       "      <th>Prediction_PerformanceScore_cal</th>\n",
       "    </tr>\n",
       "  </thead>\n",
       "  <tbody>\n",
       "    <tr>\n",
       "      <th>1</th>\n",
       "      <td>24907</td>\n",
       "      <td>5130</td>\n",
       "      <td>279</td>\n",
       "      <td>1</td>\n",
       "      <td>10</td>\n",
       "      <td>7</td>\n",
       "      <td>1</td>\n",
       "      <td>10</td>\n",
       "      <td>23</td>\n",
       "      <td>61</td>\n",
       "      <td>...</td>\n",
       "      <td>250 &amp; above</td>\n",
       "      <td>More than 9 years</td>\n",
       "      <td>More than 9 years</td>\n",
       "      <td>1 year</td>\n",
       "      <td>More than 6 years</td>\n",
       "      <td>less than 2</td>\n",
       "      <td>23.000000</td>\n",
       "      <td>&gt;22</td>\n",
       "      <td>61.000000</td>\n",
       "      <td>60-69</td>\n",
       "    </tr>\n",
       "    <tr>\n",
       "      <th>16</th>\n",
       "      <td>15053</td>\n",
       "      <td>3298</td>\n",
       "      <td>334</td>\n",
       "      <td>0</td>\n",
       "      <td>7</td>\n",
       "      <td>5</td>\n",
       "      <td>0</td>\n",
       "      <td>6</td>\n",
       "      <td>12</td>\n",
       "      <td>80</td>\n",
       "      <td>...</td>\n",
       "      <td>250 &amp; above</td>\n",
       "      <td>More than 6 years</td>\n",
       "      <td>More than 6 years</td>\n",
       "      <td>0 years</td>\n",
       "      <td>More than 3 years</td>\n",
       "      <td>less than 2</td>\n",
       "      <td>12.000000</td>\n",
       "      <td>&lt;13</td>\n",
       "      <td>80.000000</td>\n",
       "      <td>80-89</td>\n",
       "    </tr>\n",
       "    <tr>\n",
       "      <th>19</th>\n",
       "      <td>4306</td>\n",
       "      <td>3944</td>\n",
       "      <td>371</td>\n",
       "      <td>5</td>\n",
       "      <td>6</td>\n",
       "      <td>2</td>\n",
       "      <td>1</td>\n",
       "      <td>3</td>\n",
       "      <td>11</td>\n",
       "      <td>45</td>\n",
       "      <td>...</td>\n",
       "      <td>250 &amp; above</td>\n",
       "      <td>More than 3 years</td>\n",
       "      <td>More than 6 years</td>\n",
       "      <td>1 year</td>\n",
       "      <td>less than 3 years</td>\n",
       "      <td>less than 6</td>\n",
       "      <td>11.000000</td>\n",
       "      <td>&lt;13</td>\n",
       "      <td>45.000000</td>\n",
       "      <td>40-49</td>\n",
       "    </tr>\n",
       "    <tr>\n",
       "      <th>23</th>\n",
       "      <td>19281</td>\n",
       "      <td>1232</td>\n",
       "      <td>391</td>\n",
       "      <td>1</td>\n",
       "      <td>0</td>\n",
       "      <td>0</td>\n",
       "      <td>0</td>\n",
       "      <td>0</td>\n",
       "      <td>14</td>\n",
       "      <td>96</td>\n",
       "      <td>...</td>\n",
       "      <td>250 &amp; above</td>\n",
       "      <td>less than 3 years</td>\n",
       "      <td>less than 3 years</td>\n",
       "      <td>0 years</td>\n",
       "      <td>less than 3 years</td>\n",
       "      <td>less than 2</td>\n",
       "      <td>15.666667</td>\n",
       "      <td>15-17</td>\n",
       "      <td>64.333333</td>\n",
       "      <td>60-69</td>\n",
       "    </tr>\n",
       "    <tr>\n",
       "      <th>35</th>\n",
       "      <td>21923</td>\n",
       "      <td>2645</td>\n",
       "      <td>1273</td>\n",
       "      <td>1</td>\n",
       "      <td>6</td>\n",
       "      <td>4</td>\n",
       "      <td>1</td>\n",
       "      <td>5</td>\n",
       "      <td>12</td>\n",
       "      <td>72</td>\n",
       "      <td>...</td>\n",
       "      <td>1250 &amp; above</td>\n",
       "      <td>More than 3 years</td>\n",
       "      <td>More than 6 years</td>\n",
       "      <td>1 year</td>\n",
       "      <td>More than 3 years</td>\n",
       "      <td>less than 2</td>\n",
       "      <td>17.000000</td>\n",
       "      <td>17-20</td>\n",
       "      <td>49.000000</td>\n",
       "      <td>40-49</td>\n",
       "    </tr>\n",
       "  </tbody>\n",
       "</table>\n",
       "<p>5 rows × 22 columns</p>\n",
       "</div>"
      ],
      "text/plain": [
       "    MonthlyRate  MonthlyIncome  DailyRate  NumCompaniesWorked  \\\n",
       "1         24907           5130        279                   1   \n",
       "16        15053           3298        334                   0   \n",
       "19         4306           3944        371                   5   \n",
       "23        19281           1232        391                   1   \n",
       "35        21923           2645       1273                   1   \n",
       "\n",
       "    TotalWorkingYears  YearsWithCurrManager  YearsSinceLastPromotion  \\\n",
       "1                  10                     7                        1   \n",
       "16                  7                     5                        0   \n",
       "19                  6                     2                        1   \n",
       "23                  0                     0                        0   \n",
       "35                  6                     4                        1   \n",
       "\n",
       "    YearsAtCompany  PercentSalaryHike  PerformanceScore  ... DailyRate_cal  \\\n",
       "1               10                 23                61  ...   250 & above   \n",
       "16               6                 12                80  ...   250 & above   \n",
       "19               3                 11                45  ...   250 & above   \n",
       "23               0                 14                96  ...   250 & above   \n",
       "35               5                 12                72  ...  1250 & above   \n",
       "\n",
       "   YearsAtCompany_cal TotalWorkingYears_cal YearsSinceLastPromotion_cal  \\\n",
       "1   More than 9 years     More than 9 years                      1 year   \n",
       "16  More than 6 years     More than 6 years                     0 years   \n",
       "19  More than 3 years     More than 6 years                      1 year   \n",
       "23  less than 3 years     less than 3 years                     0 years   \n",
       "35  More than 3 years     More than 6 years                      1 year   \n",
       "\n",
       "   YearsWithCurrManager_cal NumCompaniesWorked_cal  \\\n",
       "1         More than 6 years            less than 2   \n",
       "16        More than 3 years            less than 2   \n",
       "19        less than 3 years            less than 6   \n",
       "23        less than 3 years            less than 2   \n",
       "35        More than 3 years            less than 2   \n",
       "\n",
       "   Prediction_PercentSalaryHike Prediction_PercentSalaryHike_cal  \\\n",
       "1                     23.000000                              >22   \n",
       "16                    12.000000                              <13   \n",
       "19                    11.000000                              <13   \n",
       "23                    15.666667                            15-17   \n",
       "35                    17.000000                            17-20   \n",
       "\n",
       "    Prediction_PerformanceScore Prediction_PerformanceScore_cal  \n",
       "1                     61.000000                           60-69  \n",
       "16                    80.000000                           80-89  \n",
       "19                    45.000000                           40-49  \n",
       "23                    64.333333                           60-69  \n",
       "35                    49.000000                           40-49  \n",
       "\n",
       "[5 rows x 22 columns]"
      ]
     },
     "execution_count": 142,
     "metadata": {},
     "output_type": "execute_result"
    }
   ],
   "source": [
    "#Simplifying and grouping the Prediction_PerformanceScore column\n",
    "conditions = [\n",
    "    (dfExport['Prediction_PerformanceScore'] < 40),\n",
    "    (dfExport['Prediction_PerformanceScore'] >= 40) & (dfExport['Prediction_PerformanceScore'] < 50),\n",
    "    (dfExport['Prediction_PerformanceScore'] >= 50) & (dfExport['Prediction_PerformanceScore'] < 60),\n",
    "    (dfExport['Prediction_PerformanceScore'] >= 60) & (dfExport['Prediction_PerformanceScore'] < 70),\n",
    "    (dfExport['Prediction_PerformanceScore'] >= 70) & (dfExport['Prediction_PerformanceScore'] < 80),\n",
    "    (dfExport['Prediction_PerformanceScore'] >= 80) & (dfExport['Prediction_PerformanceScore'] < 90),\n",
    "    (dfExport['Prediction_PerformanceScore'] >= 90) \n",
    "    ]\n",
    "\n",
    "values = ['<40', '40-49', '50-59', '60-69', '70-79', '80-89', '>90']\n",
    "\n",
    "#adding the simplified column to a new calculated column\n",
    "dfExport['Prediction_PerformanceScore_cal'] = np.select(conditions, values)\n",
    "dfExport.head()"
   ]
  },
  {
   "cell_type": "code",
   "execution_count": 143,
   "id": "84975ef2",
   "metadata": {},
   "outputs": [
    {
     "name": "stdout",
     "output_type": "stream",
     "text": [
      "0.9665441385116843\n",
      "0.9804782271342329\n"
     ]
    }
   ],
   "source": [
    "# finding R Squared score of the training and testing datasets\n",
    "# The more the score is near 1, the best the model is.\n",
    "r2score_psc = r2_score(y_train_psc, y_predict_psc)\n",
    "print(r2score_psc)\n",
    "\n",
    "r2score_psc = r2_score(y_test_psc, y_predict_psc_test)\n",
    "print(r2score_psc)"
   ]
  },
  {
   "cell_type": "code",
   "execution_count": 144,
   "id": "de2054ba",
   "metadata": {},
   "outputs": [
    {
     "name": "stdout",
     "output_type": "stream",
     "text": [
      "Training Dataset Results:\n",
      "-------------------------\n",
      "R Squared score:  0.9665\n",
      "Mean Absolute Error:  0.6667\n",
      "Mean Squared Error:  12.307\n",
      "Mean Squared Log Error:  0.0025\n",
      "\n",
      "Testing Dataset Results:\n",
      "------------------------\n",
      "R Squared score:  0.9805\n",
      "Mean Absolute Error:  0.5897\n",
      "Mean Squared Error:  6.7821\n",
      "Mean Squared Log Error:  0.0019\n"
     ]
    }
   ],
   "source": [
    "# Finding the statistical results of the predictions\n",
    "print(\"Training Dataset Results:\")\n",
    "print(\"-------------------------\")\n",
    "regression_results(y_train_psc, y_predict_psc)\n",
    "print(\"\")\n",
    "print(\"Testing Dataset Results:\")\n",
    "print(\"------------------------\")\n",
    "regression_results(y_test_psc, y_predict_psc_test)"
   ]
  },
  {
   "cell_type": "code",
   "execution_count": 145,
   "id": "60661445",
   "metadata": {},
   "outputs": [
    {
     "data": {
      "text/plain": [
       "array([['2500 & above', '5000 & above', '250 & above',\n",
       "        'More than 6 years', 'More than 6 years', '2 years',\n",
       "        'less than 3 years', 'less than 4']], dtype='<U17')"
      ]
     },
     "execution_count": 145,
     "metadata": {},
     "output_type": "execute_result"
    }
   ],
   "source": [
    "# Creating a numpy array to perform predictions using the input paramenters\n",
    "x = np.array([[\"2500 & above\", \"5000 & above\", \"250 & above\", \"More than 6 years\", \n",
    "               \"More than 6 years\", \"2 years\", \"less than 3 years\", \"less than 4\" ]])\n",
    "x"
   ]
  },
  {
   "cell_type": "code",
   "execution_count": 146,
   "id": "97f0114b",
   "metadata": {},
   "outputs": [
    {
     "data": {
      "text/plain": [
       "array([[0., 4., 2., 1., 3., 2., 3., 2.]])"
      ]
     },
     "execution_count": 146,
     "metadata": {},
     "output_type": "execute_result"
    }
   ],
   "source": [
    "# Transforming the input parameters using label encoders\n",
    "x[:, 0] = lblMonthlyIncome.transform(x[:, 0])\n",
    "x[:, 1] = lblMonthlyRate.transform(x[:, 1])\n",
    "x[:, 2] = lblDailyRate.transform(x[:, 2])\n",
    "x[:, 3] = lblYearsAtCompany.transform(x[:, 3])\n",
    "x[:, 4] = lblTotWorkYear.transform(x[:, 4])\n",
    "x[:, 5] = lblYearsSinceLastPromotion.transform(x[:, 5])\n",
    "x[:, 6] = lblYearsWithCurrManager.transform(x[:, 6])\n",
    "x[:, 7] = lblNumCompaniesWorked.transform(x[:, 7])\n",
    "\n",
    "x =  x.astype(float)\n",
    "x"
   ]
  },
  {
   "cell_type": "code",
   "execution_count": 147,
   "id": "fd89b44f",
   "metadata": {},
   "outputs": [
    {
     "data": {
      "text/plain": [
       "array([44.])"
      ]
     },
     "execution_count": 147,
     "metadata": {},
     "output_type": "execute_result"
    }
   ],
   "source": [
    "# Get the prediction for the input parameters\n",
    "y_pred = decsRegressor.predict(x)\n",
    "y_pred"
   ]
  },
  {
   "cell_type": "code",
   "execution_count": 148,
   "id": "c6f0851b",
   "metadata": {},
   "outputs": [],
   "source": [
    "# Saving the regressor and the lebel encoders to a pickle file \n",
    "# creates a file in the local disc named EEP_MLScript_PerformanceScore.pkl\n",
    "data = {\"model\":decsRegressor, \"lblMonthlyIncome\": lblMonthlyIncome, \"lblMonthlyRate\": lblMonthlyRate, \n",
    "        \"lblDailyRate\": lblDailyRate, \"lblYearsAtCompany\": lblYearsAtCompany, \"lblTotWorkYear\": lblTotWorkYear, \n",
    "        \"lblYearsSinceLastPromotion\": lblYearsSinceLastPromotion, \"lblYearsWithCurrManager\": lblYearsWithCurrManager, \n",
    "        \"lblNumCompaniesWorked\": lblNumCompaniesWorked} \n",
    "with open('EEP_MLScript_PerformanceScore.pkl', 'wb') as file:\n",
    "    pickle.dump(data, file)"
   ]
  },
  {
   "cell_type": "code",
   "execution_count": 149,
   "id": "5480d40a",
   "metadata": {},
   "outputs": [
    {
     "data": {
      "text/plain": [
       "array([44.])"
      ]
     },
     "execution_count": 149,
     "metadata": {},
     "output_type": "execute_result"
    }
   ],
   "source": [
    "# Reading the created file using the label encoders and getting predicted results frm the saved pickle file\n",
    "with open('EEP_MLScript_PerformanceScore.pkl', 'rb') as file:\n",
    "    data = pickle.load(file)\n",
    "    \n",
    "regressor_loaded = data[\"model\"]\n",
    "lblMonthlyIncome = data[\"lblMonthlyIncome\"]\n",
    "lblMonthlyRate = data[\"lblMonthlyRate\"]\n",
    "lblDailyRate = data[\"lblDailyRate\"]\n",
    "lblYearsAtCompany = data[\"lblYearsAtCompany\"]\n",
    "lblTotWorkYear = data[\"lblTotWorkYear\"]\n",
    "lblYearsSinceLastPromotion = data[\"lblYearsSinceLastPromotion\"]\n",
    "lblYearsWithCurrManager = data[\"lblYearsWithCurrManager\"]\n",
    "lblNumCompaniesWorked = data[\"lblNumCompaniesWorked\"]\n",
    "\n",
    "y_pred = regressor_loaded.predict(x)\n",
    "y_pred"
   ]
  },
  {
   "cell_type": "code",
   "execution_count": 150,
   "id": "56ef6384",
   "metadata": {},
   "outputs": [
    {
     "data": {
      "text/plain": [
       "Index(['MonthlyRate', 'MonthlyIncome', 'DailyRate', 'NumCompaniesWorked',\n",
       "       'TotalWorkingYears', 'YearsWithCurrManager', 'YearsSinceLastPromotion',\n",
       "       'YearsAtCompany', 'PercentSalaryHike', 'PerformanceScore',\n",
       "       'MonthlyIncome_cal', 'MonthlyRate_cal', 'DailyRate_cal',\n",
       "       'YearsAtCompany_cal', 'TotalWorkingYears_cal',\n",
       "       'YearsSinceLastPromotion_cal', 'YearsWithCurrManager_cal',\n",
       "       'NumCompaniesWorked_cal', 'Prediction_PercentSalaryHike',\n",
       "       'Prediction_PercentSalaryHike_cal', 'Prediction_PerformanceScore',\n",
       "       'Prediction_PerformanceScore_cal'],\n",
       "      dtype='object')"
      ]
     },
     "execution_count": 150,
     "metadata": {},
     "output_type": "execute_result"
    }
   ],
   "source": [
    "dfExport.columns"
   ]
  },
  {
   "cell_type": "code",
   "execution_count": 151,
   "id": "b8e87b5b",
   "metadata": {},
   "outputs": [],
   "source": [
    "dfExport.to_csv('Calculated_Employee_Dataset.csv')"
   ]
  },
  {
   "cell_type": "code",
   "execution_count": 152,
   "id": "1536c37f",
   "metadata": {},
   "outputs": [
    {
     "data": {
      "text/html": [
       "<div>\n",
       "<style scoped>\n",
       "    .dataframe tbody tr th:only-of-type {\n",
       "        vertical-align: middle;\n",
       "    }\n",
       "\n",
       "    .dataframe tbody tr th {\n",
       "        vertical-align: top;\n",
       "    }\n",
       "\n",
       "    .dataframe thead th {\n",
       "        text-align: right;\n",
       "    }\n",
       "</style>\n",
       "<table border=\"1\" class=\"dataframe\">\n",
       "  <thead>\n",
       "    <tr style=\"text-align: right;\">\n",
       "      <th></th>\n",
       "      <th>MonthlyRate</th>\n",
       "      <th>MonthlyIncome</th>\n",
       "      <th>DailyRate</th>\n",
       "      <th>NumCompaniesWorked</th>\n",
       "      <th>TotalWorkingYears</th>\n",
       "      <th>YearsWithCurrManager</th>\n",
       "      <th>YearsSinceLastPromotion</th>\n",
       "      <th>YearsAtCompany</th>\n",
       "      <th>PercentSalaryHike</th>\n",
       "      <th>PerformanceScore</th>\n",
       "      <th>...</th>\n",
       "      <th>DailyRate_cal</th>\n",
       "      <th>YearsAtCompany_cal</th>\n",
       "      <th>TotalWorkingYears_cal</th>\n",
       "      <th>YearsSinceLastPromotion_cal</th>\n",
       "      <th>YearsWithCurrManager_cal</th>\n",
       "      <th>NumCompaniesWorked_cal</th>\n",
       "      <th>Prediction_PercentSalaryHike</th>\n",
       "      <th>Prediction_PercentSalaryHike_cal</th>\n",
       "      <th>Prediction_PerformanceScore</th>\n",
       "      <th>Prediction_PerformanceScore_cal</th>\n",
       "    </tr>\n",
       "  </thead>\n",
       "  <tbody>\n",
       "    <tr>\n",
       "      <th>1</th>\n",
       "      <td>24907</td>\n",
       "      <td>5130</td>\n",
       "      <td>279</td>\n",
       "      <td>1</td>\n",
       "      <td>10</td>\n",
       "      <td>7</td>\n",
       "      <td>1</td>\n",
       "      <td>10</td>\n",
       "      <td>23</td>\n",
       "      <td>61</td>\n",
       "      <td>...</td>\n",
       "      <td>250 &amp; above</td>\n",
       "      <td>More than 9 years</td>\n",
       "      <td>More than 9 years</td>\n",
       "      <td>1 year</td>\n",
       "      <td>More than 6 years</td>\n",
       "      <td>less than 2</td>\n",
       "      <td>23.000000</td>\n",
       "      <td>&gt;22</td>\n",
       "      <td>61.000000</td>\n",
       "      <td>60-69</td>\n",
       "    </tr>\n",
       "    <tr>\n",
       "      <th>16</th>\n",
       "      <td>15053</td>\n",
       "      <td>3298</td>\n",
       "      <td>334</td>\n",
       "      <td>0</td>\n",
       "      <td>7</td>\n",
       "      <td>5</td>\n",
       "      <td>0</td>\n",
       "      <td>6</td>\n",
       "      <td>12</td>\n",
       "      <td>80</td>\n",
       "      <td>...</td>\n",
       "      <td>250 &amp; above</td>\n",
       "      <td>More than 6 years</td>\n",
       "      <td>More than 6 years</td>\n",
       "      <td>0 years</td>\n",
       "      <td>More than 3 years</td>\n",
       "      <td>less than 2</td>\n",
       "      <td>12.000000</td>\n",
       "      <td>&lt;13</td>\n",
       "      <td>80.000000</td>\n",
       "      <td>80-89</td>\n",
       "    </tr>\n",
       "    <tr>\n",
       "      <th>19</th>\n",
       "      <td>4306</td>\n",
       "      <td>3944</td>\n",
       "      <td>371</td>\n",
       "      <td>5</td>\n",
       "      <td>6</td>\n",
       "      <td>2</td>\n",
       "      <td>1</td>\n",
       "      <td>3</td>\n",
       "      <td>11</td>\n",
       "      <td>45</td>\n",
       "      <td>...</td>\n",
       "      <td>250 &amp; above</td>\n",
       "      <td>More than 3 years</td>\n",
       "      <td>More than 6 years</td>\n",
       "      <td>1 year</td>\n",
       "      <td>less than 3 years</td>\n",
       "      <td>less than 6</td>\n",
       "      <td>11.000000</td>\n",
       "      <td>&lt;13</td>\n",
       "      <td>45.000000</td>\n",
       "      <td>40-49</td>\n",
       "    </tr>\n",
       "    <tr>\n",
       "      <th>23</th>\n",
       "      <td>19281</td>\n",
       "      <td>1232</td>\n",
       "      <td>391</td>\n",
       "      <td>1</td>\n",
       "      <td>0</td>\n",
       "      <td>0</td>\n",
       "      <td>0</td>\n",
       "      <td>0</td>\n",
       "      <td>14</td>\n",
       "      <td>96</td>\n",
       "      <td>...</td>\n",
       "      <td>250 &amp; above</td>\n",
       "      <td>less than 3 years</td>\n",
       "      <td>less than 3 years</td>\n",
       "      <td>0 years</td>\n",
       "      <td>less than 3 years</td>\n",
       "      <td>less than 2</td>\n",
       "      <td>15.666667</td>\n",
       "      <td>15-17</td>\n",
       "      <td>64.333333</td>\n",
       "      <td>60-69</td>\n",
       "    </tr>\n",
       "    <tr>\n",
       "      <th>35</th>\n",
       "      <td>21923</td>\n",
       "      <td>2645</td>\n",
       "      <td>1273</td>\n",
       "      <td>1</td>\n",
       "      <td>6</td>\n",
       "      <td>4</td>\n",
       "      <td>1</td>\n",
       "      <td>5</td>\n",
       "      <td>12</td>\n",
       "      <td>72</td>\n",
       "      <td>...</td>\n",
       "      <td>1250 &amp; above</td>\n",
       "      <td>More than 3 years</td>\n",
       "      <td>More than 6 years</td>\n",
       "      <td>1 year</td>\n",
       "      <td>More than 3 years</td>\n",
       "      <td>less than 2</td>\n",
       "      <td>17.000000</td>\n",
       "      <td>17-20</td>\n",
       "      <td>49.000000</td>\n",
       "      <td>40-49</td>\n",
       "    </tr>\n",
       "    <tr>\n",
       "      <th>...</th>\n",
       "      <td>...</td>\n",
       "      <td>...</td>\n",
       "      <td>...</td>\n",
       "      <td>...</td>\n",
       "      <td>...</td>\n",
       "      <td>...</td>\n",
       "      <td>...</td>\n",
       "      <td>...</td>\n",
       "      <td>...</td>\n",
       "      <td>...</td>\n",
       "      <td>...</td>\n",
       "      <td>...</td>\n",
       "      <td>...</td>\n",
       "      <td>...</td>\n",
       "      <td>...</td>\n",
       "      <td>...</td>\n",
       "      <td>...</td>\n",
       "      <td>...</td>\n",
       "      <td>...</td>\n",
       "      <td>...</td>\n",
       "      <td>...</td>\n",
       "    </tr>\n",
       "    <tr>\n",
       "      <th>1435</th>\n",
       "      <td>13422</td>\n",
       "      <td>2436</td>\n",
       "      <td>1037</td>\n",
       "      <td>6</td>\n",
       "      <td>6</td>\n",
       "      <td>2</td>\n",
       "      <td>1</td>\n",
       "      <td>4</td>\n",
       "      <td>12</td>\n",
       "      <td>42</td>\n",
       "      <td>...</td>\n",
       "      <td>1000 &amp; above</td>\n",
       "      <td>More than 3 years</td>\n",
       "      <td>More than 6 years</td>\n",
       "      <td>1 year</td>\n",
       "      <td>less than 3 years</td>\n",
       "      <td>less than 8</td>\n",
       "      <td>22.000000</td>\n",
       "      <td>&gt;22</td>\n",
       "      <td>42.000000</td>\n",
       "      <td>40-49</td>\n",
       "    </tr>\n",
       "    <tr>\n",
       "      <th>1449</th>\n",
       "      <td>11288</td>\n",
       "      <td>2439</td>\n",
       "      <td>529</td>\n",
       "      <td>1</td>\n",
       "      <td>4</td>\n",
       "      <td>2</td>\n",
       "      <td>1</td>\n",
       "      <td>4</td>\n",
       "      <td>14</td>\n",
       "      <td>78</td>\n",
       "      <td>...</td>\n",
       "      <td>500 &amp; above</td>\n",
       "      <td>More than 3 years</td>\n",
       "      <td>More than 3 years</td>\n",
       "      <td>1 year</td>\n",
       "      <td>less than 3 years</td>\n",
       "      <td>less than 2</td>\n",
       "      <td>14.000000</td>\n",
       "      <td>13-15</td>\n",
       "      <td>78.000000</td>\n",
       "      <td>70-79</td>\n",
       "    </tr>\n",
       "    <tr>\n",
       "      <th>1455</th>\n",
       "      <td>2725</td>\n",
       "      <td>2809</td>\n",
       "      <td>1322</td>\n",
       "      <td>2</td>\n",
       "      <td>8</td>\n",
       "      <td>2</td>\n",
       "      <td>2</td>\n",
       "      <td>2</td>\n",
       "      <td>14</td>\n",
       "      <td>52</td>\n",
       "      <td>...</td>\n",
       "      <td>1250 &amp; above</td>\n",
       "      <td>less than 3 years</td>\n",
       "      <td>More than 6 years</td>\n",
       "      <td>2 years</td>\n",
       "      <td>less than 3 years</td>\n",
       "      <td>less than 4</td>\n",
       "      <td>16.000000</td>\n",
       "      <td>15-17</td>\n",
       "      <td>44.000000</td>\n",
       "      <td>40-49</td>\n",
       "    </tr>\n",
       "    <tr>\n",
       "      <th>1458</th>\n",
       "      <td>8952</td>\n",
       "      <td>2977</td>\n",
       "      <td>287</td>\n",
       "      <td>1</td>\n",
       "      <td>4</td>\n",
       "      <td>1</td>\n",
       "      <td>1</td>\n",
       "      <td>4</td>\n",
       "      <td>12</td>\n",
       "      <td>62</td>\n",
       "      <td>...</td>\n",
       "      <td>250 &amp; above</td>\n",
       "      <td>More than 3 years</td>\n",
       "      <td>More than 3 years</td>\n",
       "      <td>1 year</td>\n",
       "      <td>less than 3 years</td>\n",
       "      <td>less than 2</td>\n",
       "      <td>12.000000</td>\n",
       "      <td>&lt;13</td>\n",
       "      <td>62.000000</td>\n",
       "      <td>60-69</td>\n",
       "    </tr>\n",
       "    <tr>\n",
       "      <th>1460</th>\n",
       "      <td>8489</td>\n",
       "      <td>3785</td>\n",
       "      <td>468</td>\n",
       "      <td>1</td>\n",
       "      <td>5</td>\n",
       "      <td>4</td>\n",
       "      <td>0</td>\n",
       "      <td>5</td>\n",
       "      <td>14</td>\n",
       "      <td>73</td>\n",
       "      <td>...</td>\n",
       "      <td>250 &amp; above</td>\n",
       "      <td>More than 3 years</td>\n",
       "      <td>More than 3 years</td>\n",
       "      <td>0 years</td>\n",
       "      <td>More than 3 years</td>\n",
       "      <td>less than 2</td>\n",
       "      <td>14.000000</td>\n",
       "      <td>13-15</td>\n",
       "      <td>73.000000</td>\n",
       "      <td>70-79</td>\n",
       "    </tr>\n",
       "  </tbody>\n",
       "</table>\n",
       "<p>191 rows × 22 columns</p>\n",
       "</div>"
      ],
      "text/plain": [
       "      MonthlyRate  MonthlyIncome  DailyRate  NumCompaniesWorked  \\\n",
       "1           24907           5130        279                   1   \n",
       "16          15053           3298        334                   0   \n",
       "19           4306           3944        371                   5   \n",
       "23          19281           1232        391                   1   \n",
       "35          21923           2645       1273                   1   \n",
       "...           ...            ...        ...                 ...   \n",
       "1435        13422           2436       1037                   6   \n",
       "1449        11288           2439        529                   1   \n",
       "1455         2725           2809       1322                   2   \n",
       "1458         8952           2977        287                   1   \n",
       "1460         8489           3785        468                   1   \n",
       "\n",
       "      TotalWorkingYears  YearsWithCurrManager  YearsSinceLastPromotion  \\\n",
       "1                    10                     7                        1   \n",
       "16                    7                     5                        0   \n",
       "19                    6                     2                        1   \n",
       "23                    0                     0                        0   \n",
       "35                    6                     4                        1   \n",
       "...                 ...                   ...                      ...   \n",
       "1435                  6                     2                        1   \n",
       "1449                  4                     2                        1   \n",
       "1455                  8                     2                        2   \n",
       "1458                  4                     1                        1   \n",
       "1460                  5                     4                        0   \n",
       "\n",
       "      YearsAtCompany  PercentSalaryHike  PerformanceScore  ... DailyRate_cal  \\\n",
       "1                 10                 23                61  ...   250 & above   \n",
       "16                 6                 12                80  ...   250 & above   \n",
       "19                 3                 11                45  ...   250 & above   \n",
       "23                 0                 14                96  ...   250 & above   \n",
       "35                 5                 12                72  ...  1250 & above   \n",
       "...              ...                ...               ...  ...           ...   \n",
       "1435               4                 12                42  ...  1000 & above   \n",
       "1449               4                 14                78  ...   500 & above   \n",
       "1455               2                 14                52  ...  1250 & above   \n",
       "1458               4                 12                62  ...   250 & above   \n",
       "1460               5                 14                73  ...   250 & above   \n",
       "\n",
       "     YearsAtCompany_cal TotalWorkingYears_cal YearsSinceLastPromotion_cal  \\\n",
       "1     More than 9 years     More than 9 years                      1 year   \n",
       "16    More than 6 years     More than 6 years                     0 years   \n",
       "19    More than 3 years     More than 6 years                      1 year   \n",
       "23    less than 3 years     less than 3 years                     0 years   \n",
       "35    More than 3 years     More than 6 years                      1 year   \n",
       "...                 ...                   ...                         ...   \n",
       "1435  More than 3 years     More than 6 years                      1 year   \n",
       "1449  More than 3 years     More than 3 years                      1 year   \n",
       "1455  less than 3 years     More than 6 years                     2 years   \n",
       "1458  More than 3 years     More than 3 years                      1 year   \n",
       "1460  More than 3 years     More than 3 years                     0 years   \n",
       "\n",
       "     YearsWithCurrManager_cal NumCompaniesWorked_cal  \\\n",
       "1           More than 6 years            less than 2   \n",
       "16          More than 3 years            less than 2   \n",
       "19          less than 3 years            less than 6   \n",
       "23          less than 3 years            less than 2   \n",
       "35          More than 3 years            less than 2   \n",
       "...                       ...                    ...   \n",
       "1435        less than 3 years            less than 8   \n",
       "1449        less than 3 years            less than 2   \n",
       "1455        less than 3 years            less than 4   \n",
       "1458        less than 3 years            less than 2   \n",
       "1460        More than 3 years            less than 2   \n",
       "\n",
       "     Prediction_PercentSalaryHike Prediction_PercentSalaryHike_cal  \\\n",
       "1                       23.000000                              >22   \n",
       "16                      12.000000                              <13   \n",
       "19                      11.000000                              <13   \n",
       "23                      15.666667                            15-17   \n",
       "35                      17.000000                            17-20   \n",
       "...                           ...                              ...   \n",
       "1435                    22.000000                              >22   \n",
       "1449                    14.000000                            13-15   \n",
       "1455                    16.000000                            15-17   \n",
       "1458                    12.000000                              <13   \n",
       "1460                    14.000000                            13-15   \n",
       "\n",
       "      Prediction_PerformanceScore Prediction_PerformanceScore_cal  \n",
       "1                       61.000000                           60-69  \n",
       "16                      80.000000                           80-89  \n",
       "19                      45.000000                           40-49  \n",
       "23                      64.333333                           60-69  \n",
       "35                      49.000000                           40-49  \n",
       "...                           ...                             ...  \n",
       "1435                    42.000000                           40-49  \n",
       "1449                    78.000000                           70-79  \n",
       "1455                    44.000000                           40-49  \n",
       "1458                    62.000000                           60-69  \n",
       "1460                    73.000000                           70-79  \n",
       "\n",
       "[191 rows x 22 columns]"
      ]
     },
     "execution_count": 152,
     "metadata": {},
     "output_type": "execute_result"
    }
   ],
   "source": [
    "dfExport"
   ]
  },
  {
   "cell_type": "code",
   "execution_count": null,
   "id": "b0280d73",
   "metadata": {},
   "outputs": [],
   "source": []
  }
 ],
 "metadata": {
  "kernelspec": {
   "display_name": "Python 3 (ipykernel)",
   "language": "python",
   "name": "python3"
  },
  "language_info": {
   "codemirror_mode": {
    "name": "ipython",
    "version": 3
   },
   "file_extension": ".py",
   "mimetype": "text/x-python",
   "name": "python",
   "nbconvert_exporter": "python",
   "pygments_lexer": "ipython3",
   "version": "3.9.7"
  }
 },
 "nbformat": 4,
 "nbformat_minor": 5
}
